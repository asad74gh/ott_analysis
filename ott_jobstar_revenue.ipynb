{
 "cells": [
  {
   "cell_type": "code",
   "execution_count": 1,
   "id": "8b3f9623-f6b8-4955-9b67-e9859e80b0ea",
   "metadata": {},
   "outputs": [],
   "source": [
    "import pandas as pd\n",
    "import matplotlib.pyplot as plt\n",
    "import seaborn as sns"
   ]
  },
  {
   "cell_type": "code",
   "execution_count": 2,
   "id": "4f5b4839-b52e-42e0-a938-0c88f0b58ff0",
   "metadata": {},
   "outputs": [],
   "source": [
    "df_liocinema_subscr=pd.read_csv(r\"C:\\Users\\user\\Downloads\\Input_files\\RPC14_Input_For_Participants\\datasets\\liocinema_subscr.csv\")\n",
    "df_liocinema_content=pd.read_csv(r\"C:\\Users\\user\\Downloads\\Input_files\\RPC14_Input_For_Participants\\datasets\\liocinema_content.csv\")\n",
    "df_liocinema_content_consumption=pd.read_csv(r\"C:\\Users\\user\\Downloads\\Input_files\\RPC14_Input_For_Participants\\datasets\\liocinema_content_consumption.csv\")"
   ]
  },
  {
   "cell_type": "code",
   "execution_count": 3,
   "id": "c9df991f-ddca-4783-aaa1-0cce4ce5968f",
   "metadata": {},
   "outputs": [
    {
     "data": {
      "text/html": [
       "<div>\n",
       "<style scoped>\n",
       "    .dataframe tbody tr th:only-of-type {\n",
       "        vertical-align: middle;\n",
       "    }\n",
       "\n",
       "    .dataframe tbody tr th {\n",
       "        vertical-align: top;\n",
       "    }\n",
       "\n",
       "    .dataframe thead th {\n",
       "        text-align: right;\n",
       "    }\n",
       "</style>\n",
       "<table border=\"1\" class=\"dataframe\">\n",
       "  <thead>\n",
       "    <tr style=\"text-align: right;\">\n",
       "      <th></th>\n",
       "      <th>user_id</th>\n",
       "      <th>age_group</th>\n",
       "      <th>city_tier</th>\n",
       "      <th>subscription_date</th>\n",
       "      <th>subscription_plan</th>\n",
       "      <th>last_active_date</th>\n",
       "      <th>plan_change_date</th>\n",
       "      <th>new_subscription_plan</th>\n",
       "    </tr>\n",
       "  </thead>\n",
       "  <tbody>\n",
       "    <tr>\n",
       "      <th>0</th>\n",
       "      <td>UIDLC00000bea68a</td>\n",
       "      <td>25-34</td>\n",
       "      <td>Tier 3</td>\n",
       "      <td>2024-10-24</td>\n",
       "      <td>Free</td>\n",
       "      <td>NaN</td>\n",
       "      <td>NaN</td>\n",
       "      <td>NaN</td>\n",
       "    </tr>\n",
       "    <tr>\n",
       "      <th>1</th>\n",
       "      <td>UIDLC00009202848</td>\n",
       "      <td>18-24</td>\n",
       "      <td>Tier 1</td>\n",
       "      <td>2024-09-18</td>\n",
       "      <td>Basic</td>\n",
       "      <td>NaN</td>\n",
       "      <td>NaN</td>\n",
       "      <td>NaN</td>\n",
       "    </tr>\n",
       "    <tr>\n",
       "      <th>2</th>\n",
       "      <td>UIDLC0001086afc3</td>\n",
       "      <td>35-44</td>\n",
       "      <td>Tier 2</td>\n",
       "      <td>2024-03-23</td>\n",
       "      <td>Premium</td>\n",
       "      <td>NaN</td>\n",
       "      <td>2024-04-23</td>\n",
       "      <td>Free</td>\n",
       "    </tr>\n",
       "    <tr>\n",
       "      <th>3</th>\n",
       "      <td>UIDLC000186abd93</td>\n",
       "      <td>18-24</td>\n",
       "      <td>Tier 3</td>\n",
       "      <td>2024-09-07</td>\n",
       "      <td>Free</td>\n",
       "      <td>2024-10-23</td>\n",
       "      <td>NaN</td>\n",
       "      <td>NaN</td>\n",
       "    </tr>\n",
       "    <tr>\n",
       "      <th>4</th>\n",
       "      <td>UIDLC0002189b09f</td>\n",
       "      <td>18-24</td>\n",
       "      <td>Tier 2</td>\n",
       "      <td>2024-10-07</td>\n",
       "      <td>Premium</td>\n",
       "      <td>NaN</td>\n",
       "      <td>2024-11-07</td>\n",
       "      <td>Free</td>\n",
       "    </tr>\n",
       "  </tbody>\n",
       "</table>\n",
       "</div>"
      ],
      "text/plain": [
       "            user_id age_group city_tier subscription_date subscription_plan  \\\n",
       "0  UIDLC00000bea68a     25-34    Tier 3        2024-10-24              Free   \n",
       "1  UIDLC00009202848     18-24    Tier 1        2024-09-18             Basic   \n",
       "2  UIDLC0001086afc3     35-44    Tier 2        2024-03-23           Premium   \n",
       "3  UIDLC000186abd93     18-24    Tier 3        2024-09-07              Free   \n",
       "4  UIDLC0002189b09f     18-24    Tier 2        2024-10-07           Premium   \n",
       "\n",
       "  last_active_date plan_change_date new_subscription_plan  \n",
       "0              NaN              NaN                   NaN  \n",
       "1              NaN              NaN                   NaN  \n",
       "2              NaN       2024-04-23                  Free  \n",
       "3       2024-10-23              NaN                   NaN  \n",
       "4              NaN       2024-11-07                  Free  "
      ]
     },
     "execution_count": 3,
     "metadata": {},
     "output_type": "execute_result"
    }
   ],
   "source": [
    "df_liocinema_subscr.head(5)"
   ]
  },
  {
   "cell_type": "code",
   "execution_count": 4,
   "id": "ace31edd-7393-4465-ad1a-bd493d987598",
   "metadata": {},
   "outputs": [
    {
     "data": {
      "text/html": [
       "<div>\n",
       "<style scoped>\n",
       "    .dataframe tbody tr th:only-of-type {\n",
       "        vertical-align: middle;\n",
       "    }\n",
       "\n",
       "    .dataframe tbody tr th {\n",
       "        vertical-align: top;\n",
       "    }\n",
       "\n",
       "    .dataframe thead th {\n",
       "        text-align: right;\n",
       "    }\n",
       "</style>\n",
       "<table border=\"1\" class=\"dataframe\">\n",
       "  <thead>\n",
       "    <tr style=\"text-align: right;\">\n",
       "      <th></th>\n",
       "      <th>content_id</th>\n",
       "      <th>content_type</th>\n",
       "      <th>language</th>\n",
       "      <th>genre</th>\n",
       "      <th>run_time</th>\n",
       "    </tr>\n",
       "  </thead>\n",
       "  <tbody>\n",
       "    <tr>\n",
       "      <th>0</th>\n",
       "      <td>CLCMENACT6b77e</td>\n",
       "      <td>Movie</td>\n",
       "      <td>English</td>\n",
       "      <td>Action</td>\n",
       "      <td>120</td>\n",
       "    </tr>\n",
       "    <tr>\n",
       "      <th>1</th>\n",
       "      <td>CLCMENACTb7ceb</td>\n",
       "      <td>Movie</td>\n",
       "      <td>English</td>\n",
       "      <td>Action</td>\n",
       "      <td>135</td>\n",
       "    </tr>\n",
       "    <tr>\n",
       "      <th>2</th>\n",
       "      <td>CLCMENCOM1563a</td>\n",
       "      <td>Movie</td>\n",
       "      <td>English</td>\n",
       "      <td>Comedy</td>\n",
       "      <td>135</td>\n",
       "    </tr>\n",
       "    <tr>\n",
       "      <th>3</th>\n",
       "      <td>CLCMENCOM16d2c</td>\n",
       "      <td>Movie</td>\n",
       "      <td>English</td>\n",
       "      <td>Comedy</td>\n",
       "      <td>135</td>\n",
       "    </tr>\n",
       "    <tr>\n",
       "      <th>4</th>\n",
       "      <td>CLCMENCOMa0548</td>\n",
       "      <td>Movie</td>\n",
       "      <td>English</td>\n",
       "      <td>Comedy</td>\n",
       "      <td>135</td>\n",
       "    </tr>\n",
       "  </tbody>\n",
       "</table>\n",
       "</div>"
      ],
      "text/plain": [
       "       content_id content_type language   genre  run_time\n",
       "0  CLCMENACT6b77e        Movie  English  Action       120\n",
       "1  CLCMENACTb7ceb        Movie  English  Action       135\n",
       "2  CLCMENCOM1563a        Movie  English  Comedy       135\n",
       "3  CLCMENCOM16d2c        Movie  English  Comedy       135\n",
       "4  CLCMENCOMa0548        Movie  English  Comedy       135"
      ]
     },
     "execution_count": 4,
     "metadata": {},
     "output_type": "execute_result"
    }
   ],
   "source": [
    "df_liocinema_content.head(5)"
   ]
  },
  {
   "cell_type": "code",
   "execution_count": 5,
   "id": "0441afcf-fe22-49ac-9138-8bec7d134f73",
   "metadata": {},
   "outputs": [
    {
     "data": {
      "text/html": [
       "<div>\n",
       "<style scoped>\n",
       "    .dataframe tbody tr th:only-of-type {\n",
       "        vertical-align: middle;\n",
       "    }\n",
       "\n",
       "    .dataframe tbody tr th {\n",
       "        vertical-align: top;\n",
       "    }\n",
       "\n",
       "    .dataframe thead th {\n",
       "        text-align: right;\n",
       "    }\n",
       "</style>\n",
       "<table border=\"1\" class=\"dataframe\">\n",
       "  <thead>\n",
       "    <tr style=\"text-align: right;\">\n",
       "      <th></th>\n",
       "      <th>user_id</th>\n",
       "      <th>device_type</th>\n",
       "      <th>total_watch_time_mins</th>\n",
       "    </tr>\n",
       "  </thead>\n",
       "  <tbody>\n",
       "    <tr>\n",
       "      <th>0</th>\n",
       "      <td>UIDLC459c98ee486</td>\n",
       "      <td>Mobile</td>\n",
       "      <td>502</td>\n",
       "    </tr>\n",
       "    <tr>\n",
       "      <th>1</th>\n",
       "      <td>UIDLCe4b2fd90790</td>\n",
       "      <td>Mobile</td>\n",
       "      <td>2098</td>\n",
       "    </tr>\n",
       "    <tr>\n",
       "      <th>2</th>\n",
       "      <td>UIDLCbc8f0a05367</td>\n",
       "      <td>Mobile</td>\n",
       "      <td>557</td>\n",
       "    </tr>\n",
       "    <tr>\n",
       "      <th>3</th>\n",
       "      <td>UIDLC9fc67130445</td>\n",
       "      <td>Mobile</td>\n",
       "      <td>1720</td>\n",
       "    </tr>\n",
       "    <tr>\n",
       "      <th>4</th>\n",
       "      <td>UIDLC7026c3e0374</td>\n",
       "      <td>Mobile</td>\n",
       "      <td>908</td>\n",
       "    </tr>\n",
       "  </tbody>\n",
       "</table>\n",
       "</div>"
      ],
      "text/plain": [
       "            user_id device_type  total_watch_time_mins\n",
       "0  UIDLC459c98ee486      Mobile                    502\n",
       "1  UIDLCe4b2fd90790      Mobile                   2098\n",
       "2  UIDLCbc8f0a05367      Mobile                    557\n",
       "3  UIDLC9fc67130445      Mobile                   1720\n",
       "4  UIDLC7026c3e0374      Mobile                    908"
      ]
     },
     "execution_count": 5,
     "metadata": {},
     "output_type": "execute_result"
    }
   ],
   "source": [
    "df_liocinema_content_consumption.head(5)"
   ]
  },
  {
   "cell_type": "markdown",
   "id": "ca8e4986-bdf4-44bf-beef-453d9ae1395b",
   "metadata": {},
   "source": [
    " What is the total number of users for LioCinema"
   ]
  },
  {
   "cell_type": "code",
   "execution_count": 6,
   "id": "b04254a3-d644-4997-ba65-156687241ed2",
   "metadata": {},
   "outputs": [
    {
     "data": {
      "text/plain": [
       "183446"
      ]
     },
     "execution_count": 6,
     "metadata": {},
     "output_type": "execute_result"
    }
   ],
   "source": [
    "df_liocinema_subscr['user_id'].count()"
   ]
  },
  {
   "cell_type": "code",
   "execution_count": null,
   "id": "2057f06c-af39-426d-9a97-f45f77fad54d",
   "metadata": {},
   "outputs": [],
   "source": []
  },
  {
   "cell_type": "markdown",
   "id": "2f59f198-20d1-4396-9686-4ccef28170ce",
   "metadata": {},
   "source": [
    "how do they compare in terms of growth trends (January–November 2024)"
   ]
  },
  {
   "cell_type": "code",
   "execution_count": 7,
   "id": "411aa3a1-01b5-45e5-a186-fa9107d8069b",
   "metadata": {},
   "outputs": [],
   "source": [
    "df_liocinema_subscr['subscription_date']=pd.to_datetime(df_liocinema_subscr['subscription_date'])\n",
    "df_liocinema_subscr['last_active_date']=pd.to_datetime(df_liocinema_subscr['last_active_date'])\n",
    "df_liocinema_subscr['plan_change_date']=pd.to_datetime(df_liocinema_subscr['plan_change_date'])"
   ]
  },
  {
   "cell_type": "code",
   "execution_count": 8,
   "id": "d864549d-0aa5-4322-b348-807345a46339",
   "metadata": {},
   "outputs": [],
   "source": [
    "df_liocinema_subscr['subscription_date_month']=(df_liocinema_subscr['subscription_date']).dt.month\n",
    "df_liocinema_subscr['last_active_date_month']=(df_liocinema_subscr['last_active_date']).dt.month\n",
    "df_liocinema_subscr['plan_change_date_month']=(df_liocinema_subscr['plan_change_date']).dt.month"
   ]
  },
  {
   "cell_type": "code",
   "execution_count": 9,
   "id": "3d9a4ee3-7dbb-4283-9657-816caf6bcb00",
   "metadata": {},
   "outputs": [
    {
     "data": {
      "text/html": [
       "<div>\n",
       "<style scoped>\n",
       "    .dataframe tbody tr th:only-of-type {\n",
       "        vertical-align: middle;\n",
       "    }\n",
       "\n",
       "    .dataframe tbody tr th {\n",
       "        vertical-align: top;\n",
       "    }\n",
       "\n",
       "    .dataframe thead th {\n",
       "        text-align: right;\n",
       "    }\n",
       "</style>\n",
       "<table border=\"1\" class=\"dataframe\">\n",
       "  <thead>\n",
       "    <tr style=\"text-align: right;\">\n",
       "      <th></th>\n",
       "      <th>user_id</th>\n",
       "      <th>age_group</th>\n",
       "      <th>city_tier</th>\n",
       "      <th>subscription_date</th>\n",
       "      <th>subscription_plan</th>\n",
       "      <th>last_active_date</th>\n",
       "      <th>plan_change_date</th>\n",
       "      <th>new_subscription_plan</th>\n",
       "      <th>subscription_date_month</th>\n",
       "      <th>last_active_date_month</th>\n",
       "      <th>plan_change_date_month</th>\n",
       "    </tr>\n",
       "  </thead>\n",
       "  <tbody>\n",
       "    <tr>\n",
       "      <th>0</th>\n",
       "      <td>UIDLC00000bea68a</td>\n",
       "      <td>25-34</td>\n",
       "      <td>Tier 3</td>\n",
       "      <td>2024-10-24</td>\n",
       "      <td>Free</td>\n",
       "      <td>NaT</td>\n",
       "      <td>NaT</td>\n",
       "      <td>NaN</td>\n",
       "      <td>10</td>\n",
       "      <td>NaN</td>\n",
       "      <td>NaN</td>\n",
       "    </tr>\n",
       "    <tr>\n",
       "      <th>1</th>\n",
       "      <td>UIDLC00009202848</td>\n",
       "      <td>18-24</td>\n",
       "      <td>Tier 1</td>\n",
       "      <td>2024-09-18</td>\n",
       "      <td>Basic</td>\n",
       "      <td>NaT</td>\n",
       "      <td>NaT</td>\n",
       "      <td>NaN</td>\n",
       "      <td>9</td>\n",
       "      <td>NaN</td>\n",
       "      <td>NaN</td>\n",
       "    </tr>\n",
       "    <tr>\n",
       "      <th>2</th>\n",
       "      <td>UIDLC0001086afc3</td>\n",
       "      <td>35-44</td>\n",
       "      <td>Tier 2</td>\n",
       "      <td>2024-03-23</td>\n",
       "      <td>Premium</td>\n",
       "      <td>NaT</td>\n",
       "      <td>2024-04-23</td>\n",
       "      <td>Free</td>\n",
       "      <td>3</td>\n",
       "      <td>NaN</td>\n",
       "      <td>4.0</td>\n",
       "    </tr>\n",
       "    <tr>\n",
       "      <th>3</th>\n",
       "      <td>UIDLC000186abd93</td>\n",
       "      <td>18-24</td>\n",
       "      <td>Tier 3</td>\n",
       "      <td>2024-09-07</td>\n",
       "      <td>Free</td>\n",
       "      <td>2024-10-23</td>\n",
       "      <td>NaT</td>\n",
       "      <td>NaN</td>\n",
       "      <td>9</td>\n",
       "      <td>10.0</td>\n",
       "      <td>NaN</td>\n",
       "    </tr>\n",
       "    <tr>\n",
       "      <th>4</th>\n",
       "      <td>UIDLC0002189b09f</td>\n",
       "      <td>18-24</td>\n",
       "      <td>Tier 2</td>\n",
       "      <td>2024-10-07</td>\n",
       "      <td>Premium</td>\n",
       "      <td>NaT</td>\n",
       "      <td>2024-11-07</td>\n",
       "      <td>Free</td>\n",
       "      <td>10</td>\n",
       "      <td>NaN</td>\n",
       "      <td>11.0</td>\n",
       "    </tr>\n",
       "  </tbody>\n",
       "</table>\n",
       "</div>"
      ],
      "text/plain": [
       "            user_id age_group city_tier subscription_date subscription_plan  \\\n",
       "0  UIDLC00000bea68a     25-34    Tier 3        2024-10-24              Free   \n",
       "1  UIDLC00009202848     18-24    Tier 1        2024-09-18             Basic   \n",
       "2  UIDLC0001086afc3     35-44    Tier 2        2024-03-23           Premium   \n",
       "3  UIDLC000186abd93     18-24    Tier 3        2024-09-07              Free   \n",
       "4  UIDLC0002189b09f     18-24    Tier 2        2024-10-07           Premium   \n",
       "\n",
       "  last_active_date plan_change_date new_subscription_plan  \\\n",
       "0              NaT              NaT                   NaN   \n",
       "1              NaT              NaT                   NaN   \n",
       "2              NaT       2024-04-23                  Free   \n",
       "3       2024-10-23              NaT                   NaN   \n",
       "4              NaT       2024-11-07                  Free   \n",
       "\n",
       "   subscription_date_month  last_active_date_month  plan_change_date_month  \n",
       "0                       10                     NaN                     NaN  \n",
       "1                        9                     NaN                     NaN  \n",
       "2                        3                     NaN                     4.0  \n",
       "3                        9                    10.0                     NaN  \n",
       "4                       10                     NaN                    11.0  "
      ]
     },
     "execution_count": 9,
     "metadata": {},
     "output_type": "execute_result"
    }
   ],
   "source": [
    "df_liocinema_subscr.head(5)"
   ]
  },
  {
   "cell_type": "code",
   "execution_count": 10,
   "id": "2543a419-716d-4fd1-8694-1a96867c587d",
   "metadata": {},
   "outputs": [],
   "source": [
    "df_liocinema_subscr=df_liocinema_subscr.fillna('0')"
   ]
  },
  {
   "cell_type": "code",
   "execution_count": 11,
   "id": "ba8bec40-9efb-486d-91a3-defdda65dae7",
   "metadata": {},
   "outputs": [
    {
     "data": {
      "text/html": [
       "<div>\n",
       "<style scoped>\n",
       "    .dataframe tbody tr th:only-of-type {\n",
       "        vertical-align: middle;\n",
       "    }\n",
       "\n",
       "    .dataframe tbody tr th {\n",
       "        vertical-align: top;\n",
       "    }\n",
       "\n",
       "    .dataframe thead th {\n",
       "        text-align: right;\n",
       "    }\n",
       "</style>\n",
       "<table border=\"1\" class=\"dataframe\">\n",
       "  <thead>\n",
       "    <tr style=\"text-align: right;\">\n",
       "      <th></th>\n",
       "      <th>user_id</th>\n",
       "      <th>age_group</th>\n",
       "      <th>city_tier</th>\n",
       "      <th>subscription_date</th>\n",
       "      <th>subscription_plan</th>\n",
       "      <th>last_active_date</th>\n",
       "      <th>plan_change_date</th>\n",
       "      <th>new_subscription_plan</th>\n",
       "      <th>subscription_date_month</th>\n",
       "      <th>last_active_date_month</th>\n",
       "      <th>plan_change_date_month</th>\n",
       "    </tr>\n",
       "  </thead>\n",
       "  <tbody>\n",
       "    <tr>\n",
       "      <th>0</th>\n",
       "      <td>UIDLC00000bea68a</td>\n",
       "      <td>25-34</td>\n",
       "      <td>Tier 3</td>\n",
       "      <td>2024-10-24</td>\n",
       "      <td>Free</td>\n",
       "      <td>0</td>\n",
       "      <td>0</td>\n",
       "      <td>0</td>\n",
       "      <td>10</td>\n",
       "      <td>0</td>\n",
       "      <td>0</td>\n",
       "    </tr>\n",
       "    <tr>\n",
       "      <th>1</th>\n",
       "      <td>UIDLC00009202848</td>\n",
       "      <td>18-24</td>\n",
       "      <td>Tier 1</td>\n",
       "      <td>2024-09-18</td>\n",
       "      <td>Basic</td>\n",
       "      <td>0</td>\n",
       "      <td>0</td>\n",
       "      <td>0</td>\n",
       "      <td>9</td>\n",
       "      <td>0</td>\n",
       "      <td>0</td>\n",
       "    </tr>\n",
       "    <tr>\n",
       "      <th>2</th>\n",
       "      <td>UIDLC0001086afc3</td>\n",
       "      <td>35-44</td>\n",
       "      <td>Tier 2</td>\n",
       "      <td>2024-03-23</td>\n",
       "      <td>Premium</td>\n",
       "      <td>0</td>\n",
       "      <td>2024-04-23 00:00:00</td>\n",
       "      <td>Free</td>\n",
       "      <td>3</td>\n",
       "      <td>0</td>\n",
       "      <td>4.0</td>\n",
       "    </tr>\n",
       "    <tr>\n",
       "      <th>3</th>\n",
       "      <td>UIDLC000186abd93</td>\n",
       "      <td>18-24</td>\n",
       "      <td>Tier 3</td>\n",
       "      <td>2024-09-07</td>\n",
       "      <td>Free</td>\n",
       "      <td>2024-10-23 00:00:00</td>\n",
       "      <td>0</td>\n",
       "      <td>0</td>\n",
       "      <td>9</td>\n",
       "      <td>10.0</td>\n",
       "      <td>0</td>\n",
       "    </tr>\n",
       "    <tr>\n",
       "      <th>4</th>\n",
       "      <td>UIDLC0002189b09f</td>\n",
       "      <td>18-24</td>\n",
       "      <td>Tier 2</td>\n",
       "      <td>2024-10-07</td>\n",
       "      <td>Premium</td>\n",
       "      <td>0</td>\n",
       "      <td>2024-11-07 00:00:00</td>\n",
       "      <td>Free</td>\n",
       "      <td>10</td>\n",
       "      <td>0</td>\n",
       "      <td>11.0</td>\n",
       "    </tr>\n",
       "  </tbody>\n",
       "</table>\n",
       "</div>"
      ],
      "text/plain": [
       "            user_id age_group city_tier subscription_date subscription_plan  \\\n",
       "0  UIDLC00000bea68a     25-34    Tier 3        2024-10-24              Free   \n",
       "1  UIDLC00009202848     18-24    Tier 1        2024-09-18             Basic   \n",
       "2  UIDLC0001086afc3     35-44    Tier 2        2024-03-23           Premium   \n",
       "3  UIDLC000186abd93     18-24    Tier 3        2024-09-07              Free   \n",
       "4  UIDLC0002189b09f     18-24    Tier 2        2024-10-07           Premium   \n",
       "\n",
       "      last_active_date     plan_change_date new_subscription_plan  \\\n",
       "0                    0                    0                     0   \n",
       "1                    0                    0                     0   \n",
       "2                    0  2024-04-23 00:00:00                  Free   \n",
       "3  2024-10-23 00:00:00                    0                     0   \n",
       "4                    0  2024-11-07 00:00:00                  Free   \n",
       "\n",
       "   subscription_date_month last_active_date_month plan_change_date_month  \n",
       "0                       10                      0                      0  \n",
       "1                        9                      0                      0  \n",
       "2                        3                      0                    4.0  \n",
       "3                        9                   10.0                      0  \n",
       "4                       10                      0                   11.0  "
      ]
     },
     "execution_count": 11,
     "metadata": {},
     "output_type": "execute_result"
    }
   ],
   "source": [
    "df_liocinema_subscr.head(5)"
   ]
  },
  {
   "cell_type": "code",
   "execution_count": 12,
   "id": "bedad144-d0a3-448b-b178-542c1b5e432c",
   "metadata": {},
   "outputs": [],
   "source": [
    "df_liocinema_subscr['last_active_date_month']=df_liocinema_subscr['last_active_date_month'].astype(int)\n",
    "df_liocinema_subscr['plan_change_date_month']=df_liocinema_subscr['plan_change_date_month'].astype(int)"
   ]
  },
  {
   "cell_type": "code",
   "execution_count": 13,
   "id": "162e9da8-b262-4361-840e-58706655dff7",
   "metadata": {},
   "outputs": [
    {
     "data": {
      "text/html": [
       "<div>\n",
       "<style scoped>\n",
       "    .dataframe tbody tr th:only-of-type {\n",
       "        vertical-align: middle;\n",
       "    }\n",
       "\n",
       "    .dataframe tbody tr th {\n",
       "        vertical-align: top;\n",
       "    }\n",
       "\n",
       "    .dataframe thead th {\n",
       "        text-align: right;\n",
       "    }\n",
       "</style>\n",
       "<table border=\"1\" class=\"dataframe\">\n",
       "  <thead>\n",
       "    <tr style=\"text-align: right;\">\n",
       "      <th></th>\n",
       "      <th>user_id</th>\n",
       "      <th>age_group</th>\n",
       "      <th>city_tier</th>\n",
       "      <th>subscription_date</th>\n",
       "      <th>subscription_plan</th>\n",
       "      <th>last_active_date</th>\n",
       "      <th>plan_change_date</th>\n",
       "      <th>new_subscription_plan</th>\n",
       "      <th>subscription_date_month</th>\n",
       "      <th>last_active_date_month</th>\n",
       "      <th>plan_change_date_month</th>\n",
       "    </tr>\n",
       "  </thead>\n",
       "  <tbody>\n",
       "    <tr>\n",
       "      <th>0</th>\n",
       "      <td>UIDLC00000bea68a</td>\n",
       "      <td>25-34</td>\n",
       "      <td>Tier 3</td>\n",
       "      <td>2024-10-24</td>\n",
       "      <td>Free</td>\n",
       "      <td>0</td>\n",
       "      <td>0</td>\n",
       "      <td>0</td>\n",
       "      <td>10</td>\n",
       "      <td>0</td>\n",
       "      <td>0</td>\n",
       "    </tr>\n",
       "    <tr>\n",
       "      <th>1</th>\n",
       "      <td>UIDLC00009202848</td>\n",
       "      <td>18-24</td>\n",
       "      <td>Tier 1</td>\n",
       "      <td>2024-09-18</td>\n",
       "      <td>Basic</td>\n",
       "      <td>0</td>\n",
       "      <td>0</td>\n",
       "      <td>0</td>\n",
       "      <td>9</td>\n",
       "      <td>0</td>\n",
       "      <td>0</td>\n",
       "    </tr>\n",
       "    <tr>\n",
       "      <th>2</th>\n",
       "      <td>UIDLC0001086afc3</td>\n",
       "      <td>35-44</td>\n",
       "      <td>Tier 2</td>\n",
       "      <td>2024-03-23</td>\n",
       "      <td>Premium</td>\n",
       "      <td>0</td>\n",
       "      <td>2024-04-23 00:00:00</td>\n",
       "      <td>Free</td>\n",
       "      <td>3</td>\n",
       "      <td>0</td>\n",
       "      <td>4</td>\n",
       "    </tr>\n",
       "    <tr>\n",
       "      <th>3</th>\n",
       "      <td>UIDLC000186abd93</td>\n",
       "      <td>18-24</td>\n",
       "      <td>Tier 3</td>\n",
       "      <td>2024-09-07</td>\n",
       "      <td>Free</td>\n",
       "      <td>2024-10-23 00:00:00</td>\n",
       "      <td>0</td>\n",
       "      <td>0</td>\n",
       "      <td>9</td>\n",
       "      <td>10</td>\n",
       "      <td>0</td>\n",
       "    </tr>\n",
       "    <tr>\n",
       "      <th>4</th>\n",
       "      <td>UIDLC0002189b09f</td>\n",
       "      <td>18-24</td>\n",
       "      <td>Tier 2</td>\n",
       "      <td>2024-10-07</td>\n",
       "      <td>Premium</td>\n",
       "      <td>0</td>\n",
       "      <td>2024-11-07 00:00:00</td>\n",
       "      <td>Free</td>\n",
       "      <td>10</td>\n",
       "      <td>0</td>\n",
       "      <td>11</td>\n",
       "    </tr>\n",
       "  </tbody>\n",
       "</table>\n",
       "</div>"
      ],
      "text/plain": [
       "            user_id age_group city_tier subscription_date subscription_plan  \\\n",
       "0  UIDLC00000bea68a     25-34    Tier 3        2024-10-24              Free   \n",
       "1  UIDLC00009202848     18-24    Tier 1        2024-09-18             Basic   \n",
       "2  UIDLC0001086afc3     35-44    Tier 2        2024-03-23           Premium   \n",
       "3  UIDLC000186abd93     18-24    Tier 3        2024-09-07              Free   \n",
       "4  UIDLC0002189b09f     18-24    Tier 2        2024-10-07           Premium   \n",
       "\n",
       "      last_active_date     plan_change_date new_subscription_plan  \\\n",
       "0                    0                    0                     0   \n",
       "1                    0                    0                     0   \n",
       "2                    0  2024-04-23 00:00:00                  Free   \n",
       "3  2024-10-23 00:00:00                    0                     0   \n",
       "4                    0  2024-11-07 00:00:00                  Free   \n",
       "\n",
       "   subscription_date_month  last_active_date_month  plan_change_date_month  \n",
       "0                       10                       0                       0  \n",
       "1                        9                       0                       0  \n",
       "2                        3                       0                       4  \n",
       "3                        9                      10                       0  \n",
       "4                       10                       0                      11  "
      ]
     },
     "execution_count": 13,
     "metadata": {},
     "output_type": "execute_result"
    }
   ],
   "source": [
    "df_liocinema_subscr.head(5)"
   ]
  },
  {
   "cell_type": "code",
   "execution_count": 14,
   "id": "1529d423-5cf4-4a6c-bdef-9505b29b2bb5",
   "metadata": {},
   "outputs": [
    {
     "data": {
      "text/plain": [
       "subscription_date_month\n",
       "1      6758\n",
       "2      7404\n",
       "3      8397\n",
       "4      9759\n",
       "5     11977\n",
       "6     13768\n",
       "7     16161\n",
       "8     19247\n",
       "9     23873\n",
       "10    29105\n",
       "11    36997\n",
       "Name: user_id, dtype: int64"
      ]
     },
     "execution_count": 14,
     "metadata": {},
     "output_type": "execute_result"
    }
   ],
   "source": [
    "df_liocinema_subscr.groupby('subscription_date_month')['user_id'].count()"
   ]
  },
  {
   "cell_type": "code",
   "execution_count": 15,
   "id": "e2d87c0b-09f0-4887-bb1a-d872f0249641",
   "metadata": {},
   "outputs": [],
   "source": [
    "df1=pd.DataFrame(df_liocinema_subscr.groupby('subscription_date_month')['user_id'].count())"
   ]
  },
  {
   "cell_type": "code",
   "execution_count": null,
   "id": "d6326a94-4c1a-4467-86be-7edf84db940c",
   "metadata": {},
   "outputs": [],
   "source": []
  },
  {
   "cell_type": "code",
   "execution_count": 16,
   "id": "4131f381-b0f7-4e77-ac4a-0767c8087222",
   "metadata": {},
   "outputs": [
    {
     "data": {
      "text/plain": [
       "Text(0.5, 1.0, 'jiocinema')"
      ]
     },
     "execution_count": 16,
     "metadata": {},
     "output_type": "execute_result"
    },
    {
     "data": {
      "image/png": "[encoded data removed]",
      "text/plain": [
       "<Figure size 900x500 with 1 Axes>"
      ]
     },
     "metadata": {},
     "output_type": "display_data"
    }
   ],
   "source": [
    "plt.figure(figsize=(9,5))\n",
    "lio1=df_liocinema_subscr.groupby('subscription_date_month')['user_id'].count().plot(kind='bar')\n",
    "plt.xlabel('month')\n",
    "plt.ylabel('subscription')\n",
    "plt.title('jiocinema')\n",
    "#plt.savefig('lio1.jpg')"
   ]
  },
  {
   "cell_type": "code",
   "execution_count": null,
   "id": "b46faff2-902e-4317-9b6b-a7746cc817c4",
   "metadata": {},
   "outputs": [],
   "source": []
  },
  {
   "cell_type": "markdown",
   "id": "c946b180-a8a1-4fa9-8123-cddc976af6b8",
   "metadata": {},
   "source": [
    "What is the total number of contents available on LioCinema vs. Jotstar"
   ]
  },
  {
   "cell_type": "code",
   "execution_count": 17,
   "id": "94884a37-290e-4484-a949-90c20ce2625c",
   "metadata": {},
   "outputs": [
    {
     "data": {
      "text/plain": [
       "1250"
      ]
     },
     "execution_count": 17,
     "metadata": {},
     "output_type": "execute_result"
    }
   ],
   "source": [
    "df_liocinema_content['content_id'].count()"
   ]
  },
  {
   "cell_type": "code",
   "execution_count": null,
   "id": "a3f96b07-d319-4d45-8c8f-2d4dae0a0234",
   "metadata": {},
   "outputs": [],
   "source": []
  },
  {
   "cell_type": "markdown",
   "id": "39788bbc-8cd3-46a8-9a6f-999b2125c3f7",
   "metadata": {},
   "source": [
    "How do they differ in terms of language and content type"
   ]
  },
  {
   "cell_type": "code",
   "execution_count": 18,
   "id": "f0bcc2aa-6412-4632-b0d3-a1e4c838faba",
   "metadata": {},
   "outputs": [
    {
     "data": {
      "text/plain": [
       "language\n",
       "Hindi        424\n",
       "Telugu       242\n",
       "Tamil        221\n",
       "Malayalam    121\n",
       "Kannada      118\n",
       "Marathi       68\n",
       "English       56\n",
       "Name: count, dtype: int64"
      ]
     },
     "execution_count": 18,
     "metadata": {},
     "output_type": "execute_result"
    }
   ],
   "source": [
    "df_liocinema_content['language'].value_counts()"
   ]
  },
  {
   "cell_type": "code",
   "execution_count": 19,
   "id": "d9eceba0-901f-4aab-87c8-1b43284f299d",
   "metadata": {},
   "outputs": [
    {
     "data": {
      "text/plain": [
       "content_type\n",
       "Movie     900\n",
       "Series    300\n",
       "Sports     50\n",
       "Name: count, dtype: int64"
      ]
     },
     "execution_count": 19,
     "metadata": {},
     "output_type": "execute_result"
    }
   ],
   "source": [
    "df_liocinema_content['content_type'].value_counts()"
   ]
  },
  {
   "cell_type": "code",
   "execution_count": null,
   "id": "12ed0d1d-9ddd-4af8-90d3-a7215822c572",
   "metadata": {},
   "outputs": [],
   "source": []
  },
  {
   "cell_type": "markdown",
   "id": "82a5a20f-288e-4ac3-856e-46f4c80b50db",
   "metadata": {},
   "source": [
    " What percentage of LioCinema users are active vs. inactive"
   ]
  },
  {
   "cell_type": "code",
   "execution_count": 20,
   "id": "9c6656a9-63ad-4754-9628-a1adca1a83a5",
   "metadata": {},
   "outputs": [
    {
     "data": {
      "text/html": [
       "<div>\n",
       "<style scoped>\n",
       "    .dataframe tbody tr th:only-of-type {\n",
       "        vertical-align: middle;\n",
       "    }\n",
       "\n",
       "    .dataframe tbody tr th {\n",
       "        vertical-align: top;\n",
       "    }\n",
       "\n",
       "    .dataframe thead th {\n",
       "        text-align: right;\n",
       "    }\n",
       "</style>\n",
       "<table border=\"1\" class=\"dataframe\">\n",
       "  <thead>\n",
       "    <tr style=\"text-align: right;\">\n",
       "      <th></th>\n",
       "      <th>user_id</th>\n",
       "      <th>age_group</th>\n",
       "      <th>city_tier</th>\n",
       "      <th>subscription_date</th>\n",
       "      <th>subscription_plan</th>\n",
       "      <th>last_active_date</th>\n",
       "      <th>plan_change_date</th>\n",
       "      <th>new_subscription_plan</th>\n",
       "      <th>subscription_date_month</th>\n",
       "      <th>last_active_date_month</th>\n",
       "      <th>plan_change_date_month</th>\n",
       "    </tr>\n",
       "  </thead>\n",
       "  <tbody>\n",
       "    <tr>\n",
       "      <th>0</th>\n",
       "      <td>UIDLC00000bea68a</td>\n",
       "      <td>25-34</td>\n",
       "      <td>Tier 3</td>\n",
       "      <td>2024-10-24</td>\n",
       "      <td>Free</td>\n",
       "      <td>0</td>\n",
       "      <td>0</td>\n",
       "      <td>0</td>\n",
       "      <td>10</td>\n",
       "      <td>0</td>\n",
       "      <td>0</td>\n",
       "    </tr>\n",
       "    <tr>\n",
       "      <th>1</th>\n",
       "      <td>UIDLC00009202848</td>\n",
       "      <td>18-24</td>\n",
       "      <td>Tier 1</td>\n",
       "      <td>2024-09-18</td>\n",
       "      <td>Basic</td>\n",
       "      <td>0</td>\n",
       "      <td>0</td>\n",
       "      <td>0</td>\n",
       "      <td>9</td>\n",
       "      <td>0</td>\n",
       "      <td>0</td>\n",
       "    </tr>\n",
       "    <tr>\n",
       "      <th>2</th>\n",
       "      <td>UIDLC0001086afc3</td>\n",
       "      <td>35-44</td>\n",
       "      <td>Tier 2</td>\n",
       "      <td>2024-03-23</td>\n",
       "      <td>Premium</td>\n",
       "      <td>0</td>\n",
       "      <td>2024-04-23 00:00:00</td>\n",
       "      <td>Free</td>\n",
       "      <td>3</td>\n",
       "      <td>0</td>\n",
       "      <td>4</td>\n",
       "    </tr>\n",
       "    <tr>\n",
       "      <th>3</th>\n",
       "      <td>UIDLC000186abd93</td>\n",
       "      <td>18-24</td>\n",
       "      <td>Tier 3</td>\n",
       "      <td>2024-09-07</td>\n",
       "      <td>Free</td>\n",
       "      <td>2024-10-23 00:00:00</td>\n",
       "      <td>0</td>\n",
       "      <td>0</td>\n",
       "      <td>9</td>\n",
       "      <td>10</td>\n",
       "      <td>0</td>\n",
       "    </tr>\n",
       "    <tr>\n",
       "      <th>4</th>\n",
       "      <td>UIDLC0002189b09f</td>\n",
       "      <td>18-24</td>\n",
       "      <td>Tier 2</td>\n",
       "      <td>2024-10-07</td>\n",
       "      <td>Premium</td>\n",
       "      <td>0</td>\n",
       "      <td>2024-11-07 00:00:00</td>\n",
       "      <td>Free</td>\n",
       "      <td>10</td>\n",
       "      <td>0</td>\n",
       "      <td>11</td>\n",
       "    </tr>\n",
       "  </tbody>\n",
       "</table>\n",
       "</div>"
      ],
      "text/plain": [
       "            user_id age_group city_tier subscription_date subscription_plan  \\\n",
       "0  UIDLC00000bea68a     25-34    Tier 3        2024-10-24              Free   \n",
       "1  UIDLC00009202848     18-24    Tier 1        2024-09-18             Basic   \n",
       "2  UIDLC0001086afc3     35-44    Tier 2        2024-03-23           Premium   \n",
       "3  UIDLC000186abd93     18-24    Tier 3        2024-09-07              Free   \n",
       "4  UIDLC0002189b09f     18-24    Tier 2        2024-10-07           Premium   \n",
       "\n",
       "      last_active_date     plan_change_date new_subscription_plan  \\\n",
       "0                    0                    0                     0   \n",
       "1                    0                    0                     0   \n",
       "2                    0  2024-04-23 00:00:00                  Free   \n",
       "3  2024-10-23 00:00:00                    0                     0   \n",
       "4                    0  2024-11-07 00:00:00                  Free   \n",
       "\n",
       "   subscription_date_month  last_active_date_month  plan_change_date_month  \n",
       "0                       10                       0                       0  \n",
       "1                        9                       0                       0  \n",
       "2                        3                       0                       4  \n",
       "3                        9                      10                       0  \n",
       "4                       10                       0                      11  "
      ]
     },
     "execution_count": 20,
     "metadata": {},
     "output_type": "execute_result"
    }
   ],
   "source": [
    "df_liocinema_subscr.head(5)"
   ]
  },
  {
   "cell_type": "code",
   "execution_count": 21,
   "id": "99b1366e-de1f-4340-8bf4-82180a70e005",
   "metadata": {},
   "outputs": [
    {
     "data": {
      "text/plain": [
       "183446"
      ]
     },
     "execution_count": 21,
     "metadata": {},
     "output_type": "execute_result"
    }
   ],
   "source": [
    "df_liocinema_subscr['last_active_date'].count()"
   ]
  },
  {
   "cell_type": "code",
   "execution_count": 22,
   "id": "943943a1-2f2c-4f2c-b0a1-60a36daabeb0",
   "metadata": {},
   "outputs": [],
   "source": [
    "df_liocinema_active=df_liocinema_subscr[df_liocinema_subscr['last_active_date']=='0']"
   ]
  },
  {
   "cell_type": "code",
   "execution_count": 23,
   "id": "f51561b8-ba1c-4bc7-9087-09e5cc54a044",
   "metadata": {},
   "outputs": [
    {
     "data": {
      "text/plain": [
       "101141"
      ]
     },
     "execution_count": 23,
     "metadata": {},
     "output_type": "execute_result"
    }
   ],
   "source": [
    "df_liocinema_active['user_id'].count()"
   ]
  },
  {
   "cell_type": "code",
   "execution_count": 24,
   "id": "4472d45a-ba77-46aa-ba1b-8d6e8ec6e4ec",
   "metadata": {},
   "outputs": [],
   "source": [
    "df_liocinema_inactive=df_liocinema_subscr[df_liocinema_subscr['last_active_date']!='0']"
   ]
  },
  {
   "cell_type": "code",
   "execution_count": 25,
   "id": "f7709e33-fa28-4f05-98c0-79c927800589",
   "metadata": {},
   "outputs": [
    {
     "data": {
      "text/plain": [
       "82305"
      ]
     },
     "execution_count": 25,
     "metadata": {},
     "output_type": "execute_result"
    }
   ],
   "source": [
    "df_liocinema_inactive['user_id'].count()"
   ]
  },
  {
   "cell_type": "code",
   "execution_count": 26,
   "id": "c97aca6f-aa0c-4dcd-8a44-760857903948",
   "metadata": {},
   "outputs": [],
   "source": [
    "active_vs_inactive_percentage=(df_liocinema_active['user_id'].count()/df_liocinema_subscr['last_active_date'].count()*100).round(2)"
   ]
  },
  {
   "cell_type": "code",
   "execution_count": 27,
   "id": "925b0860-3117-4cb6-ae14-8c0b62c7decc",
   "metadata": {},
   "outputs": [
    {
     "data": {
      "text/plain": [
       "55.13"
      ]
     },
     "execution_count": 27,
     "metadata": {},
     "output_type": "execute_result"
    }
   ],
   "source": [
    "active_vs_inactive_percentage"
   ]
  },
  {
   "cell_type": "markdown",
   "id": "20c70946-9d1c-4127-b365-8e4c84e8c4b1",
   "metadata": {},
   "source": [
    " compare by city tier and device type"
   ]
  },
  {
   "cell_type": "code",
   "execution_count": null,
   "id": "513c5c91-2864-4589-9a0b-3814974a351d",
   "metadata": {},
   "outputs": [],
   "source": []
  },
  {
   "cell_type": "code",
   "execution_count": null,
   "id": "c0e199aa-37c1-4b64-a374-6320ea6226a1",
   "metadata": {},
   "outputs": [],
   "source": []
  },
  {
   "cell_type": "code",
   "execution_count": null,
   "id": "36571324-2647-40a2-aec1-7f2c0aa8c05b",
   "metadata": {},
   "outputs": [],
   "source": []
  },
  {
   "cell_type": "markdown",
   "id": "c4337c03-e745-4ef4-a405-05a07eb164b2",
   "metadata": {},
   "source": [
    "Assume the following monthly subscription prices, calculate the total revenue \n",
    "generated by both platforms LioCinema for the analysis period (January \n",
    "to November 2024). "
   ]
  },
  {
   "cell_type": "code",
   "execution_count": 28,
   "id": "c7d3f239-5f11-4d07-b466-bdd1ac171686",
   "metadata": {},
   "outputs": [],
   "source": [
    "#df_liocinema_subscr"
   ]
  },
  {
   "cell_type": "code",
   "execution_count": 29,
   "id": "6dfd6b9b-81ba-42ac-8c0f-924d5c64a185",
   "metadata": {},
   "outputs": [],
   "source": [
    "#lio_free=df_liocinema_subscr[df_liocinema_subscr['subscription_plan']=='Free']"
   ]
  },
  {
   "cell_type": "code",
   "execution_count": 30,
   "id": "16af9ca5-9fb7-401d-9612-b1f22ca0b267",
   "metadata": {},
   "outputs": [],
   "source": [
    "#lio_free.head(5)"
   ]
  },
  {
   "cell_type": "code",
   "execution_count": 31,
   "id": "8e81edbe-f3bd-4fbf-af4c-07e7a6c1b237",
   "metadata": {},
   "outputs": [],
   "source": [
    "#free_to_upgrade=lio_free[lio_free['plan_change_date']!='0']"
   ]
  },
  {
   "cell_type": "code",
   "execution_count": 32,
   "id": "1ad438e4-58eb-48a7-86e9-7091c06a9786",
   "metadata": {},
   "outputs": [],
   "source": [
    "#free_to_upgrade.head(5)"
   ]
  },
  {
   "cell_type": "code",
   "execution_count": 33,
   "id": "7c56d3d5-c5fd-4f1f-96a6-9660821a14ae",
   "metadata": {},
   "outputs": [],
   "source": [
    "#free_to_upgrade['new_subscription_plan']=free_to_upgrade['new_subscription_plan'].replace('Basic',69)\n",
    "#free_to_upgrade['new_subscription_plan']=free_to_upgrade['new_subscription_plan'].replace('Premium',129)"
   ]
  },
  {
   "cell_type": "code",
   "execution_count": 34,
   "id": "8f3d164e-2758-4ac7-95e9-1d2450c13830",
   "metadata": {},
   "outputs": [],
   "source": [
    "#free_to_upgrade.head(5)"
   ]
  },
  {
   "cell_type": "code",
   "execution_count": 35,
   "id": "3a8a54cc-f68d-4dbd-ab9a-e0c36c65e743",
   "metadata": {},
   "outputs": [],
   "source": [
    "#plan_change_date_month_new=free_to_upgrade[free_to_upgrade['plan_change_date_month']<12]"
   ]
  },
  {
   "cell_type": "code",
   "execution_count": 36,
   "id": "4fd2d17a-4dd6-4ee8-bfdd-20aa268e3cf9",
   "metadata": {},
   "outputs": [],
   "source": [
    "#plan_change_date_month_new.head(5)"
   ]
  },
  {
   "cell_type": "code",
   "execution_count": null,
   "id": "276b130b-bfc5-4012-aac2-c83a13a544ab",
   "metadata": {},
   "outputs": [],
   "source": []
  },
  {
   "cell_type": "code",
   "execution_count": 37,
   "id": "d5b849af-93c1-4239-b6ce-9d59a1fef727",
   "metadata": {},
   "outputs": [],
   "source": [
    "#free_to_upgrade_monthhs=11-plan_change_date_month_new['plan_change_date_month']"
   ]
  },
  {
   "cell_type": "code",
   "execution_count": 38,
   "id": "e25a176c-bacf-45cd-bc69-2413cbb99a46",
   "metadata": {},
   "outputs": [],
   "source": [
    "#free_to_upgrade_monthhs"
   ]
  },
  {
   "cell_type": "code",
   "execution_count": 39,
   "id": "b1e7a341-1de7-4837-9a1a-484884f81fdd",
   "metadata": {},
   "outputs": [],
   "source": [
    "#free_to_upgrade_revenue=free_to_upgrade_monthhs*plan_change_date_month_new['new_subscription_plan']"
   ]
  },
  {
   "cell_type": "code",
   "execution_count": 40,
   "id": "b3c4e4af-7b17-4dfd-81ec-68f3291d9795",
   "metadata": {},
   "outputs": [],
   "source": [
    "#free_to_upgrade_revenue.sum() # ++"
   ]
  },
  {
   "cell_type": "code",
   "execution_count": null,
   "id": "da55bfca-fd28-4b9a-876c-209cd3ede037",
   "metadata": {},
   "outputs": [],
   "source": []
  },
  {
   "cell_type": "code",
   "execution_count": 41,
   "id": "f46f14b9-cf69-492f-8341-2be3a97bc3eb",
   "metadata": {},
   "outputs": [],
   "source": [
    "#lio_paid=df_liocinema_subscr[df_liocinema_subscr['subscription_plan']!='Free']"
   ]
  },
  {
   "cell_type": "code",
   "execution_count": 42,
   "id": "32c0b7c0-632c-470e-9454-0fc6c284ab85",
   "metadata": {},
   "outputs": [],
   "source": [
    "#lio_paid.head(5)"
   ]
  },
  {
   "cell_type": "code",
   "execution_count": 43,
   "id": "d723614a-0898-4d71-ad89-0fef02979883",
   "metadata": {},
   "outputs": [],
   "source": [
    "#lio_paid['subscription_plan']=lio_paid['subscription_plan'].replace('Basic',69)\n",
    "#lio_paid['subscription_plan']=lio_paid['subscription_plan'].replace('Premium',129)"
   ]
  },
  {
   "cell_type": "code",
   "execution_count": 44,
   "id": "25c891d3-82c5-4e16-ac7e-83b4024809e8",
   "metadata": {},
   "outputs": [],
   "source": [
    "#lio_paid.head(5)"
   ]
  },
  {
   "cell_type": "code",
   "execution_count": null,
   "id": "67b106c5-4953-4cb7-85e7-33deb4deefee",
   "metadata": {},
   "outputs": [],
   "source": []
  },
  {
   "cell_type": "code",
   "execution_count": 45,
   "id": "42b3beb2-68c6-405d-a71c-cd99cce95aae",
   "metadata": {},
   "outputs": [],
   "source": [
    "#lio_paid_nochange=lio_paid[lio_paid['plan_change_date']=='0']"
   ]
  },
  {
   "cell_type": "code",
   "execution_count": 46,
   "id": "a7575338-7593-4237-8107-56ba491541c7",
   "metadata": {},
   "outputs": [],
   "source": [
    "#lio_paid_nochange.head(5)"
   ]
  },
  {
   "cell_type": "code",
   "execution_count": 47,
   "id": "7dfa0cec-ee0f-4f00-bdf2-be3e99ea0cc3",
   "metadata": {},
   "outputs": [],
   "source": [
    "#total_months=11-lio_paid['subscription_date_month']"
   ]
  },
  {
   "cell_type": "code",
   "execution_count": 48,
   "id": "402600a0-0fd5-4c8e-96d0-8de7e0b40406",
   "metadata": {},
   "outputs": [],
   "source": [
    "#total_months"
   ]
  },
  {
   "cell_type": "code",
   "execution_count": 49,
   "id": "7dcda064-3ab7-4dac-9bd3-3ca38ca83876",
   "metadata": {},
   "outputs": [],
   "source": [
    "#lio_paid_nochange_revenue=total_months*lio_paid_nochange['subscription_plan']"
   ]
  },
  {
   "cell_type": "code",
   "execution_count": 50,
   "id": "0309b0cd-5e8d-4269-948f-37f15f92fa56",
   "metadata": {},
   "outputs": [],
   "source": [
    "#lio_paid_nochange_revenue.sum()"
   ]
  },
  {
   "cell_type": "code",
   "execution_count": null,
   "id": "7d8a148c-9975-40bb-8ac4-7d10cf6154d2",
   "metadata": {},
   "outputs": [],
   "source": []
  },
  {
   "cell_type": "code",
   "execution_count": 51,
   "id": "3cb42cf2-bacf-4335-970c-bd01df5b0623",
   "metadata": {},
   "outputs": [],
   "source": [
    "#lio_paid_downgrade=lio_paid[lio_paid['plan_change_date']!='0']"
   ]
  },
  {
   "cell_type": "code",
   "execution_count": 52,
   "id": "1d8409da-3813-42fc-a73d-4bfc2397b077",
   "metadata": {},
   "outputs": [],
   "source": [
    "#lio_paid_downgrade.head(5)"
   ]
  },
  {
   "cell_type": "code",
   "execution_count": 53,
   "id": "9aa5d170-e45d-48e4-b3c2-9ff54e0527de",
   "metadata": {},
   "outputs": [],
   "source": [
    "#lio_paid_downgrade['new_subscription_plan']=lio_paid_downgrade['new_subscription_plan'].replace('Basic',69)\n",
    "#lio_paid_downgrade['new_subscription_plan']=lio_paid_downgrade['new_subscription_plan'].replace('Premium',129)\n",
    "#lio_paid_downgrade['new_subscription_plan']=lio_paid_downgrade['new_subscription_plan'].replace('Free',0)"
   ]
  },
  {
   "cell_type": "code",
   "execution_count": 54,
   "id": "b050f0c6-73a6-4034-bc16-62aa049a9b1c",
   "metadata": {},
   "outputs": [],
   "source": [
    "#lio_paid_downgrade.head(5)"
   ]
  },
  {
   "cell_type": "code",
   "execution_count": null,
   "id": "d985bba4-4d97-480a-abcb-ad81541d442f",
   "metadata": {},
   "outputs": [],
   "source": []
  },
  {
   "cell_type": "code",
   "execution_count": 55,
   "id": "9f144599-21f9-42c6-9fc6-496a69fe7c14",
   "metadata": {},
   "outputs": [],
   "source": [
    "#plan_change_total_months=11-lio_paid_downgrade['plan_change_date_month']"
   ]
  },
  {
   "cell_type": "code",
   "execution_count": 56,
   "id": "71d2e5e4-a84e-428e-8dc9-6c3657f7d7c7",
   "metadata": {},
   "outputs": [],
   "source": [
    "#plan_change_total_months"
   ]
  },
  {
   "cell_type": "code",
   "execution_count": 57,
   "id": "d96e85fd-1620-4543-82f2-9d7f3a28cf07",
   "metadata": {},
   "outputs": [],
   "source": [
    "#lio_paid_downgrade_revenue=plan_change_total_months*lio_paid_downgrade['new_subscription_plan']"
   ]
  },
  {
   "cell_type": "code",
   "execution_count": 58,
   "id": "d90d2ac6-08dc-4a6d-96fe-707072f10c6e",
   "metadata": {},
   "outputs": [],
   "source": [
    "#lio_paid_downgrade_revenue.sum() #--"
   ]
  },
  {
   "cell_type": "code",
   "execution_count": 59,
   "id": "87efaae0-be86-409c-a609-fc34ded46aa6",
   "metadata": {},
   "outputs": [],
   "source": [
    "#lio_total_revenue=lio_paid_nochange_revenue.sum()+free_to_upgrade_revenue.sum()-lio_paid_downgrade_revenue.sum()"
   ]
  },
  {
   "cell_type": "code",
   "execution_count": 60,
   "id": "f8a3c70b-7d95-41ff-8157-ede9584f4bca",
   "metadata": {},
   "outputs": [],
   "source": [
    "#lio_total_revenue"
   ]
  },
  {
   "cell_type": "code",
   "execution_count": null,
   "id": "1e434943-895c-4bf4-9718-92cb4d3972dd",
   "metadata": {},
   "outputs": [],
   "source": []
  },
  {
   "cell_type": "code",
   "execution_count": null,
   "id": "f1131785-b200-407a-a15b-44b32b1f144f",
   "metadata": {},
   "outputs": [],
   "source": []
  },
  {
   "cell_type": "markdown",
   "id": "f3db1e4d-404a-4678-9d9b-f06a9784c785",
   "metadata": {},
   "source": [
    "*******************     JOBSRTAR **************************"
   ]
  },
  {
   "cell_type": "code",
   "execution_count": 61,
   "id": "2234d04a-fb87-4355-95f4-b06c53b5d0cd",
   "metadata": {},
   "outputs": [],
   "source": [
    "df_Jobstar_subscr=pd.read_csv(r\"C:\\Users\\user\\Downloads\\Input_files\\RPC14_Input_For_Participants\\datasets\\Jobstar_subscr.csv\")\n",
    "df_jobstar_content=pd.read_csv(r\"C:\\Users\\user\\Downloads\\Input_files\\RPC14_Input_For_Participants\\datasets\\jobstar_content.csv\")\n",
    "df_jobstar_content_consumption=pd.read_csv(r\"C:\\Users\\user\\Downloads\\Input_files\\RPC14_Input_For_Participants\\datasets\\jobstar_content_consumption.csv\")"
   ]
  },
  {
   "cell_type": "markdown",
   "id": "eebf219d-47bb-40c4-a64f-fd2a6ec774df",
   "metadata": {},
   "source": [
    "1-- What is the total number of users for Jotstar"
   ]
  },
  {
   "cell_type": "code",
   "execution_count": 62,
   "id": "872d8b7d-2d4c-47b8-b71a-6ee597dd8eab",
   "metadata": {},
   "outputs": [
    {
     "data": {
      "text/html": [
       "<div>\n",
       "<style scoped>\n",
       "    .dataframe tbody tr th:only-of-type {\n",
       "        vertical-align: middle;\n",
       "    }\n",
       "\n",
       "    .dataframe tbody tr th {\n",
       "        vertical-align: top;\n",
       "    }\n",
       "\n",
       "    .dataframe thead th {\n",
       "        text-align: right;\n",
       "    }\n",
       "</style>\n",
       "<table border=\"1\" class=\"dataframe\">\n",
       "  <thead>\n",
       "    <tr style=\"text-align: right;\">\n",
       "      <th></th>\n",
       "      <th>user_id</th>\n",
       "      <th>age_group</th>\n",
       "      <th>city_tier</th>\n",
       "      <th>subscription_date</th>\n",
       "      <th>subscription_plan</th>\n",
       "      <th>last_active_date</th>\n",
       "      <th>plan_change_date</th>\n",
       "      <th>new_subscription_plan</th>\n",
       "    </tr>\n",
       "  </thead>\n",
       "  <tbody>\n",
       "    <tr>\n",
       "      <th>0</th>\n",
       "      <td>UIDJS0000751588f</td>\n",
       "      <td>18-24</td>\n",
       "      <td>Tier 1</td>\n",
       "      <td>2024-06-10</td>\n",
       "      <td>Premium</td>\n",
       "      <td>NaN</td>\n",
       "      <td>NaN</td>\n",
       "      <td>NaN</td>\n",
       "    </tr>\n",
       "    <tr>\n",
       "      <th>1</th>\n",
       "      <td>UIDJS000093eeb86</td>\n",
       "      <td>18-24</td>\n",
       "      <td>Tier 1</td>\n",
       "      <td>2024-11-09</td>\n",
       "      <td>Free</td>\n",
       "      <td>NaN</td>\n",
       "      <td>NaN</td>\n",
       "      <td>NaN</td>\n",
       "    </tr>\n",
       "  </tbody>\n",
       "</table>\n",
       "</div>"
      ],
      "text/plain": [
       "            user_id age_group city_tier subscription_date subscription_plan  \\\n",
       "0  UIDJS0000751588f     18-24    Tier 1        2024-06-10           Premium   \n",
       "1  UIDJS000093eeb86     18-24    Tier 1        2024-11-09              Free   \n",
       "\n",
       "  last_active_date plan_change_date new_subscription_plan  \n",
       "0              NaN              NaN                   NaN  \n",
       "1              NaN              NaN                   NaN  "
      ]
     },
     "execution_count": 62,
     "metadata": {},
     "output_type": "execute_result"
    }
   ],
   "source": [
    "df_Jobstar_subscr.head(2)"
   ]
  },
  {
   "cell_type": "markdown",
   "id": "64e9acdb-e878-4045-8210-2879148e5662",
   "metadata": {},
   "source": [
    "df_jobstar_content.head(2)"
   ]
  },
  {
   "cell_type": "code",
   "execution_count": 63,
   "id": "7915fff3-0645-4d95-88e9-f784e0c94a13",
   "metadata": {},
   "outputs": [
    {
     "data": {
      "text/html": [
       "<div>\n",
       "<style scoped>\n",
       "    .dataframe tbody tr th:only-of-type {\n",
       "        vertical-align: middle;\n",
       "    }\n",
       "\n",
       "    .dataframe tbody tr th {\n",
       "        vertical-align: top;\n",
       "    }\n",
       "\n",
       "    .dataframe thead th {\n",
       "        text-align: right;\n",
       "    }\n",
       "</style>\n",
       "<table border=\"1\" class=\"dataframe\">\n",
       "  <thead>\n",
       "    <tr style=\"text-align: right;\">\n",
       "      <th></th>\n",
       "      <th>user_id</th>\n",
       "      <th>device_type</th>\n",
       "      <th>total_watch_time_mins</th>\n",
       "    </tr>\n",
       "  </thead>\n",
       "  <tbody>\n",
       "    <tr>\n",
       "      <th>0</th>\n",
       "      <td>UIDJS877cc0e02c9</td>\n",
       "      <td>Mobile</td>\n",
       "      <td>14613</td>\n",
       "    </tr>\n",
       "    <tr>\n",
       "      <th>1</th>\n",
       "      <td>UIDJS06384e7ff06</td>\n",
       "      <td>Mobile</td>\n",
       "      <td>13271</td>\n",
       "    </tr>\n",
       "  </tbody>\n",
       "</table>\n",
       "</div>"
      ],
      "text/plain": [
       "            user_id device_type  total_watch_time_mins\n",
       "0  UIDJS877cc0e02c9      Mobile                  14613\n",
       "1  UIDJS06384e7ff06      Mobile                  13271"
      ]
     },
     "execution_count": 63,
     "metadata": {},
     "output_type": "execute_result"
    }
   ],
   "source": [
    "df_jobstar_content_consumption.head(2)"
   ]
  },
  {
   "cell_type": "code",
   "execution_count": 64,
   "id": "5972d7fd-27ce-4093-999b-5e658a30e979",
   "metadata": {},
   "outputs": [
    {
     "data": {
      "text/plain": [
       "44620"
      ]
     },
     "execution_count": 64,
     "metadata": {},
     "output_type": "execute_result"
    }
   ],
   "source": [
    "df_Jobstar_subscr['user_id'].count()"
   ]
  },
  {
   "cell_type": "code",
   "execution_count": null,
   "id": "8368c871-a11b-4cb1-987c-bef2855a09c9",
   "metadata": {},
   "outputs": [],
   "source": []
  },
  {
   "cell_type": "markdown",
   "id": "dde3a523-a0dc-4833-882a-26d8236b4952",
   "metadata": {},
   "source": [
    "2--how do they compare in terms of growth trends (January–November 2024)"
   ]
  },
  {
   "cell_type": "code",
   "execution_count": 65,
   "id": "283d1fba-912c-4a72-b283-3b1541868fa8",
   "metadata": {},
   "outputs": [],
   "source": [
    "df_Jobstar_subscr['subscription_date']=pd.to_datetime(df_Jobstar_subscr['subscription_date'])\n",
    "df_Jobstar_subscr['last_active_date']=pd.to_datetime(df_Jobstar_subscr['last_active_date'])\n",
    "df_Jobstar_subscr['plan_change_date']=pd.to_datetime(df_Jobstar_subscr['plan_change_date'])"
   ]
  },
  {
   "cell_type": "code",
   "execution_count": 66,
   "id": "7b09ddbf-bf33-43a5-ada8-5a8ac3309841",
   "metadata": {},
   "outputs": [],
   "source": [
    "df_Jobstar_subscr['subscription_date_month']=(df_Jobstar_subscr['subscription_date']).dt.month\n",
    "df_Jobstar_subscr['last_active_date_month']=(df_Jobstar_subscr['last_active_date']).dt.month\n",
    "df_Jobstar_subscr['plan_change_date_month']=(df_Jobstar_subscr['plan_change_date']).dt.month"
   ]
  },
  {
   "cell_type": "code",
   "execution_count": 67,
   "id": "5b3052cf-7f3d-44dc-8020-8a6fa6b2272a",
   "metadata": {},
   "outputs": [],
   "source": [
    "df_Jobstar_subscr=df_Jobstar_subscr.fillna('0')"
   ]
  },
  {
   "cell_type": "code",
   "execution_count": 68,
   "id": "0768e422-2611-47a2-a68c-54e17aa4466d",
   "metadata": {},
   "outputs": [
    {
     "data": {
      "text/html": [
       "<div>\n",
       "<style scoped>\n",
       "    .dataframe tbody tr th:only-of-type {\n",
       "        vertical-align: middle;\n",
       "    }\n",
       "\n",
       "    .dataframe tbody tr th {\n",
       "        vertical-align: top;\n",
       "    }\n",
       "\n",
       "    .dataframe thead th {\n",
       "        text-align: right;\n",
       "    }\n",
       "</style>\n",
       "<table border=\"1\" class=\"dataframe\">\n",
       "  <thead>\n",
       "    <tr style=\"text-align: right;\">\n",
       "      <th></th>\n",
       "      <th>user_id</th>\n",
       "      <th>age_group</th>\n",
       "      <th>city_tier</th>\n",
       "      <th>subscription_date</th>\n",
       "      <th>subscription_plan</th>\n",
       "      <th>last_active_date</th>\n",
       "      <th>plan_change_date</th>\n",
       "      <th>new_subscription_plan</th>\n",
       "      <th>subscription_date_month</th>\n",
       "      <th>last_active_date_month</th>\n",
       "      <th>plan_change_date_month</th>\n",
       "    </tr>\n",
       "  </thead>\n",
       "  <tbody>\n",
       "    <tr>\n",
       "      <th>0</th>\n",
       "      <td>UIDJS0000751588f</td>\n",
       "      <td>18-24</td>\n",
       "      <td>Tier 1</td>\n",
       "      <td>2024-06-10</td>\n",
       "      <td>Premium</td>\n",
       "      <td>0</td>\n",
       "      <td>0</td>\n",
       "      <td>0</td>\n",
       "      <td>6</td>\n",
       "      <td>0</td>\n",
       "      <td>0</td>\n",
       "    </tr>\n",
       "    <tr>\n",
       "      <th>1</th>\n",
       "      <td>UIDJS000093eeb86</td>\n",
       "      <td>18-24</td>\n",
       "      <td>Tier 1</td>\n",
       "      <td>2024-11-09</td>\n",
       "      <td>Free</td>\n",
       "      <td>0</td>\n",
       "      <td>0</td>\n",
       "      <td>0</td>\n",
       "      <td>11</td>\n",
       "      <td>0</td>\n",
       "      <td>0</td>\n",
       "    </tr>\n",
       "  </tbody>\n",
       "</table>\n",
       "</div>"
      ],
      "text/plain": [
       "            user_id age_group city_tier subscription_date subscription_plan  \\\n",
       "0  UIDJS0000751588f     18-24    Tier 1        2024-06-10           Premium   \n",
       "1  UIDJS000093eeb86     18-24    Tier 1        2024-11-09              Free   \n",
       "\n",
       "  last_active_date plan_change_date new_subscription_plan  \\\n",
       "0                0                0                     0   \n",
       "1                0                0                     0   \n",
       "\n",
       "   subscription_date_month last_active_date_month plan_change_date_month  \n",
       "0                        6                      0                      0  \n",
       "1                       11                      0                      0  "
      ]
     },
     "execution_count": 68,
     "metadata": {},
     "output_type": "execute_result"
    }
   ],
   "source": [
    "df_Jobstar_subscr.head(2)"
   ]
  },
  {
   "cell_type": "code",
   "execution_count": 69,
   "id": "c4173624-b7d8-41b2-ada1-cff5f0a1e4c4",
   "metadata": {},
   "outputs": [],
   "source": [
    "df_Jobstar_subscr['last_active_date_month']=df_Jobstar_subscr['last_active_date_month'].astype(int)\n",
    "df_Jobstar_subscr['plan_change_date_month']=df_Jobstar_subscr['plan_change_date_month'].astype(int)"
   ]
  },
  {
   "cell_type": "code",
   "execution_count": 70,
   "id": "89b5be49-4932-4589-b0a5-b4355c19d2d1",
   "metadata": {},
   "outputs": [
    {
     "data": {
      "text/plain": [
       "subscription_date_month\n",
       "1     3934\n",
       "2     3939\n",
       "3     3954\n",
       "4     3984\n",
       "5     3998\n",
       "6     4020\n",
       "7     4067\n",
       "8     4103\n",
       "9     4163\n",
       "10    4196\n",
       "11    4262\n",
       "Name: user_id, dtype: int64"
      ]
     },
     "execution_count": 70,
     "metadata": {},
     "output_type": "execute_result"
    }
   ],
   "source": [
    "df_Jobstar_subscr.groupby('subscription_date_month')['user_id'].count()"
   ]
  },
  {
   "cell_type": "code",
   "execution_count": null,
   "id": "667bfedd-4010-4b68-9b5a-c2571832170c",
   "metadata": {},
   "outputs": [],
   "source": []
  },
  {
   "cell_type": "markdown",
   "id": "d92c93f8-cd2e-4e90-8569-f620dbefcb38",
   "metadata": {},
   "source": [
    "*************** Assume the following monthly subscription prices, calculate the total revenue \n",
    "generated by both platforms JOBSTAR for the analysis period (January \n",
    "to November 2024). *******************"
   ]
  },
  {
   "cell_type": "code",
   "execution_count": null,
   "id": "69acb39d-7510-4db7-890b-675c919f204e",
   "metadata": {},
   "outputs": [],
   "source": []
  },
  {
   "cell_type": "code",
   "execution_count": 71,
   "id": "07085096-651c-4954-9664-6c92b662e3cc",
   "metadata": {},
   "outputs": [],
   "source": [
    "jobstar_free=df_Jobstar_subscr[df_Jobstar_subscr['subscription_plan']=='Free']"
   ]
  },
  {
   "cell_type": "code",
   "execution_count": null,
   "id": "9f1729b9-edba-40d2-89d0-ab76b8be97b8",
   "metadata": {},
   "outputs": [],
   "source": []
  },
  {
   "cell_type": "code",
   "execution_count": 72,
   "id": "f627160b-489a-46af-838c-cee10b11ade1",
   "metadata": {},
   "outputs": [],
   "source": [
    "free_to_upgrade_jobstar=jobstar_free[jobstar_free['plan_change_date']!='0']"
   ]
  },
  {
   "cell_type": "code",
   "execution_count": null,
   "id": "37d89ec2-5ce2-466d-9af7-8b57b74cc525",
   "metadata": {},
   "outputs": [],
   "source": []
  },
  {
   "cell_type": "code",
   "execution_count": 73,
   "id": "a507f9d4-a024-44a4-b769-3ca7a5875129",
   "metadata": {},
   "outputs": [
    {
     "name": "stderr",
     "output_type": "stream",
     "text": [
      "C:\\Users\\user\\AppData\\Local\\Temp\\ipykernel_3888\\668829022.py:1: SettingWithCopyWarning: \n",
      "A value is trying to be set on a copy of a slice from a DataFrame.\n",
      "Try using .loc[row_indexer,col_indexer] = value instead\n",
      "\n",
      "See the caveats in the documentation: https://pandas.pydata.org/pandas-docs/stable/user_guide/indexing.html#returning-a-view-versus-a-copy\n",
      "  free_to_upgrade_jobstar['new_subscription_plan']=free_to_upgrade_jobstar['new_subscription_plan'].replace('VIP',159)\n",
      "C:\\Users\\user\\AppData\\Local\\Temp\\ipykernel_3888\\668829022.py:2: SettingWithCopyWarning: \n",
      "A value is trying to be set on a copy of a slice from a DataFrame.\n",
      "Try using .loc[row_indexer,col_indexer] = value instead\n",
      "\n",
      "See the caveats in the documentation: https://pandas.pydata.org/pandas-docs/stable/user_guide/indexing.html#returning-a-view-versus-a-copy\n",
      "  free_to_upgrade_jobstar['new_subscription_plan']=free_to_upgrade_jobstar['new_subscription_plan'].replace('Premium',359)\n"
     ]
    }
   ],
   "source": [
    "free_to_upgrade_jobstar['new_subscription_plan']=free_to_upgrade_jobstar['new_subscription_plan'].replace('VIP',159)\n",
    "free_to_upgrade_jobstar['new_subscription_plan']=free_to_upgrade_jobstar['new_subscription_plan'].replace('Premium',359)"
   ]
  },
  {
   "cell_type": "code",
   "execution_count": 74,
   "id": "b8b94af8-71d9-4291-b55e-2dc3d00cc09c",
   "metadata": {},
   "outputs": [
    {
     "data": {
      "text/html": [
       "<div>\n",
       "<style scoped>\n",
       "    .dataframe tbody tr th:only-of-type {\n",
       "        vertical-align: middle;\n",
       "    }\n",
       "\n",
       "    .dataframe tbody tr th {\n",
       "        vertical-align: top;\n",
       "    }\n",
       "\n",
       "    .dataframe thead th {\n",
       "        text-align: right;\n",
       "    }\n",
       "</style>\n",
       "<table border=\"1\" class=\"dataframe\">\n",
       "  <thead>\n",
       "    <tr style=\"text-align: right;\">\n",
       "      <th></th>\n",
       "      <th>user_id</th>\n",
       "      <th>age_group</th>\n",
       "      <th>city_tier</th>\n",
       "      <th>subscription_date</th>\n",
       "      <th>subscription_plan</th>\n",
       "      <th>last_active_date</th>\n",
       "      <th>plan_change_date</th>\n",
       "      <th>new_subscription_plan</th>\n",
       "      <th>subscription_date_month</th>\n",
       "      <th>last_active_date_month</th>\n",
       "      <th>plan_change_date_month</th>\n",
       "    </tr>\n",
       "  </thead>\n",
       "  <tbody>\n",
       "    <tr>\n",
       "      <th>76</th>\n",
       "      <td>UIDJS006315e24bf</td>\n",
       "      <td>45+</td>\n",
       "      <td>Tier 1</td>\n",
       "      <td>2024-01-04</td>\n",
       "      <td>Free</td>\n",
       "      <td>0</td>\n",
       "      <td>2024-03-04 00:00:00</td>\n",
       "      <td>359</td>\n",
       "      <td>1</td>\n",
       "      <td>0</td>\n",
       "      <td>3</td>\n",
       "    </tr>\n",
       "    <tr>\n",
       "      <th>81</th>\n",
       "      <td>UIDJS006711c9331</td>\n",
       "      <td>25-34</td>\n",
       "      <td>Tier 1</td>\n",
       "      <td>2024-05-22</td>\n",
       "      <td>Free</td>\n",
       "      <td>0</td>\n",
       "      <td>2024-06-22 00:00:00</td>\n",
       "      <td>159</td>\n",
       "      <td>5</td>\n",
       "      <td>0</td>\n",
       "      <td>6</td>\n",
       "    </tr>\n",
       "  </tbody>\n",
       "</table>\n",
       "</div>"
      ],
      "text/plain": [
       "             user_id age_group city_tier subscription_date subscription_plan  \\\n",
       "76  UIDJS006315e24bf       45+    Tier 1        2024-01-04              Free   \n",
       "81  UIDJS006711c9331     25-34    Tier 1        2024-05-22              Free   \n",
       "\n",
       "   last_active_date     plan_change_date  new_subscription_plan  \\\n",
       "76                0  2024-03-04 00:00:00                    359   \n",
       "81                0  2024-06-22 00:00:00                    159   \n",
       "\n",
       "    subscription_date_month  last_active_date_month  plan_change_date_month  \n",
       "76                        1                       0                       3  \n",
       "81                        5                       0                       6  "
      ]
     },
     "execution_count": 74,
     "metadata": {},
     "output_type": "execute_result"
    }
   ],
   "source": [
    "free_to_upgrade_jobstar.head(2)"
   ]
  },
  {
   "cell_type": "code",
   "execution_count": 75,
   "id": "3d0f913b-f4cd-4711-847a-e07c19627de2",
   "metadata": {},
   "outputs": [],
   "source": [
    "plan_change_date_month_jobstar=free_to_upgrade_jobstar[free_to_upgrade_jobstar['plan_change_date_month']<12]"
   ]
  },
  {
   "cell_type": "code",
   "execution_count": 76,
   "id": "b0cd18c7-fb47-4148-9467-2354eb34529a",
   "metadata": {},
   "outputs": [],
   "source": [
    "free_to_upgrade_monthhs_jobstar=11-plan_change_date_month_jobstar['plan_change_date_month']"
   ]
  },
  {
   "cell_type": "code",
   "execution_count": 77,
   "id": "4a30a98b-2845-4298-b68d-67367aeb8140",
   "metadata": {},
   "outputs": [
    {
     "data": {
      "text/plain": [
       "76       8\n",
       "81       5\n",
       "89       2\n",
       "106      2\n",
       "151      2\n",
       "        ..\n",
       "44387    1\n",
       "44513    2\n",
       "44523    4\n",
       "44526    4\n",
       "44540    9\n",
       "Name: plan_change_date_month, Length: 1425, dtype: int32"
      ]
     },
     "execution_count": 77,
     "metadata": {},
     "output_type": "execute_result"
    }
   ],
   "source": [
    "free_to_upgrade_monthhs_jobstar"
   ]
  },
  {
   "cell_type": "code",
   "execution_count": 78,
   "id": "d70c356d-7794-4332-a9ae-5aa0e2d8ca29",
   "metadata": {},
   "outputs": [],
   "source": [
    "free_to_upgrade_revenue_jobstar=free_to_upgrade_monthhs_jobstar*plan_change_date_month_jobstar['new_subscription_plan']"
   ]
  },
  {
   "cell_type": "code",
   "execution_count": 79,
   "id": "942543c7-8158-4d9d-ad4c-d4825de1dca9",
   "metadata": {},
   "outputs": [
    {
     "data": {
      "text/plain": [
       "1470953"
      ]
     },
     "execution_count": 79,
     "metadata": {},
     "output_type": "execute_result"
    }
   ],
   "source": [
    "free_to_upgrade_revenue_jobstar.sum() # ++"
   ]
  },
  {
   "cell_type": "code",
   "execution_count": null,
   "id": "0db1b8d3-6181-4b2f-9586-5198bfa3b707",
   "metadata": {},
   "outputs": [],
   "source": []
  },
  {
   "cell_type": "code",
   "execution_count": 80,
   "id": "124ae341-7bf4-4ced-95c5-ca5c544454c3",
   "metadata": {},
   "outputs": [],
   "source": [
    "jobstar_paid=df_Jobstar_subscr[df_Jobstar_subscr['subscription_plan']!='Free']"
   ]
  },
  {
   "cell_type": "code",
   "execution_count": 81,
   "id": "6f04b52e-ae3d-4348-b73a-d3d17182ea9b",
   "metadata": {},
   "outputs": [
    {
     "name": "stderr",
     "output_type": "stream",
     "text": [
      "C:\\Users\\user\\AppData\\Local\\Temp\\ipykernel_3888\\3061622366.py:1: SettingWithCopyWarning: \n",
      "A value is trying to be set on a copy of a slice from a DataFrame.\n",
      "Try using .loc[row_indexer,col_indexer] = value instead\n",
      "\n",
      "See the caveats in the documentation: https://pandas.pydata.org/pandas-docs/stable/user_guide/indexing.html#returning-a-view-versus-a-copy\n",
      "  jobstar_paid['subscription_plan']=jobstar_paid['subscription_plan'].replace('VIP',159)\n",
      "C:\\Users\\user\\AppData\\Local\\Temp\\ipykernel_3888\\3061622366.py:2: SettingWithCopyWarning: \n",
      "A value is trying to be set on a copy of a slice from a DataFrame.\n",
      "Try using .loc[row_indexer,col_indexer] = value instead\n",
      "\n",
      "See the caveats in the documentation: https://pandas.pydata.org/pandas-docs/stable/user_guide/indexing.html#returning-a-view-versus-a-copy\n",
      "  jobstar_paid['subscription_plan']=jobstar_paid['subscription_plan'].replace('Premium',359)\n"
     ]
    }
   ],
   "source": [
    "jobstar_paid['subscription_plan']=jobstar_paid['subscription_plan'].replace('VIP',159)\n",
    "jobstar_paid['subscription_plan']=jobstar_paid['subscription_plan'].replace('Premium',359)"
   ]
  },
  {
   "cell_type": "code",
   "execution_count": 82,
   "id": "5995c28a-6fef-43f6-b73b-948eafa1800d",
   "metadata": {},
   "outputs": [],
   "source": [
    "jobstar_paid_nochange=jobstar_paid[jobstar_paid['plan_change_date']=='0']"
   ]
  },
  {
   "cell_type": "code",
   "execution_count": 83,
   "id": "e4699e61-f563-435e-9dfd-796a0279846b",
   "metadata": {},
   "outputs": [],
   "source": [
    "total_months_jobstar=11-jobstar_paid['subscription_date_month']"
   ]
  },
  {
   "cell_type": "code",
   "execution_count": 84,
   "id": "dd51b0c2-845c-4eab-94b0-33e1e2c3d88a",
   "metadata": {},
   "outputs": [
    {
     "data": {
      "text/plain": [
       "0        5\n",
       "3        6\n",
       "4        2\n",
       "6        0\n",
       "7        8\n",
       "        ..\n",
       "44612    2\n",
       "44613    9\n",
       "44616    6\n",
       "44617    2\n",
       "44618    1\n",
       "Name: subscription_date_month, Length: 32524, dtype: int32"
      ]
     },
     "execution_count": 84,
     "metadata": {},
     "output_type": "execute_result"
    }
   ],
   "source": [
    "total_months_jobstar"
   ]
  },
  {
   "cell_type": "code",
   "execution_count": 85,
   "id": "747809ef-1544-424c-9e27-5b6fae60207f",
   "metadata": {},
   "outputs": [],
   "source": [
    "jobstar_paid_nochange_revenue=total_months_jobstar*jobstar_paid_nochange['subscription_plan']"
   ]
  },
  {
   "cell_type": "code",
   "execution_count": 86,
   "id": "c11a8488-dc0b-474b-ab52-64f9337d3b04",
   "metadata": {},
   "outputs": [
    {
     "data": {
      "text/plain": [
       "32469106.0"
      ]
     },
     "execution_count": 86,
     "metadata": {},
     "output_type": "execute_result"
    }
   ],
   "source": [
    "jobstar_paid_nochange_revenue.sum()"
   ]
  },
  {
   "cell_type": "code",
   "execution_count": 87,
   "id": "a5789c7f-2d1b-47c9-870c-b1a16adb4c05",
   "metadata": {},
   "outputs": [],
   "source": [
    "jobstar_paid_downgrade=jobstar_paid[jobstar_paid['plan_change_date']!='0']"
   ]
  },
  {
   "cell_type": "code",
   "execution_count": 88,
   "id": "307e2b4d-4bb0-4ea1-ad6a-89e4f70ed115",
   "metadata": {},
   "outputs": [
    {
     "name": "stderr",
     "output_type": "stream",
     "text": [
      "C:\\Users\\user\\AppData\\Local\\Temp\\ipykernel_3888\\148650340.py:1: SettingWithCopyWarning: \n",
      "A value is trying to be set on a copy of a slice from a DataFrame.\n",
      "Try using .loc[row_indexer,col_indexer] = value instead\n",
      "\n",
      "See the caveats in the documentation: https://pandas.pydata.org/pandas-docs/stable/user_guide/indexing.html#returning-a-view-versus-a-copy\n",
      "  jobstar_paid_downgrade['new_subscription_plan']=jobstar_paid_downgrade['new_subscription_plan'].replace('VIP',159)\n",
      "C:\\Users\\user\\AppData\\Local\\Temp\\ipykernel_3888\\148650340.py:2: SettingWithCopyWarning: \n",
      "A value is trying to be set on a copy of a slice from a DataFrame.\n",
      "Try using .loc[row_indexer,col_indexer] = value instead\n",
      "\n",
      "See the caveats in the documentation: https://pandas.pydata.org/pandas-docs/stable/user_guide/indexing.html#returning-a-view-versus-a-copy\n",
      "  jobstar_paid_downgrade['new_subscription_plan']=jobstar_paid_downgrade['new_subscription_plan'].replace('Premium',359)\n",
      "C:\\Users\\user\\AppData\\Local\\Temp\\ipykernel_3888\\148650340.py:3: SettingWithCopyWarning: \n",
      "A value is trying to be set on a copy of a slice from a DataFrame.\n",
      "Try using .loc[row_indexer,col_indexer] = value instead\n",
      "\n",
      "See the caveats in the documentation: https://pandas.pydata.org/pandas-docs/stable/user_guide/indexing.html#returning-a-view-versus-a-copy\n",
      "  jobstar_paid_downgrade['new_subscription_plan']=jobstar_paid_downgrade['new_subscription_plan'].replace('Free',0)\n"
     ]
    }
   ],
   "source": [
    "jobstar_paid_downgrade['new_subscription_plan']=jobstar_paid_downgrade['new_subscription_plan'].replace('VIP',159)\n",
    "jobstar_paid_downgrade['new_subscription_plan']=jobstar_paid_downgrade['new_subscription_plan'].replace('Premium',359)\n",
    "jobstar_paid_downgrade['new_subscription_plan']=jobstar_paid_downgrade['new_subscription_plan'].replace('Free',0)"
   ]
  },
  {
   "cell_type": "code",
   "execution_count": 89,
   "id": "abc11068-2ded-44e0-ac90-e7425e94bb5a",
   "metadata": {},
   "outputs": [
    {
     "data": {
      "text/html": [
       "<div>\n",
       "<style scoped>\n",
       "    .dataframe tbody tr th:only-of-type {\n",
       "        vertical-align: middle;\n",
       "    }\n",
       "\n",
       "    .dataframe tbody tr th {\n",
       "        vertical-align: top;\n",
       "    }\n",
       "\n",
       "    .dataframe thead th {\n",
       "        text-align: right;\n",
       "    }\n",
       "</style>\n",
       "<table border=\"1\" class=\"dataframe\">\n",
       "  <thead>\n",
       "    <tr style=\"text-align: right;\">\n",
       "      <th></th>\n",
       "      <th>user_id</th>\n",
       "      <th>age_group</th>\n",
       "      <th>city_tier</th>\n",
       "      <th>subscription_date</th>\n",
       "      <th>subscription_plan</th>\n",
       "      <th>last_active_date</th>\n",
       "      <th>plan_change_date</th>\n",
       "      <th>new_subscription_plan</th>\n",
       "      <th>subscription_date_month</th>\n",
       "      <th>last_active_date_month</th>\n",
       "      <th>plan_change_date_month</th>\n",
       "    </tr>\n",
       "  </thead>\n",
       "  <tbody>\n",
       "    <tr>\n",
       "      <th>12</th>\n",
       "      <td>UIDJS000cd6a7fe8</td>\n",
       "      <td>25-34</td>\n",
       "      <td>Tier 1</td>\n",
       "      <td>2024-09-18</td>\n",
       "      <td>359</td>\n",
       "      <td>0</td>\n",
       "      <td>2024-12-18 00:00:00</td>\n",
       "      <td>159</td>\n",
       "      <td>9</td>\n",
       "      <td>0</td>\n",
       "      <td>12</td>\n",
       "    </tr>\n",
       "    <tr>\n",
       "      <th>19</th>\n",
       "      <td>UIDJS0019b04b32f</td>\n",
       "      <td>18-24</td>\n",
       "      <td>Tier 1</td>\n",
       "      <td>2024-02-11</td>\n",
       "      <td>159</td>\n",
       "      <td>0</td>\n",
       "      <td>2024-08-11 00:00:00</td>\n",
       "      <td>0</td>\n",
       "      <td>2</td>\n",
       "      <td>0</td>\n",
       "      <td>8</td>\n",
       "    </tr>\n",
       "    <tr>\n",
       "      <th>23</th>\n",
       "      <td>UIDJS001defd7e03</td>\n",
       "      <td>25-34</td>\n",
       "      <td>Tier 1</td>\n",
       "      <td>2024-01-18</td>\n",
       "      <td>159</td>\n",
       "      <td>0</td>\n",
       "      <td>2024-08-18 00:00:00</td>\n",
       "      <td>0</td>\n",
       "      <td>1</td>\n",
       "      <td>0</td>\n",
       "      <td>8</td>\n",
       "    </tr>\n",
       "    <tr>\n",
       "      <th>47</th>\n",
       "      <td>UIDJS003cb5a2cd7</td>\n",
       "      <td>35-44</td>\n",
       "      <td>Tier 1</td>\n",
       "      <td>2024-06-05</td>\n",
       "      <td>159</td>\n",
       "      <td>0</td>\n",
       "      <td>2024-10-05 00:00:00</td>\n",
       "      <td>0</td>\n",
       "      <td>6</td>\n",
       "      <td>0</td>\n",
       "      <td>10</td>\n",
       "    </tr>\n",
       "    <tr>\n",
       "      <th>58</th>\n",
       "      <td>UIDJS004c0eb4154</td>\n",
       "      <td>25-34</td>\n",
       "      <td>Tier 2</td>\n",
       "      <td>2024-02-26</td>\n",
       "      <td>159</td>\n",
       "      <td>0</td>\n",
       "      <td>2024-09-26 00:00:00</td>\n",
       "      <td>0</td>\n",
       "      <td>2</td>\n",
       "      <td>0</td>\n",
       "      <td>9</td>\n",
       "    </tr>\n",
       "  </tbody>\n",
       "</table>\n",
       "</div>"
      ],
      "text/plain": [
       "             user_id age_group city_tier subscription_date  subscription_plan  \\\n",
       "12  UIDJS000cd6a7fe8     25-34    Tier 1        2024-09-18                359   \n",
       "19  UIDJS0019b04b32f     18-24    Tier 1        2024-02-11                159   \n",
       "23  UIDJS001defd7e03     25-34    Tier 1        2024-01-18                159   \n",
       "47  UIDJS003cb5a2cd7     35-44    Tier 1        2024-06-05                159   \n",
       "58  UIDJS004c0eb4154     25-34    Tier 2        2024-02-26                159   \n",
       "\n",
       "   last_active_date     plan_change_date  new_subscription_plan  \\\n",
       "12                0  2024-12-18 00:00:00                    159   \n",
       "19                0  2024-08-11 00:00:00                      0   \n",
       "23                0  2024-08-18 00:00:00                      0   \n",
       "47                0  2024-10-05 00:00:00                      0   \n",
       "58                0  2024-09-26 00:00:00                      0   \n",
       "\n",
       "    subscription_date_month  last_active_date_month  plan_change_date_month  \n",
       "12                        9                       0                      12  \n",
       "19                        2                       0                       8  \n",
       "23                        1                       0                       8  \n",
       "47                        6                       0                      10  \n",
       "58                        2                       0                       9  "
      ]
     },
     "execution_count": 89,
     "metadata": {},
     "output_type": "execute_result"
    }
   ],
   "source": [
    "jobstar_paid_downgrade.head(5)"
   ]
  },
  {
   "cell_type": "code",
   "execution_count": null,
   "id": "b5f0386e-cf2d-4f75-b416-89c330a8e859",
   "metadata": {},
   "outputs": [],
   "source": []
  },
  {
   "cell_type": "code",
   "execution_count": null,
   "id": "ce72f331-8dd6-4656-96cd-1df0b9fdbb2f",
   "metadata": {},
   "outputs": [],
   "source": []
  },
  {
   "cell_type": "code",
   "execution_count": 90,
   "id": "b691a0b0-7555-4f76-9120-ec041b8ecfc4",
   "metadata": {},
   "outputs": [],
   "source": [
    "plan_change_date_month_jobstar=jobstar_paid_downgrade[jobstar_paid_downgrade['plan_change_date_month']<12]"
   ]
  },
  {
   "cell_type": "code",
   "execution_count": 91,
   "id": "1bc390f6-a8a2-477c-96a3-6ea9e046d4de",
   "metadata": {},
   "outputs": [
    {
     "data": {
      "text/html": [
       "<div>\n",
       "<style scoped>\n",
       "    .dataframe tbody tr th:only-of-type {\n",
       "        vertical-align: middle;\n",
       "    }\n",
       "\n",
       "    .dataframe tbody tr th {\n",
       "        vertical-align: top;\n",
       "    }\n",
       "\n",
       "    .dataframe thead th {\n",
       "        text-align: right;\n",
       "    }\n",
       "</style>\n",
       "<table border=\"1\" class=\"dataframe\">\n",
       "  <thead>\n",
       "    <tr style=\"text-align: right;\">\n",
       "      <th></th>\n",
       "      <th>user_id</th>\n",
       "      <th>age_group</th>\n",
       "      <th>city_tier</th>\n",
       "      <th>subscription_date</th>\n",
       "      <th>subscription_plan</th>\n",
       "      <th>last_active_date</th>\n",
       "      <th>plan_change_date</th>\n",
       "      <th>new_subscription_plan</th>\n",
       "      <th>subscription_date_month</th>\n",
       "      <th>last_active_date_month</th>\n",
       "      <th>plan_change_date_month</th>\n",
       "    </tr>\n",
       "  </thead>\n",
       "  <tbody>\n",
       "    <tr>\n",
       "      <th>19</th>\n",
       "      <td>UIDJS0019b04b32f</td>\n",
       "      <td>18-24</td>\n",
       "      <td>Tier 1</td>\n",
       "      <td>2024-02-11</td>\n",
       "      <td>159</td>\n",
       "      <td>0</td>\n",
       "      <td>2024-08-11 00:00:00</td>\n",
       "      <td>0</td>\n",
       "      <td>2</td>\n",
       "      <td>0</td>\n",
       "      <td>8</td>\n",
       "    </tr>\n",
       "    <tr>\n",
       "      <th>23</th>\n",
       "      <td>UIDJS001defd7e03</td>\n",
       "      <td>25-34</td>\n",
       "      <td>Tier 1</td>\n",
       "      <td>2024-01-18</td>\n",
       "      <td>159</td>\n",
       "      <td>0</td>\n",
       "      <td>2024-08-18 00:00:00</td>\n",
       "      <td>0</td>\n",
       "      <td>1</td>\n",
       "      <td>0</td>\n",
       "      <td>8</td>\n",
       "    </tr>\n",
       "    <tr>\n",
       "      <th>47</th>\n",
       "      <td>UIDJS003cb5a2cd7</td>\n",
       "      <td>35-44</td>\n",
       "      <td>Tier 1</td>\n",
       "      <td>2024-06-05</td>\n",
       "      <td>159</td>\n",
       "      <td>0</td>\n",
       "      <td>2024-10-05 00:00:00</td>\n",
       "      <td>0</td>\n",
       "      <td>6</td>\n",
       "      <td>0</td>\n",
       "      <td>10</td>\n",
       "    </tr>\n",
       "    <tr>\n",
       "      <th>58</th>\n",
       "      <td>UIDJS004c0eb4154</td>\n",
       "      <td>25-34</td>\n",
       "      <td>Tier 2</td>\n",
       "      <td>2024-02-26</td>\n",
       "      <td>159</td>\n",
       "      <td>0</td>\n",
       "      <td>2024-09-26 00:00:00</td>\n",
       "      <td>0</td>\n",
       "      <td>2</td>\n",
       "      <td>0</td>\n",
       "      <td>9</td>\n",
       "    </tr>\n",
       "    <tr>\n",
       "      <th>59</th>\n",
       "      <td>UIDJS004d1ca89e3</td>\n",
       "      <td>18-24</td>\n",
       "      <td>Tier 1</td>\n",
       "      <td>2024-03-31</td>\n",
       "      <td>159</td>\n",
       "      <td>0</td>\n",
       "      <td>2024-08-31 00:00:00</td>\n",
       "      <td>0</td>\n",
       "      <td>3</td>\n",
       "      <td>0</td>\n",
       "      <td>8</td>\n",
       "    </tr>\n",
       "  </tbody>\n",
       "</table>\n",
       "</div>"
      ],
      "text/plain": [
       "             user_id age_group city_tier subscription_date  subscription_plan  \\\n",
       "19  UIDJS0019b04b32f     18-24    Tier 1        2024-02-11                159   \n",
       "23  UIDJS001defd7e03     25-34    Tier 1        2024-01-18                159   \n",
       "47  UIDJS003cb5a2cd7     35-44    Tier 1        2024-06-05                159   \n",
       "58  UIDJS004c0eb4154     25-34    Tier 2        2024-02-26                159   \n",
       "59  UIDJS004d1ca89e3     18-24    Tier 1        2024-03-31                159   \n",
       "\n",
       "   last_active_date     plan_change_date  new_subscription_plan  \\\n",
       "19                0  2024-08-11 00:00:00                      0   \n",
       "23                0  2024-08-18 00:00:00                      0   \n",
       "47                0  2024-10-05 00:00:00                      0   \n",
       "58                0  2024-09-26 00:00:00                      0   \n",
       "59                0  2024-08-31 00:00:00                      0   \n",
       "\n",
       "    subscription_date_month  last_active_date_month  plan_change_date_month  \n",
       "19                        2                       0                       8  \n",
       "23                        1                       0                       8  \n",
       "47                        6                       0                      10  \n",
       "58                        2                       0                       9  \n",
       "59                        3                       0                       8  "
      ]
     },
     "execution_count": 91,
     "metadata": {},
     "output_type": "execute_result"
    }
   ],
   "source": [
    "plan_change_date_month_jobstar.head(5)"
   ]
  },
  {
   "cell_type": "code",
   "execution_count": 92,
   "id": "4ac1a8ae-18ba-4f69-aaba-8ba31fefa928",
   "metadata": {},
   "outputs": [],
   "source": [
    "plan_change_total_months_jobstar=11-plan_change_date_month_jobstar['plan_change_date_month']"
   ]
  },
  {
   "cell_type": "code",
   "execution_count": 93,
   "id": "947ec3c7-2e9a-4dfd-85d1-5d3d5afd5e67",
   "metadata": {},
   "outputs": [
    {
     "data": {
      "text/plain": [
       "19       3\n",
       "23       3\n",
       "47       1\n",
       "58       2\n",
       "59       3\n",
       "        ..\n",
       "44598    3\n",
       "44600    3\n",
       "44601    3\n",
       "44602    6\n",
       "44613    6\n",
       "Name: plan_change_date_month, Length: 4709, dtype: int32"
      ]
     },
     "execution_count": 93,
     "metadata": {},
     "output_type": "execute_result"
    }
   ],
   "source": [
    "plan_change_total_months_jobstar"
   ]
  },
  {
   "cell_type": "code",
   "execution_count": 94,
   "id": "83860e55-464e-42a6-8735-e6c032deb3db",
   "metadata": {},
   "outputs": [],
   "source": [
    "jobstar_paid_downgrade_revenue=plan_change_total_months_jobstar*jobstar_paid_downgrade['new_subscription_plan']"
   ]
  },
  {
   "cell_type": "code",
   "execution_count": 95,
   "id": "408726cb-a1e1-4b1c-a742-9c5434272089",
   "metadata": {},
   "outputs": [
    {
     "data": {
      "text/plain": [
       "4190779.0"
      ]
     },
     "execution_count": 95,
     "metadata": {},
     "output_type": "execute_result"
    }
   ],
   "source": [
    "jobstar_paid_downgrade_revenue.sum()"
   ]
  },
  {
   "cell_type": "code",
   "execution_count": null,
   "id": "2d9d429e-7e88-4e83-a48d-d680db7cef3c",
   "metadata": {},
   "outputs": [],
   "source": []
  },
  {
   "cell_type": "code",
   "execution_count": 96,
   "id": "c9546c27-8d7e-4ded-ae84-624ca57e4997",
   "metadata": {},
   "outputs": [],
   "source": [
    "jobstar_total_revenue=jobstar_paid_nochange_revenue.sum()+free_to_upgrade_revenue_jobstar.sum()-jobstar_paid_downgrade_revenue.sum()"
   ]
  },
  {
   "cell_type": "code",
   "execution_count": 97,
   "id": "ae6258ea-7109-4e52-88ff-2f031488dc8e",
   "metadata": {},
   "outputs": [
    {
     "data": {
      "text/plain": [
       "29749280.0"
      ]
     },
     "execution_count": 97,
     "metadata": {},
     "output_type": "execute_result"
    }
   ],
   "source": [
    "jobstar_total_revenue"
   ]
  },
  {
   "cell_type": "code",
   "execution_count": null,
   "id": "3f01f7ae-489f-4070-b7c7-486edb88971c",
   "metadata": {},
   "outputs": [],
   "source": []
  },
  {
   "cell_type": "code",
   "execution_count": null,
   "id": "52295806-7a78-4d31-8b5b-0fe758f747cc",
   "metadata": {},
   "outputs": [],
   "source": []
  },
  {
   "cell_type": "code",
   "execution_count": null,
   "id": "d817caaa-3b93-4fe6-9947-94cec0f967fc",
   "metadata": {},
   "outputs": [],
   "source": []
  },
  {
   "cell_type": "code",
   "execution_count": null,
   "id": "73672722-0fde-42a9-b93a-8f178032c580",
   "metadata": {},
   "outputs": [],
   "source": []
  },
  {
   "cell_type": "code",
   "execution_count": null,
   "id": "05f84ef9-373f-4d05-a652-ae098049758a",
   "metadata": {},
   "outputs": [],
   "source": []
  },
  {
   "cell_type": "code",
   "execution_count": null,
   "id": "3e93ab00-c0f4-476e-9e8c-ae356ba98e33",
   "metadata": {},
   "outputs": [],
   "source": []
  }
 ],
 "metadata": {
  "kernelspec": {
   "display_name": "Python 3 (ipykernel)",
   "language": "python",
   "name": "python3"
  },
  "language_info": {
   "codemirror_mode": {
    "name": "ipython",
    "version": 3
   },
   "file_extension": ".py",
   "mimetype": "text/x-python",
   "name": "python",
   "nbconvert_exporter": "python",
   "pygments_lexer": "ipython3",
   "version": "3.12.0"
  }
 },
 "nbformat": 4,
 "nbformat_minor": 5
}
