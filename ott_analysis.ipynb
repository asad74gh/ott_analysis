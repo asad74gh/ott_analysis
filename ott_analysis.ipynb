{
 "cells": [
  {
   "cell_type": "code",
   "execution_count": 1,
   "id": "c52442b0-60f2-4c2d-a671-a5e614e3bd16",
   "metadata": {},
   "outputs": [],
   "source": [
    "import pandas as pd\n",
    "import matplotlib.pyplot as plt\n",
    "import seaborn as sns"
   ]
  },
  {
   "cell_type": "code",
   "execution_count": 2,
   "id": "b92b0c66-5a10-40d2-82c1-bb778cdabbe4",
   "metadata": {},
   "outputs": [],
   "source": [
    "df_liocinema_subscr=pd.read_csv(r\"C:\\Users\\user\\Downloads\\Input_files\\RPC14_Input_For_Participants\\datasets\\liocinema_subscr.csv\")\n",
    "df_Jobstar_subscr=pd.read_csv(r\"C:\\Users\\user\\Downloads\\Input_files\\RPC14_Input_For_Participants\\datasets\\Jobstar_subscr.csv\")\n",
    "\n",
    "df_liocinema_content=pd.read_csv(r\"C:\\Users\\user\\Downloads\\Input_files\\RPC14_Input_For_Participants\\datasets\\liocinema_content.csv\")\n",
    "df_jobstar_content=pd.read_csv(r\"C:\\Users\\user\\Downloads\\Input_files\\RPC14_Input_For_Participants\\datasets\\jobstar_content.csv\")\n",
    "\n",
    "df_liocinema_content_consumption=pd.read_csv(r\"C:\\Users\\user\\Downloads\\Input_files\\RPC14_Input_For_Participants\\datasets\\liocinema_content_consumption.csv\")\n",
    "df_jobstar_content_consumption=pd.read_csv(r\"C:\\Users\\user\\Downloads\\Input_files\\RPC14_Input_For_Participants\\datasets\\jobstar_content_consumption.csv\")"
   ]
  },
  {
   "cell_type": "code",
   "execution_count": 3,
   "id": "cac127bd-babb-4637-8298-ce0c75fb446b",
   "metadata": {},
   "outputs": [
    {
     "data": {
      "text/html": [
       "<div>\n",
       "<style scoped>\n",
       "    .dataframe tbody tr th:only-of-type {\n",
       "        vertical-align: middle;\n",
       "    }\n",
       "\n",
       "    .dataframe tbody tr th {\n",
       "        vertical-align: top;\n",
       "    }\n",
       "\n",
       "    .dataframe thead th {\n",
       "        text-align: right;\n",
       "    }\n",
       "</style>\n",
       "<table border=\"1\" class=\"dataframe\">\n",
       "  <thead>\n",
       "    <tr style=\"text-align: right;\">\n",
       "      <th></th>\n",
       "      <th>user_id</th>\n",
       "      <th>age_group</th>\n",
       "      <th>city_tier</th>\n",
       "      <th>subscription_date</th>\n",
       "      <th>subscription_plan</th>\n",
       "      <th>last_active_date</th>\n",
       "      <th>plan_change_date</th>\n",
       "      <th>new_subscription_plan</th>\n",
       "    </tr>\n",
       "  </thead>\n",
       "  <tbody>\n",
       "    <tr>\n",
       "      <th>0</th>\n",
       "      <td>UIDLC00000bea68a</td>\n",
       "      <td>25-34</td>\n",
       "      <td>Tier 3</td>\n",
       "      <td>2024-10-24</td>\n",
       "      <td>Free</td>\n",
       "      <td>NaN</td>\n",
       "      <td>NaN</td>\n",
       "      <td>NaN</td>\n",
       "    </tr>\n",
       "    <tr>\n",
       "      <th>1</th>\n",
       "      <td>UIDLC00009202848</td>\n",
       "      <td>18-24</td>\n",
       "      <td>Tier 1</td>\n",
       "      <td>2024-09-18</td>\n",
       "      <td>Basic</td>\n",
       "      <td>NaN</td>\n",
       "      <td>NaN</td>\n",
       "      <td>NaN</td>\n",
       "    </tr>\n",
       "  </tbody>\n",
       "</table>\n",
       "</div>"
      ],
      "text/plain": [
       "            user_id age_group city_tier subscription_date subscription_plan  \\\n",
       "0  UIDLC00000bea68a     25-34    Tier 3        2024-10-24              Free   \n",
       "1  UIDLC00009202848     18-24    Tier 1        2024-09-18             Basic   \n",
       "\n",
       "  last_active_date plan_change_date new_subscription_plan  \n",
       "0              NaN              NaN                   NaN  \n",
       "1              NaN              NaN                   NaN  "
      ]
     },
     "execution_count": 3,
     "metadata": {},
     "output_type": "execute_result"
    }
   ],
   "source": [
    "df_liocinema_subscr.head(2)"
   ]
  },
  {
   "cell_type": "code",
   "execution_count": 4,
   "id": "4b1acfec-e1eb-4cdb-b221-e68d9d448cd1",
   "metadata": {},
   "outputs": [
    {
     "data": {
      "text/html": [
       "<div>\n",
       "<style scoped>\n",
       "    .dataframe tbody tr th:only-of-type {\n",
       "        vertical-align: middle;\n",
       "    }\n",
       "\n",
       "    .dataframe tbody tr th {\n",
       "        vertical-align: top;\n",
       "    }\n",
       "\n",
       "    .dataframe thead th {\n",
       "        text-align: right;\n",
       "    }\n",
       "</style>\n",
       "<table border=\"1\" class=\"dataframe\">\n",
       "  <thead>\n",
       "    <tr style=\"text-align: right;\">\n",
       "      <th></th>\n",
       "      <th>user_id</th>\n",
       "      <th>age_group</th>\n",
       "      <th>city_tier</th>\n",
       "      <th>subscription_date</th>\n",
       "      <th>subscription_plan</th>\n",
       "      <th>last_active_date</th>\n",
       "      <th>plan_change_date</th>\n",
       "      <th>new_subscription_plan</th>\n",
       "    </tr>\n",
       "  </thead>\n",
       "  <tbody>\n",
       "    <tr>\n",
       "      <th>0</th>\n",
       "      <td>UIDJS0000751588f</td>\n",
       "      <td>18-24</td>\n",
       "      <td>Tier 1</td>\n",
       "      <td>2024-06-10</td>\n",
       "      <td>Premium</td>\n",
       "      <td>NaN</td>\n",
       "      <td>NaN</td>\n",
       "      <td>NaN</td>\n",
       "    </tr>\n",
       "    <tr>\n",
       "      <th>1</th>\n",
       "      <td>UIDJS000093eeb86</td>\n",
       "      <td>18-24</td>\n",
       "      <td>Tier 1</td>\n",
       "      <td>2024-11-09</td>\n",
       "      <td>Free</td>\n",
       "      <td>NaN</td>\n",
       "      <td>NaN</td>\n",
       "      <td>NaN</td>\n",
       "    </tr>\n",
       "  </tbody>\n",
       "</table>\n",
       "</div>"
      ],
      "text/plain": [
       "            user_id age_group city_tier subscription_date subscription_plan  \\\n",
       "0  UIDJS0000751588f     18-24    Tier 1        2024-06-10           Premium   \n",
       "1  UIDJS000093eeb86     18-24    Tier 1        2024-11-09              Free   \n",
       "\n",
       "  last_active_date plan_change_date new_subscription_plan  \n",
       "0              NaN              NaN                   NaN  \n",
       "1              NaN              NaN                   NaN  "
      ]
     },
     "execution_count": 4,
     "metadata": {},
     "output_type": "execute_result"
    }
   ],
   "source": [
    "df_Jobstar_subscr.head(2)"
   ]
  },
  {
   "cell_type": "code",
   "execution_count": null,
   "id": "c9e71a2c-d5b2-4585-aa39-d0867630bdd0",
   "metadata": {},
   "outputs": [],
   "source": []
  },
  {
   "cell_type": "markdown",
   "id": "88261511-3fe5-424d-be54-21884f3bf24e",
   "metadata": {},
   "source": [
    "1-- What is the total number of users for LioCinema and Jotstar"
   ]
  },
  {
   "cell_type": "code",
   "execution_count": 5,
   "id": "f3caa767-12a2-4e6a-8aad-7164da98a9c3",
   "metadata": {},
   "outputs": [
    {
     "data": {
      "text/plain": [
       "183446"
      ]
     },
     "execution_count": 5,
     "metadata": {},
     "output_type": "execute_result"
    }
   ],
   "source": [
    "df_liocinema_subscr['user_id'].count()"
   ]
  },
  {
   "cell_type": "code",
   "execution_count": 6,
   "id": "23c3e51c-6b37-40f7-b138-295081afaae0",
   "metadata": {},
   "outputs": [
    {
     "data": {
      "text/plain": [
       "44620"
      ]
     },
     "execution_count": 6,
     "metadata": {},
     "output_type": "execute_result"
    }
   ],
   "source": [
    "df_Jobstar_subscr['user_id'].count()"
   ]
  },
  {
   "cell_type": "code",
   "execution_count": null,
   "id": "eaa535ef-7eaf-40c3-be62-eaa42074dc9e",
   "metadata": {},
   "outputs": [],
   "source": []
  },
  {
   "cell_type": "markdown",
   "id": "2467e286-463c-4ecf-84a6-1d66ceae8f8b",
   "metadata": {},
   "source": [
    "2--how do they \n",
    "compare in terms of growth trends (January–November 2024)"
   ]
  },
  {
   "cell_type": "code",
   "execution_count": 7,
   "id": "06013183-cef7-4076-88d0-a8544e8cbf4a",
   "metadata": {},
   "outputs": [],
   "source": [
    "df_liocinema_subscr['subscription_date']=pd.to_datetime(df_liocinema_subscr['subscription_date'])\n",
    "\n",
    "df_liocinema_subscr['plan_change_date']=pd.to_datetime(df_liocinema_subscr['plan_change_date'])\n"
   ]
  },
  {
   "cell_type": "code",
   "execution_count": 8,
   "id": "55d411ca-8132-4cbc-b9b3-59ba9036d4a1",
   "metadata": {},
   "outputs": [],
   "source": [
    "df_liocinema_subscr['last_active_date']=pd.to_datetime(df_liocinema_subscr['last_active_date'])"
   ]
  },
  {
   "cell_type": "code",
   "execution_count": 9,
   "id": "71b2d2c5-5364-480f-b4e4-d0f20eae7d85",
   "metadata": {},
   "outputs": [],
   "source": [
    "df_liocinema_subscr['subscription_date_month']=(df_liocinema_subscr['subscription_date']).dt.month\n",
    "df_liocinema_subscr['plan_change_date_month']=(df_liocinema_subscr['plan_change_date']).dt.month\n",
    "df_liocinema_subscr['last_active_date_month']=(df_liocinema_subscr['last_active_date']).dt.month"
   ]
  },
  {
   "cell_type": "code",
   "execution_count": null,
   "id": "b33e0920-4ada-4b46-bfbc-5f98d49cfadc",
   "metadata": {},
   "outputs": [],
   "source": []
  },
  {
   "cell_type": "code",
   "execution_count": null,
   "id": "b6597660-a7f9-41a2-9206-26f056480613",
   "metadata": {},
   "outputs": [],
   "source": []
  },
  {
   "cell_type": "code",
   "execution_count": null,
   "id": "71018675-eccd-4f8a-bdc5-530d4a389a3c",
   "metadata": {},
   "outputs": [],
   "source": []
  },
  {
   "cell_type": "code",
   "execution_count": null,
   "id": "0cf6e237-2be5-4db9-93b3-d753e2d1fd07",
   "metadata": {},
   "outputs": [],
   "source": []
  },
  {
   "cell_type": "code",
   "execution_count": null,
   "id": "97850a9a-9230-40fe-9472-1bdf8bb72365",
   "metadata": {},
   "outputs": [],
   "source": []
  },
  {
   "cell_type": "code",
   "execution_count": 10,
   "id": "1f1d81ec-9f1d-47d5-a357-cfe26f4f2912",
   "metadata": {},
   "outputs": [],
   "source": [
    "df_Jobstar_subscr['subscription_date']=pd.to_datetime(df_Jobstar_subscr['subscription_date'])"
   ]
  },
  {
   "cell_type": "code",
   "execution_count": 11,
   "id": "0bbfff72-8698-4bab-b867-6a82644bfc9b",
   "metadata": {},
   "outputs": [],
   "source": [
    "df_Jobstar_subscr['plan_change_date']=pd.to_datetime(df_Jobstar_subscr['plan_change_date'])"
   ]
  },
  {
   "cell_type": "code",
   "execution_count": 12,
   "id": "1f371f20-9820-4009-b10c-6fac779cdd23",
   "metadata": {},
   "outputs": [],
   "source": [
    "df_Jobstar_subscr['last_active_date']=pd.to_datetime(df_Jobstar_subscr['last_active_date'])"
   ]
  },
  {
   "cell_type": "code",
   "execution_count": null,
   "id": "3fe27e5e-17c3-4bd0-a874-21478b794c2b",
   "metadata": {},
   "outputs": [],
   "source": []
  },
  {
   "cell_type": "code",
   "execution_count": 13,
   "id": "a27edba1-e6bf-47b4-a0e4-cd66cd32808a",
   "metadata": {},
   "outputs": [],
   "source": [
    "df_Jobstar_subscr['subscription_date_month']=(df_Jobstar_subscr['subscription_date']).dt.month\n",
    "df_Jobstar_subscr['plan_change_date_month']=(df_Jobstar_subscr['plan_change_date']).dt.month\n",
    "df_Jobstar_subscr['last_active_date_month']=(df_Jobstar_subscr['last_active_date']).dt.month"
   ]
  },
  {
   "cell_type": "code",
   "execution_count": 14,
   "id": "a3dd9234-8048-416c-a3a5-4a803ac971f0",
   "metadata": {},
   "outputs": [
    {
     "data": {
      "text/html": [
       "<div>\n",
       "<style scoped>\n",
       "    .dataframe tbody tr th:only-of-type {\n",
       "        vertical-align: middle;\n",
       "    }\n",
       "\n",
       "    .dataframe tbody tr th {\n",
       "        vertical-align: top;\n",
       "    }\n",
       "\n",
       "    .dataframe thead th {\n",
       "        text-align: right;\n",
       "    }\n",
       "</style>\n",
       "<table border=\"1\" class=\"dataframe\">\n",
       "  <thead>\n",
       "    <tr style=\"text-align: right;\">\n",
       "      <th></th>\n",
       "      <th>user_id</th>\n",
       "      <th>age_group</th>\n",
       "      <th>city_tier</th>\n",
       "      <th>subscription_date</th>\n",
       "      <th>subscription_plan</th>\n",
       "      <th>last_active_date</th>\n",
       "      <th>plan_change_date</th>\n",
       "      <th>new_subscription_plan</th>\n",
       "      <th>subscription_date_month</th>\n",
       "      <th>plan_change_date_month</th>\n",
       "      <th>last_active_date_month</th>\n",
       "    </tr>\n",
       "  </thead>\n",
       "  <tbody>\n",
       "    <tr>\n",
       "      <th>0</th>\n",
       "      <td>UIDJS0000751588f</td>\n",
       "      <td>18-24</td>\n",
       "      <td>Tier 1</td>\n",
       "      <td>2024-06-10</td>\n",
       "      <td>Premium</td>\n",
       "      <td>NaT</td>\n",
       "      <td>NaT</td>\n",
       "      <td>NaN</td>\n",
       "      <td>6</td>\n",
       "      <td>NaN</td>\n",
       "      <td>NaN</td>\n",
       "    </tr>\n",
       "    <tr>\n",
       "      <th>1</th>\n",
       "      <td>UIDJS000093eeb86</td>\n",
       "      <td>18-24</td>\n",
       "      <td>Tier 1</td>\n",
       "      <td>2024-11-09</td>\n",
       "      <td>Free</td>\n",
       "      <td>NaT</td>\n",
       "      <td>NaT</td>\n",
       "      <td>NaN</td>\n",
       "      <td>11</td>\n",
       "      <td>NaN</td>\n",
       "      <td>NaN</td>\n",
       "    </tr>\n",
       "    <tr>\n",
       "      <th>2</th>\n",
       "      <td>UIDJS00010d7fa1e</td>\n",
       "      <td>25-34</td>\n",
       "      <td>Tier 1</td>\n",
       "      <td>2024-08-08</td>\n",
       "      <td>Free</td>\n",
       "      <td>NaT</td>\n",
       "      <td>NaT</td>\n",
       "      <td>NaN</td>\n",
       "      <td>8</td>\n",
       "      <td>NaN</td>\n",
       "      <td>NaN</td>\n",
       "    </tr>\n",
       "    <tr>\n",
       "      <th>3</th>\n",
       "      <td>UIDJS00013411a85</td>\n",
       "      <td>35-44</td>\n",
       "      <td>Tier 2</td>\n",
       "      <td>2024-05-31</td>\n",
       "      <td>VIP</td>\n",
       "      <td>NaT</td>\n",
       "      <td>NaT</td>\n",
       "      <td>NaN</td>\n",
       "      <td>5</td>\n",
       "      <td>NaN</td>\n",
       "      <td>NaN</td>\n",
       "    </tr>\n",
       "    <tr>\n",
       "      <th>4</th>\n",
       "      <td>UIDJS0003a3f54cf</td>\n",
       "      <td>35-44</td>\n",
       "      <td>Tier 1</td>\n",
       "      <td>2024-09-20</td>\n",
       "      <td>Premium</td>\n",
       "      <td>NaT</td>\n",
       "      <td>NaT</td>\n",
       "      <td>NaN</td>\n",
       "      <td>9</td>\n",
       "      <td>NaN</td>\n",
       "      <td>NaN</td>\n",
       "    </tr>\n",
       "    <tr>\n",
       "      <th>...</th>\n",
       "      <td>...</td>\n",
       "      <td>...</td>\n",
       "      <td>...</td>\n",
       "      <td>...</td>\n",
       "      <td>...</td>\n",
       "      <td>...</td>\n",
       "      <td>...</td>\n",
       "      <td>...</td>\n",
       "      <td>...</td>\n",
       "      <td>...</td>\n",
       "      <td>...</td>\n",
       "    </tr>\n",
       "    <tr>\n",
       "      <th>44615</th>\n",
       "      <td>UIDJSfffbb38249e</td>\n",
       "      <td>25-34</td>\n",
       "      <td>Tier 2</td>\n",
       "      <td>2024-11-12</td>\n",
       "      <td>Free</td>\n",
       "      <td>NaT</td>\n",
       "      <td>NaT</td>\n",
       "      <td>NaN</td>\n",
       "      <td>11</td>\n",
       "      <td>NaN</td>\n",
       "      <td>NaN</td>\n",
       "    </tr>\n",
       "    <tr>\n",
       "      <th>44616</th>\n",
       "      <td>UIDJSfffbd759005</td>\n",
       "      <td>45+</td>\n",
       "      <td>Tier 1</td>\n",
       "      <td>2024-05-21</td>\n",
       "      <td>VIP</td>\n",
       "      <td>NaT</td>\n",
       "      <td>NaT</td>\n",
       "      <td>NaN</td>\n",
       "      <td>5</td>\n",
       "      <td>NaN</td>\n",
       "      <td>NaN</td>\n",
       "    </tr>\n",
       "    <tr>\n",
       "      <th>44617</th>\n",
       "      <td>UIDJSfffebd3002b</td>\n",
       "      <td>25-34</td>\n",
       "      <td>Tier 1</td>\n",
       "      <td>2024-09-27</td>\n",
       "      <td>VIP</td>\n",
       "      <td>2024-10-29</td>\n",
       "      <td>NaT</td>\n",
       "      <td>NaN</td>\n",
       "      <td>9</td>\n",
       "      <td>NaN</td>\n",
       "      <td>10.0</td>\n",
       "    </tr>\n",
       "    <tr>\n",
       "      <th>44618</th>\n",
       "      <td>UIDJSffff6698084</td>\n",
       "      <td>35-44</td>\n",
       "      <td>Tier 3</td>\n",
       "      <td>2024-10-12</td>\n",
       "      <td>VIP</td>\n",
       "      <td>NaT</td>\n",
       "      <td>NaT</td>\n",
       "      <td>NaN</td>\n",
       "      <td>10</td>\n",
       "      <td>NaN</td>\n",
       "      <td>NaN</td>\n",
       "    </tr>\n",
       "    <tr>\n",
       "      <th>44619</th>\n",
       "      <td>UIDJSffffe298c56</td>\n",
       "      <td>25-34</td>\n",
       "      <td>Tier 2</td>\n",
       "      <td>2024-09-10</td>\n",
       "      <td>Free</td>\n",
       "      <td>NaT</td>\n",
       "      <td>NaT</td>\n",
       "      <td>NaN</td>\n",
       "      <td>9</td>\n",
       "      <td>NaN</td>\n",
       "      <td>NaN</td>\n",
       "    </tr>\n",
       "  </tbody>\n",
       "</table>\n",
       "<p>44620 rows × 11 columns</p>\n",
       "</div>"
      ],
      "text/plain": [
       "                user_id age_group city_tier subscription_date  \\\n",
       "0      UIDJS0000751588f     18-24    Tier 1        2024-06-10   \n",
       "1      UIDJS000093eeb86     18-24    Tier 1        2024-11-09   \n",
       "2      UIDJS00010d7fa1e     25-34    Tier 1        2024-08-08   \n",
       "3      UIDJS00013411a85     35-44    Tier 2        2024-05-31   \n",
       "4      UIDJS0003a3f54cf     35-44    Tier 1        2024-09-20   \n",
       "...                 ...       ...       ...               ...   \n",
       "44615  UIDJSfffbb38249e     25-34    Tier 2        2024-11-12   \n",
       "44616  UIDJSfffbd759005       45+    Tier 1        2024-05-21   \n",
       "44617  UIDJSfffebd3002b     25-34    Tier 1        2024-09-27   \n",
       "44618  UIDJSffff6698084     35-44    Tier 3        2024-10-12   \n",
       "44619  UIDJSffffe298c56     25-34    Tier 2        2024-09-10   \n",
       "\n",
       "      subscription_plan last_active_date plan_change_date  \\\n",
       "0               Premium              NaT              NaT   \n",
       "1                  Free              NaT              NaT   \n",
       "2                  Free              NaT              NaT   \n",
       "3                   VIP              NaT              NaT   \n",
       "4               Premium              NaT              NaT   \n",
       "...                 ...              ...              ...   \n",
       "44615              Free              NaT              NaT   \n",
       "44616               VIP              NaT              NaT   \n",
       "44617               VIP       2024-10-29              NaT   \n",
       "44618               VIP              NaT              NaT   \n",
       "44619              Free              NaT              NaT   \n",
       "\n",
       "      new_subscription_plan  subscription_date_month  plan_change_date_month  \\\n",
       "0                       NaN                        6                     NaN   \n",
       "1                       NaN                       11                     NaN   \n",
       "2                       NaN                        8                     NaN   \n",
       "3                       NaN                        5                     NaN   \n",
       "4                       NaN                        9                     NaN   \n",
       "...                     ...                      ...                     ...   \n",
       "44615                   NaN                       11                     NaN   \n",
       "44616                   NaN                        5                     NaN   \n",
       "44617                   NaN                        9                     NaN   \n",
       "44618                   NaN                       10                     NaN   \n",
       "44619                   NaN                        9                     NaN   \n",
       "\n",
       "       last_active_date_month  \n",
       "0                         NaN  \n",
       "1                         NaN  \n",
       "2                         NaN  \n",
       "3                         NaN  \n",
       "4                         NaN  \n",
       "...                       ...  \n",
       "44615                     NaN  \n",
       "44616                     NaN  \n",
       "44617                    10.0  \n",
       "44618                     NaN  \n",
       "44619                     NaN  \n",
       "\n",
       "[44620 rows x 11 columns]"
      ]
     },
     "execution_count": 14,
     "metadata": {},
     "output_type": "execute_result"
    }
   ],
   "source": [
    "df_Jobstar_subscr"
   ]
  },
  {
   "cell_type": "code",
   "execution_count": null,
   "id": "37f62598-1c54-48e7-a809-4d0240b20d0b",
   "metadata": {},
   "outputs": [],
   "source": []
  },
  {
   "cell_type": "code",
   "execution_count": null,
   "id": "9d9045e7-4245-47d7-a20a-6fc3cd7622e9",
   "metadata": {},
   "outputs": [],
   "source": []
  },
  {
   "cell_type": "code",
   "execution_count": 15,
   "id": "b4c0e533-61ad-4298-a7a6-e491821d8b45",
   "metadata": {},
   "outputs": [
    {
     "data": {
      "text/html": [
       "<div>\n",
       "<style scoped>\n",
       "    .dataframe tbody tr th:only-of-type {\n",
       "        vertical-align: middle;\n",
       "    }\n",
       "\n",
       "    .dataframe tbody tr th {\n",
       "        vertical-align: top;\n",
       "    }\n",
       "\n",
       "    .dataframe thead th {\n",
       "        text-align: right;\n",
       "    }\n",
       "</style>\n",
       "<table border=\"1\" class=\"dataframe\">\n",
       "  <thead>\n",
       "    <tr style=\"text-align: right;\">\n",
       "      <th></th>\n",
       "      <th>user_id</th>\n",
       "      <th>age_group</th>\n",
       "      <th>city_tier</th>\n",
       "      <th>subscription_date</th>\n",
       "      <th>subscription_plan</th>\n",
       "      <th>last_active_date</th>\n",
       "      <th>plan_change_date</th>\n",
       "      <th>new_subscription_plan</th>\n",
       "      <th>subscription_date_month</th>\n",
       "      <th>plan_change_date_month</th>\n",
       "      <th>last_active_date_month</th>\n",
       "    </tr>\n",
       "  </thead>\n",
       "  <tbody>\n",
       "    <tr>\n",
       "      <th>0</th>\n",
       "      <td>UIDLC00000bea68a</td>\n",
       "      <td>25-34</td>\n",
       "      <td>Tier 3</td>\n",
       "      <td>2024-10-24</td>\n",
       "      <td>Free</td>\n",
       "      <td>NaT</td>\n",
       "      <td>NaT</td>\n",
       "      <td>NaN</td>\n",
       "      <td>10</td>\n",
       "      <td>NaN</td>\n",
       "      <td>NaN</td>\n",
       "    </tr>\n",
       "    <tr>\n",
       "      <th>1</th>\n",
       "      <td>UIDLC00009202848</td>\n",
       "      <td>18-24</td>\n",
       "      <td>Tier 1</td>\n",
       "      <td>2024-09-18</td>\n",
       "      <td>Basic</td>\n",
       "      <td>NaT</td>\n",
       "      <td>NaT</td>\n",
       "      <td>NaN</td>\n",
       "      <td>9</td>\n",
       "      <td>NaN</td>\n",
       "      <td>NaN</td>\n",
       "    </tr>\n",
       "  </tbody>\n",
       "</table>\n",
       "</div>"
      ],
      "text/plain": [
       "            user_id age_group city_tier subscription_date subscription_plan  \\\n",
       "0  UIDLC00000bea68a     25-34    Tier 3        2024-10-24              Free   \n",
       "1  UIDLC00009202848     18-24    Tier 1        2024-09-18             Basic   \n",
       "\n",
       "  last_active_date plan_change_date new_subscription_plan  \\\n",
       "0              NaT              NaT                   NaN   \n",
       "1              NaT              NaT                   NaN   \n",
       "\n",
       "   subscription_date_month  plan_change_date_month  last_active_date_month  \n",
       "0                       10                     NaN                     NaN  \n",
       "1                        9                     NaN                     NaN  "
      ]
     },
     "execution_count": 15,
     "metadata": {},
     "output_type": "execute_result"
    }
   ],
   "source": [
    "df_liocinema_subscr.head(2)"
   ]
  },
  {
   "cell_type": "code",
   "execution_count": 16,
   "id": "a2678408-8dd2-4c0e-a5fb-65a18b44ccba",
   "metadata": {},
   "outputs": [],
   "source": [
    "df=df_liocinema_subscr.groupby('subscription_date_month')['user_id'].count()"
   ]
  },
  {
   "cell_type": "code",
   "execution_count": 17,
   "id": "af6e5501-946b-499c-af29-660aca4084e2",
   "metadata": {},
   "outputs": [
    {
     "data": {
      "text/plain": [
       "subscription_date_month\n",
       "1      6758\n",
       "2      7404\n",
       "3      8397\n",
       "4      9759\n",
       "5     11977\n",
       "6     13768\n",
       "7     16161\n",
       "8     19247\n",
       "9     23873\n",
       "10    29105\n",
       "11    36997\n",
       "Name: user_id, dtype: int64"
      ]
     },
     "execution_count": 17,
     "metadata": {},
     "output_type": "execute_result"
    }
   ],
   "source": [
    "df"
   ]
  },
  {
   "cell_type": "code",
   "execution_count": 18,
   "id": "aacdaefd-aba4-4a19-a96c-9e3abc5f539c",
   "metadata": {},
   "outputs": [],
   "source": [
    "df1=pd.DataFrame(df)"
   ]
  },
  {
   "cell_type": "code",
   "execution_count": 19,
   "id": "937e890d-2c55-4f92-b040-817ed4ca5c9f",
   "metadata": {},
   "outputs": [],
   "source": [
    "#df1.to_excel('df_liocinema_subscr.xlsx')"
   ]
  },
  {
   "cell_type": "code",
   "execution_count": 20,
   "id": "895cf10f-0b46-43ac-9c10-c2bc808ad08c",
   "metadata": {},
   "outputs": [
    {
     "data": {
      "text/plain": [
       "Text(0.5, 1.0, 'jiocinema')"
      ]
     },
     "execution_count": 20,
     "metadata": {},
     "output_type": "execute_result"
    },
    {
     "data": {
      "image/png": "[encoded data removed]",
      "text/plain": [
       "<Figure size 900x500 with 1 Axes>"
      ]
     },
     "metadata": {},
     "output_type": "display_data"
    }
   ],
   "source": [
    "plt.figure(figsize=(9,5))\n",
    "lio1=df_liocinema_subscr.groupby('subscription_date_month')['user_id'].count().plot(kind='bar')\n",
    "plt.xlabel('month')\n",
    "plt.ylabel('subscription')\n",
    "plt.title('jiocinema')\n",
    "#plt.savefig('lio1.jpg')"
   ]
  },
  {
   "cell_type": "code",
   "execution_count": 21,
   "id": "65923958-dfa5-4f83-8838-4c72e8939622",
   "metadata": {},
   "outputs": [],
   "source": [
    "df_Jobstar_subscr['subscription_date']=pd.to_datetime(df_Jobstar_subscr['subscription_date'])\n",
    "#df_Jobstar_subscr['last_active_date']=pd.to_datetime(df_Jobstar_subscr['last_active_date'])\n",
    "df_Jobstar_subscr['plan_change_date']=pd.to_datetime(df_Jobstar_subscr['plan_change_date'])"
   ]
  },
  {
   "cell_type": "code",
   "execution_count": 22,
   "id": "eeef2e1a-2d51-4b6d-831b-f6288eaa6022",
   "metadata": {},
   "outputs": [],
   "source": [
    "df_Jobstar_subscr['df_Jobstar_subscr_month']=(df_Jobstar_subscr['subscription_date']).dt.month"
   ]
  },
  {
   "cell_type": "code",
   "execution_count": null,
   "id": "44836ff5-f30c-4873-8166-77e6d1f404a6",
   "metadata": {},
   "outputs": [],
   "source": []
  },
  {
   "cell_type": "code",
   "execution_count": 23,
   "id": "1269b1c3-baa4-4615-a3b2-466e3697270f",
   "metadata": {},
   "outputs": [
    {
     "data": {
      "text/html": [
       "<div>\n",
       "<style scoped>\n",
       "    .dataframe tbody tr th:only-of-type {\n",
       "        vertical-align: middle;\n",
       "    }\n",
       "\n",
       "    .dataframe tbody tr th {\n",
       "        vertical-align: top;\n",
       "    }\n",
       "\n",
       "    .dataframe thead th {\n",
       "        text-align: right;\n",
       "    }\n",
       "</style>\n",
       "<table border=\"1\" class=\"dataframe\">\n",
       "  <thead>\n",
       "    <tr style=\"text-align: right;\">\n",
       "      <th></th>\n",
       "      <th>user_id</th>\n",
       "      <th>age_group</th>\n",
       "      <th>city_tier</th>\n",
       "      <th>subscription_date</th>\n",
       "      <th>subscription_plan</th>\n",
       "      <th>last_active_date</th>\n",
       "      <th>plan_change_date</th>\n",
       "      <th>new_subscription_plan</th>\n",
       "      <th>subscription_date_month</th>\n",
       "      <th>plan_change_date_month</th>\n",
       "      <th>last_active_date_month</th>\n",
       "      <th>df_Jobstar_subscr_month</th>\n",
       "    </tr>\n",
       "  </thead>\n",
       "  <tbody>\n",
       "    <tr>\n",
       "      <th>0</th>\n",
       "      <td>UIDJS0000751588f</td>\n",
       "      <td>18-24</td>\n",
       "      <td>Tier 1</td>\n",
       "      <td>2024-06-10</td>\n",
       "      <td>Premium</td>\n",
       "      <td>NaT</td>\n",
       "      <td>NaT</td>\n",
       "      <td>NaN</td>\n",
       "      <td>6</td>\n",
       "      <td>NaN</td>\n",
       "      <td>NaN</td>\n",
       "      <td>6</td>\n",
       "    </tr>\n",
       "    <tr>\n",
       "      <th>1</th>\n",
       "      <td>UIDJS000093eeb86</td>\n",
       "      <td>18-24</td>\n",
       "      <td>Tier 1</td>\n",
       "      <td>2024-11-09</td>\n",
       "      <td>Free</td>\n",
       "      <td>NaT</td>\n",
       "      <td>NaT</td>\n",
       "      <td>NaN</td>\n",
       "      <td>11</td>\n",
       "      <td>NaN</td>\n",
       "      <td>NaN</td>\n",
       "      <td>11</td>\n",
       "    </tr>\n",
       "    <tr>\n",
       "      <th>2</th>\n",
       "      <td>UIDJS00010d7fa1e</td>\n",
       "      <td>25-34</td>\n",
       "      <td>Tier 1</td>\n",
       "      <td>2024-08-08</td>\n",
       "      <td>Free</td>\n",
       "      <td>NaT</td>\n",
       "      <td>NaT</td>\n",
       "      <td>NaN</td>\n",
       "      <td>8</td>\n",
       "      <td>NaN</td>\n",
       "      <td>NaN</td>\n",
       "      <td>8</td>\n",
       "    </tr>\n",
       "    <tr>\n",
       "      <th>3</th>\n",
       "      <td>UIDJS00013411a85</td>\n",
       "      <td>35-44</td>\n",
       "      <td>Tier 2</td>\n",
       "      <td>2024-05-31</td>\n",
       "      <td>VIP</td>\n",
       "      <td>NaT</td>\n",
       "      <td>NaT</td>\n",
       "      <td>NaN</td>\n",
       "      <td>5</td>\n",
       "      <td>NaN</td>\n",
       "      <td>NaN</td>\n",
       "      <td>5</td>\n",
       "    </tr>\n",
       "    <tr>\n",
       "      <th>4</th>\n",
       "      <td>UIDJS0003a3f54cf</td>\n",
       "      <td>35-44</td>\n",
       "      <td>Tier 1</td>\n",
       "      <td>2024-09-20</td>\n",
       "      <td>Premium</td>\n",
       "      <td>NaT</td>\n",
       "      <td>NaT</td>\n",
       "      <td>NaN</td>\n",
       "      <td>9</td>\n",
       "      <td>NaN</td>\n",
       "      <td>NaN</td>\n",
       "      <td>9</td>\n",
       "    </tr>\n",
       "    <tr>\n",
       "      <th>...</th>\n",
       "      <td>...</td>\n",
       "      <td>...</td>\n",
       "      <td>...</td>\n",
       "      <td>...</td>\n",
       "      <td>...</td>\n",
       "      <td>...</td>\n",
       "      <td>...</td>\n",
       "      <td>...</td>\n",
       "      <td>...</td>\n",
       "      <td>...</td>\n",
       "      <td>...</td>\n",
       "      <td>...</td>\n",
       "    </tr>\n",
       "    <tr>\n",
       "      <th>44615</th>\n",
       "      <td>UIDJSfffbb38249e</td>\n",
       "      <td>25-34</td>\n",
       "      <td>Tier 2</td>\n",
       "      <td>2024-11-12</td>\n",
       "      <td>Free</td>\n",
       "      <td>NaT</td>\n",
       "      <td>NaT</td>\n",
       "      <td>NaN</td>\n",
       "      <td>11</td>\n",
       "      <td>NaN</td>\n",
       "      <td>NaN</td>\n",
       "      <td>11</td>\n",
       "    </tr>\n",
       "    <tr>\n",
       "      <th>44616</th>\n",
       "      <td>UIDJSfffbd759005</td>\n",
       "      <td>45+</td>\n",
       "      <td>Tier 1</td>\n",
       "      <td>2024-05-21</td>\n",
       "      <td>VIP</td>\n",
       "      <td>NaT</td>\n",
       "      <td>NaT</td>\n",
       "      <td>NaN</td>\n",
       "      <td>5</td>\n",
       "      <td>NaN</td>\n",
       "      <td>NaN</td>\n",
       "      <td>5</td>\n",
       "    </tr>\n",
       "    <tr>\n",
       "      <th>44617</th>\n",
       "      <td>UIDJSfffebd3002b</td>\n",
       "      <td>25-34</td>\n",
       "      <td>Tier 1</td>\n",
       "      <td>2024-09-27</td>\n",
       "      <td>VIP</td>\n",
       "      <td>2024-10-29</td>\n",
       "      <td>NaT</td>\n",
       "      <td>NaN</td>\n",
       "      <td>9</td>\n",
       "      <td>NaN</td>\n",
       "      <td>10.0</td>\n",
       "      <td>9</td>\n",
       "    </tr>\n",
       "    <tr>\n",
       "      <th>44618</th>\n",
       "      <td>UIDJSffff6698084</td>\n",
       "      <td>35-44</td>\n",
       "      <td>Tier 3</td>\n",
       "      <td>2024-10-12</td>\n",
       "      <td>VIP</td>\n",
       "      <td>NaT</td>\n",
       "      <td>NaT</td>\n",
       "      <td>NaN</td>\n",
       "      <td>10</td>\n",
       "      <td>NaN</td>\n",
       "      <td>NaN</td>\n",
       "      <td>10</td>\n",
       "    </tr>\n",
       "    <tr>\n",
       "      <th>44619</th>\n",
       "      <td>UIDJSffffe298c56</td>\n",
       "      <td>25-34</td>\n",
       "      <td>Tier 2</td>\n",
       "      <td>2024-09-10</td>\n",
       "      <td>Free</td>\n",
       "      <td>NaT</td>\n",
       "      <td>NaT</td>\n",
       "      <td>NaN</td>\n",
       "      <td>9</td>\n",
       "      <td>NaN</td>\n",
       "      <td>NaN</td>\n",
       "      <td>9</td>\n",
       "    </tr>\n",
       "  </tbody>\n",
       "</table>\n",
       "<p>44620 rows × 12 columns</p>\n",
       "</div>"
      ],
      "text/plain": [
       "                user_id age_group city_tier subscription_date  \\\n",
       "0      UIDJS0000751588f     18-24    Tier 1        2024-06-10   \n",
       "1      UIDJS000093eeb86     18-24    Tier 1        2024-11-09   \n",
       "2      UIDJS00010d7fa1e     25-34    Tier 1        2024-08-08   \n",
       "3      UIDJS00013411a85     35-44    Tier 2        2024-05-31   \n",
       "4      UIDJS0003a3f54cf     35-44    Tier 1        2024-09-20   \n",
       "...                 ...       ...       ...               ...   \n",
       "44615  UIDJSfffbb38249e     25-34    Tier 2        2024-11-12   \n",
       "44616  UIDJSfffbd759005       45+    Tier 1        2024-05-21   \n",
       "44617  UIDJSfffebd3002b     25-34    Tier 1        2024-09-27   \n",
       "44618  UIDJSffff6698084     35-44    Tier 3        2024-10-12   \n",
       "44619  UIDJSffffe298c56     25-34    Tier 2        2024-09-10   \n",
       "\n",
       "      subscription_plan last_active_date plan_change_date  \\\n",
       "0               Premium              NaT              NaT   \n",
       "1                  Free              NaT              NaT   \n",
       "2                  Free              NaT              NaT   \n",
       "3                   VIP              NaT              NaT   \n",
       "4               Premium              NaT              NaT   \n",
       "...                 ...              ...              ...   \n",
       "44615              Free              NaT              NaT   \n",
       "44616               VIP              NaT              NaT   \n",
       "44617               VIP       2024-10-29              NaT   \n",
       "44618               VIP              NaT              NaT   \n",
       "44619              Free              NaT              NaT   \n",
       "\n",
       "      new_subscription_plan  subscription_date_month  plan_change_date_month  \\\n",
       "0                       NaN                        6                     NaN   \n",
       "1                       NaN                       11                     NaN   \n",
       "2                       NaN                        8                     NaN   \n",
       "3                       NaN                        5                     NaN   \n",
       "4                       NaN                        9                     NaN   \n",
       "...                     ...                      ...                     ...   \n",
       "44615                   NaN                       11                     NaN   \n",
       "44616                   NaN                        5                     NaN   \n",
       "44617                   NaN                        9                     NaN   \n",
       "44618                   NaN                       10                     NaN   \n",
       "44619                   NaN                        9                     NaN   \n",
       "\n",
       "       last_active_date_month  df_Jobstar_subscr_month  \n",
       "0                         NaN                        6  \n",
       "1                         NaN                       11  \n",
       "2                         NaN                        8  \n",
       "3                         NaN                        5  \n",
       "4                         NaN                        9  \n",
       "...                       ...                      ...  \n",
       "44615                     NaN                       11  \n",
       "44616                     NaN                        5  \n",
       "44617                    10.0                        9  \n",
       "44618                     NaN                       10  \n",
       "44619                     NaN                        9  \n",
       "\n",
       "[44620 rows x 12 columns]"
      ]
     },
     "execution_count": 23,
     "metadata": {},
     "output_type": "execute_result"
    }
   ],
   "source": [
    "df_Jobstar_subscr"
   ]
  },
  {
   "cell_type": "code",
   "execution_count": 24,
   "id": "3d50ff62-c05d-46e8-8a14-a2eb32bd7fbc",
   "metadata": {},
   "outputs": [],
   "source": [
    "dfh=df_Jobstar_subscr.groupby('df_Jobstar_subscr_month')['user_id'].count()"
   ]
  },
  {
   "cell_type": "code",
   "execution_count": 25,
   "id": "ff735b09-aa41-454b-9107-be37e7d9d028",
   "metadata": {},
   "outputs": [
    {
     "data": {
      "text/plain": [
       "df_Jobstar_subscr_month\n",
       "1     3934\n",
       "2     3939\n",
       "3     3954\n",
       "4     3984\n",
       "5     3998\n",
       "6     4020\n",
       "7     4067\n",
       "8     4103\n",
       "9     4163\n",
       "10    4196\n",
       "11    4262\n",
       "Name: user_id, dtype: int64"
      ]
     },
     "execution_count": 25,
     "metadata": {},
     "output_type": "execute_result"
    }
   ],
   "source": [
    "dfh"
   ]
  },
  {
   "cell_type": "code",
   "execution_count": 26,
   "id": "e23d2f83-dfb2-4c4b-916d-f9b817c66210",
   "metadata": {},
   "outputs": [],
   "source": [
    "df2=pd.DataFrame(dfh)"
   ]
  },
  {
   "cell_type": "code",
   "execution_count": 27,
   "id": "e6e707a8-9eac-4c9e-be3a-95dfb6302567",
   "metadata": {},
   "outputs": [],
   "source": [
    "#df2.to_excel('df_jobstar_subscr.xlsx')"
   ]
  },
  {
   "cell_type": "code",
   "execution_count": null,
   "id": "7765bbaa-a531-463e-9edc-b52867045c30",
   "metadata": {},
   "outputs": [],
   "source": []
  },
  {
   "cell_type": "code",
   "execution_count": 28,
   "id": "6bdfb4bf-6664-49fd-b0fd-1b145bbe8a33",
   "metadata": {},
   "outputs": [
    {
     "data": {
      "text/plain": [
       "Text(0.5, 1.0, 'jobstar')"
      ]
     },
     "execution_count": 28,
     "metadata": {},
     "output_type": "execute_result"
    },
    {
     "data": {
      "image/png": "[encoded data removed]",
      "text/plain": [
       "<Figure size 900x500 with 1 Axes>"
      ]
     },
     "metadata": {},
     "output_type": "display_data"
    }
   ],
   "source": [
    "plt.figure(figsize=(9,5))\n",
    "lio1=df_Jobstar_subscr.groupby('df_Jobstar_subscr_month')['user_id'].count().plot(kind='bar')\n",
    "plt.xlabel('month')\n",
    "plt.ylabel('subscription')\n",
    "plt.title('jobstar')"
   ]
  },
  {
   "cell_type": "code",
   "execution_count": null,
   "id": "b69b9a76-61a2-4932-b1b0-76f8739f4a25",
   "metadata": {},
   "outputs": [],
   "source": []
  },
  {
   "cell_type": "markdown",
   "id": "875d67ee-f809-483c-86c0-1c5201de67b6",
   "metadata": {},
   "source": [
    "2 ****************** What is the total number of contents available on LioCinema vs. Jotstar? ******************"
   ]
  },
  {
   "cell_type": "code",
   "execution_count": 29,
   "id": "3746acd1-b2e6-496a-8cba-b5ad63bd64f6",
   "metadata": {},
   "outputs": [
    {
     "data": {
      "text/html": [
       "<div>\n",
       "<style scoped>\n",
       "    .dataframe tbody tr th:only-of-type {\n",
       "        vertical-align: middle;\n",
       "    }\n",
       "\n",
       "    .dataframe tbody tr th {\n",
       "        vertical-align: top;\n",
       "    }\n",
       "\n",
       "    .dataframe thead th {\n",
       "        text-align: right;\n",
       "    }\n",
       "</style>\n",
       "<table border=\"1\" class=\"dataframe\">\n",
       "  <thead>\n",
       "    <tr style=\"text-align: right;\">\n",
       "      <th></th>\n",
       "      <th>content_id</th>\n",
       "      <th>content_type</th>\n",
       "      <th>language</th>\n",
       "      <th>genre</th>\n",
       "      <th>run_time</th>\n",
       "    </tr>\n",
       "  </thead>\n",
       "  <tbody>\n",
       "    <tr>\n",
       "      <th>0</th>\n",
       "      <td>CLCMENACT6b77e</td>\n",
       "      <td>Movie</td>\n",
       "      <td>English</td>\n",
       "      <td>Action</td>\n",
       "      <td>120</td>\n",
       "    </tr>\n",
       "    <tr>\n",
       "      <th>1</th>\n",
       "      <td>CLCMENACTb7ceb</td>\n",
       "      <td>Movie</td>\n",
       "      <td>English</td>\n",
       "      <td>Action</td>\n",
       "      <td>135</td>\n",
       "    </tr>\n",
       "  </tbody>\n",
       "</table>\n",
       "</div>"
      ],
      "text/plain": [
       "       content_id content_type language   genre  run_time\n",
       "0  CLCMENACT6b77e        Movie  English  Action       120\n",
       "1  CLCMENACTb7ceb        Movie  English  Action       135"
      ]
     },
     "execution_count": 29,
     "metadata": {},
     "output_type": "execute_result"
    }
   ],
   "source": [
    "df_liocinema_content.head(2)"
   ]
  },
  {
   "cell_type": "code",
   "execution_count": 30,
   "id": "34cf6f4a-6ed3-4380-b1ab-68b1e447645e",
   "metadata": {},
   "outputs": [
    {
     "data": {
      "text/html": [
       "<div>\n",
       "<style scoped>\n",
       "    .dataframe tbody tr th:only-of-type {\n",
       "        vertical-align: middle;\n",
       "    }\n",
       "\n",
       "    .dataframe tbody tr th {\n",
       "        vertical-align: top;\n",
       "    }\n",
       "\n",
       "    .dataframe thead th {\n",
       "        text-align: right;\n",
       "    }\n",
       "</style>\n",
       "<table border=\"1\" class=\"dataframe\">\n",
       "  <thead>\n",
       "    <tr style=\"text-align: right;\">\n",
       "      <th></th>\n",
       "      <th>content_id</th>\n",
       "      <th>content_type</th>\n",
       "      <th>language</th>\n",
       "      <th>genre</th>\n",
       "      <th>run_time</th>\n",
       "    </tr>\n",
       "  </thead>\n",
       "  <tbody>\n",
       "    <tr>\n",
       "      <th>0</th>\n",
       "      <td>CJSMBEACT2e633</td>\n",
       "      <td>Movie</td>\n",
       "      <td>Bengali</td>\n",
       "      <td>Action</td>\n",
       "      <td>90</td>\n",
       "    </tr>\n",
       "    <tr>\n",
       "      <th>1</th>\n",
       "      <td>CJSMBEACT34aec</td>\n",
       "      <td>Movie</td>\n",
       "      <td>Bengali</td>\n",
       "      <td>Action</td>\n",
       "      <td>135</td>\n",
       "    </tr>\n",
       "  </tbody>\n",
       "</table>\n",
       "</div>"
      ],
      "text/plain": [
       "       content_id content_type language   genre  run_time\n",
       "0  CJSMBEACT2e633        Movie  Bengali  Action        90\n",
       "1  CJSMBEACT34aec        Movie  Bengali  Action       135"
      ]
     },
     "execution_count": 30,
     "metadata": {},
     "output_type": "execute_result"
    }
   ],
   "source": [
    "df_jobstar_content.head(2)"
   ]
  },
  {
   "cell_type": "code",
   "execution_count": 31,
   "id": "d21dd384-4271-4faa-80a2-e020fa4c3685",
   "metadata": {},
   "outputs": [
    {
     "data": {
      "text/plain": [
       "1250"
      ]
     },
     "execution_count": 31,
     "metadata": {},
     "output_type": "execute_result"
    }
   ],
   "source": [
    "df_liocinema_content['content_id'].count()"
   ]
  },
  {
   "cell_type": "code",
   "execution_count": 32,
   "id": "1c9bca73-a82c-46f0-9b6a-275265cdd02f",
   "metadata": {},
   "outputs": [
    {
     "data": {
      "text/plain": [
       "2360"
      ]
     },
     "execution_count": 32,
     "metadata": {},
     "output_type": "execute_result"
    }
   ],
   "source": [
    "df_jobstar_content['content_id'].count()"
   ]
  },
  {
   "cell_type": "markdown",
   "id": "f04e315b-4d2f-4161-ab85-190ac534e235",
   "metadata": {},
   "source": [
    "**************  How do they differ in terms of language and content type *************"
   ]
  },
  {
   "cell_type": "code",
   "execution_count": 33,
   "id": "c664560a-c0ec-407b-a77c-e838fd46abd8",
   "metadata": {},
   "outputs": [
    {
     "data": {
      "text/plain": [
       "language\n",
       "Hindi        424\n",
       "Telugu       242\n",
       "Tamil        221\n",
       "Malayalam    121\n",
       "Kannada      118\n",
       "Marathi       68\n",
       "English       56\n",
       "Name: count, dtype: int64"
      ]
     },
     "execution_count": 33,
     "metadata": {},
     "output_type": "execute_result"
    }
   ],
   "source": [
    "df_liocinema_content['language'].value_counts()"
   ]
  },
  {
   "cell_type": "code",
   "execution_count": 34,
   "id": "9526b437-4154-4466-a849-32a2b5679bb2",
   "metadata": {},
   "outputs": [],
   "source": [
    "#pd.DataFrame(df_liocinema_content['language'].value_counts()).to_excel('df_liocinema_content.xlsx')"
   ]
  },
  {
   "cell_type": "code",
   "execution_count": null,
   "id": "bdc0728f-5742-4dc7-9bd2-3bd374ae2979",
   "metadata": {},
   "outputs": [],
   "source": []
  },
  {
   "cell_type": "code",
   "execution_count": 35,
   "id": "ecbf68d7-3cd4-4380-ab21-ef93a080b29b",
   "metadata": {},
   "outputs": [
    {
     "data": {
      "text/plain": [
       "language\n",
       "English      800\n",
       "Hindi        637\n",
       "Tamil        251\n",
       "Telugu       244\n",
       "Kannada      121\n",
       "Malayalam    118\n",
       "Marathi       74\n",
       "Bengali       60\n",
       "Gujarati      28\n",
       "Punjabi       27\n",
       "Name: count, dtype: int64"
      ]
     },
     "execution_count": 35,
     "metadata": {},
     "output_type": "execute_result"
    }
   ],
   "source": [
    "df_jobstar_content['language'].value_counts()"
   ]
  },
  {
   "cell_type": "code",
   "execution_count": 36,
   "id": "973703f0-d859-487e-860f-161b21314721",
   "metadata": {},
   "outputs": [],
   "source": [
    "#pd.DataFrame(df_jobstar_content['language'].value_counts()).to_excel('df_jobstar_content.xlsx')"
   ]
  },
  {
   "cell_type": "code",
   "execution_count": null,
   "id": "934530b1-9a7d-4357-b8b8-ff6854b90fc2",
   "metadata": {},
   "outputs": [],
   "source": []
  },
  {
   "cell_type": "code",
   "execution_count": 37,
   "id": "8f34ed8d-ea99-45c9-a307-7de0ae284cef",
   "metadata": {},
   "outputs": [
    {
     "data": {
      "text/plain": [
       "content_type\n",
       "Movie     900\n",
       "Series    300\n",
       "Sports     50\n",
       "Name: count, dtype: int64"
      ]
     },
     "execution_count": 37,
     "metadata": {},
     "output_type": "execute_result"
    }
   ],
   "source": [
    "df_liocinema_content['content_type'].value_counts()"
   ]
  },
  {
   "cell_type": "code",
   "execution_count": 38,
   "id": "52cf037d-503b-4476-bf36-0094faccb96c",
   "metadata": {},
   "outputs": [
    {
     "data": {
      "text/plain": [
       "content_type\n",
       "Movie     1180\n",
       "Series     826\n",
       "Sports     354\n",
       "Name: count, dtype: int64"
      ]
     },
     "execution_count": 38,
     "metadata": {},
     "output_type": "execute_result"
    }
   ],
   "source": [
    "df_jobstar_content['content_type'].value_counts()"
   ]
  },
  {
   "cell_type": "code",
   "execution_count": null,
   "id": "a49e75e8-fd98-4a1b-a3b1-5fe1fc191c1b",
   "metadata": {},
   "outputs": [],
   "source": []
  },
  {
   "cell_type": "code",
   "execution_count": null,
   "id": "72867f67-9215-4469-b570-231be9d0bb2a",
   "metadata": {},
   "outputs": [],
   "source": []
  },
  {
   "cell_type": "code",
   "execution_count": null,
   "id": "8b0e271c-a2f1-423e-9804-beda01da5d98",
   "metadata": {},
   "outputs": [],
   "source": []
  },
  {
   "cell_type": "code",
   "execution_count": 39,
   "id": "1c3d98b3-155a-45ae-883b-2f58abceb1a5",
   "metadata": {},
   "outputs": [
    {
     "data": {
      "text/html": [
       "<div>\n",
       "<style scoped>\n",
       "    .dataframe tbody tr th:only-of-type {\n",
       "        vertical-align: middle;\n",
       "    }\n",
       "\n",
       "    .dataframe tbody tr th {\n",
       "        vertical-align: top;\n",
       "    }\n",
       "\n",
       "    .dataframe thead th {\n",
       "        text-align: right;\n",
       "    }\n",
       "</style>\n",
       "<table border=\"1\" class=\"dataframe\">\n",
       "  <thead>\n",
       "    <tr style=\"text-align: right;\">\n",
       "      <th></th>\n",
       "      <th>content_id</th>\n",
       "      <th>content_type</th>\n",
       "      <th>language</th>\n",
       "      <th>genre</th>\n",
       "      <th>run_time</th>\n",
       "    </tr>\n",
       "  </thead>\n",
       "  <tbody>\n",
       "    <tr>\n",
       "      <th>0</th>\n",
       "      <td>CLCMENACT6b77e</td>\n",
       "      <td>Movie</td>\n",
       "      <td>English</td>\n",
       "      <td>Action</td>\n",
       "      <td>120</td>\n",
       "    </tr>\n",
       "    <tr>\n",
       "      <th>1</th>\n",
       "      <td>CLCMENACTb7ceb</td>\n",
       "      <td>Movie</td>\n",
       "      <td>English</td>\n",
       "      <td>Action</td>\n",
       "      <td>135</td>\n",
       "    </tr>\n",
       "  </tbody>\n",
       "</table>\n",
       "</div>"
      ],
      "text/plain": [
       "       content_id content_type language   genre  run_time\n",
       "0  CLCMENACT6b77e        Movie  English  Action       120\n",
       "1  CLCMENACTb7ceb        Movie  English  Action       135"
      ]
     },
     "execution_count": 39,
     "metadata": {},
     "output_type": "execute_result"
    }
   ],
   "source": [
    "df_liocinema_content.head(2)"
   ]
  },
  {
   "cell_type": "code",
   "execution_count": 40,
   "id": "b9cc02f5-2e88-41fa-b403-1507a27fff8e",
   "metadata": {},
   "outputs": [
    {
     "data": {
      "text/html": [
       "<div>\n",
       "<style scoped>\n",
       "    .dataframe tbody tr th:only-of-type {\n",
       "        vertical-align: middle;\n",
       "    }\n",
       "\n",
       "    .dataframe tbody tr th {\n",
       "        vertical-align: top;\n",
       "    }\n",
       "\n",
       "    .dataframe thead th {\n",
       "        text-align: right;\n",
       "    }\n",
       "</style>\n",
       "<table border=\"1\" class=\"dataframe\">\n",
       "  <thead>\n",
       "    <tr style=\"text-align: right;\">\n",
       "      <th></th>\n",
       "      <th>content_id</th>\n",
       "      <th>content_type</th>\n",
       "      <th>language</th>\n",
       "      <th>genre</th>\n",
       "      <th>run_time</th>\n",
       "    </tr>\n",
       "  </thead>\n",
       "  <tbody>\n",
       "    <tr>\n",
       "      <th>0</th>\n",
       "      <td>CJSMBEACT2e633</td>\n",
       "      <td>Movie</td>\n",
       "      <td>Bengali</td>\n",
       "      <td>Action</td>\n",
       "      <td>90</td>\n",
       "    </tr>\n",
       "    <tr>\n",
       "      <th>1</th>\n",
       "      <td>CJSMBEACT34aec</td>\n",
       "      <td>Movie</td>\n",
       "      <td>Bengali</td>\n",
       "      <td>Action</td>\n",
       "      <td>135</td>\n",
       "    </tr>\n",
       "  </tbody>\n",
       "</table>\n",
       "</div>"
      ],
      "text/plain": [
       "       content_id content_type language   genre  run_time\n",
       "0  CJSMBEACT2e633        Movie  Bengali  Action        90\n",
       "1  CJSMBEACT34aec        Movie  Bengali  Action       135"
      ]
     },
     "execution_count": 40,
     "metadata": {},
     "output_type": "execute_result"
    }
   ],
   "source": [
    "df_jobstar_content.head(2)"
   ]
  },
  {
   "cell_type": "code",
   "execution_count": 41,
   "id": "6f6e8163-7559-405d-8b86-00bb83d542c8",
   "metadata": {},
   "outputs": [
    {
     "data": {
      "text/html": [
       "<div>\n",
       "<style scoped>\n",
       "    .dataframe tbody tr th:only-of-type {\n",
       "        vertical-align: middle;\n",
       "    }\n",
       "\n",
       "    .dataframe tbody tr th {\n",
       "        vertical-align: top;\n",
       "    }\n",
       "\n",
       "    .dataframe thead th {\n",
       "        text-align: right;\n",
       "    }\n",
       "</style>\n",
       "<table border=\"1\" class=\"dataframe\">\n",
       "  <thead>\n",
       "    <tr style=\"text-align: right;\">\n",
       "      <th></th>\n",
       "      <th>user_id</th>\n",
       "      <th>device_type</th>\n",
       "      <th>total_watch_time_mins</th>\n",
       "    </tr>\n",
       "  </thead>\n",
       "  <tbody>\n",
       "    <tr>\n",
       "      <th>0</th>\n",
       "      <td>UIDLC459c98ee486</td>\n",
       "      <td>Mobile</td>\n",
       "      <td>502</td>\n",
       "    </tr>\n",
       "    <tr>\n",
       "      <th>1</th>\n",
       "      <td>UIDLCe4b2fd90790</td>\n",
       "      <td>Mobile</td>\n",
       "      <td>2098</td>\n",
       "    </tr>\n",
       "  </tbody>\n",
       "</table>\n",
       "</div>"
      ],
      "text/plain": [
       "            user_id device_type  total_watch_time_mins\n",
       "0  UIDLC459c98ee486      Mobile                    502\n",
       "1  UIDLCe4b2fd90790      Mobile                   2098"
      ]
     },
     "execution_count": 41,
     "metadata": {},
     "output_type": "execute_result"
    }
   ],
   "source": [
    "df_liocinema_content_consumption.head(2)"
   ]
  },
  {
   "cell_type": "code",
   "execution_count": 42,
   "id": "ea9647c5-118f-4d05-b1a0-9613a34d9e47",
   "metadata": {},
   "outputs": [
    {
     "data": {
      "text/html": [
       "<div>\n",
       "<style scoped>\n",
       "    .dataframe tbody tr th:only-of-type {\n",
       "        vertical-align: middle;\n",
       "    }\n",
       "\n",
       "    .dataframe tbody tr th {\n",
       "        vertical-align: top;\n",
       "    }\n",
       "\n",
       "    .dataframe thead th {\n",
       "        text-align: right;\n",
       "    }\n",
       "</style>\n",
       "<table border=\"1\" class=\"dataframe\">\n",
       "  <thead>\n",
       "    <tr style=\"text-align: right;\">\n",
       "      <th></th>\n",
       "      <th>user_id</th>\n",
       "      <th>device_type</th>\n",
       "      <th>total_watch_time_mins</th>\n",
       "    </tr>\n",
       "  </thead>\n",
       "  <tbody>\n",
       "    <tr>\n",
       "      <th>0</th>\n",
       "      <td>UIDJS877cc0e02c9</td>\n",
       "      <td>Mobile</td>\n",
       "      <td>14613</td>\n",
       "    </tr>\n",
       "    <tr>\n",
       "      <th>1</th>\n",
       "      <td>UIDJS06384e7ff06</td>\n",
       "      <td>Mobile</td>\n",
       "      <td>13271</td>\n",
       "    </tr>\n",
       "  </tbody>\n",
       "</table>\n",
       "</div>"
      ],
      "text/plain": [
       "            user_id device_type  total_watch_time_mins\n",
       "0  UIDJS877cc0e02c9      Mobile                  14613\n",
       "1  UIDJS06384e7ff06      Mobile                  13271"
      ]
     },
     "execution_count": 42,
     "metadata": {},
     "output_type": "execute_result"
    }
   ],
   "source": [
    "df_jobstar_content_consumption.head(2)"
   ]
  },
  {
   "cell_type": "code",
   "execution_count": 43,
   "id": "244197de-2a54-4f8c-ac8c-3fd72ae31a90",
   "metadata": {},
   "outputs": [
    {
     "data": {
      "text/html": [
       "<div>\n",
       "<style scoped>\n",
       "    .dataframe tbody tr th:only-of-type {\n",
       "        vertical-align: middle;\n",
       "    }\n",
       "\n",
       "    .dataframe tbody tr th {\n",
       "        vertical-align: top;\n",
       "    }\n",
       "\n",
       "    .dataframe thead th {\n",
       "        text-align: right;\n",
       "    }\n",
       "</style>\n",
       "<table border=\"1\" class=\"dataframe\">\n",
       "  <thead>\n",
       "    <tr style=\"text-align: right;\">\n",
       "      <th></th>\n",
       "      <th>user_id</th>\n",
       "      <th>age_group</th>\n",
       "      <th>city_tier</th>\n",
       "      <th>subscription_date</th>\n",
       "      <th>subscription_plan</th>\n",
       "      <th>last_active_date</th>\n",
       "      <th>plan_change_date</th>\n",
       "      <th>new_subscription_plan</th>\n",
       "      <th>subscription_date_month</th>\n",
       "      <th>plan_change_date_month</th>\n",
       "      <th>last_active_date_month</th>\n",
       "    </tr>\n",
       "  </thead>\n",
       "  <tbody>\n",
       "    <tr>\n",
       "      <th>0</th>\n",
       "      <td>UIDLC00000bea68a</td>\n",
       "      <td>25-34</td>\n",
       "      <td>Tier 3</td>\n",
       "      <td>2024-10-24</td>\n",
       "      <td>Free</td>\n",
       "      <td>NaT</td>\n",
       "      <td>NaT</td>\n",
       "      <td>NaN</td>\n",
       "      <td>10</td>\n",
       "      <td>NaN</td>\n",
       "      <td>NaN</td>\n",
       "    </tr>\n",
       "    <tr>\n",
       "      <th>1</th>\n",
       "      <td>UIDLC00009202848</td>\n",
       "      <td>18-24</td>\n",
       "      <td>Tier 1</td>\n",
       "      <td>2024-09-18</td>\n",
       "      <td>Basic</td>\n",
       "      <td>NaT</td>\n",
       "      <td>NaT</td>\n",
       "      <td>NaN</td>\n",
       "      <td>9</td>\n",
       "      <td>NaN</td>\n",
       "      <td>NaN</td>\n",
       "    </tr>\n",
       "    <tr>\n",
       "      <th>2</th>\n",
       "      <td>UIDLC0001086afc3</td>\n",
       "      <td>35-44</td>\n",
       "      <td>Tier 2</td>\n",
       "      <td>2024-03-23</td>\n",
       "      <td>Premium</td>\n",
       "      <td>NaT</td>\n",
       "      <td>2024-04-23</td>\n",
       "      <td>Free</td>\n",
       "      <td>3</td>\n",
       "      <td>4.0</td>\n",
       "      <td>NaN</td>\n",
       "    </tr>\n",
       "    <tr>\n",
       "      <th>3</th>\n",
       "      <td>UIDLC000186abd93</td>\n",
       "      <td>18-24</td>\n",
       "      <td>Tier 3</td>\n",
       "      <td>2024-09-07</td>\n",
       "      <td>Free</td>\n",
       "      <td>2024-10-23</td>\n",
       "      <td>NaT</td>\n",
       "      <td>NaN</td>\n",
       "      <td>9</td>\n",
       "      <td>NaN</td>\n",
       "      <td>10.0</td>\n",
       "    </tr>\n",
       "  </tbody>\n",
       "</table>\n",
       "</div>"
      ],
      "text/plain": [
       "            user_id age_group city_tier subscription_date subscription_plan  \\\n",
       "0  UIDLC00000bea68a     25-34    Tier 3        2024-10-24              Free   \n",
       "1  UIDLC00009202848     18-24    Tier 1        2024-09-18             Basic   \n",
       "2  UIDLC0001086afc3     35-44    Tier 2        2024-03-23           Premium   \n",
       "3  UIDLC000186abd93     18-24    Tier 3        2024-09-07              Free   \n",
       "\n",
       "  last_active_date plan_change_date new_subscription_plan  \\\n",
       "0              NaT              NaT                   NaN   \n",
       "1              NaT              NaT                   NaN   \n",
       "2              NaT       2024-04-23                  Free   \n",
       "3       2024-10-23              NaT                   NaN   \n",
       "\n",
       "   subscription_date_month  plan_change_date_month  last_active_date_month  \n",
       "0                       10                     NaN                     NaN  \n",
       "1                        9                     NaN                     NaN  \n",
       "2                        3                     4.0                     NaN  \n",
       "3                        9                     NaN                    10.0  "
      ]
     },
     "execution_count": 43,
     "metadata": {},
     "output_type": "execute_result"
    }
   ],
   "source": [
    "df_liocinema_subscr.head(4)"
   ]
  },
  {
   "cell_type": "code",
   "execution_count": null,
   "id": "917f5f21-8fc8-4e03-993f-6651d59b7fff",
   "metadata": {},
   "outputs": [],
   "source": []
  },
  {
   "cell_type": "code",
   "execution_count": null,
   "id": "ba7b859a-78bd-4f6e-ba90-e728276e650b",
   "metadata": {},
   "outputs": [],
   "source": []
  },
  {
   "cell_type": "code",
   "execution_count": null,
   "id": "72372924-2b3f-4ea8-aa5d-1fb4ef3998e7",
   "metadata": {},
   "outputs": [],
   "source": []
  },
  {
   "cell_type": "code",
   "execution_count": null,
   "id": "70def499-32ea-4c82-87f0-51fd4b942f64",
   "metadata": {},
   "outputs": [],
   "source": []
  },
  {
   "cell_type": "markdown",
   "id": "fcdd5fce-5dd1-44b3-9fa0-11df803a6bd3",
   "metadata": {},
   "source": [
    "4> ******************8 What percentage of LioCinema and Jotstar users are active vs. inactive? **********************8"
   ]
  },
  {
   "cell_type": "code",
   "execution_count": null,
   "id": "431a9749-8a11-4118-8b2d-0d66753ec857",
   "metadata": {},
   "outputs": [],
   "source": []
  },
  {
   "cell_type": "code",
   "execution_count": 44,
   "id": "b124dfa2-78b3-419d-8194-dc4a6ba94bf7",
   "metadata": {},
   "outputs": [],
   "source": [
    "df_liocinema_subscr=df_liocinema_subscr.fillna('0')\n",
    "df_Jobstar_subscr=df_Jobstar_subscr.fillna('0')"
   ]
  },
  {
   "cell_type": "code",
   "execution_count": 45,
   "id": "61267ae7-d6dc-407e-a6a4-55ff63766292",
   "metadata": {},
   "outputs": [
    {
     "data": {
      "text/plain": [
       "0            0\n",
       "1            0\n",
       "2            0\n",
       "3         10.0\n",
       "4            0\n",
       "          ... \n",
       "183441    11.0\n",
       "183442       0\n",
       "183443       0\n",
       "183444    10.0\n",
       "183445     7.0\n",
       "Name: last_active_date_month, Length: 183446, dtype: object"
      ]
     },
     "execution_count": 45,
     "metadata": {},
     "output_type": "execute_result"
    }
   ],
   "source": [
    "df_liocinema_subscr['last_active_date_month']"
   ]
  },
  {
   "cell_type": "code",
   "execution_count": 46,
   "id": "17664d60-f089-4385-911d-344427490ca8",
   "metadata": {},
   "outputs": [
    {
     "data": {
      "text/html": [
       "<div>\n",
       "<style scoped>\n",
       "    .dataframe tbody tr th:only-of-type {\n",
       "        vertical-align: middle;\n",
       "    }\n",
       "\n",
       "    .dataframe tbody tr th {\n",
       "        vertical-align: top;\n",
       "    }\n",
       "\n",
       "    .dataframe thead th {\n",
       "        text-align: right;\n",
       "    }\n",
       "</style>\n",
       "<table border=\"1\" class=\"dataframe\">\n",
       "  <thead>\n",
       "    <tr style=\"text-align: right;\">\n",
       "      <th></th>\n",
       "      <th>user_id</th>\n",
       "      <th>age_group</th>\n",
       "      <th>city_tier</th>\n",
       "      <th>subscription_date</th>\n",
       "      <th>subscription_plan</th>\n",
       "      <th>last_active_date</th>\n",
       "      <th>plan_change_date</th>\n",
       "      <th>new_subscription_plan</th>\n",
       "      <th>subscription_date_month</th>\n",
       "      <th>plan_change_date_month</th>\n",
       "      <th>last_active_date_month</th>\n",
       "    </tr>\n",
       "  </thead>\n",
       "  <tbody>\n",
       "    <tr>\n",
       "      <th>0</th>\n",
       "      <td>UIDLC00000bea68a</td>\n",
       "      <td>25-34</td>\n",
       "      <td>Tier 3</td>\n",
       "      <td>2024-10-24</td>\n",
       "      <td>Free</td>\n",
       "      <td>0</td>\n",
       "      <td>0</td>\n",
       "      <td>0</td>\n",
       "      <td>10</td>\n",
       "      <td>0</td>\n",
       "      <td>0</td>\n",
       "    </tr>\n",
       "    <tr>\n",
       "      <th>1</th>\n",
       "      <td>UIDLC00009202848</td>\n",
       "      <td>18-24</td>\n",
       "      <td>Tier 1</td>\n",
       "      <td>2024-09-18</td>\n",
       "      <td>Basic</td>\n",
       "      <td>0</td>\n",
       "      <td>0</td>\n",
       "      <td>0</td>\n",
       "      <td>9</td>\n",
       "      <td>0</td>\n",
       "      <td>0</td>\n",
       "    </tr>\n",
       "    <tr>\n",
       "      <th>2</th>\n",
       "      <td>UIDLC0001086afc3</td>\n",
       "      <td>35-44</td>\n",
       "      <td>Tier 2</td>\n",
       "      <td>2024-03-23</td>\n",
       "      <td>Premium</td>\n",
       "      <td>0</td>\n",
       "      <td>2024-04-23 00:00:00</td>\n",
       "      <td>Free</td>\n",
       "      <td>3</td>\n",
       "      <td>4.0</td>\n",
       "      <td>0</td>\n",
       "    </tr>\n",
       "    <tr>\n",
       "      <th>3</th>\n",
       "      <td>UIDLC000186abd93</td>\n",
       "      <td>18-24</td>\n",
       "      <td>Tier 3</td>\n",
       "      <td>2024-09-07</td>\n",
       "      <td>Free</td>\n",
       "      <td>2024-10-23 00:00:00</td>\n",
       "      <td>0</td>\n",
       "      <td>0</td>\n",
       "      <td>9</td>\n",
       "      <td>0</td>\n",
       "      <td>10.0</td>\n",
       "    </tr>\n",
       "    <tr>\n",
       "      <th>4</th>\n",
       "      <td>UIDLC0002189b09f</td>\n",
       "      <td>18-24</td>\n",
       "      <td>Tier 2</td>\n",
       "      <td>2024-10-07</td>\n",
       "      <td>Premium</td>\n",
       "      <td>0</td>\n",
       "      <td>2024-11-07 00:00:00</td>\n",
       "      <td>Free</td>\n",
       "      <td>10</td>\n",
       "      <td>11.0</td>\n",
       "      <td>0</td>\n",
       "    </tr>\n",
       "    <tr>\n",
       "      <th>5</th>\n",
       "      <td>UIDLC000362cba39</td>\n",
       "      <td>25-34</td>\n",
       "      <td>Tier 3</td>\n",
       "      <td>2024-06-09</td>\n",
       "      <td>Free</td>\n",
       "      <td>2024-07-29 00:00:00</td>\n",
       "      <td>0</td>\n",
       "      <td>0</td>\n",
       "      <td>6</td>\n",
       "      <td>0</td>\n",
       "      <td>7.0</td>\n",
       "    </tr>\n",
       "    <tr>\n",
       "      <th>6</th>\n",
       "      <td>UIDLC000436e2f4d</td>\n",
       "      <td>45+</td>\n",
       "      <td>Tier 3</td>\n",
       "      <td>2024-09-04</td>\n",
       "      <td>Premium</td>\n",
       "      <td>0</td>\n",
       "      <td>0</td>\n",
       "      <td>0</td>\n",
       "      <td>9</td>\n",
       "      <td>0</td>\n",
       "      <td>0</td>\n",
       "    </tr>\n",
       "    <tr>\n",
       "      <th>7</th>\n",
       "      <td>UIDLC00044a5d021</td>\n",
       "      <td>45+</td>\n",
       "      <td>Tier 2</td>\n",
       "      <td>2024-07-22</td>\n",
       "      <td>Free</td>\n",
       "      <td>2024-09-15 00:00:00</td>\n",
       "      <td>0</td>\n",
       "      <td>0</td>\n",
       "      <td>7</td>\n",
       "      <td>0</td>\n",
       "      <td>9.0</td>\n",
       "    </tr>\n",
       "    <tr>\n",
       "      <th>8</th>\n",
       "      <td>UIDLC00044bbb294</td>\n",
       "      <td>25-34</td>\n",
       "      <td>Tier 2</td>\n",
       "      <td>2024-04-09</td>\n",
       "      <td>Free</td>\n",
       "      <td>0</td>\n",
       "      <td>2024-09-09 00:00:00</td>\n",
       "      <td>Basic</td>\n",
       "      <td>4</td>\n",
       "      <td>9.0</td>\n",
       "      <td>0</td>\n",
       "    </tr>\n",
       "    <tr>\n",
       "      <th>9</th>\n",
       "      <td>UIDLC00047bf87da</td>\n",
       "      <td>18-24</td>\n",
       "      <td>Tier 1</td>\n",
       "      <td>2024-10-29</td>\n",
       "      <td>Free</td>\n",
       "      <td>0</td>\n",
       "      <td>0</td>\n",
       "      <td>0</td>\n",
       "      <td>10</td>\n",
       "      <td>0</td>\n",
       "      <td>0</td>\n",
       "    </tr>\n",
       "  </tbody>\n",
       "</table>\n",
       "</div>"
      ],
      "text/plain": [
       "            user_id age_group city_tier subscription_date subscription_plan  \\\n",
       "0  UIDLC00000bea68a     25-34    Tier 3        2024-10-24              Free   \n",
       "1  UIDLC00009202848     18-24    Tier 1        2024-09-18             Basic   \n",
       "2  UIDLC0001086afc3     35-44    Tier 2        2024-03-23           Premium   \n",
       "3  UIDLC000186abd93     18-24    Tier 3        2024-09-07              Free   \n",
       "4  UIDLC0002189b09f     18-24    Tier 2        2024-10-07           Premium   \n",
       "5  UIDLC000362cba39     25-34    Tier 3        2024-06-09              Free   \n",
       "6  UIDLC000436e2f4d       45+    Tier 3        2024-09-04           Premium   \n",
       "7  UIDLC00044a5d021       45+    Tier 2        2024-07-22              Free   \n",
       "8  UIDLC00044bbb294     25-34    Tier 2        2024-04-09              Free   \n",
       "9  UIDLC00047bf87da     18-24    Tier 1        2024-10-29              Free   \n",
       "\n",
       "      last_active_date     plan_change_date new_subscription_plan  \\\n",
       "0                    0                    0                     0   \n",
       "1                    0                    0                     0   \n",
       "2                    0  2024-04-23 00:00:00                  Free   \n",
       "3  2024-10-23 00:00:00                    0                     0   \n",
       "4                    0  2024-11-07 00:00:00                  Free   \n",
       "5  2024-07-29 00:00:00                    0                     0   \n",
       "6                    0                    0                     0   \n",
       "7  2024-09-15 00:00:00                    0                     0   \n",
       "8                    0  2024-09-09 00:00:00                 Basic   \n",
       "9                    0                    0                     0   \n",
       "\n",
       "   subscription_date_month plan_change_date_month last_active_date_month  \n",
       "0                       10                      0                      0  \n",
       "1                        9                      0                      0  \n",
       "2                        3                    4.0                      0  \n",
       "3                        9                      0                   10.0  \n",
       "4                       10                   11.0                      0  \n",
       "5                        6                      0                    7.0  \n",
       "6                        9                      0                      0  \n",
       "7                        7                      0                    9.0  \n",
       "8                        4                    9.0                      0  \n",
       "9                       10                      0                      0  "
      ]
     },
     "execution_count": 46,
     "metadata": {},
     "output_type": "execute_result"
    }
   ],
   "source": [
    "df_liocinema_subscr.head(10)"
   ]
  },
  {
   "cell_type": "code",
   "execution_count": null,
   "id": "3cbb2add-c0f6-4558-b02b-146c29f2f907",
   "metadata": {},
   "outputs": [],
   "source": []
  },
  {
   "cell_type": "code",
   "execution_count": 47,
   "id": "16cdf57d-962a-4b36-8063-0f56f51ae234",
   "metadata": {},
   "outputs": [],
   "source": [
    "df_liocinema_subscr['last_active_date_month']=df_liocinema_subscr['last_active_date_month'].astype(int)\n",
    "df_liocinema_subscr['plan_change_date_month']=df_liocinema_subscr['plan_change_date_month'].astype(int)"
   ]
  },
  {
   "cell_type": "code",
   "execution_count": 48,
   "id": "f8c57d7c-1ccc-4692-adab-85d231f87378",
   "metadata": {},
   "outputs": [
    {
     "name": "stdout",
     "output_type": "stream",
     "text": [
      "<class 'pandas.core.frame.DataFrame'>\n",
      "RangeIndex: 183446 entries, 0 to 183445\n",
      "Data columns (total 11 columns):\n",
      " #   Column                   Non-Null Count   Dtype         \n",
      "---  ------                   --------------   -----         \n",
      " 0   user_id                  183446 non-null  object        \n",
      " 1   age_group                183446 non-null  object        \n",
      " 2   city_tier                183446 non-null  object        \n",
      " 3   subscription_date        183446 non-null  datetime64[ns]\n",
      " 4   subscription_plan        183446 non-null  object        \n",
      " 5   last_active_date         183446 non-null  object        \n",
      " 6   plan_change_date         183446 non-null  object        \n",
      " 7   new_subscription_plan    183446 non-null  object        \n",
      " 8   subscription_date_month  183446 non-null  int32         \n",
      " 9   plan_change_date_month   183446 non-null  int32         \n",
      " 10  last_active_date_month   183446 non-null  int32         \n",
      "dtypes: datetime64[ns](1), int32(3), object(7)\n",
      "memory usage: 13.3+ MB\n"
     ]
    }
   ],
   "source": [
    "df_liocinema_subscr.info()"
   ]
  },
  {
   "cell_type": "code",
   "execution_count": null,
   "id": "e802c197-75dc-432d-b35a-a96ba8ccf63b",
   "metadata": {},
   "outputs": [],
   "source": []
  },
  {
   "cell_type": "code",
   "execution_count": null,
   "id": "4cd142f5-e983-4585-b6f3-51517c3fb9fb",
   "metadata": {},
   "outputs": [],
   "source": []
  },
  {
   "cell_type": "code",
   "execution_count": 49,
   "id": "780a16a2-6eff-4d80-9d1d-2f5d097ec4cb",
   "metadata": {},
   "outputs": [
    {
     "data": {
      "text/html": [
       "<div>\n",
       "<style scoped>\n",
       "    .dataframe tbody tr th:only-of-type {\n",
       "        vertical-align: middle;\n",
       "    }\n",
       "\n",
       "    .dataframe tbody tr th {\n",
       "        vertical-align: top;\n",
       "    }\n",
       "\n",
       "    .dataframe thead th {\n",
       "        text-align: right;\n",
       "    }\n",
       "</style>\n",
       "<table border=\"1\" class=\"dataframe\">\n",
       "  <thead>\n",
       "    <tr style=\"text-align: right;\">\n",
       "      <th></th>\n",
       "      <th>user_id</th>\n",
       "      <th>age_group</th>\n",
       "      <th>city_tier</th>\n",
       "      <th>subscription_date</th>\n",
       "      <th>subscription_plan</th>\n",
       "      <th>last_active_date</th>\n",
       "      <th>plan_change_date</th>\n",
       "      <th>new_subscription_plan</th>\n",
       "      <th>subscription_date_month</th>\n",
       "      <th>plan_change_date_month</th>\n",
       "      <th>last_active_date_month</th>\n",
       "      <th>df_Jobstar_subscr_month</th>\n",
       "    </tr>\n",
       "  </thead>\n",
       "  <tbody>\n",
       "    <tr>\n",
       "      <th>0</th>\n",
       "      <td>UIDJS0000751588f</td>\n",
       "      <td>18-24</td>\n",
       "      <td>Tier 1</td>\n",
       "      <td>2024-06-10</td>\n",
       "      <td>Premium</td>\n",
       "      <td>0</td>\n",
       "      <td>0</td>\n",
       "      <td>0</td>\n",
       "      <td>6</td>\n",
       "      <td>0</td>\n",
       "      <td>0</td>\n",
       "      <td>6</td>\n",
       "    </tr>\n",
       "    <tr>\n",
       "      <th>1</th>\n",
       "      <td>UIDJS000093eeb86</td>\n",
       "      <td>18-24</td>\n",
       "      <td>Tier 1</td>\n",
       "      <td>2024-11-09</td>\n",
       "      <td>Free</td>\n",
       "      <td>0</td>\n",
       "      <td>0</td>\n",
       "      <td>0</td>\n",
       "      <td>11</td>\n",
       "      <td>0</td>\n",
       "      <td>0</td>\n",
       "      <td>11</td>\n",
       "    </tr>\n",
       "  </tbody>\n",
       "</table>\n",
       "</div>"
      ],
      "text/plain": [
       "            user_id age_group city_tier subscription_date subscription_plan  \\\n",
       "0  UIDJS0000751588f     18-24    Tier 1        2024-06-10           Premium   \n",
       "1  UIDJS000093eeb86     18-24    Tier 1        2024-11-09              Free   \n",
       "\n",
       "  last_active_date plan_change_date new_subscription_plan  \\\n",
       "0                0                0                     0   \n",
       "1                0                0                     0   \n",
       "\n",
       "   subscription_date_month plan_change_date_month last_active_date_month  \\\n",
       "0                        6                      0                      0   \n",
       "1                       11                      0                      0   \n",
       "\n",
       "   df_Jobstar_subscr_month  \n",
       "0                        6  \n",
       "1                       11  "
      ]
     },
     "execution_count": 49,
     "metadata": {},
     "output_type": "execute_result"
    }
   ],
   "source": [
    "df_Jobstar_subscr.head(2)"
   ]
  },
  {
   "cell_type": "code",
   "execution_count": null,
   "id": "60ee192b-3ff3-4142-a103-2fc212a19c61",
   "metadata": {},
   "outputs": [],
   "source": []
  },
  {
   "cell_type": "code",
   "execution_count": 50,
   "id": "4267dd29-084f-4b72-a95c-f265faf8224f",
   "metadata": {},
   "outputs": [
    {
     "data": {
      "text/html": [
       "<div>\n",
       "<style scoped>\n",
       "    .dataframe tbody tr th:only-of-type {\n",
       "        vertical-align: middle;\n",
       "    }\n",
       "\n",
       "    .dataframe tbody tr th {\n",
       "        vertical-align: top;\n",
       "    }\n",
       "\n",
       "    .dataframe thead th {\n",
       "        text-align: right;\n",
       "    }\n",
       "</style>\n",
       "<table border=\"1\" class=\"dataframe\">\n",
       "  <thead>\n",
       "    <tr style=\"text-align: right;\">\n",
       "      <th></th>\n",
       "      <th>user_id</th>\n",
       "      <th>age_group</th>\n",
       "      <th>city_tier</th>\n",
       "      <th>subscription_date</th>\n",
       "      <th>subscription_plan</th>\n",
       "      <th>last_active_date</th>\n",
       "      <th>plan_change_date</th>\n",
       "      <th>new_subscription_plan</th>\n",
       "      <th>subscription_date_month</th>\n",
       "      <th>plan_change_date_month</th>\n",
       "      <th>last_active_date_month</th>\n",
       "      <th>df_Jobstar_subscr_month</th>\n",
       "    </tr>\n",
       "  </thead>\n",
       "  <tbody>\n",
       "    <tr>\n",
       "      <th>1</th>\n",
       "      <td>UIDJS000093eeb86</td>\n",
       "      <td>18-24</td>\n",
       "      <td>Tier 1</td>\n",
       "      <td>2024-11-09</td>\n",
       "      <td>Free</td>\n",
       "      <td>0</td>\n",
       "      <td>0</td>\n",
       "      <td>0</td>\n",
       "      <td>11</td>\n",
       "      <td>0</td>\n",
       "      <td>0</td>\n",
       "      <td>11</td>\n",
       "    </tr>\n",
       "    <tr>\n",
       "      <th>2</th>\n",
       "      <td>UIDJS00010d7fa1e</td>\n",
       "      <td>25-34</td>\n",
       "      <td>Tier 1</td>\n",
       "      <td>2024-08-08</td>\n",
       "      <td>Free</td>\n",
       "      <td>0</td>\n",
       "      <td>0</td>\n",
       "      <td>0</td>\n",
       "      <td>8</td>\n",
       "      <td>0</td>\n",
       "      <td>0</td>\n",
       "      <td>8</td>\n",
       "    </tr>\n",
       "    <tr>\n",
       "      <th>5</th>\n",
       "      <td>UIDJS0003c1e814d</td>\n",
       "      <td>45+</td>\n",
       "      <td>Tier 1</td>\n",
       "      <td>2024-09-29</td>\n",
       "      <td>Free</td>\n",
       "      <td>0</td>\n",
       "      <td>0</td>\n",
       "      <td>0</td>\n",
       "      <td>9</td>\n",
       "      <td>0</td>\n",
       "      <td>0</td>\n",
       "      <td>9</td>\n",
       "    </tr>\n",
       "    <tr>\n",
       "      <th>10</th>\n",
       "      <td>UIDJS00066780176</td>\n",
       "      <td>35-44</td>\n",
       "      <td>Tier 2</td>\n",
       "      <td>2024-08-14</td>\n",
       "      <td>Free</td>\n",
       "      <td>2024-10-05 00:00:00</td>\n",
       "      <td>0</td>\n",
       "      <td>0</td>\n",
       "      <td>8</td>\n",
       "      <td>0</td>\n",
       "      <td>10.0</td>\n",
       "      <td>8</td>\n",
       "    </tr>\n",
       "    <tr>\n",
       "      <th>13</th>\n",
       "      <td>UIDJS000e99e1896</td>\n",
       "      <td>25-34</td>\n",
       "      <td>Tier 1</td>\n",
       "      <td>2024-05-14</td>\n",
       "      <td>Free</td>\n",
       "      <td>0</td>\n",
       "      <td>0</td>\n",
       "      <td>0</td>\n",
       "      <td>5</td>\n",
       "      <td>0</td>\n",
       "      <td>0</td>\n",
       "      <td>5</td>\n",
       "    </tr>\n",
       "    <tr>\n",
       "      <th>...</th>\n",
       "      <td>...</td>\n",
       "      <td>...</td>\n",
       "      <td>...</td>\n",
       "      <td>...</td>\n",
       "      <td>...</td>\n",
       "      <td>...</td>\n",
       "      <td>...</td>\n",
       "      <td>...</td>\n",
       "      <td>...</td>\n",
       "      <td>...</td>\n",
       "      <td>...</td>\n",
       "      <td>...</td>\n",
       "    </tr>\n",
       "    <tr>\n",
       "      <th>44608</th>\n",
       "      <td>UIDJSffe7b058dc8</td>\n",
       "      <td>35-44</td>\n",
       "      <td>Tier 2</td>\n",
       "      <td>2024-09-25</td>\n",
       "      <td>Free</td>\n",
       "      <td>0</td>\n",
       "      <td>0</td>\n",
       "      <td>0</td>\n",
       "      <td>9</td>\n",
       "      <td>0</td>\n",
       "      <td>0</td>\n",
       "      <td>9</td>\n",
       "    </tr>\n",
       "    <tr>\n",
       "      <th>44609</th>\n",
       "      <td>UIDJSffe7ef360be</td>\n",
       "      <td>18-24</td>\n",
       "      <td>Tier 3</td>\n",
       "      <td>2024-06-18</td>\n",
       "      <td>Free</td>\n",
       "      <td>0</td>\n",
       "      <td>0</td>\n",
       "      <td>0</td>\n",
       "      <td>6</td>\n",
       "      <td>0</td>\n",
       "      <td>0</td>\n",
       "      <td>6</td>\n",
       "    </tr>\n",
       "    <tr>\n",
       "      <th>44614</th>\n",
       "      <td>UIDJSfff648eaa52</td>\n",
       "      <td>25-34</td>\n",
       "      <td>Tier 1</td>\n",
       "      <td>2024-02-28</td>\n",
       "      <td>Free</td>\n",
       "      <td>2024-09-12 00:00:00</td>\n",
       "      <td>0</td>\n",
       "      <td>0</td>\n",
       "      <td>2</td>\n",
       "      <td>0</td>\n",
       "      <td>9.0</td>\n",
       "      <td>2</td>\n",
       "    </tr>\n",
       "    <tr>\n",
       "      <th>44615</th>\n",
       "      <td>UIDJSfffbb38249e</td>\n",
       "      <td>25-34</td>\n",
       "      <td>Tier 2</td>\n",
       "      <td>2024-11-12</td>\n",
       "      <td>Free</td>\n",
       "      <td>0</td>\n",
       "      <td>0</td>\n",
       "      <td>0</td>\n",
       "      <td>11</td>\n",
       "      <td>0</td>\n",
       "      <td>0</td>\n",
       "      <td>11</td>\n",
       "    </tr>\n",
       "    <tr>\n",
       "      <th>44619</th>\n",
       "      <td>UIDJSffffe298c56</td>\n",
       "      <td>25-34</td>\n",
       "      <td>Tier 2</td>\n",
       "      <td>2024-09-10</td>\n",
       "      <td>Free</td>\n",
       "      <td>0</td>\n",
       "      <td>0</td>\n",
       "      <td>0</td>\n",
       "      <td>9</td>\n",
       "      <td>0</td>\n",
       "      <td>0</td>\n",
       "      <td>9</td>\n",
       "    </tr>\n",
       "  </tbody>\n",
       "</table>\n",
       "<p>12096 rows × 12 columns</p>\n",
       "</div>"
      ],
      "text/plain": [
       "                user_id age_group city_tier subscription_date  \\\n",
       "1      UIDJS000093eeb86     18-24    Tier 1        2024-11-09   \n",
       "2      UIDJS00010d7fa1e     25-34    Tier 1        2024-08-08   \n",
       "5      UIDJS0003c1e814d       45+    Tier 1        2024-09-29   \n",
       "10     UIDJS00066780176     35-44    Tier 2        2024-08-14   \n",
       "13     UIDJS000e99e1896     25-34    Tier 1        2024-05-14   \n",
       "...                 ...       ...       ...               ...   \n",
       "44608  UIDJSffe7b058dc8     35-44    Tier 2        2024-09-25   \n",
       "44609  UIDJSffe7ef360be     18-24    Tier 3        2024-06-18   \n",
       "44614  UIDJSfff648eaa52     25-34    Tier 1        2024-02-28   \n",
       "44615  UIDJSfffbb38249e     25-34    Tier 2        2024-11-12   \n",
       "44619  UIDJSffffe298c56     25-34    Tier 2        2024-09-10   \n",
       "\n",
       "      subscription_plan     last_active_date plan_change_date  \\\n",
       "1                  Free                    0                0   \n",
       "2                  Free                    0                0   \n",
       "5                  Free                    0                0   \n",
       "10                 Free  2024-10-05 00:00:00                0   \n",
       "13                 Free                    0                0   \n",
       "...                 ...                  ...              ...   \n",
       "44608              Free                    0                0   \n",
       "44609              Free                    0                0   \n",
       "44614              Free  2024-09-12 00:00:00                0   \n",
       "44615              Free                    0                0   \n",
       "44619              Free                    0                0   \n",
       "\n",
       "      new_subscription_plan  subscription_date_month plan_change_date_month  \\\n",
       "1                         0                       11                      0   \n",
       "2                         0                        8                      0   \n",
       "5                         0                        9                      0   \n",
       "10                        0                        8                      0   \n",
       "13                        0                        5                      0   \n",
       "...                     ...                      ...                    ...   \n",
       "44608                     0                        9                      0   \n",
       "44609                     0                        6                      0   \n",
       "44614                     0                        2                      0   \n",
       "44615                     0                       11                      0   \n",
       "44619                     0                        9                      0   \n",
       "\n",
       "      last_active_date_month  df_Jobstar_subscr_month  \n",
       "1                          0                       11  \n",
       "2                          0                        8  \n",
       "5                          0                        9  \n",
       "10                      10.0                        8  \n",
       "13                         0                        5  \n",
       "...                      ...                      ...  \n",
       "44608                      0                        9  \n",
       "44609                      0                        6  \n",
       "44614                    9.0                        2  \n",
       "44615                      0                       11  \n",
       "44619                      0                        9  \n",
       "\n",
       "[12096 rows x 12 columns]"
      ]
     },
     "execution_count": 50,
     "metadata": {},
     "output_type": "execute_result"
    }
   ],
   "source": [
    "df_Jobstar_subscr[df_Jobstar_subscr['subscription_plan']=='Free']"
   ]
  },
  {
   "cell_type": "code",
   "execution_count": 51,
   "id": "525aefb6-61b1-4e51-b462-7e48d9c2ffe4",
   "metadata": {},
   "outputs": [
    {
     "data": {
      "text/html": [
       "<div>\n",
       "<style scoped>\n",
       "    .dataframe tbody tr th:only-of-type {\n",
       "        vertical-align: middle;\n",
       "    }\n",
       "\n",
       "    .dataframe tbody tr th {\n",
       "        vertical-align: top;\n",
       "    }\n",
       "\n",
       "    .dataframe thead th {\n",
       "        text-align: right;\n",
       "    }\n",
       "</style>\n",
       "<table border=\"1\" class=\"dataframe\">\n",
       "  <thead>\n",
       "    <tr style=\"text-align: right;\">\n",
       "      <th></th>\n",
       "      <th>user_id</th>\n",
       "      <th>age_group</th>\n",
       "      <th>city_tier</th>\n",
       "      <th>subscription_date</th>\n",
       "      <th>subscription_plan</th>\n",
       "      <th>last_active_date</th>\n",
       "      <th>plan_change_date</th>\n",
       "      <th>new_subscription_plan</th>\n",
       "      <th>subscription_date_month</th>\n",
       "      <th>plan_change_date_month</th>\n",
       "      <th>last_active_date_month</th>\n",
       "      <th>df_Jobstar_subscr_month</th>\n",
       "    </tr>\n",
       "  </thead>\n",
       "  <tbody>\n",
       "    <tr>\n",
       "      <th>0</th>\n",
       "      <td>UIDJS0000751588f</td>\n",
       "      <td>18-24</td>\n",
       "      <td>Tier 1</td>\n",
       "      <td>2024-06-10</td>\n",
       "      <td>Premium</td>\n",
       "      <td>0</td>\n",
       "      <td>0</td>\n",
       "      <td>0</td>\n",
       "      <td>6</td>\n",
       "      <td>0</td>\n",
       "      <td>0</td>\n",
       "      <td>6</td>\n",
       "    </tr>\n",
       "    <tr>\n",
       "      <th>3</th>\n",
       "      <td>UIDJS00013411a85</td>\n",
       "      <td>35-44</td>\n",
       "      <td>Tier 2</td>\n",
       "      <td>2024-05-31</td>\n",
       "      <td>VIP</td>\n",
       "      <td>0</td>\n",
       "      <td>0</td>\n",
       "      <td>0</td>\n",
       "      <td>5</td>\n",
       "      <td>0</td>\n",
       "      <td>0</td>\n",
       "      <td>5</td>\n",
       "    </tr>\n",
       "    <tr>\n",
       "      <th>4</th>\n",
       "      <td>UIDJS0003a3f54cf</td>\n",
       "      <td>35-44</td>\n",
       "      <td>Tier 1</td>\n",
       "      <td>2024-09-20</td>\n",
       "      <td>Premium</td>\n",
       "      <td>0</td>\n",
       "      <td>0</td>\n",
       "      <td>0</td>\n",
       "      <td>9</td>\n",
       "      <td>0</td>\n",
       "      <td>0</td>\n",
       "      <td>9</td>\n",
       "    </tr>\n",
       "    <tr>\n",
       "      <th>6</th>\n",
       "      <td>UIDJS0005148a254</td>\n",
       "      <td>18-24</td>\n",
       "      <td>Tier 1</td>\n",
       "      <td>2024-11-10</td>\n",
       "      <td>Premium</td>\n",
       "      <td>0</td>\n",
       "      <td>0</td>\n",
       "      <td>0</td>\n",
       "      <td>11</td>\n",
       "      <td>0</td>\n",
       "      <td>0</td>\n",
       "      <td>11</td>\n",
       "    </tr>\n",
       "    <tr>\n",
       "      <th>7</th>\n",
       "      <td>UIDJS00053f36fed</td>\n",
       "      <td>25-34</td>\n",
       "      <td>Tier 1</td>\n",
       "      <td>2024-03-07</td>\n",
       "      <td>Premium</td>\n",
       "      <td>0</td>\n",
       "      <td>0</td>\n",
       "      <td>0</td>\n",
       "      <td>3</td>\n",
       "      <td>0</td>\n",
       "      <td>0</td>\n",
       "      <td>3</td>\n",
       "    </tr>\n",
       "    <tr>\n",
       "      <th>...</th>\n",
       "      <td>...</td>\n",
       "      <td>...</td>\n",
       "      <td>...</td>\n",
       "      <td>...</td>\n",
       "      <td>...</td>\n",
       "      <td>...</td>\n",
       "      <td>...</td>\n",
       "      <td>...</td>\n",
       "      <td>...</td>\n",
       "      <td>...</td>\n",
       "      <td>...</td>\n",
       "      <td>...</td>\n",
       "    </tr>\n",
       "    <tr>\n",
       "      <th>44612</th>\n",
       "      <td>UIDJSfff308d721b</td>\n",
       "      <td>18-24</td>\n",
       "      <td>Tier 1</td>\n",
       "      <td>2024-09-15</td>\n",
       "      <td>VIP</td>\n",
       "      <td>0</td>\n",
       "      <td>0</td>\n",
       "      <td>0</td>\n",
       "      <td>9</td>\n",
       "      <td>0</td>\n",
       "      <td>0</td>\n",
       "      <td>9</td>\n",
       "    </tr>\n",
       "    <tr>\n",
       "      <th>44613</th>\n",
       "      <td>UIDJSfff4a6261d2</td>\n",
       "      <td>35-44</td>\n",
       "      <td>Tier 2</td>\n",
       "      <td>2024-02-22</td>\n",
       "      <td>VIP</td>\n",
       "      <td>0</td>\n",
       "      <td>2024-05-22 00:00:00</td>\n",
       "      <td>Free</td>\n",
       "      <td>2</td>\n",
       "      <td>5.0</td>\n",
       "      <td>0</td>\n",
       "      <td>2</td>\n",
       "    </tr>\n",
       "    <tr>\n",
       "      <th>44616</th>\n",
       "      <td>UIDJSfffbd759005</td>\n",
       "      <td>45+</td>\n",
       "      <td>Tier 1</td>\n",
       "      <td>2024-05-21</td>\n",
       "      <td>VIP</td>\n",
       "      <td>0</td>\n",
       "      <td>0</td>\n",
       "      <td>0</td>\n",
       "      <td>5</td>\n",
       "      <td>0</td>\n",
       "      <td>0</td>\n",
       "      <td>5</td>\n",
       "    </tr>\n",
       "    <tr>\n",
       "      <th>44617</th>\n",
       "      <td>UIDJSfffebd3002b</td>\n",
       "      <td>25-34</td>\n",
       "      <td>Tier 1</td>\n",
       "      <td>2024-09-27</td>\n",
       "      <td>VIP</td>\n",
       "      <td>2024-10-29 00:00:00</td>\n",
       "      <td>0</td>\n",
       "      <td>0</td>\n",
       "      <td>9</td>\n",
       "      <td>0</td>\n",
       "      <td>10.0</td>\n",
       "      <td>9</td>\n",
       "    </tr>\n",
       "    <tr>\n",
       "      <th>44618</th>\n",
       "      <td>UIDJSffff6698084</td>\n",
       "      <td>35-44</td>\n",
       "      <td>Tier 3</td>\n",
       "      <td>2024-10-12</td>\n",
       "      <td>VIP</td>\n",
       "      <td>0</td>\n",
       "      <td>0</td>\n",
       "      <td>0</td>\n",
       "      <td>10</td>\n",
       "      <td>0</td>\n",
       "      <td>0</td>\n",
       "      <td>10</td>\n",
       "    </tr>\n",
       "  </tbody>\n",
       "</table>\n",
       "<p>32524 rows × 12 columns</p>\n",
       "</div>"
      ],
      "text/plain": [
       "                user_id age_group city_tier subscription_date  \\\n",
       "0      UIDJS0000751588f     18-24    Tier 1        2024-06-10   \n",
       "3      UIDJS00013411a85     35-44    Tier 2        2024-05-31   \n",
       "4      UIDJS0003a3f54cf     35-44    Tier 1        2024-09-20   \n",
       "6      UIDJS0005148a254     18-24    Tier 1        2024-11-10   \n",
       "7      UIDJS00053f36fed     25-34    Tier 1        2024-03-07   \n",
       "...                 ...       ...       ...               ...   \n",
       "44612  UIDJSfff308d721b     18-24    Tier 1        2024-09-15   \n",
       "44613  UIDJSfff4a6261d2     35-44    Tier 2        2024-02-22   \n",
       "44616  UIDJSfffbd759005       45+    Tier 1        2024-05-21   \n",
       "44617  UIDJSfffebd3002b     25-34    Tier 1        2024-09-27   \n",
       "44618  UIDJSffff6698084     35-44    Tier 3        2024-10-12   \n",
       "\n",
       "      subscription_plan     last_active_date     plan_change_date  \\\n",
       "0               Premium                    0                    0   \n",
       "3                   VIP                    0                    0   \n",
       "4               Premium                    0                    0   \n",
       "6               Premium                    0                    0   \n",
       "7               Premium                    0                    0   \n",
       "...                 ...                  ...                  ...   \n",
       "44612               VIP                    0                    0   \n",
       "44613               VIP                    0  2024-05-22 00:00:00   \n",
       "44616               VIP                    0                    0   \n",
       "44617               VIP  2024-10-29 00:00:00                    0   \n",
       "44618               VIP                    0                    0   \n",
       "\n",
       "      new_subscription_plan  subscription_date_month plan_change_date_month  \\\n",
       "0                         0                        6                      0   \n",
       "3                         0                        5                      0   \n",
       "4                         0                        9                      0   \n",
       "6                         0                       11                      0   \n",
       "7                         0                        3                      0   \n",
       "...                     ...                      ...                    ...   \n",
       "44612                     0                        9                      0   \n",
       "44613                  Free                        2                    5.0   \n",
       "44616                     0                        5                      0   \n",
       "44617                     0                        9                      0   \n",
       "44618                     0                       10                      0   \n",
       "\n",
       "      last_active_date_month  df_Jobstar_subscr_month  \n",
       "0                          0                        6  \n",
       "3                          0                        5  \n",
       "4                          0                        9  \n",
       "6                          0                       11  \n",
       "7                          0                        3  \n",
       "...                      ...                      ...  \n",
       "44612                      0                        9  \n",
       "44613                      0                        2  \n",
       "44616                      0                        5  \n",
       "44617                   10.0                        9  \n",
       "44618                      0                       10  \n",
       "\n",
       "[32524 rows x 12 columns]"
      ]
     },
     "execution_count": 51,
     "metadata": {},
     "output_type": "execute_result"
    }
   ],
   "source": [
    "df_Jobstar_subscr[df_Jobstar_subscr['subscription_plan']!='Free']"
   ]
  },
  {
   "cell_type": "code",
   "execution_count": null,
   "id": "31643d83-741b-4f30-b6c1-3ae2a6009403",
   "metadata": {},
   "outputs": [],
   "source": []
  },
  {
   "cell_type": "code",
   "execution_count": 52,
   "id": "48b754cf-c019-4507-ab18-241ea7efef72",
   "metadata": {},
   "outputs": [
    {
     "data": {
      "text/plain": [
       "user_id                    44620\n",
       "age_group                  44620\n",
       "city_tier                  44620\n",
       "subscription_date          44620\n",
       "subscription_plan          44620\n",
       "last_active_date           44620\n",
       "plan_change_date           44620\n",
       "new_subscription_plan      44620\n",
       "subscription_date_month    44620\n",
       "plan_change_date_month     44620\n",
       "last_active_date_month     44620\n",
       "df_Jobstar_subscr_month    44620\n",
       "dtype: int64"
      ]
     },
     "execution_count": 52,
     "metadata": {},
     "output_type": "execute_result"
    }
   ],
   "source": [
    "df_Jobstar_subscr.count()"
   ]
  },
  {
   "cell_type": "code",
   "execution_count": null,
   "id": "43cac06a-0c5f-4fa1-93a7-b87cfa20bf1d",
   "metadata": {},
   "outputs": [],
   "source": []
  },
  {
   "cell_type": "code",
   "execution_count": 53,
   "id": "36f652b3-5018-404a-bf14-965b270f00a6",
   "metadata": {},
   "outputs": [
    {
     "data": {
      "text/plain": [
       "user_id                    37968\n",
       "age_group                  37968\n",
       "city_tier                  37968\n",
       "subscription_date          37968\n",
       "subscription_plan          37968\n",
       "last_active_date           37968\n",
       "plan_change_date           37968\n",
       "new_subscription_plan      37968\n",
       "subscription_date_month    37968\n",
       "plan_change_date_month     37968\n",
       "last_active_date_month     37968\n",
       "df_Jobstar_subscr_month    37968\n",
       "dtype: int64"
      ]
     },
     "execution_count": 53,
     "metadata": {},
     "output_type": "execute_result"
    }
   ],
   "source": [
    "df_Jobstar_subscr[df_Jobstar_subscr['last_active_date']=='0'].count()"
   ]
  },
  {
   "cell_type": "code",
   "execution_count": 54,
   "id": "6f550cca-e82a-4919-a2f2-3f1107a5e868",
   "metadata": {},
   "outputs": [
    {
     "data": {
      "text/plain": [
       "user_id                    6652\n",
       "age_group                  6652\n",
       "city_tier                  6652\n",
       "subscription_date          6652\n",
       "subscription_plan          6652\n",
       "last_active_date           6652\n",
       "plan_change_date           6652\n",
       "new_subscription_plan      6652\n",
       "subscription_date_month    6652\n",
       "plan_change_date_month     6652\n",
       "last_active_date_month     6652\n",
       "df_Jobstar_subscr_month    6652\n",
       "dtype: int64"
      ]
     },
     "execution_count": 54,
     "metadata": {},
     "output_type": "execute_result"
    }
   ],
   "source": [
    "df_Jobstar_subscr[df_Jobstar_subscr['last_active_date']!='0'].count()"
   ]
  },
  {
   "cell_type": "code",
   "execution_count": null,
   "id": "2b3a0c76-6bd4-4ec4-ac0f-c45e9a52b47d",
   "metadata": {},
   "outputs": [],
   "source": []
  },
  {
   "cell_type": "code",
   "execution_count": null,
   "id": "1a893f86-f3b4-4979-91fc-307032ec02b2",
   "metadata": {},
   "outputs": [],
   "source": []
  },
  {
   "cell_type": "code",
   "execution_count": null,
   "id": "40bcf633-facb-4256-8745-7dd9ceaaa245",
   "metadata": {},
   "outputs": [],
   "source": []
  },
  {
   "cell_type": "code",
   "execution_count": null,
   "id": "46978d6c-fdd8-4aef-85ec-a53badbb8b23",
   "metadata": {},
   "outputs": [],
   "source": []
  },
  {
   "cell_type": "code",
   "execution_count": null,
   "id": "d2f43364-84e4-4024-adeb-bc02565b9100",
   "metadata": {},
   "outputs": [],
   "source": []
  },
  {
   "cell_type": "code",
   "execution_count": null,
   "id": "f6967f23-8e94-4eb4-853b-583a5f1d31e2",
   "metadata": {},
   "outputs": [],
   "source": []
  },
  {
   "cell_type": "code",
   "execution_count": null,
   "id": "9fbb4444-69cb-4f5b-8e9e-db2464c02ca8",
   "metadata": {},
   "outputs": [],
   "source": []
  },
  {
   "cell_type": "code",
   "execution_count": 55,
   "id": "d6907483-3648-428f-b27a-2d9e05f77a0b",
   "metadata": {},
   "outputs": [],
   "source": [
    "df1_non_active=df_liocinema_subscr[df_liocinema_subscr['last_active_date']!='0']\n",
    "df1_active=df_liocinema_subscr[df_liocinema_subscr['last_active_date']=='0']\n",
    "\n",
    "df2_non_active=df_Jobstar_subscr[df_Jobstar_subscr['last_active_date']!='0']\n",
    "df2_active=df_Jobstar_subscr[df_Jobstar_subscr['last_active_date']=='0']\n"
   ]
  },
  {
   "cell_type": "code",
   "execution_count": 56,
   "id": "867faa38-40bd-4f35-8bc0-4306df8cd763",
   "metadata": {},
   "outputs": [
    {
     "data": {
      "text/html": [
       "<div>\n",
       "<style scoped>\n",
       "    .dataframe tbody tr th:only-of-type {\n",
       "        vertical-align: middle;\n",
       "    }\n",
       "\n",
       "    .dataframe tbody tr th {\n",
       "        vertical-align: top;\n",
       "    }\n",
       "\n",
       "    .dataframe thead th {\n",
       "        text-align: right;\n",
       "    }\n",
       "</style>\n",
       "<table border=\"1\" class=\"dataframe\">\n",
       "  <thead>\n",
       "    <tr style=\"text-align: right;\">\n",
       "      <th></th>\n",
       "      <th>user_id</th>\n",
       "      <th>age_group</th>\n",
       "      <th>city_tier</th>\n",
       "      <th>subscription_date</th>\n",
       "      <th>subscription_plan</th>\n",
       "      <th>last_active_date</th>\n",
       "      <th>plan_change_date</th>\n",
       "      <th>new_subscription_plan</th>\n",
       "      <th>subscription_date_month</th>\n",
       "      <th>plan_change_date_month</th>\n",
       "      <th>last_active_date_month</th>\n",
       "    </tr>\n",
       "  </thead>\n",
       "  <tbody>\n",
       "    <tr>\n",
       "      <th>3</th>\n",
       "      <td>UIDLC000186abd93</td>\n",
       "      <td>18-24</td>\n",
       "      <td>Tier 3</td>\n",
       "      <td>2024-09-07</td>\n",
       "      <td>Free</td>\n",
       "      <td>2024-10-23 00:00:00</td>\n",
       "      <td>0</td>\n",
       "      <td>0</td>\n",
       "      <td>9</td>\n",
       "      <td>0</td>\n",
       "      <td>10</td>\n",
       "    </tr>\n",
       "    <tr>\n",
       "      <th>5</th>\n",
       "      <td>UIDLC000362cba39</td>\n",
       "      <td>25-34</td>\n",
       "      <td>Tier 3</td>\n",
       "      <td>2024-06-09</td>\n",
       "      <td>Free</td>\n",
       "      <td>2024-07-29 00:00:00</td>\n",
       "      <td>0</td>\n",
       "      <td>0</td>\n",
       "      <td>6</td>\n",
       "      <td>0</td>\n",
       "      <td>7</td>\n",
       "    </tr>\n",
       "  </tbody>\n",
       "</table>\n",
       "</div>"
      ],
      "text/plain": [
       "            user_id age_group city_tier subscription_date subscription_plan  \\\n",
       "3  UIDLC000186abd93     18-24    Tier 3        2024-09-07              Free   \n",
       "5  UIDLC000362cba39     25-34    Tier 3        2024-06-09              Free   \n",
       "\n",
       "      last_active_date plan_change_date new_subscription_plan  \\\n",
       "3  2024-10-23 00:00:00                0                     0   \n",
       "5  2024-07-29 00:00:00                0                     0   \n",
       "\n",
       "   subscription_date_month  plan_change_date_month  last_active_date_month  \n",
       "3                        9                       0                      10  \n",
       "5                        6                       0                       7  "
      ]
     },
     "execution_count": 56,
     "metadata": {},
     "output_type": "execute_result"
    }
   ],
   "source": [
    "df1_non_active.head(2)"
   ]
  },
  {
   "cell_type": "code",
   "execution_count": 57,
   "id": "3cc8ff1c-a6ed-4af8-b2dd-d5276afe0185",
   "metadata": {},
   "outputs": [
    {
     "data": {
      "text/html": [
       "<div>\n",
       "<style scoped>\n",
       "    .dataframe tbody tr th:only-of-type {\n",
       "        vertical-align: middle;\n",
       "    }\n",
       "\n",
       "    .dataframe tbody tr th {\n",
       "        vertical-align: top;\n",
       "    }\n",
       "\n",
       "    .dataframe thead th {\n",
       "        text-align: right;\n",
       "    }\n",
       "</style>\n",
       "<table border=\"1\" class=\"dataframe\">\n",
       "  <thead>\n",
       "    <tr style=\"text-align: right;\">\n",
       "      <th></th>\n",
       "      <th>user_id</th>\n",
       "      <th>age_group</th>\n",
       "      <th>city_tier</th>\n",
       "      <th>subscription_date</th>\n",
       "      <th>subscription_plan</th>\n",
       "      <th>last_active_date</th>\n",
       "      <th>plan_change_date</th>\n",
       "      <th>new_subscription_plan</th>\n",
       "      <th>subscription_date_month</th>\n",
       "      <th>plan_change_date_month</th>\n",
       "      <th>last_active_date_month</th>\n",
       "      <th>df_Jobstar_subscr_month</th>\n",
       "    </tr>\n",
       "  </thead>\n",
       "  <tbody>\n",
       "    <tr>\n",
       "      <th>9</th>\n",
       "      <td>UIDJS0005f952957</td>\n",
       "      <td>25-34</td>\n",
       "      <td>Tier 3</td>\n",
       "      <td>2024-09-29</td>\n",
       "      <td>VIP</td>\n",
       "      <td>2024-12-02 00:00:00</td>\n",
       "      <td>0</td>\n",
       "      <td>0</td>\n",
       "      <td>9</td>\n",
       "      <td>0</td>\n",
       "      <td>12.0</td>\n",
       "      <td>9</td>\n",
       "    </tr>\n",
       "    <tr>\n",
       "      <th>10</th>\n",
       "      <td>UIDJS00066780176</td>\n",
       "      <td>35-44</td>\n",
       "      <td>Tier 2</td>\n",
       "      <td>2024-08-14</td>\n",
       "      <td>Free</td>\n",
       "      <td>2024-10-05 00:00:00</td>\n",
       "      <td>0</td>\n",
       "      <td>0</td>\n",
       "      <td>8</td>\n",
       "      <td>0</td>\n",
       "      <td>10.0</td>\n",
       "      <td>8</td>\n",
       "    </tr>\n",
       "  </tbody>\n",
       "</table>\n",
       "</div>"
      ],
      "text/plain": [
       "             user_id age_group city_tier subscription_date subscription_plan  \\\n",
       "9   UIDJS0005f952957     25-34    Tier 3        2024-09-29               VIP   \n",
       "10  UIDJS00066780176     35-44    Tier 2        2024-08-14              Free   \n",
       "\n",
       "       last_active_date plan_change_date new_subscription_plan  \\\n",
       "9   2024-12-02 00:00:00                0                     0   \n",
       "10  2024-10-05 00:00:00                0                     0   \n",
       "\n",
       "    subscription_date_month plan_change_date_month last_active_date_month  \\\n",
       "9                         9                      0                   12.0   \n",
       "10                        8                      0                   10.0   \n",
       "\n",
       "    df_Jobstar_subscr_month  \n",
       "9                         9  \n",
       "10                        8  "
      ]
     },
     "execution_count": 57,
     "metadata": {},
     "output_type": "execute_result"
    }
   ],
   "source": [
    "df2_non_active.head(2)"
   ]
  },
  {
   "cell_type": "code",
   "execution_count": 58,
   "id": "1b8716c5-f9fe-4f8f-95a0-57c140e19191",
   "metadata": {},
   "outputs": [
    {
     "data": {
      "text/html": [
       "<div>\n",
       "<style scoped>\n",
       "    .dataframe tbody tr th:only-of-type {\n",
       "        vertical-align: middle;\n",
       "    }\n",
       "\n",
       "    .dataframe tbody tr th {\n",
       "        vertical-align: top;\n",
       "    }\n",
       "\n",
       "    .dataframe thead th {\n",
       "        text-align: right;\n",
       "    }\n",
       "</style>\n",
       "<table border=\"1\" class=\"dataframe\">\n",
       "  <thead>\n",
       "    <tr style=\"text-align: right;\">\n",
       "      <th></th>\n",
       "      <th>user_id</th>\n",
       "      <th>age_group</th>\n",
       "      <th>city_tier</th>\n",
       "      <th>subscription_date</th>\n",
       "      <th>subscription_plan</th>\n",
       "      <th>last_active_date</th>\n",
       "      <th>plan_change_date</th>\n",
       "      <th>new_subscription_plan</th>\n",
       "      <th>subscription_date_month</th>\n",
       "      <th>plan_change_date_month</th>\n",
       "      <th>last_active_date_month</th>\n",
       "    </tr>\n",
       "  </thead>\n",
       "  <tbody>\n",
       "    <tr>\n",
       "      <th>0</th>\n",
       "      <td>UIDLC00000bea68a</td>\n",
       "      <td>25-34</td>\n",
       "      <td>Tier 3</td>\n",
       "      <td>2024-10-24</td>\n",
       "      <td>Free</td>\n",
       "      <td>0</td>\n",
       "      <td>0</td>\n",
       "      <td>0</td>\n",
       "      <td>10</td>\n",
       "      <td>0</td>\n",
       "      <td>0</td>\n",
       "    </tr>\n",
       "    <tr>\n",
       "      <th>1</th>\n",
       "      <td>UIDLC00009202848</td>\n",
       "      <td>18-24</td>\n",
       "      <td>Tier 1</td>\n",
       "      <td>2024-09-18</td>\n",
       "      <td>Basic</td>\n",
       "      <td>0</td>\n",
       "      <td>0</td>\n",
       "      <td>0</td>\n",
       "      <td>9</td>\n",
       "      <td>0</td>\n",
       "      <td>0</td>\n",
       "    </tr>\n",
       "  </tbody>\n",
       "</table>\n",
       "</div>"
      ],
      "text/plain": [
       "            user_id age_group city_tier subscription_date subscription_plan  \\\n",
       "0  UIDLC00000bea68a     25-34    Tier 3        2024-10-24              Free   \n",
       "1  UIDLC00009202848     18-24    Tier 1        2024-09-18             Basic   \n",
       "\n",
       "  last_active_date plan_change_date new_subscription_plan  \\\n",
       "0                0                0                     0   \n",
       "1                0                0                     0   \n",
       "\n",
       "   subscription_date_month  plan_change_date_month  last_active_date_month  \n",
       "0                       10                       0                       0  \n",
       "1                        9                       0                       0  "
      ]
     },
     "execution_count": 58,
     "metadata": {},
     "output_type": "execute_result"
    }
   ],
   "source": [
    "df1_active.head(2)"
   ]
  },
  {
   "cell_type": "code",
   "execution_count": 59,
   "id": "8d983df6-5ec1-445c-a2e5-711db8f8c0bf",
   "metadata": {},
   "outputs": [
    {
     "data": {
      "text/html": [
       "<div>\n",
       "<style scoped>\n",
       "    .dataframe tbody tr th:only-of-type {\n",
       "        vertical-align: middle;\n",
       "    }\n",
       "\n",
       "    .dataframe tbody tr th {\n",
       "        vertical-align: top;\n",
       "    }\n",
       "\n",
       "    .dataframe thead th {\n",
       "        text-align: right;\n",
       "    }\n",
       "</style>\n",
       "<table border=\"1\" class=\"dataframe\">\n",
       "  <thead>\n",
       "    <tr style=\"text-align: right;\">\n",
       "      <th></th>\n",
       "      <th>user_id</th>\n",
       "      <th>age_group</th>\n",
       "      <th>city_tier</th>\n",
       "      <th>subscription_date</th>\n",
       "      <th>subscription_plan</th>\n",
       "      <th>last_active_date</th>\n",
       "      <th>plan_change_date</th>\n",
       "      <th>new_subscription_plan</th>\n",
       "      <th>subscription_date_month</th>\n",
       "      <th>plan_change_date_month</th>\n",
       "      <th>last_active_date_month</th>\n",
       "      <th>df_Jobstar_subscr_month</th>\n",
       "    </tr>\n",
       "  </thead>\n",
       "  <tbody>\n",
       "    <tr>\n",
       "      <th>0</th>\n",
       "      <td>UIDJS0000751588f</td>\n",
       "      <td>18-24</td>\n",
       "      <td>Tier 1</td>\n",
       "      <td>2024-06-10</td>\n",
       "      <td>Premium</td>\n",
       "      <td>0</td>\n",
       "      <td>0</td>\n",
       "      <td>0</td>\n",
       "      <td>6</td>\n",
       "      <td>0</td>\n",
       "      <td>0</td>\n",
       "      <td>6</td>\n",
       "    </tr>\n",
       "    <tr>\n",
       "      <th>1</th>\n",
       "      <td>UIDJS000093eeb86</td>\n",
       "      <td>18-24</td>\n",
       "      <td>Tier 1</td>\n",
       "      <td>2024-11-09</td>\n",
       "      <td>Free</td>\n",
       "      <td>0</td>\n",
       "      <td>0</td>\n",
       "      <td>0</td>\n",
       "      <td>11</td>\n",
       "      <td>0</td>\n",
       "      <td>0</td>\n",
       "      <td>11</td>\n",
       "    </tr>\n",
       "  </tbody>\n",
       "</table>\n",
       "</div>"
      ],
      "text/plain": [
       "            user_id age_group city_tier subscription_date subscription_plan  \\\n",
       "0  UIDJS0000751588f     18-24    Tier 1        2024-06-10           Premium   \n",
       "1  UIDJS000093eeb86     18-24    Tier 1        2024-11-09              Free   \n",
       "\n",
       "  last_active_date plan_change_date new_subscription_plan  \\\n",
       "0                0                0                     0   \n",
       "1                0                0                     0   \n",
       "\n",
       "   subscription_date_month plan_change_date_month last_active_date_month  \\\n",
       "0                        6                      0                      0   \n",
       "1                       11                      0                      0   \n",
       "\n",
       "   df_Jobstar_subscr_month  \n",
       "0                        6  \n",
       "1                       11  "
      ]
     },
     "execution_count": 59,
     "metadata": {},
     "output_type": "execute_result"
    }
   ],
   "source": [
    "df2_active.head(2)"
   ]
  },
  {
   "cell_type": "code",
   "execution_count": 60,
   "id": "edd226da-c14d-4d0c-a0ae-4decbc1ae570",
   "metadata": {},
   "outputs": [
    {
     "data": {
      "text/plain": [
       "183446"
      ]
     },
     "execution_count": 60,
     "metadata": {},
     "output_type": "execute_result"
    }
   ],
   "source": [
    "df_liocinema_subscr['last_active_date'].count()"
   ]
  },
  {
   "cell_type": "code",
   "execution_count": 61,
   "id": "fc4324a9-09f4-4126-8cf2-f04a9b8ae880",
   "metadata": {},
   "outputs": [
    {
     "data": {
      "text/plain": [
       "101141"
      ]
     },
     "execution_count": 61,
     "metadata": {},
     "output_type": "execute_result"
    }
   ],
   "source": [
    "df1_active['last_active_date'].count()"
   ]
  },
  {
   "cell_type": "code",
   "execution_count": 62,
   "id": "05de4e63-45a4-49a6-b292-7c6925871c3c",
   "metadata": {},
   "outputs": [],
   "source": [
    "Percentage1=(df1_active['last_active_date'].count()/df_liocinema_subscr['last_active_date'].count()*100).round(2)"
   ]
  },
  {
   "cell_type": "code",
   "execution_count": 63,
   "id": "07c4403f-642c-470f-89f8-f642c324929c",
   "metadata": {},
   "outputs": [
    {
     "name": "stdout",
     "output_type": "stream",
     "text": [
      "liocenima Active Vs Inactive Percentage \n",
      "55.13\n"
     ]
    }
   ],
   "source": [
    "print('liocenima Active Vs Inactive Percentage ')\n",
    "print(Percentage1)"
   ]
  },
  {
   "cell_type": "code",
   "execution_count": null,
   "id": "81697202-33fa-4e76-847f-57be5dcc74fc",
   "metadata": {},
   "outputs": [],
   "source": []
  },
  {
   "cell_type": "code",
   "execution_count": 64,
   "id": "3eb19e14-c6c2-40a6-b88a-1a919a7f5780",
   "metadata": {},
   "outputs": [
    {
     "data": {
      "text/plain": [
       "44620"
      ]
     },
     "execution_count": 64,
     "metadata": {},
     "output_type": "execute_result"
    }
   ],
   "source": [
    "df_Jobstar_subscr['last_active_date'].count()"
   ]
  },
  {
   "cell_type": "code",
   "execution_count": 65,
   "id": "f04ff3ab-83b6-4663-9e5b-db68de3260a0",
   "metadata": {},
   "outputs": [
    {
     "data": {
      "text/plain": [
       "37968"
      ]
     },
     "execution_count": 65,
     "metadata": {},
     "output_type": "execute_result"
    }
   ],
   "source": [
    "df2_active['last_active_date'].count()"
   ]
  },
  {
   "cell_type": "code",
   "execution_count": 66,
   "id": "1c1c237f-307c-4ed3-b02f-fb06f11c75dc",
   "metadata": {},
   "outputs": [],
   "source": [
    "Percentage2=(df2_active['last_active_date'].count()/df_Jobstar_subscr['last_active_date'].count()*100).round(2)"
   ]
  },
  {
   "cell_type": "code",
   "execution_count": 67,
   "id": "bdab5667-7a80-4356-a3b2-ebcb0227c129",
   "metadata": {},
   "outputs": [
    {
     "name": "stdout",
     "output_type": "stream",
     "text": [
      "jobstar Active Vs Inactive Percentage \n",
      "85.09\n"
     ]
    }
   ],
   "source": [
    "print('jobstar Active Vs Inactive Percentage ')\n",
    "print(Percentage2)"
   ]
  },
  {
   "cell_type": "code",
   "execution_count": null,
   "id": "62dbdcc3-dfa3-400c-8966-23c0aa2d917e",
   "metadata": {},
   "outputs": [],
   "source": []
  },
  {
   "cell_type": "markdown",
   "id": "df8b10b6-a034-4b19-8768-32c1467b9e5a",
   "metadata": {},
   "source": [
    "***************** How do these rates vary by age group liocinema **************************"
   ]
  },
  {
   "cell_type": "code",
   "execution_count": 68,
   "id": "62569177-c60f-40f0-99d1-73a3f9fb3acc",
   "metadata": {},
   "outputs": [],
   "source": [
    "df1_active_age_group=df1_active.groupby('age_group')['last_active_date'].count()"
   ]
  },
  {
   "cell_type": "code",
   "execution_count": 69,
   "id": "c15573b6-384f-4c64-9198-edc19ec25175",
   "metadata": {},
   "outputs": [
    {
     "data": {
      "text/plain": [
       "age_group\n",
       "18-24    40640\n",
       "25-34    29891\n",
       "35-44    19004\n",
       "45+      11606\n",
       "Name: last_active_date, dtype: int64"
      ]
     },
     "execution_count": 69,
     "metadata": {},
     "output_type": "execute_result"
    }
   ],
   "source": [
    "df1_active_age_group"
   ]
  },
  {
   "cell_type": "code",
   "execution_count": 70,
   "id": "0a0b0e16-ccaa-446a-aa84-ed8fe1bf133c",
   "metadata": {},
   "outputs": [],
   "source": [
    "df1_total_age_group=df_liocinema_subscr.groupby('age_group')['last_active_date'].count()"
   ]
  },
  {
   "cell_type": "code",
   "execution_count": 71,
   "id": "88566be2-12b6-475f-be24-255fffae48ee",
   "metadata": {},
   "outputs": [
    {
     "data": {
      "text/plain": [
       "age_group\n",
       "18-24    79813\n",
       "25-34    52027\n",
       "35-44    32560\n",
       "45+      19046\n",
       "Name: last_active_date, dtype: int64"
      ]
     },
     "execution_count": 71,
     "metadata": {},
     "output_type": "execute_result"
    }
   ],
   "source": [
    "df1_total_age_group"
   ]
  },
  {
   "cell_type": "code",
   "execution_count": 72,
   "id": "693e2b64-a56d-4cd7-b3b5-6c9d1ea2a981",
   "metadata": {},
   "outputs": [],
   "source": [
    "df1_age_group_percentage=(df1_active_age_group/df1_total_age_group*100).round(2)"
   ]
  },
  {
   "cell_type": "code",
   "execution_count": 73,
   "id": "e47057f7-cf52-4b05-aed6-fe5389babca9",
   "metadata": {},
   "outputs": [
    {
     "name": "stdout",
     "output_type": "stream",
     "text": [
      "liocinema active Vs Inactive age group %\n",
      "age_group\n",
      "18-24    50.92\n",
      "25-34    57.45\n",
      "35-44    58.37\n",
      "45+      60.94\n",
      "Name: last_active_date, dtype: float64\n"
     ]
    }
   ],
   "source": [
    "print('liocinema active Vs Inactive age group %')\n",
    "print(df1_age_group_percentage)"
   ]
  },
  {
   "cell_type": "code",
   "execution_count": 74,
   "id": "6477bc68-7410-4fa9-ac21-57c2759be1bc",
   "metadata": {},
   "outputs": [],
   "source": [
    "#pd.DataFrame(df1_age_group_percentage).to_excel('df1_age_group_percentage.xlsx')"
   ]
  },
  {
   "cell_type": "code",
   "execution_count": null,
   "id": "b71f0846-3874-4856-bd88-65dd5f9c0102",
   "metadata": {},
   "outputs": [],
   "source": []
  },
  {
   "cell_type": "code",
   "execution_count": null,
   "id": "ee23ae15-9c3f-4fb9-841b-11d88dd8a44e",
   "metadata": {},
   "outputs": [],
   "source": []
  },
  {
   "cell_type": "markdown",
   "id": "4f357224-c8ca-4777-9841-802f70c7a714",
   "metadata": {},
   "source": [
    "*********** How do these rates vary by age group jobstar *********************"
   ]
  },
  {
   "cell_type": "code",
   "execution_count": 75,
   "id": "c5f954a9-dd97-4850-a4ba-e36fbec32159",
   "metadata": {},
   "outputs": [],
   "source": [
    "df2_active_age_group=df2_active.groupby('age_group')['last_active_date'].count()"
   ]
  },
  {
   "cell_type": "code",
   "execution_count": 76,
   "id": "494e2a01-03f5-4170-acea-018206474db3",
   "metadata": {},
   "outputs": [
    {
     "data": {
      "text/plain": [
       "age_group\n",
       "18-24     6479\n",
       "25-34    16944\n",
       "35-44     9688\n",
       "45+       4857\n",
       "Name: last_active_date, dtype: int64"
      ]
     },
     "execution_count": 76,
     "metadata": {},
     "output_type": "execute_result"
    }
   ],
   "source": [
    "df2_active_age_group"
   ]
  },
  {
   "cell_type": "code",
   "execution_count": 77,
   "id": "abc67ac3-2559-4c7d-b40e-a5cd8cf14768",
   "metadata": {},
   "outputs": [],
   "source": [
    "df2_total_age_group=df_Jobstar_subscr.groupby('age_group')['last_active_date'].count()"
   ]
  },
  {
   "cell_type": "code",
   "execution_count": 78,
   "id": "620bc3c3-b244-472d-b229-63b23258de82",
   "metadata": {},
   "outputs": [
    {
     "data": {
      "text/plain": [
       "age_group\n",
       "18-24     7676\n",
       "25-34    20069\n",
       "35-44    11274\n",
       "45+       5601\n",
       "Name: last_active_date, dtype: int64"
      ]
     },
     "execution_count": 78,
     "metadata": {},
     "output_type": "execute_result"
    }
   ],
   "source": [
    "df2_total_age_group"
   ]
  },
  {
   "cell_type": "code",
   "execution_count": 79,
   "id": "14d5f811-a75e-48e0-8cc9-c1ca6fdcb1ad",
   "metadata": {},
   "outputs": [],
   "source": [
    "df2_age_group_percentage=(df2_active_age_group/df2_total_age_group*100).round(2)"
   ]
  },
  {
   "cell_type": "code",
   "execution_count": 80,
   "id": "bd5ea574-5f8a-4e6d-9b35-f5392e8f8f7f",
   "metadata": {},
   "outputs": [
    {
     "name": "stdout",
     "output_type": "stream",
     "text": [
      "jobstar active Vs Inactive age group %\n",
      "age_group\n",
      "18-24    84.41\n",
      "25-34    84.43\n",
      "35-44    85.93\n",
      "45+      86.72\n",
      "Name: last_active_date, dtype: float64\n"
     ]
    }
   ],
   "source": [
    "print('jobstar active Vs Inactive age group %')\n",
    "print(df2_age_group_percentage)"
   ]
  },
  {
   "cell_type": "code",
   "execution_count": 81,
   "id": "b020183e-ae48-4287-9846-f6cfb7764724",
   "metadata": {},
   "outputs": [],
   "source": [
    "#pd.DataFrame(df2_age_group_percentage).to_excel('df2_age_group_percentage.xlsx')"
   ]
  },
  {
   "cell_type": "code",
   "execution_count": null,
   "id": "8bf2587a-ca73-47d5-95bd-541587fa753d",
   "metadata": {},
   "outputs": [],
   "source": []
  },
  {
   "cell_type": "code",
   "execution_count": null,
   "id": "9512e2a2-8cd5-40c5-a6f7-cf611fa76f30",
   "metadata": {},
   "outputs": [],
   "source": []
  },
  {
   "cell_type": "markdown",
   "id": "bc8a7153-a68b-4cea-b760-1c3ea12416cd",
   "metadata": {},
   "source": [
    "***************** How do these rates vary by subscription plan liocinema **************************"
   ]
  },
  {
   "cell_type": "code",
   "execution_count": 82,
   "id": "bd67df00-d1a9-44b8-8e5d-58717f05ca75",
   "metadata": {},
   "outputs": [],
   "source": [
    "df1_active_subscription_plan=df1_active.groupby('subscription_plan')['last_active_date'].count()"
   ]
  },
  {
   "cell_type": "code",
   "execution_count": 83,
   "id": "11deef94-2ab5-45e2-bb9a-46e8dcb5a42c",
   "metadata": {},
   "outputs": [
    {
     "data": {
      "text/plain": [
       "subscription_plan\n",
       "Basic      35333\n",
       "Free       45199\n",
       "Premium    20609\n",
       "Name: last_active_date, dtype: int64"
      ]
     },
     "execution_count": 83,
     "metadata": {},
     "output_type": "execute_result"
    }
   ],
   "source": [
    "df1_active_subscription_plan"
   ]
  },
  {
   "cell_type": "code",
   "execution_count": 84,
   "id": "33fc025f-60a8-4b34-b9f2-719e6d340e85",
   "metadata": {},
   "outputs": [],
   "source": [
    "df1_total_subscription_plan=df_liocinema_subscr.groupby('subscription_plan')['last_active_date'].count()"
   ]
  },
  {
   "cell_type": "code",
   "execution_count": 85,
   "id": "a215f1c6-568d-441c-8030-01d43b38b805",
   "metadata": {},
   "outputs": [
    {
     "data": {
      "text/plain": [
       "subscription_plan\n",
       "Basic       53362\n",
       "Free       104992\n",
       "Premium     25092\n",
       "Name: last_active_date, dtype: int64"
      ]
     },
     "execution_count": 85,
     "metadata": {},
     "output_type": "execute_result"
    }
   ],
   "source": [
    "df1_total_subscription_plan"
   ]
  },
  {
   "cell_type": "code",
   "execution_count": 86,
   "id": "096a65a4-52bf-428d-8a5c-ae8e3a851633",
   "metadata": {},
   "outputs": [],
   "source": [
    "df1_subscription_plan_percentage=(df1_active_subscription_plan/df1_total_subscription_plan*100).round(2)"
   ]
  },
  {
   "cell_type": "code",
   "execution_count": 87,
   "id": "d44fe324-4473-490f-b186-76d8cbdfbc7b",
   "metadata": {},
   "outputs": [
    {
     "data": {
      "text/plain": [
       "subscription_plan\n",
       "Basic      66.21\n",
       "Free       43.05\n",
       "Premium    82.13\n",
       "Name: last_active_date, dtype: float64"
      ]
     },
     "execution_count": 87,
     "metadata": {},
     "output_type": "execute_result"
    }
   ],
   "source": [
    "df1_subscription_plan_percentage\n",
    "#active vs inactive %"
   ]
  },
  {
   "cell_type": "code",
   "execution_count": 88,
   "id": "8f10b5ed-309e-4fce-b1e8-2eec4e7edd87",
   "metadata": {},
   "outputs": [],
   "source": [
    "#pd.DataFrame(df1_subscription_plan_percentage).to_excel('df1_subscription_plan_percentage.xlsx')"
   ]
  },
  {
   "cell_type": "code",
   "execution_count": null,
   "id": "75b4682d-ae3c-4f29-a72e-a19182754c81",
   "metadata": {},
   "outputs": [],
   "source": []
  },
  {
   "cell_type": "markdown",
   "id": "ceebcca1-656d-4b4c-8107-54cfe178acfc",
   "metadata": {},
   "source": [
    "*********** How do these rates vary by subscription_plan jobstar *********************"
   ]
  },
  {
   "cell_type": "code",
   "execution_count": 89,
   "id": "8b5fbe1c-b48f-4288-852b-e7d4cb7d751b",
   "metadata": {},
   "outputs": [],
   "source": [
    "df2_active_subscription_plan=df2_active.groupby('subscription_plan')['last_active_date'].count()"
   ]
  },
  {
   "cell_type": "code",
   "execution_count": 90,
   "id": "9e6ce6cb-e021-4ef3-9b86-9b8405a96218",
   "metadata": {},
   "outputs": [
    {
     "data": {
      "text/plain": [
       "subscription_plan\n",
       "Free        8983\n",
       "Premium    12466\n",
       "VIP        16519\n",
       "Name: last_active_date, dtype: int64"
      ]
     },
     "execution_count": 90,
     "metadata": {},
     "output_type": "execute_result"
    }
   ],
   "source": [
    "df2_active_subscription_plan"
   ]
  },
  {
   "cell_type": "code",
   "execution_count": 91,
   "id": "9c0b90d9-ccdd-4424-a8a5-74a053cf83ac",
   "metadata": {},
   "outputs": [],
   "source": [
    "df2_total_subscription_plan=df_Jobstar_subscr.groupby('subscription_plan')['last_active_date'].count()"
   ]
  },
  {
   "cell_type": "code",
   "execution_count": 92,
   "id": "835c3ee6-dd6c-496a-9f16-f72ac4486a98",
   "metadata": {},
   "outputs": [
    {
     "data": {
      "text/plain": [
       "subscription_plan\n",
       "Free       12096\n",
       "Premium    13367\n",
       "VIP        19157\n",
       "Name: last_active_date, dtype: int64"
      ]
     },
     "execution_count": 92,
     "metadata": {},
     "output_type": "execute_result"
    }
   ],
   "source": [
    "df2_total_subscription_plan"
   ]
  },
  {
   "cell_type": "code",
   "execution_count": 93,
   "id": "0de99bfa-2baf-4056-8e25-3594c7f82710",
   "metadata": {},
   "outputs": [],
   "source": [
    "df2_subscription_plan_percentage=(df2_active_subscription_plan/df2_total_subscription_plan*100).round(2)"
   ]
  },
  {
   "cell_type": "code",
   "execution_count": 94,
   "id": "ff170e61-1c18-4e7c-aa94-4f01e868609f",
   "metadata": {},
   "outputs": [
    {
     "data": {
      "text/plain": [
       "subscription_plan\n",
       "Free       74.26\n",
       "Premium    93.26\n",
       "VIP        86.23\n",
       "Name: last_active_date, dtype: float64"
      ]
     },
     "execution_count": 94,
     "metadata": {},
     "output_type": "execute_result"
    }
   ],
   "source": [
    "df2_subscription_plan_percentage\n",
    "#active vs inactive %"
   ]
  },
  {
   "cell_type": "code",
   "execution_count": 95,
   "id": "92f83f82-2eb8-45fc-8a33-18608cd998c7",
   "metadata": {},
   "outputs": [],
   "source": [
    "#pd.DataFrame(df2_subscription_plan_percentage).to_excel('df2_subscription_plan_percentage.xlsx')"
   ]
  },
  {
   "cell_type": "code",
   "execution_count": null,
   "id": "3f69e386-b657-498a-95ae-ebd141b4bd23",
   "metadata": {},
   "outputs": [],
   "source": []
  },
  {
   "cell_type": "markdown",
   "id": "ff3bb6c6-a63c-4422-846f-9a9ca9bd7502",
   "metadata": {},
   "source": [
    "-- **************What is the average watch time for LioCinema vs. Jotstar during the analysis period? ********************"
   ]
  },
  {
   "cell_type": "code",
   "execution_count": 96,
   "id": "e5699ee1-476c-41a8-a790-1262ca35af83",
   "metadata": {},
   "outputs": [
    {
     "data": {
      "text/html": [
       "<div>\n",
       "<style scoped>\n",
       "    .dataframe tbody tr th:only-of-type {\n",
       "        vertical-align: middle;\n",
       "    }\n",
       "\n",
       "    .dataframe tbody tr th {\n",
       "        vertical-align: top;\n",
       "    }\n",
       "\n",
       "    .dataframe thead th {\n",
       "        text-align: right;\n",
       "    }\n",
       "</style>\n",
       "<table border=\"1\" class=\"dataframe\">\n",
       "  <thead>\n",
       "    <tr style=\"text-align: right;\">\n",
       "      <th></th>\n",
       "      <th>user_id</th>\n",
       "      <th>device_type</th>\n",
       "      <th>total_watch_time_mins</th>\n",
       "    </tr>\n",
       "  </thead>\n",
       "  <tbody>\n",
       "    <tr>\n",
       "      <th>0</th>\n",
       "      <td>UIDJS877cc0e02c9</td>\n",
       "      <td>Mobile</td>\n",
       "      <td>14613</td>\n",
       "    </tr>\n",
       "    <tr>\n",
       "      <th>1</th>\n",
       "      <td>UIDJS06384e7ff06</td>\n",
       "      <td>Mobile</td>\n",
       "      <td>13271</td>\n",
       "    </tr>\n",
       "  </tbody>\n",
       "</table>\n",
       "</div>"
      ],
      "text/plain": [
       "            user_id device_type  total_watch_time_mins\n",
       "0  UIDJS877cc0e02c9      Mobile                  14613\n",
       "1  UIDJS06384e7ff06      Mobile                  13271"
      ]
     },
     "execution_count": 96,
     "metadata": {},
     "output_type": "execute_result"
    }
   ],
   "source": [
    "df_liocinema_content_consumption.head(2)\n",
    "df_jobstar_content_consumption.head(2)"
   ]
  },
  {
   "cell_type": "code",
   "execution_count": 97,
   "id": "98aea24d-a15e-43c6-8e81-44e3d2277c92",
   "metadata": {},
   "outputs": [
    {
     "data": {
      "text/plain": [
       "1536.83"
      ]
     },
     "execution_count": 97,
     "metadata": {},
     "output_type": "execute_result"
    }
   ],
   "source": [
    "(df_liocinema_content_consumption['total_watch_time_mins'].mean()).round(2)"
   ]
  },
  {
   "cell_type": "code",
   "execution_count": 98,
   "id": "8dba1111-f616-4c7a-bfd0-9454c2c088bf",
   "metadata": {},
   "outputs": [
    {
     "data": {
      "text/plain": [
       "7034.51"
      ]
     },
     "execution_count": 98,
     "metadata": {},
     "output_type": "execute_result"
    }
   ],
   "source": [
    "(df_jobstar_content_consumption['total_watch_time_mins'].mean()).round(2)"
   ]
  },
  {
   "cell_type": "code",
   "execution_count": null,
   "id": "075ae1aa-bb95-442c-96f3-71cfe243807e",
   "metadata": {},
   "outputs": [],
   "source": []
  },
  {
   "cell_type": "markdown",
   "id": "3413451c-e8b4-41ee-9d83-1066a922beb3",
   "metadata": {},
   "source": [
    "******************** average watch time for LioCinema vs. Jotstar compare by city tier and device type? *************************"
   ]
  },
  {
   "cell_type": "code",
   "execution_count": 99,
   "id": "fda83c8e-27ea-4f0a-a55e-9dc8a7fd9269",
   "metadata": {},
   "outputs": [
    {
     "data": {
      "text/html": [
       "<div>\n",
       "<style scoped>\n",
       "    .dataframe tbody tr th:only-of-type {\n",
       "        vertical-align: middle;\n",
       "    }\n",
       "\n",
       "    .dataframe tbody tr th {\n",
       "        vertical-align: top;\n",
       "    }\n",
       "\n",
       "    .dataframe thead th {\n",
       "        text-align: right;\n",
       "    }\n",
       "</style>\n",
       "<table border=\"1\" class=\"dataframe\">\n",
       "  <thead>\n",
       "    <tr style=\"text-align: right;\">\n",
       "      <th></th>\n",
       "      <th>user_id</th>\n",
       "      <th>age_group</th>\n",
       "      <th>city_tier</th>\n",
       "      <th>subscription_date</th>\n",
       "      <th>subscription_plan</th>\n",
       "      <th>last_active_date</th>\n",
       "      <th>plan_change_date</th>\n",
       "      <th>new_subscription_plan</th>\n",
       "      <th>subscription_date_month</th>\n",
       "      <th>plan_change_date_month</th>\n",
       "      <th>last_active_date_month</th>\n",
       "    </tr>\n",
       "  </thead>\n",
       "  <tbody>\n",
       "    <tr>\n",
       "      <th>0</th>\n",
       "      <td>UIDLC00000bea68a</td>\n",
       "      <td>25-34</td>\n",
       "      <td>Tier 3</td>\n",
       "      <td>2024-10-24</td>\n",
       "      <td>Free</td>\n",
       "      <td>0</td>\n",
       "      <td>0</td>\n",
       "      <td>0</td>\n",
       "      <td>10</td>\n",
       "      <td>0</td>\n",
       "      <td>0</td>\n",
       "    </tr>\n",
       "    <tr>\n",
       "      <th>1</th>\n",
       "      <td>UIDLC00009202848</td>\n",
       "      <td>18-24</td>\n",
       "      <td>Tier 1</td>\n",
       "      <td>2024-09-18</td>\n",
       "      <td>Basic</td>\n",
       "      <td>0</td>\n",
       "      <td>0</td>\n",
       "      <td>0</td>\n",
       "      <td>9</td>\n",
       "      <td>0</td>\n",
       "      <td>0</td>\n",
       "    </tr>\n",
       "    <tr>\n",
       "      <th>2</th>\n",
       "      <td>UIDLC0001086afc3</td>\n",
       "      <td>35-44</td>\n",
       "      <td>Tier 2</td>\n",
       "      <td>2024-03-23</td>\n",
       "      <td>Premium</td>\n",
       "      <td>0</td>\n",
       "      <td>2024-04-23 00:00:00</td>\n",
       "      <td>Free</td>\n",
       "      <td>3</td>\n",
       "      <td>4</td>\n",
       "      <td>0</td>\n",
       "    </tr>\n",
       "    <tr>\n",
       "      <th>3</th>\n",
       "      <td>UIDLC000186abd93</td>\n",
       "      <td>18-24</td>\n",
       "      <td>Tier 3</td>\n",
       "      <td>2024-09-07</td>\n",
       "      <td>Free</td>\n",
       "      <td>2024-10-23 00:00:00</td>\n",
       "      <td>0</td>\n",
       "      <td>0</td>\n",
       "      <td>9</td>\n",
       "      <td>0</td>\n",
       "      <td>10</td>\n",
       "    </tr>\n",
       "    <tr>\n",
       "      <th>4</th>\n",
       "      <td>UIDLC0002189b09f</td>\n",
       "      <td>18-24</td>\n",
       "      <td>Tier 2</td>\n",
       "      <td>2024-10-07</td>\n",
       "      <td>Premium</td>\n",
       "      <td>0</td>\n",
       "      <td>2024-11-07 00:00:00</td>\n",
       "      <td>Free</td>\n",
       "      <td>10</td>\n",
       "      <td>11</td>\n",
       "      <td>0</td>\n",
       "    </tr>\n",
       "    <tr>\n",
       "      <th>...</th>\n",
       "      <td>...</td>\n",
       "      <td>...</td>\n",
       "      <td>...</td>\n",
       "      <td>...</td>\n",
       "      <td>...</td>\n",
       "      <td>...</td>\n",
       "      <td>...</td>\n",
       "      <td>...</td>\n",
       "      <td>...</td>\n",
       "      <td>...</td>\n",
       "      <td>...</td>\n",
       "    </tr>\n",
       "    <tr>\n",
       "      <th>183441</th>\n",
       "      <td>UIDLCffff41ace17</td>\n",
       "      <td>18-24</td>\n",
       "      <td>Tier 2</td>\n",
       "      <td>2024-10-16</td>\n",
       "      <td>Free</td>\n",
       "      <td>2024-11-07 00:00:00</td>\n",
       "      <td>0</td>\n",
       "      <td>0</td>\n",
       "      <td>10</td>\n",
       "      <td>0</td>\n",
       "      <td>11</td>\n",
       "    </tr>\n",
       "    <tr>\n",
       "      <th>183442</th>\n",
       "      <td>UIDLCffff85ea59a</td>\n",
       "      <td>25-34</td>\n",
       "      <td>Tier 2</td>\n",
       "      <td>2024-08-09</td>\n",
       "      <td>Basic</td>\n",
       "      <td>0</td>\n",
       "      <td>0</td>\n",
       "      <td>0</td>\n",
       "      <td>8</td>\n",
       "      <td>0</td>\n",
       "      <td>0</td>\n",
       "    </tr>\n",
       "    <tr>\n",
       "      <th>183443</th>\n",
       "      <td>UIDLCffffbb55ff5</td>\n",
       "      <td>18-24</td>\n",
       "      <td>Tier 2</td>\n",
       "      <td>2024-11-22</td>\n",
       "      <td>Free</td>\n",
       "      <td>0</td>\n",
       "      <td>0</td>\n",
       "      <td>0</td>\n",
       "      <td>11</td>\n",
       "      <td>0</td>\n",
       "      <td>0</td>\n",
       "    </tr>\n",
       "    <tr>\n",
       "      <th>183444</th>\n",
       "      <td>UIDLCffffc6f6db0</td>\n",
       "      <td>18-24</td>\n",
       "      <td>Tier 1</td>\n",
       "      <td>2024-05-01</td>\n",
       "      <td>Basic</td>\n",
       "      <td>2024-10-10 00:00:00</td>\n",
       "      <td>0</td>\n",
       "      <td>0</td>\n",
       "      <td>5</td>\n",
       "      <td>0</td>\n",
       "      <td>10</td>\n",
       "    </tr>\n",
       "    <tr>\n",
       "      <th>183445</th>\n",
       "      <td>UIDLCffffe3b01f9</td>\n",
       "      <td>25-34</td>\n",
       "      <td>Tier 3</td>\n",
       "      <td>2024-05-31</td>\n",
       "      <td>Free</td>\n",
       "      <td>2024-07-09 00:00:00</td>\n",
       "      <td>0</td>\n",
       "      <td>0</td>\n",
       "      <td>5</td>\n",
       "      <td>0</td>\n",
       "      <td>7</td>\n",
       "    </tr>\n",
       "  </tbody>\n",
       "</table>\n",
       "<p>183446 rows × 11 columns</p>\n",
       "</div>"
      ],
      "text/plain": [
       "                 user_id age_group city_tier subscription_date  \\\n",
       "0       UIDLC00000bea68a     25-34    Tier 3        2024-10-24   \n",
       "1       UIDLC00009202848     18-24    Tier 1        2024-09-18   \n",
       "2       UIDLC0001086afc3     35-44    Tier 2        2024-03-23   \n",
       "3       UIDLC000186abd93     18-24    Tier 3        2024-09-07   \n",
       "4       UIDLC0002189b09f     18-24    Tier 2        2024-10-07   \n",
       "...                  ...       ...       ...               ...   \n",
       "183441  UIDLCffff41ace17     18-24    Tier 2        2024-10-16   \n",
       "183442  UIDLCffff85ea59a     25-34    Tier 2        2024-08-09   \n",
       "183443  UIDLCffffbb55ff5     18-24    Tier 2        2024-11-22   \n",
       "183444  UIDLCffffc6f6db0     18-24    Tier 1        2024-05-01   \n",
       "183445  UIDLCffffe3b01f9     25-34    Tier 3        2024-05-31   \n",
       "\n",
       "       subscription_plan     last_active_date     plan_change_date  \\\n",
       "0                   Free                    0                    0   \n",
       "1                  Basic                    0                    0   \n",
       "2                Premium                    0  2024-04-23 00:00:00   \n",
       "3                   Free  2024-10-23 00:00:00                    0   \n",
       "4                Premium                    0  2024-11-07 00:00:00   \n",
       "...                  ...                  ...                  ...   \n",
       "183441              Free  2024-11-07 00:00:00                    0   \n",
       "183442             Basic                    0                    0   \n",
       "183443              Free                    0                    0   \n",
       "183444             Basic  2024-10-10 00:00:00                    0   \n",
       "183445              Free  2024-07-09 00:00:00                    0   \n",
       "\n",
       "       new_subscription_plan  subscription_date_month  plan_change_date_month  \\\n",
       "0                          0                       10                       0   \n",
       "1                          0                        9                       0   \n",
       "2                       Free                        3                       4   \n",
       "3                          0                        9                       0   \n",
       "4                       Free                       10                      11   \n",
       "...                      ...                      ...                     ...   \n",
       "183441                     0                       10                       0   \n",
       "183442                     0                        8                       0   \n",
       "183443                     0                       11                       0   \n",
       "183444                     0                        5                       0   \n",
       "183445                     0                        5                       0   \n",
       "\n",
       "        last_active_date_month  \n",
       "0                            0  \n",
       "1                            0  \n",
       "2                            0  \n",
       "3                           10  \n",
       "4                            0  \n",
       "...                        ...  \n",
       "183441                      11  \n",
       "183442                       0  \n",
       "183443                       0  \n",
       "183444                      10  \n",
       "183445                       7  \n",
       "\n",
       "[183446 rows x 11 columns]"
      ]
     },
     "execution_count": 99,
     "metadata": {},
     "output_type": "execute_result"
    }
   ],
   "source": [
    "df_liocinema_subscr"
   ]
  },
  {
   "cell_type": "code",
   "execution_count": 100,
   "id": "1a8b6eab-a593-4123-a137-36dcf04caacc",
   "metadata": {},
   "outputs": [],
   "source": [
    "subscr_content_consumption_liocinema=pd.merge(df_liocinema_subscr,df_liocinema_content_consumption,on='user_id')"
   ]
  },
  {
   "cell_type": "code",
   "execution_count": 101,
   "id": "6eb95398-b81c-4711-8c06-4d3b84f932d0",
   "metadata": {},
   "outputs": [
    {
     "data": {
      "text/html": [
       "<div>\n",
       "<style scoped>\n",
       "    .dataframe tbody tr th:only-of-type {\n",
       "        vertical-align: middle;\n",
       "    }\n",
       "\n",
       "    .dataframe tbody tr th {\n",
       "        vertical-align: top;\n",
       "    }\n",
       "\n",
       "    .dataframe thead th {\n",
       "        text-align: right;\n",
       "    }\n",
       "</style>\n",
       "<table border=\"1\" class=\"dataframe\">\n",
       "  <thead>\n",
       "    <tr style=\"text-align: right;\">\n",
       "      <th></th>\n",
       "      <th>user_id</th>\n",
       "      <th>age_group</th>\n",
       "      <th>city_tier</th>\n",
       "      <th>subscription_date</th>\n",
       "      <th>subscription_plan</th>\n",
       "      <th>last_active_date</th>\n",
       "      <th>plan_change_date</th>\n",
       "      <th>new_subscription_plan</th>\n",
       "      <th>subscription_date_month</th>\n",
       "      <th>plan_change_date_month</th>\n",
       "      <th>last_active_date_month</th>\n",
       "      <th>device_type</th>\n",
       "      <th>total_watch_time_mins</th>\n",
       "    </tr>\n",
       "  </thead>\n",
       "  <tbody>\n",
       "    <tr>\n",
       "      <th>0</th>\n",
       "      <td>UIDLC00000bea68a</td>\n",
       "      <td>25-34</td>\n",
       "      <td>Tier 3</td>\n",
       "      <td>2024-10-24</td>\n",
       "      <td>Free</td>\n",
       "      <td>0</td>\n",
       "      <td>0</td>\n",
       "      <td>0</td>\n",
       "      <td>10</td>\n",
       "      <td>0</td>\n",
       "      <td>0</td>\n",
       "      <td>Mobile</td>\n",
       "      <td>1029</td>\n",
       "    </tr>\n",
       "    <tr>\n",
       "      <th>1</th>\n",
       "      <td>UIDLC00000bea68a</td>\n",
       "      <td>25-34</td>\n",
       "      <td>Tier 3</td>\n",
       "      <td>2024-10-24</td>\n",
       "      <td>Free</td>\n",
       "      <td>0</td>\n",
       "      <td>0</td>\n",
       "      <td>0</td>\n",
       "      <td>10</td>\n",
       "      <td>0</td>\n",
       "      <td>0</td>\n",
       "      <td>TV</td>\n",
       "      <td>134</td>\n",
       "    </tr>\n",
       "  </tbody>\n",
       "</table>\n",
       "</div>"
      ],
      "text/plain": [
       "            user_id age_group city_tier subscription_date subscription_plan  \\\n",
       "0  UIDLC00000bea68a     25-34    Tier 3        2024-10-24              Free   \n",
       "1  UIDLC00000bea68a     25-34    Tier 3        2024-10-24              Free   \n",
       "\n",
       "  last_active_date plan_change_date new_subscription_plan  \\\n",
       "0                0                0                     0   \n",
       "1                0                0                     0   \n",
       "\n",
       "   subscription_date_month  plan_change_date_month  last_active_date_month  \\\n",
       "0                       10                       0                       0   \n",
       "1                       10                       0                       0   \n",
       "\n",
       "  device_type  total_watch_time_mins  \n",
       "0      Mobile                   1029  \n",
       "1          TV                    134  "
      ]
     },
     "execution_count": 101,
     "metadata": {},
     "output_type": "execute_result"
    }
   ],
   "source": [
    "subscr_content_consumption_liocinema.head(2)"
   ]
  },
  {
   "cell_type": "code",
   "execution_count": 102,
   "id": "3642e860-1abe-4f83-ad41-568f2ae27804",
   "metadata": {},
   "outputs": [
    {
     "data": {
      "text/plain": [
       "city_tier\n",
       "Tier 1    2106.14\n",
       "Tier 2    1624.78\n",
       "Tier 3    1093.48\n",
       "Name: total_watch_time_mins, dtype: float64"
      ]
     },
     "execution_count": 102,
     "metadata": {},
     "output_type": "execute_result"
    }
   ],
   "source": [
    "(subscr_content_consumption_liocinema.groupby('city_tier')['total_watch_time_mins'].mean()).round(2)"
   ]
  },
  {
   "cell_type": "code",
   "execution_count": 103,
   "id": "d566987d-a053-4c83-a74d-df7ec030c1af",
   "metadata": {},
   "outputs": [],
   "source": [
    "#pd.DataFrame((subscr_content_consumption_liocinema.groupby('city_tier')['total_watch_time_mins'].mean()).round(2)).to_excel('total_watch_time_jio_city_tier.xlsx')"
   ]
  },
  {
   "cell_type": "code",
   "execution_count": 104,
   "id": "0034346d-0c8c-4fb5-ba15-bbed0a02351e",
   "metadata": {},
   "outputs": [
    {
     "data": {
      "text/plain": [
       "device_type\n",
       "Laptop     495.21\n",
       "Mobile    2763.05\n",
       "TV         759.29\n",
       "Name: total_watch_time_mins, dtype: float64"
      ]
     },
     "execution_count": 104,
     "metadata": {},
     "output_type": "execute_result"
    }
   ],
   "source": [
    "(subscr_content_consumption_liocinema.groupby('device_type')['total_watch_time_mins'].mean()).round(2)"
   ]
  },
  {
   "cell_type": "code",
   "execution_count": 105,
   "id": "cd983dd9-377a-420b-ab2e-a61973e65a07",
   "metadata": {},
   "outputs": [],
   "source": [
    "#pd.DataFrame((subscr_content_consumption_liocinema.groupby('device_type')['total_watch_time_mins'].mean()).round(2)).to_excel('total_watch_time_jio_device_type.xlsx')"
   ]
  },
  {
   "cell_type": "code",
   "execution_count": 106,
   "id": "52f5b8c8-a685-4818-b7a1-9b24bf12d7fb",
   "metadata": {},
   "outputs": [
    {
     "data": {
      "text/html": [
       "<div>\n",
       "<style scoped>\n",
       "    .dataframe tbody tr th:only-of-type {\n",
       "        vertical-align: middle;\n",
       "    }\n",
       "\n",
       "    .dataframe tbody tr th {\n",
       "        vertical-align: top;\n",
       "    }\n",
       "\n",
       "    .dataframe thead th {\n",
       "        text-align: right;\n",
       "    }\n",
       "</style>\n",
       "<table border=\"1\" class=\"dataframe\">\n",
       "  <thead>\n",
       "    <tr style=\"text-align: right;\">\n",
       "      <th></th>\n",
       "      <th>user_id</th>\n",
       "      <th>age_group</th>\n",
       "      <th>city_tier</th>\n",
       "      <th>subscription_date</th>\n",
       "      <th>subscription_plan</th>\n",
       "      <th>last_active_date</th>\n",
       "      <th>plan_change_date</th>\n",
       "      <th>new_subscription_plan</th>\n",
       "      <th>subscription_date_month</th>\n",
       "      <th>plan_change_date_month</th>\n",
       "      <th>last_active_date_month</th>\n",
       "      <th>df_Jobstar_subscr_month</th>\n",
       "    </tr>\n",
       "  </thead>\n",
       "  <tbody>\n",
       "    <tr>\n",
       "      <th>0</th>\n",
       "      <td>UIDJS0000751588f</td>\n",
       "      <td>18-24</td>\n",
       "      <td>Tier 1</td>\n",
       "      <td>2024-06-10</td>\n",
       "      <td>Premium</td>\n",
       "      <td>0</td>\n",
       "      <td>0</td>\n",
       "      <td>0</td>\n",
       "      <td>6</td>\n",
       "      <td>0</td>\n",
       "      <td>0</td>\n",
       "      <td>6</td>\n",
       "    </tr>\n",
       "    <tr>\n",
       "      <th>1</th>\n",
       "      <td>UIDJS000093eeb86</td>\n",
       "      <td>18-24</td>\n",
       "      <td>Tier 1</td>\n",
       "      <td>2024-11-09</td>\n",
       "      <td>Free</td>\n",
       "      <td>0</td>\n",
       "      <td>0</td>\n",
       "      <td>0</td>\n",
       "      <td>11</td>\n",
       "      <td>0</td>\n",
       "      <td>0</td>\n",
       "      <td>11</td>\n",
       "    </tr>\n",
       "    <tr>\n",
       "      <th>2</th>\n",
       "      <td>UIDJS00010d7fa1e</td>\n",
       "      <td>25-34</td>\n",
       "      <td>Tier 1</td>\n",
       "      <td>2024-08-08</td>\n",
       "      <td>Free</td>\n",
       "      <td>0</td>\n",
       "      <td>0</td>\n",
       "      <td>0</td>\n",
       "      <td>8</td>\n",
       "      <td>0</td>\n",
       "      <td>0</td>\n",
       "      <td>8</td>\n",
       "    </tr>\n",
       "    <tr>\n",
       "      <th>3</th>\n",
       "      <td>UIDJS00013411a85</td>\n",
       "      <td>35-44</td>\n",
       "      <td>Tier 2</td>\n",
       "      <td>2024-05-31</td>\n",
       "      <td>VIP</td>\n",
       "      <td>0</td>\n",
       "      <td>0</td>\n",
       "      <td>0</td>\n",
       "      <td>5</td>\n",
       "      <td>0</td>\n",
       "      <td>0</td>\n",
       "      <td>5</td>\n",
       "    </tr>\n",
       "    <tr>\n",
       "      <th>4</th>\n",
       "      <td>UIDJS0003a3f54cf</td>\n",
       "      <td>35-44</td>\n",
       "      <td>Tier 1</td>\n",
       "      <td>2024-09-20</td>\n",
       "      <td>Premium</td>\n",
       "      <td>0</td>\n",
       "      <td>0</td>\n",
       "      <td>0</td>\n",
       "      <td>9</td>\n",
       "      <td>0</td>\n",
       "      <td>0</td>\n",
       "      <td>9</td>\n",
       "    </tr>\n",
       "    <tr>\n",
       "      <th>...</th>\n",
       "      <td>...</td>\n",
       "      <td>...</td>\n",
       "      <td>...</td>\n",
       "      <td>...</td>\n",
       "      <td>...</td>\n",
       "      <td>...</td>\n",
       "      <td>...</td>\n",
       "      <td>...</td>\n",
       "      <td>...</td>\n",
       "      <td>...</td>\n",
       "      <td>...</td>\n",
       "      <td>...</td>\n",
       "    </tr>\n",
       "    <tr>\n",
       "      <th>44615</th>\n",
       "      <td>UIDJSfffbb38249e</td>\n",
       "      <td>25-34</td>\n",
       "      <td>Tier 2</td>\n",
       "      <td>2024-11-12</td>\n",
       "      <td>Free</td>\n",
       "      <td>0</td>\n",
       "      <td>0</td>\n",
       "      <td>0</td>\n",
       "      <td>11</td>\n",
       "      <td>0</td>\n",
       "      <td>0</td>\n",
       "      <td>11</td>\n",
       "    </tr>\n",
       "    <tr>\n",
       "      <th>44616</th>\n",
       "      <td>UIDJSfffbd759005</td>\n",
       "      <td>45+</td>\n",
       "      <td>Tier 1</td>\n",
       "      <td>2024-05-21</td>\n",
       "      <td>VIP</td>\n",
       "      <td>0</td>\n",
       "      <td>0</td>\n",
       "      <td>0</td>\n",
       "      <td>5</td>\n",
       "      <td>0</td>\n",
       "      <td>0</td>\n",
       "      <td>5</td>\n",
       "    </tr>\n",
       "    <tr>\n",
       "      <th>44617</th>\n",
       "      <td>UIDJSfffebd3002b</td>\n",
       "      <td>25-34</td>\n",
       "      <td>Tier 1</td>\n",
       "      <td>2024-09-27</td>\n",
       "      <td>VIP</td>\n",
       "      <td>2024-10-29 00:00:00</td>\n",
       "      <td>0</td>\n",
       "      <td>0</td>\n",
       "      <td>9</td>\n",
       "      <td>0</td>\n",
       "      <td>10.0</td>\n",
       "      <td>9</td>\n",
       "    </tr>\n",
       "    <tr>\n",
       "      <th>44618</th>\n",
       "      <td>UIDJSffff6698084</td>\n",
       "      <td>35-44</td>\n",
       "      <td>Tier 3</td>\n",
       "      <td>2024-10-12</td>\n",
       "      <td>VIP</td>\n",
       "      <td>0</td>\n",
       "      <td>0</td>\n",
       "      <td>0</td>\n",
       "      <td>10</td>\n",
       "      <td>0</td>\n",
       "      <td>0</td>\n",
       "      <td>10</td>\n",
       "    </tr>\n",
       "    <tr>\n",
       "      <th>44619</th>\n",
       "      <td>UIDJSffffe298c56</td>\n",
       "      <td>25-34</td>\n",
       "      <td>Tier 2</td>\n",
       "      <td>2024-09-10</td>\n",
       "      <td>Free</td>\n",
       "      <td>0</td>\n",
       "      <td>0</td>\n",
       "      <td>0</td>\n",
       "      <td>9</td>\n",
       "      <td>0</td>\n",
       "      <td>0</td>\n",
       "      <td>9</td>\n",
       "    </tr>\n",
       "  </tbody>\n",
       "</table>\n",
       "<p>44620 rows × 12 columns</p>\n",
       "</div>"
      ],
      "text/plain": [
       "                user_id age_group city_tier subscription_date  \\\n",
       "0      UIDJS0000751588f     18-24    Tier 1        2024-06-10   \n",
       "1      UIDJS000093eeb86     18-24    Tier 1        2024-11-09   \n",
       "2      UIDJS00010d7fa1e     25-34    Tier 1        2024-08-08   \n",
       "3      UIDJS00013411a85     35-44    Tier 2        2024-05-31   \n",
       "4      UIDJS0003a3f54cf     35-44    Tier 1        2024-09-20   \n",
       "...                 ...       ...       ...               ...   \n",
       "44615  UIDJSfffbb38249e     25-34    Tier 2        2024-11-12   \n",
       "44616  UIDJSfffbd759005       45+    Tier 1        2024-05-21   \n",
       "44617  UIDJSfffebd3002b     25-34    Tier 1        2024-09-27   \n",
       "44618  UIDJSffff6698084     35-44    Tier 3        2024-10-12   \n",
       "44619  UIDJSffffe298c56     25-34    Tier 2        2024-09-10   \n",
       "\n",
       "      subscription_plan     last_active_date plan_change_date  \\\n",
       "0               Premium                    0                0   \n",
       "1                  Free                    0                0   \n",
       "2                  Free                    0                0   \n",
       "3                   VIP                    0                0   \n",
       "4               Premium                    0                0   \n",
       "...                 ...                  ...              ...   \n",
       "44615              Free                    0                0   \n",
       "44616               VIP                    0                0   \n",
       "44617               VIP  2024-10-29 00:00:00                0   \n",
       "44618               VIP                    0                0   \n",
       "44619              Free                    0                0   \n",
       "\n",
       "      new_subscription_plan  subscription_date_month plan_change_date_month  \\\n",
       "0                         0                        6                      0   \n",
       "1                         0                       11                      0   \n",
       "2                         0                        8                      0   \n",
       "3                         0                        5                      0   \n",
       "4                         0                        9                      0   \n",
       "...                     ...                      ...                    ...   \n",
       "44615                     0                       11                      0   \n",
       "44616                     0                        5                      0   \n",
       "44617                     0                        9                      0   \n",
       "44618                     0                       10                      0   \n",
       "44619                     0                        9                      0   \n",
       "\n",
       "      last_active_date_month  df_Jobstar_subscr_month  \n",
       "0                          0                        6  \n",
       "1                          0                       11  \n",
       "2                          0                        8  \n",
       "3                          0                        5  \n",
       "4                          0                        9  \n",
       "...                      ...                      ...  \n",
       "44615                      0                       11  \n",
       "44616                      0                        5  \n",
       "44617                   10.0                        9  \n",
       "44618                      0                       10  \n",
       "44619                      0                        9  \n",
       "\n",
       "[44620 rows x 12 columns]"
      ]
     },
     "execution_count": 106,
     "metadata": {},
     "output_type": "execute_result"
    }
   ],
   "source": [
    "df_jobstar_content_consumption\n",
    "df_Jobstar_subscr"
   ]
  },
  {
   "cell_type": "code",
   "execution_count": 107,
   "id": "a227ab27-786b-493d-babf-ec425a3350e9",
   "metadata": {},
   "outputs": [],
   "source": [
    "subscr_content_consumption_Jobstar=pd.merge(df_Jobstar_subscr,df_jobstar_content_consumption,on='user_id')"
   ]
  },
  {
   "cell_type": "code",
   "execution_count": 108,
   "id": "71f21f03-0e38-412d-b1a8-6059c74270bc",
   "metadata": {},
   "outputs": [
    {
     "data": {
      "text/html": [
       "<div>\n",
       "<style scoped>\n",
       "    .dataframe tbody tr th:only-of-type {\n",
       "        vertical-align: middle;\n",
       "    }\n",
       "\n",
       "    .dataframe tbody tr th {\n",
       "        vertical-align: top;\n",
       "    }\n",
       "\n",
       "    .dataframe thead th {\n",
       "        text-align: right;\n",
       "    }\n",
       "</style>\n",
       "<table border=\"1\" class=\"dataframe\">\n",
       "  <thead>\n",
       "    <tr style=\"text-align: right;\">\n",
       "      <th></th>\n",
       "      <th>user_id</th>\n",
       "      <th>age_group</th>\n",
       "      <th>city_tier</th>\n",
       "      <th>subscription_date</th>\n",
       "      <th>subscription_plan</th>\n",
       "      <th>last_active_date</th>\n",
       "      <th>plan_change_date</th>\n",
       "      <th>new_subscription_plan</th>\n",
       "      <th>subscription_date_month</th>\n",
       "      <th>plan_change_date_month</th>\n",
       "      <th>last_active_date_month</th>\n",
       "      <th>df_Jobstar_subscr_month</th>\n",
       "      <th>device_type</th>\n",
       "      <th>total_watch_time_mins</th>\n",
       "    </tr>\n",
       "  </thead>\n",
       "  <tbody>\n",
       "    <tr>\n",
       "      <th>0</th>\n",
       "      <td>UIDJS0000751588f</td>\n",
       "      <td>18-24</td>\n",
       "      <td>Tier 1</td>\n",
       "      <td>2024-06-10</td>\n",
       "      <td>Premium</td>\n",
       "      <td>0</td>\n",
       "      <td>0</td>\n",
       "      <td>0</td>\n",
       "      <td>6</td>\n",
       "      <td>0</td>\n",
       "      <td>0</td>\n",
       "      <td>6</td>\n",
       "      <td>Mobile</td>\n",
       "      <td>20111</td>\n",
       "    </tr>\n",
       "    <tr>\n",
       "      <th>1</th>\n",
       "      <td>UIDJS0000751588f</td>\n",
       "      <td>18-24</td>\n",
       "      <td>Tier 1</td>\n",
       "      <td>2024-06-10</td>\n",
       "      <td>Premium</td>\n",
       "      <td>0</td>\n",
       "      <td>0</td>\n",
       "      <td>0</td>\n",
       "      <td>6</td>\n",
       "      <td>0</td>\n",
       "      <td>0</td>\n",
       "      <td>6</td>\n",
       "      <td>TV</td>\n",
       "      <td>11997</td>\n",
       "    </tr>\n",
       "  </tbody>\n",
       "</table>\n",
       "</div>"
      ],
      "text/plain": [
       "            user_id age_group city_tier subscription_date subscription_plan  \\\n",
       "0  UIDJS0000751588f     18-24    Tier 1        2024-06-10           Premium   \n",
       "1  UIDJS0000751588f     18-24    Tier 1        2024-06-10           Premium   \n",
       "\n",
       "  last_active_date plan_change_date new_subscription_plan  \\\n",
       "0                0                0                     0   \n",
       "1                0                0                     0   \n",
       "\n",
       "   subscription_date_month plan_change_date_month last_active_date_month  \\\n",
       "0                        6                      0                      0   \n",
       "1                        6                      0                      0   \n",
       "\n",
       "   df_Jobstar_subscr_month device_type  total_watch_time_mins  \n",
       "0                        6      Mobile                  20111  \n",
       "1                        6          TV                  11997  "
      ]
     },
     "execution_count": 108,
     "metadata": {},
     "output_type": "execute_result"
    }
   ],
   "source": [
    "subscr_content_consumption_Jobstar.head(2)"
   ]
  },
  {
   "cell_type": "code",
   "execution_count": 109,
   "id": "d695cf0d-d860-4aa4-844c-4e93e6ee27fd",
   "metadata": {},
   "outputs": [
    {
     "data": {
      "text/plain": [
       "city_tier\n",
       "Tier 1    7883.65\n",
       "Tier 2    6300.34\n",
       "Tier 3    4988.20\n",
       "Name: total_watch_time_mins, dtype: float64"
      ]
     },
     "execution_count": 109,
     "metadata": {},
     "output_type": "execute_result"
    }
   ],
   "source": [
    "(subscr_content_consumption_Jobstar.groupby('city_tier')['total_watch_time_mins'].mean()).round(2)"
   ]
  },
  {
   "cell_type": "code",
   "execution_count": null,
   "id": "72e4e4e6-841c-4fa4-81fd-b2e038b99744",
   "metadata": {},
   "outputs": [],
   "source": []
  },
  {
   "cell_type": "code",
   "execution_count": 110,
   "id": "b9fa7728-b26c-4e7c-a4bd-6b6ef9f7ec60",
   "metadata": {},
   "outputs": [
    {
     "data": {
      "text/plain": [
       "device_type\n",
       "Laptop     4857.26\n",
       "Mobile    10563.65\n",
       "TV         5682.62\n",
       "Name: total_watch_time_mins, dtype: float64"
      ]
     },
     "execution_count": 110,
     "metadata": {},
     "output_type": "execute_result"
    }
   ],
   "source": [
    "(subscr_content_consumption_Jobstar.groupby('device_type')['total_watch_time_mins'].mean()).round(2)"
   ]
  },
  {
   "cell_type": "code",
   "execution_count": null,
   "id": "b6285fff-2c9f-4849-bbf0-a5c7f845f4ab",
   "metadata": {},
   "outputs": [],
   "source": []
  },
  {
   "cell_type": "markdown",
   "id": "95e8f896-1d0b-41ee-86ac-43cc70cc8ccc",
   "metadata": {},
   "source": [
    "***************How do inactivity patterns correlate with total watch time or average watch time? **********************"
   ]
  },
  {
   "cell_type": "code",
   "execution_count": 111,
   "id": "08fad99b-2d62-4cf5-b88e-92e57988455a",
   "metadata": {},
   "outputs": [
    {
     "data": {
      "text/html": [
       "<div>\n",
       "<style scoped>\n",
       "    .dataframe tbody tr th:only-of-type {\n",
       "        vertical-align: middle;\n",
       "    }\n",
       "\n",
       "    .dataframe tbody tr th {\n",
       "        vertical-align: top;\n",
       "    }\n",
       "\n",
       "    .dataframe thead th {\n",
       "        text-align: right;\n",
       "    }\n",
       "</style>\n",
       "<table border=\"1\" class=\"dataframe\">\n",
       "  <thead>\n",
       "    <tr style=\"text-align: right;\">\n",
       "      <th></th>\n",
       "      <th>user_id</th>\n",
       "      <th>device_type</th>\n",
       "      <th>total_watch_time_mins</th>\n",
       "    </tr>\n",
       "  </thead>\n",
       "  <tbody>\n",
       "    <tr>\n",
       "      <th>0</th>\n",
       "      <td>UIDLC459c98ee486</td>\n",
       "      <td>Mobile</td>\n",
       "      <td>502</td>\n",
       "    </tr>\n",
       "    <tr>\n",
       "      <th>1</th>\n",
       "      <td>UIDLCe4b2fd90790</td>\n",
       "      <td>Mobile</td>\n",
       "      <td>2098</td>\n",
       "    </tr>\n",
       "  </tbody>\n",
       "</table>\n",
       "</div>"
      ],
      "text/plain": [
       "            user_id device_type  total_watch_time_mins\n",
       "0  UIDLC459c98ee486      Mobile                    502\n",
       "1  UIDLCe4b2fd90790      Mobile                   2098"
      ]
     },
     "execution_count": 111,
     "metadata": {},
     "output_type": "execute_result"
    }
   ],
   "source": [
    "df_liocinema_content_consumption.head(2)"
   ]
  },
  {
   "cell_type": "code",
   "execution_count": 112,
   "id": "4a08d29d-86ef-405d-ba73-071171c714b8",
   "metadata": {},
   "outputs": [
    {
     "data": {
      "text/html": [
       "<div>\n",
       "<style scoped>\n",
       "    .dataframe tbody tr th:only-of-type {\n",
       "        vertical-align: middle;\n",
       "    }\n",
       "\n",
       "    .dataframe tbody tr th {\n",
       "        vertical-align: top;\n",
       "    }\n",
       "\n",
       "    .dataframe thead th {\n",
       "        text-align: right;\n",
       "    }\n",
       "</style>\n",
       "<table border=\"1\" class=\"dataframe\">\n",
       "  <thead>\n",
       "    <tr style=\"text-align: right;\">\n",
       "      <th></th>\n",
       "      <th>user_id</th>\n",
       "      <th>age_group</th>\n",
       "      <th>city_tier</th>\n",
       "      <th>subscription_date</th>\n",
       "      <th>subscription_plan</th>\n",
       "      <th>last_active_date</th>\n",
       "      <th>plan_change_date</th>\n",
       "      <th>new_subscription_plan</th>\n",
       "      <th>subscription_date_month</th>\n",
       "      <th>plan_change_date_month</th>\n",
       "      <th>last_active_date_month</th>\n",
       "    </tr>\n",
       "  </thead>\n",
       "  <tbody>\n",
       "    <tr>\n",
       "      <th>3</th>\n",
       "      <td>UIDLC000186abd93</td>\n",
       "      <td>18-24</td>\n",
       "      <td>Tier 3</td>\n",
       "      <td>2024-09-07</td>\n",
       "      <td>Free</td>\n",
       "      <td>2024-10-23 00:00:00</td>\n",
       "      <td>0</td>\n",
       "      <td>0</td>\n",
       "      <td>9</td>\n",
       "      <td>0</td>\n",
       "      <td>10</td>\n",
       "    </tr>\n",
       "    <tr>\n",
       "      <th>5</th>\n",
       "      <td>UIDLC000362cba39</td>\n",
       "      <td>25-34</td>\n",
       "      <td>Tier 3</td>\n",
       "      <td>2024-06-09</td>\n",
       "      <td>Free</td>\n",
       "      <td>2024-07-29 00:00:00</td>\n",
       "      <td>0</td>\n",
       "      <td>0</td>\n",
       "      <td>6</td>\n",
       "      <td>0</td>\n",
       "      <td>7</td>\n",
       "    </tr>\n",
       "  </tbody>\n",
       "</table>\n",
       "</div>"
      ],
      "text/plain": [
       "            user_id age_group city_tier subscription_date subscription_plan  \\\n",
       "3  UIDLC000186abd93     18-24    Tier 3        2024-09-07              Free   \n",
       "5  UIDLC000362cba39     25-34    Tier 3        2024-06-09              Free   \n",
       "\n",
       "      last_active_date plan_change_date new_subscription_plan  \\\n",
       "3  2024-10-23 00:00:00                0                     0   \n",
       "5  2024-07-29 00:00:00                0                     0   \n",
       "\n",
       "   subscription_date_month  plan_change_date_month  last_active_date_month  \n",
       "3                        9                       0                      10  \n",
       "5                        6                       0                       7  "
      ]
     },
     "execution_count": 112,
     "metadata": {},
     "output_type": "execute_result"
    }
   ],
   "source": [
    "df1_non_active.head(2)"
   ]
  },
  {
   "cell_type": "code",
   "execution_count": 113,
   "id": "0a460bf6-aef8-41d2-a4fa-477c827f084b",
   "metadata": {},
   "outputs": [],
   "source": [
    "df1_non_active_watchtime=pd.merge(df1_non_active,df_liocinema_content_consumption,on='user_id')"
   ]
  },
  {
   "cell_type": "code",
   "execution_count": 114,
   "id": "fcccee99-11ab-44a0-b2f6-cb7ee3577390",
   "metadata": {},
   "outputs": [
    {
     "data": {
      "text/html": [
       "<div>\n",
       "<style scoped>\n",
       "    .dataframe tbody tr th:only-of-type {\n",
       "        vertical-align: middle;\n",
       "    }\n",
       "\n",
       "    .dataframe tbody tr th {\n",
       "        vertical-align: top;\n",
       "    }\n",
       "\n",
       "    .dataframe thead th {\n",
       "        text-align: right;\n",
       "    }\n",
       "</style>\n",
       "<table border=\"1\" class=\"dataframe\">\n",
       "  <thead>\n",
       "    <tr style=\"text-align: right;\">\n",
       "      <th></th>\n",
       "      <th>user_id</th>\n",
       "      <th>age_group</th>\n",
       "      <th>city_tier</th>\n",
       "      <th>subscription_date</th>\n",
       "      <th>subscription_plan</th>\n",
       "      <th>last_active_date</th>\n",
       "      <th>plan_change_date</th>\n",
       "      <th>new_subscription_plan</th>\n",
       "      <th>subscription_date_month</th>\n",
       "      <th>plan_change_date_month</th>\n",
       "      <th>last_active_date_month</th>\n",
       "      <th>device_type</th>\n",
       "      <th>total_watch_time_mins</th>\n",
       "    </tr>\n",
       "  </thead>\n",
       "  <tbody>\n",
       "    <tr>\n",
       "      <th>0</th>\n",
       "      <td>UIDLC000186abd93</td>\n",
       "      <td>18-24</td>\n",
       "      <td>Tier 3</td>\n",
       "      <td>2024-09-07</td>\n",
       "      <td>Free</td>\n",
       "      <td>2024-10-23 00:00:00</td>\n",
       "      <td>0</td>\n",
       "      <td>0</td>\n",
       "      <td>9</td>\n",
       "      <td>0</td>\n",
       "      <td>10</td>\n",
       "      <td>Mobile</td>\n",
       "      <td>631</td>\n",
       "    </tr>\n",
       "    <tr>\n",
       "      <th>1</th>\n",
       "      <td>UIDLC000362cba39</td>\n",
       "      <td>25-34</td>\n",
       "      <td>Tier 3</td>\n",
       "      <td>2024-06-09</td>\n",
       "      <td>Free</td>\n",
       "      <td>2024-07-29 00:00:00</td>\n",
       "      <td>0</td>\n",
       "      <td>0</td>\n",
       "      <td>6</td>\n",
       "      <td>0</td>\n",
       "      <td>7</td>\n",
       "      <td>Mobile</td>\n",
       "      <td>536</td>\n",
       "    </tr>\n",
       "  </tbody>\n",
       "</table>\n",
       "</div>"
      ],
      "text/plain": [
       "            user_id age_group city_tier subscription_date subscription_plan  \\\n",
       "0  UIDLC000186abd93     18-24    Tier 3        2024-09-07              Free   \n",
       "1  UIDLC000362cba39     25-34    Tier 3        2024-06-09              Free   \n",
       "\n",
       "      last_active_date plan_change_date new_subscription_plan  \\\n",
       "0  2024-10-23 00:00:00                0                     0   \n",
       "1  2024-07-29 00:00:00                0                     0   \n",
       "\n",
       "   subscription_date_month  plan_change_date_month  last_active_date_month  \\\n",
       "0                        9                       0                      10   \n",
       "1                        6                       0                       7   \n",
       "\n",
       "  device_type  total_watch_time_mins  \n",
       "0      Mobile                    631  \n",
       "1      Mobile                    536  "
      ]
     },
     "execution_count": 114,
     "metadata": {},
     "output_type": "execute_result"
    }
   ],
   "source": [
    "df1_non_active_watchtime.head(2)"
   ]
  },
  {
   "cell_type": "code",
   "execution_count": 115,
   "id": "3d1600b8-65ac-4ce0-9a59-dcc525971fa8",
   "metadata": {},
   "outputs": [
    {
     "data": {
      "text/html": [
       "<div>\n",
       "<style scoped>\n",
       "    .dataframe tbody tr th:only-of-type {\n",
       "        vertical-align: middle;\n",
       "    }\n",
       "\n",
       "    .dataframe tbody tr th {\n",
       "        vertical-align: top;\n",
       "    }\n",
       "\n",
       "    .dataframe thead th {\n",
       "        text-align: right;\n",
       "    }\n",
       "</style>\n",
       "<table border=\"1\" class=\"dataframe\">\n",
       "  <thead>\n",
       "    <tr style=\"text-align: right;\">\n",
       "      <th></th>\n",
       "      <th>total_watch_time_mins</th>\n",
       "      <th>count</th>\n",
       "    </tr>\n",
       "  </thead>\n",
       "  <tbody>\n",
       "    <tr>\n",
       "      <th>0</th>\n",
       "      <td>128</td>\n",
       "      <td>275</td>\n",
       "    </tr>\n",
       "    <tr>\n",
       "      <th>1</th>\n",
       "      <td>135</td>\n",
       "      <td>273</td>\n",
       "    </tr>\n",
       "    <tr>\n",
       "      <th>2</th>\n",
       "      <td>132</td>\n",
       "      <td>273</td>\n",
       "    </tr>\n",
       "    <tr>\n",
       "      <th>3</th>\n",
       "      <td>138</td>\n",
       "      <td>273</td>\n",
       "    </tr>\n",
       "    <tr>\n",
       "      <th>4</th>\n",
       "      <td>144</td>\n",
       "      <td>273</td>\n",
       "    </tr>\n",
       "    <tr>\n",
       "      <th>5</th>\n",
       "      <td>133</td>\n",
       "      <td>271</td>\n",
       "    </tr>\n",
       "    <tr>\n",
       "      <th>6</th>\n",
       "      <td>124</td>\n",
       "      <td>271</td>\n",
       "    </tr>\n",
       "    <tr>\n",
       "      <th>7</th>\n",
       "      <td>127</td>\n",
       "      <td>268</td>\n",
       "    </tr>\n",
       "    <tr>\n",
       "      <th>8</th>\n",
       "      <td>168</td>\n",
       "      <td>268</td>\n",
       "    </tr>\n",
       "    <tr>\n",
       "      <th>9</th>\n",
       "      <td>116</td>\n",
       "      <td>266</td>\n",
       "    </tr>\n",
       "  </tbody>\n",
       "</table>\n",
       "</div>"
      ],
      "text/plain": [
       "   total_watch_time_mins  count\n",
       "0                    128    275\n",
       "1                    135    273\n",
       "2                    132    273\n",
       "3                    138    273\n",
       "4                    144    273\n",
       "5                    133    271\n",
       "6                    124    271\n",
       "7                    127    268\n",
       "8                    168    268\n",
       "9                    116    266"
      ]
     },
     "execution_count": 115,
     "metadata": {},
     "output_type": "execute_result"
    }
   ],
   "source": [
    "df1_non_active_watchtime['total_watch_time_mins'].value_counts().reset_index().head(10)"
   ]
  },
  {
   "cell_type": "code",
   "execution_count": 116,
   "id": "1fd322c8-dcdc-4839-bb4a-91c732cb9f7c",
   "metadata": {},
   "outputs": [],
   "source": [
    "#pd.DataFrame(df1_non_active_watchtime['total_watch_time_mins'].value_counts().reset_index().head(10)).to_excel('jio_inactive_watchtime.xlsx')"
   ]
  },
  {
   "cell_type": "code",
   "execution_count": 117,
   "id": "24354555-f128-4d84-9da0-9dbc96e8fff5",
   "metadata": {},
   "outputs": [
    {
     "data": {
      "text/plain": [
       "717.3406843688398"
      ]
     },
     "execution_count": 117,
     "metadata": {},
     "output_type": "execute_result"
    }
   ],
   "source": [
    "df1_non_active_watchtime['total_watch_time_mins'].mean()"
   ]
  },
  {
   "cell_type": "code",
   "execution_count": null,
   "id": "22fa1620-18ca-4df8-a68b-75b8d2635183",
   "metadata": {},
   "outputs": [],
   "source": []
  },
  {
   "cell_type": "code",
   "execution_count": 118,
   "id": "c2df62f2-cfc9-4948-a6e0-83ba225eead2",
   "metadata": {},
   "outputs": [
    {
     "data": {
      "text/html": [
       "<div>\n",
       "<style scoped>\n",
       "    .dataframe tbody tr th:only-of-type {\n",
       "        vertical-align: middle;\n",
       "    }\n",
       "\n",
       "    .dataframe tbody tr th {\n",
       "        vertical-align: top;\n",
       "    }\n",
       "\n",
       "    .dataframe thead th {\n",
       "        text-align: right;\n",
       "    }\n",
       "</style>\n",
       "<table border=\"1\" class=\"dataframe\">\n",
       "  <thead>\n",
       "    <tr style=\"text-align: right;\">\n",
       "      <th></th>\n",
       "      <th>user_id</th>\n",
       "      <th>device_type</th>\n",
       "      <th>total_watch_time_mins</th>\n",
       "    </tr>\n",
       "  </thead>\n",
       "  <tbody>\n",
       "    <tr>\n",
       "      <th>0</th>\n",
       "      <td>UIDJS877cc0e02c9</td>\n",
       "      <td>Mobile</td>\n",
       "      <td>14613</td>\n",
       "    </tr>\n",
       "    <tr>\n",
       "      <th>1</th>\n",
       "      <td>UIDJS06384e7ff06</td>\n",
       "      <td>Mobile</td>\n",
       "      <td>13271</td>\n",
       "    </tr>\n",
       "    <tr>\n",
       "      <th>2</th>\n",
       "      <td>UIDJSc3997b7beb7</td>\n",
       "      <td>Mobile</td>\n",
       "      <td>4644</td>\n",
       "    </tr>\n",
       "    <tr>\n",
       "      <th>3</th>\n",
       "      <td>UIDJS66726ce2325</td>\n",
       "      <td>Mobile</td>\n",
       "      <td>5734</td>\n",
       "    </tr>\n",
       "    <tr>\n",
       "      <th>4</th>\n",
       "      <td>UIDJS040119b6107</td>\n",
       "      <td>Mobile</td>\n",
       "      <td>2939</td>\n",
       "    </tr>\n",
       "    <tr>\n",
       "      <th>...</th>\n",
       "      <td>...</td>\n",
       "      <td>...</td>\n",
       "      <td>...</td>\n",
       "    </tr>\n",
       "    <tr>\n",
       "      <th>133855</th>\n",
       "      <td>UIDJS96f8e4a1b54</td>\n",
       "      <td>Laptop</td>\n",
       "      <td>11671</td>\n",
       "    </tr>\n",
       "    <tr>\n",
       "      <th>133856</th>\n",
       "      <td>UIDJSa131c0a6199</td>\n",
       "      <td>Laptop</td>\n",
       "      <td>9453</td>\n",
       "    </tr>\n",
       "    <tr>\n",
       "      <th>133857</th>\n",
       "      <td>UIDJS3f8a556df56</td>\n",
       "      <td>Laptop</td>\n",
       "      <td>199</td>\n",
       "    </tr>\n",
       "    <tr>\n",
       "      <th>133858</th>\n",
       "      <td>UIDJS7a51d1c2bcd</td>\n",
       "      <td>Laptop</td>\n",
       "      <td>3252</td>\n",
       "    </tr>\n",
       "    <tr>\n",
       "      <th>133859</th>\n",
       "      <td>UIDJS44e851ffbd2</td>\n",
       "      <td>Laptop</td>\n",
       "      <td>11574</td>\n",
       "    </tr>\n",
       "  </tbody>\n",
       "</table>\n",
       "<p>133860 rows × 3 columns</p>\n",
       "</div>"
      ],
      "text/plain": [
       "                 user_id device_type  total_watch_time_mins\n",
       "0       UIDJS877cc0e02c9      Mobile                  14613\n",
       "1       UIDJS06384e7ff06      Mobile                  13271\n",
       "2       UIDJSc3997b7beb7      Mobile                   4644\n",
       "3       UIDJS66726ce2325      Mobile                   5734\n",
       "4       UIDJS040119b6107      Mobile                   2939\n",
       "...                  ...         ...                    ...\n",
       "133855  UIDJS96f8e4a1b54      Laptop                  11671\n",
       "133856  UIDJSa131c0a6199      Laptop                   9453\n",
       "133857  UIDJS3f8a556df56      Laptop                    199\n",
       "133858  UIDJS7a51d1c2bcd      Laptop                   3252\n",
       "133859  UIDJS44e851ffbd2      Laptop                  11574\n",
       "\n",
       "[133860 rows x 3 columns]"
      ]
     },
     "execution_count": 118,
     "metadata": {},
     "output_type": "execute_result"
    }
   ],
   "source": [
    "df_jobstar_content_consumption"
   ]
  },
  {
   "cell_type": "code",
   "execution_count": 119,
   "id": "a21e0a83-3728-4307-b5c3-8d19af60824e",
   "metadata": {},
   "outputs": [
    {
     "data": {
      "text/html": [
       "<div>\n",
       "<style scoped>\n",
       "    .dataframe tbody tr th:only-of-type {\n",
       "        vertical-align: middle;\n",
       "    }\n",
       "\n",
       "    .dataframe tbody tr th {\n",
       "        vertical-align: top;\n",
       "    }\n",
       "\n",
       "    .dataframe thead th {\n",
       "        text-align: right;\n",
       "    }\n",
       "</style>\n",
       "<table border=\"1\" class=\"dataframe\">\n",
       "  <thead>\n",
       "    <tr style=\"text-align: right;\">\n",
       "      <th></th>\n",
       "      <th>user_id</th>\n",
       "      <th>age_group</th>\n",
       "      <th>city_tier</th>\n",
       "      <th>subscription_date</th>\n",
       "      <th>subscription_plan</th>\n",
       "      <th>last_active_date</th>\n",
       "      <th>plan_change_date</th>\n",
       "      <th>new_subscription_plan</th>\n",
       "      <th>subscription_date_month</th>\n",
       "      <th>plan_change_date_month</th>\n",
       "      <th>last_active_date_month</th>\n",
       "      <th>df_Jobstar_subscr_month</th>\n",
       "    </tr>\n",
       "  </thead>\n",
       "  <tbody>\n",
       "    <tr>\n",
       "      <th>9</th>\n",
       "      <td>UIDJS0005f952957</td>\n",
       "      <td>25-34</td>\n",
       "      <td>Tier 3</td>\n",
       "      <td>2024-09-29</td>\n",
       "      <td>VIP</td>\n",
       "      <td>2024-12-02 00:00:00</td>\n",
       "      <td>0</td>\n",
       "      <td>0</td>\n",
       "      <td>9</td>\n",
       "      <td>0</td>\n",
       "      <td>12.0</td>\n",
       "      <td>9</td>\n",
       "    </tr>\n",
       "    <tr>\n",
       "      <th>10</th>\n",
       "      <td>UIDJS00066780176</td>\n",
       "      <td>35-44</td>\n",
       "      <td>Tier 2</td>\n",
       "      <td>2024-08-14</td>\n",
       "      <td>Free</td>\n",
       "      <td>2024-10-05 00:00:00</td>\n",
       "      <td>0</td>\n",
       "      <td>0</td>\n",
       "      <td>8</td>\n",
       "      <td>0</td>\n",
       "      <td>10.0</td>\n",
       "      <td>8</td>\n",
       "    </tr>\n",
       "    <tr>\n",
       "      <th>11</th>\n",
       "      <td>UIDJS00095c87d92</td>\n",
       "      <td>35-44</td>\n",
       "      <td>Tier 1</td>\n",
       "      <td>2024-06-06</td>\n",
       "      <td>Premium</td>\n",
       "      <td>2024-07-22 00:00:00</td>\n",
       "      <td>0</td>\n",
       "      <td>0</td>\n",
       "      <td>6</td>\n",
       "      <td>0</td>\n",
       "      <td>7.0</td>\n",
       "      <td>6</td>\n",
       "    </tr>\n",
       "    <tr>\n",
       "      <th>16</th>\n",
       "      <td>UIDJS001420c2f0f</td>\n",
       "      <td>25-34</td>\n",
       "      <td>Tier 2</td>\n",
       "      <td>2024-04-25</td>\n",
       "      <td>VIP</td>\n",
       "      <td>2024-11-13 00:00:00</td>\n",
       "      <td>0</td>\n",
       "      <td>0</td>\n",
       "      <td>4</td>\n",
       "      <td>0</td>\n",
       "      <td>11.0</td>\n",
       "      <td>4</td>\n",
       "    </tr>\n",
       "    <tr>\n",
       "      <th>25</th>\n",
       "      <td>UIDJS00242dbc61e</td>\n",
       "      <td>35-44</td>\n",
       "      <td>Tier 2</td>\n",
       "      <td>2024-06-27</td>\n",
       "      <td>Free</td>\n",
       "      <td>2024-08-11 00:00:00</td>\n",
       "      <td>0</td>\n",
       "      <td>0</td>\n",
       "      <td>6</td>\n",
       "      <td>0</td>\n",
       "      <td>8.0</td>\n",
       "      <td>6</td>\n",
       "    </tr>\n",
       "    <tr>\n",
       "      <th>...</th>\n",
       "      <td>...</td>\n",
       "      <td>...</td>\n",
       "      <td>...</td>\n",
       "      <td>...</td>\n",
       "      <td>...</td>\n",
       "      <td>...</td>\n",
       "      <td>...</td>\n",
       "      <td>...</td>\n",
       "      <td>...</td>\n",
       "      <td>...</td>\n",
       "      <td>...</td>\n",
       "      <td>...</td>\n",
       "    </tr>\n",
       "    <tr>\n",
       "      <th>44590</th>\n",
       "      <td>UIDJSffd20bfdcdd</td>\n",
       "      <td>25-34</td>\n",
       "      <td>Tier 2</td>\n",
       "      <td>2024-05-13</td>\n",
       "      <td>Free</td>\n",
       "      <td>2024-09-29 00:00:00</td>\n",
       "      <td>0</td>\n",
       "      <td>0</td>\n",
       "      <td>5</td>\n",
       "      <td>0</td>\n",
       "      <td>9.0</td>\n",
       "      <td>5</td>\n",
       "    </tr>\n",
       "    <tr>\n",
       "      <th>44594</th>\n",
       "      <td>UIDJSffd59ae2d62</td>\n",
       "      <td>25-34</td>\n",
       "      <td>Tier 1</td>\n",
       "      <td>2024-04-20</td>\n",
       "      <td>VIP</td>\n",
       "      <td>2024-09-14 00:00:00</td>\n",
       "      <td>0</td>\n",
       "      <td>0</td>\n",
       "      <td>4</td>\n",
       "      <td>0</td>\n",
       "      <td>9.0</td>\n",
       "      <td>4</td>\n",
       "    </tr>\n",
       "    <tr>\n",
       "      <th>44604</th>\n",
       "      <td>UIDJSffe295528f7</td>\n",
       "      <td>25-34</td>\n",
       "      <td>Tier 2</td>\n",
       "      <td>2024-04-01</td>\n",
       "      <td>Free</td>\n",
       "      <td>2024-05-31 00:00:00</td>\n",
       "      <td>0</td>\n",
       "      <td>0</td>\n",
       "      <td>4</td>\n",
       "      <td>0</td>\n",
       "      <td>5.0</td>\n",
       "      <td>4</td>\n",
       "    </tr>\n",
       "    <tr>\n",
       "      <th>44614</th>\n",
       "      <td>UIDJSfff648eaa52</td>\n",
       "      <td>25-34</td>\n",
       "      <td>Tier 1</td>\n",
       "      <td>2024-02-28</td>\n",
       "      <td>Free</td>\n",
       "      <td>2024-09-12 00:00:00</td>\n",
       "      <td>0</td>\n",
       "      <td>0</td>\n",
       "      <td>2</td>\n",
       "      <td>0</td>\n",
       "      <td>9.0</td>\n",
       "      <td>2</td>\n",
       "    </tr>\n",
       "    <tr>\n",
       "      <th>44617</th>\n",
       "      <td>UIDJSfffebd3002b</td>\n",
       "      <td>25-34</td>\n",
       "      <td>Tier 1</td>\n",
       "      <td>2024-09-27</td>\n",
       "      <td>VIP</td>\n",
       "      <td>2024-10-29 00:00:00</td>\n",
       "      <td>0</td>\n",
       "      <td>0</td>\n",
       "      <td>9</td>\n",
       "      <td>0</td>\n",
       "      <td>10.0</td>\n",
       "      <td>9</td>\n",
       "    </tr>\n",
       "  </tbody>\n",
       "</table>\n",
       "<p>6652 rows × 12 columns</p>\n",
       "</div>"
      ],
      "text/plain": [
       "                user_id age_group city_tier subscription_date  \\\n",
       "9      UIDJS0005f952957     25-34    Tier 3        2024-09-29   \n",
       "10     UIDJS00066780176     35-44    Tier 2        2024-08-14   \n",
       "11     UIDJS00095c87d92     35-44    Tier 1        2024-06-06   \n",
       "16     UIDJS001420c2f0f     25-34    Tier 2        2024-04-25   \n",
       "25     UIDJS00242dbc61e     35-44    Tier 2        2024-06-27   \n",
       "...                 ...       ...       ...               ...   \n",
       "44590  UIDJSffd20bfdcdd     25-34    Tier 2        2024-05-13   \n",
       "44594  UIDJSffd59ae2d62     25-34    Tier 1        2024-04-20   \n",
       "44604  UIDJSffe295528f7     25-34    Tier 2        2024-04-01   \n",
       "44614  UIDJSfff648eaa52     25-34    Tier 1        2024-02-28   \n",
       "44617  UIDJSfffebd3002b     25-34    Tier 1        2024-09-27   \n",
       "\n",
       "      subscription_plan     last_active_date plan_change_date  \\\n",
       "9                   VIP  2024-12-02 00:00:00                0   \n",
       "10                 Free  2024-10-05 00:00:00                0   \n",
       "11              Premium  2024-07-22 00:00:00                0   \n",
       "16                  VIP  2024-11-13 00:00:00                0   \n",
       "25                 Free  2024-08-11 00:00:00                0   \n",
       "...                 ...                  ...              ...   \n",
       "44590              Free  2024-09-29 00:00:00                0   \n",
       "44594               VIP  2024-09-14 00:00:00                0   \n",
       "44604              Free  2024-05-31 00:00:00                0   \n",
       "44614              Free  2024-09-12 00:00:00                0   \n",
       "44617               VIP  2024-10-29 00:00:00                0   \n",
       "\n",
       "      new_subscription_plan  subscription_date_month plan_change_date_month  \\\n",
       "9                         0                        9                      0   \n",
       "10                        0                        8                      0   \n",
       "11                        0                        6                      0   \n",
       "16                        0                        4                      0   \n",
       "25                        0                        6                      0   \n",
       "...                     ...                      ...                    ...   \n",
       "44590                     0                        5                      0   \n",
       "44594                     0                        4                      0   \n",
       "44604                     0                        4                      0   \n",
       "44614                     0                        2                      0   \n",
       "44617                     0                        9                      0   \n",
       "\n",
       "      last_active_date_month  df_Jobstar_subscr_month  \n",
       "9                       12.0                        9  \n",
       "10                      10.0                        8  \n",
       "11                       7.0                        6  \n",
       "16                      11.0                        4  \n",
       "25                       8.0                        6  \n",
       "...                      ...                      ...  \n",
       "44590                    9.0                        5  \n",
       "44594                    9.0                        4  \n",
       "44604                    5.0                        4  \n",
       "44614                    9.0                        2  \n",
       "44617                   10.0                        9  \n",
       "\n",
       "[6652 rows x 12 columns]"
      ]
     },
     "execution_count": 119,
     "metadata": {},
     "output_type": "execute_result"
    }
   ],
   "source": [
    "df2_non_active"
   ]
  },
  {
   "cell_type": "code",
   "execution_count": 120,
   "id": "e848e390-ed06-42da-ac2d-30f17ac6c4df",
   "metadata": {},
   "outputs": [],
   "source": [
    "df2_non_active_watchtime=pd.merge(df2_non_active,df_jobstar_content_consumption,on='user_id')"
   ]
  },
  {
   "cell_type": "code",
   "execution_count": 121,
   "id": "e558acd8-03f0-416d-b510-39c6469b6db4",
   "metadata": {},
   "outputs": [
    {
     "data": {
      "text/html": [
       "<div>\n",
       "<style scoped>\n",
       "    .dataframe tbody tr th:only-of-type {\n",
       "        vertical-align: middle;\n",
       "    }\n",
       "\n",
       "    .dataframe tbody tr th {\n",
       "        vertical-align: top;\n",
       "    }\n",
       "\n",
       "    .dataframe thead th {\n",
       "        text-align: right;\n",
       "    }\n",
       "</style>\n",
       "<table border=\"1\" class=\"dataframe\">\n",
       "  <thead>\n",
       "    <tr style=\"text-align: right;\">\n",
       "      <th></th>\n",
       "      <th>user_id</th>\n",
       "      <th>age_group</th>\n",
       "      <th>city_tier</th>\n",
       "      <th>subscription_date</th>\n",
       "      <th>subscription_plan</th>\n",
       "      <th>last_active_date</th>\n",
       "      <th>plan_change_date</th>\n",
       "      <th>new_subscription_plan</th>\n",
       "      <th>subscription_date_month</th>\n",
       "      <th>plan_change_date_month</th>\n",
       "      <th>last_active_date_month</th>\n",
       "      <th>df_Jobstar_subscr_month</th>\n",
       "      <th>device_type</th>\n",
       "      <th>total_watch_time_mins</th>\n",
       "    </tr>\n",
       "  </thead>\n",
       "  <tbody>\n",
       "    <tr>\n",
       "      <th>0</th>\n",
       "      <td>UIDJS0005f952957</td>\n",
       "      <td>25-34</td>\n",
       "      <td>Tier 3</td>\n",
       "      <td>2024-09-29</td>\n",
       "      <td>VIP</td>\n",
       "      <td>2024-12-02 00:00:00</td>\n",
       "      <td>0</td>\n",
       "      <td>0</td>\n",
       "      <td>9</td>\n",
       "      <td>0</td>\n",
       "      <td>12.0</td>\n",
       "      <td>9</td>\n",
       "      <td>Mobile</td>\n",
       "      <td>1906</td>\n",
       "    </tr>\n",
       "    <tr>\n",
       "      <th>1</th>\n",
       "      <td>UIDJS0005f952957</td>\n",
       "      <td>25-34</td>\n",
       "      <td>Tier 3</td>\n",
       "      <td>2024-09-29</td>\n",
       "      <td>VIP</td>\n",
       "      <td>2024-12-02 00:00:00</td>\n",
       "      <td>0</td>\n",
       "      <td>0</td>\n",
       "      <td>9</td>\n",
       "      <td>0</td>\n",
       "      <td>12.0</td>\n",
       "      <td>9</td>\n",
       "      <td>TV</td>\n",
       "      <td>1014</td>\n",
       "    </tr>\n",
       "  </tbody>\n",
       "</table>\n",
       "</div>"
      ],
      "text/plain": [
       "            user_id age_group city_tier subscription_date subscription_plan  \\\n",
       "0  UIDJS0005f952957     25-34    Tier 3        2024-09-29               VIP   \n",
       "1  UIDJS0005f952957     25-34    Tier 3        2024-09-29               VIP   \n",
       "\n",
       "      last_active_date plan_change_date new_subscription_plan  \\\n",
       "0  2024-12-02 00:00:00                0                     0   \n",
       "1  2024-12-02 00:00:00                0                     0   \n",
       "\n",
       "   subscription_date_month plan_change_date_month last_active_date_month  \\\n",
       "0                        9                      0                   12.0   \n",
       "1                        9                      0                   12.0   \n",
       "\n",
       "   df_Jobstar_subscr_month device_type  total_watch_time_mins  \n",
       "0                        9      Mobile                   1906  \n",
       "1                        9          TV                   1014  "
      ]
     },
     "execution_count": 121,
     "metadata": {},
     "output_type": "execute_result"
    }
   ],
   "source": [
    "df2_non_active_watchtime.head(2)"
   ]
  },
  {
   "cell_type": "code",
   "execution_count": 122,
   "id": "b279b20f-a5c3-4a13-b9c6-c3f140b09dc1",
   "metadata": {},
   "outputs": [
    {
     "data": {
      "text/html": [
       "<div>\n",
       "<style scoped>\n",
       "    .dataframe tbody tr th:only-of-type {\n",
       "        vertical-align: middle;\n",
       "    }\n",
       "\n",
       "    .dataframe tbody tr th {\n",
       "        vertical-align: top;\n",
       "    }\n",
       "\n",
       "    .dataframe thead th {\n",
       "        text-align: right;\n",
       "    }\n",
       "</style>\n",
       "<table border=\"1\" class=\"dataframe\">\n",
       "  <thead>\n",
       "    <tr style=\"text-align: right;\">\n",
       "      <th></th>\n",
       "      <th>total_watch_time_mins</th>\n",
       "      <th>count</th>\n",
       "    </tr>\n",
       "  </thead>\n",
       "  <tbody>\n",
       "    <tr>\n",
       "      <th>0</th>\n",
       "      <td>282</td>\n",
       "      <td>25</td>\n",
       "    </tr>\n",
       "    <tr>\n",
       "      <th>1</th>\n",
       "      <td>302</td>\n",
       "      <td>24</td>\n",
       "    </tr>\n",
       "    <tr>\n",
       "      <th>2</th>\n",
       "      <td>372</td>\n",
       "      <td>23</td>\n",
       "    </tr>\n",
       "    <tr>\n",
       "      <th>3</th>\n",
       "      <td>415</td>\n",
       "      <td>22</td>\n",
       "    </tr>\n",
       "    <tr>\n",
       "      <th>4</th>\n",
       "      <td>256</td>\n",
       "      <td>22</td>\n",
       "    </tr>\n",
       "    <tr>\n",
       "      <th>5</th>\n",
       "      <td>337</td>\n",
       "      <td>21</td>\n",
       "    </tr>\n",
       "    <tr>\n",
       "      <th>6</th>\n",
       "      <td>348</td>\n",
       "      <td>21</td>\n",
       "    </tr>\n",
       "    <tr>\n",
       "      <th>7</th>\n",
       "      <td>204</td>\n",
       "      <td>21</td>\n",
       "    </tr>\n",
       "    <tr>\n",
       "      <th>8</th>\n",
       "      <td>226</td>\n",
       "      <td>20</td>\n",
       "    </tr>\n",
       "    <tr>\n",
       "      <th>9</th>\n",
       "      <td>571</td>\n",
       "      <td>20</td>\n",
       "    </tr>\n",
       "  </tbody>\n",
       "</table>\n",
       "</div>"
      ],
      "text/plain": [
       "   total_watch_time_mins  count\n",
       "0                    282     25\n",
       "1                    302     24\n",
       "2                    372     23\n",
       "3                    415     22\n",
       "4                    256     22\n",
       "5                    337     21\n",
       "6                    348     21\n",
       "7                    204     21\n",
       "8                    226     20\n",
       "9                    571     20"
      ]
     },
     "execution_count": 122,
     "metadata": {},
     "output_type": "execute_result"
    }
   ],
   "source": [
    "df2_non_active_watchtime['total_watch_time_mins'].value_counts().reset_index().head(10)"
   ]
  },
  {
   "cell_type": "code",
   "execution_count": 123,
   "id": "9304ca2e-b849-408d-8290-4c0a03638ebe",
   "metadata": {},
   "outputs": [],
   "source": [
    "#pd.DataFrame(df2_non_active_watchtime['total_watch_time_mins'].value_counts().reset_index().head(10)).to_excel('jobstar_inactive_watchtime.xlsx')"
   ]
  },
  {
   "cell_type": "code",
   "execution_count": 124,
   "id": "3e07125a-7e96-49b5-9ec6-c9d6aecad9a3",
   "metadata": {},
   "outputs": [
    {
     "data": {
      "text/plain": [
       "1970.9445279615154"
      ]
     },
     "execution_count": 124,
     "metadata": {},
     "output_type": "execute_result"
    }
   ],
   "source": [
    "df2_non_active_watchtime['total_watch_time_mins'].mean()"
   ]
  },
  {
   "cell_type": "code",
   "execution_count": null,
   "id": "787c2119-1dbc-4879-b729-64369907c5cc",
   "metadata": {},
   "outputs": [],
   "source": []
  },
  {
   "cell_type": "markdown",
   "id": "4ddd26c9-4c31-4bd7-995d-4be2b70514e4",
   "metadata": {},
   "source": [
    "-- ************ How do downgrade trends differ between LioCinema and Jotstar? *************************"
   ]
  },
  {
   "cell_type": "code",
   "execution_count": 125,
   "id": "af15b088-b747-438f-8ef9-cbee6de98714",
   "metadata": {},
   "outputs": [],
   "source": [
    "df1_downgrade=df_liocinema_subscr[['subscription_plan','new_subscription_plan']]\n",
    "#df2_downgrade=df_Jobstar_subscr[['subscription_plan','new_subscription_plan']]"
   ]
  },
  {
   "cell_type": "code",
   "execution_count": null,
   "id": "f562516e-acc0-48c9-a5ac-37951b2408aa",
   "metadata": {},
   "outputs": [],
   "source": []
  },
  {
   "cell_type": "code",
   "execution_count": 126,
   "id": "63d9d850-38ea-4414-bed4-708992076457",
   "metadata": {},
   "outputs": [],
   "source": [
    "premium_to_basic=df1_downgrade[(df1_downgrade['subscription_plan']=='Premium') & (df1_downgrade['new_subscription_plan']=='Basic')]\n",
    "#vip_to_free=df2_downgrade[(df2_downgrade['subscription_plan']=='VIP') & (df2_downgrade['new_subscription_plan']=='Free')]"
   ]
  },
  {
   "cell_type": "code",
   "execution_count": 127,
   "id": "85f87afe-daef-415a-adca-0707e50efb5e",
   "metadata": {},
   "outputs": [
    {
     "data": {
      "text/plain": [
       "subscription_plan        3111\n",
       "new_subscription_plan    3111\n",
       "dtype: int64"
      ]
     },
     "execution_count": 127,
     "metadata": {},
     "output_type": "execute_result"
    }
   ],
   "source": [
    "premium_to_basic.count()\n",
    "#vip_to_free.count()"
   ]
  },
  {
   "cell_type": "code",
   "execution_count": 128,
   "id": "4d72c448-4581-42ba-95fe-e6189ea1df8d",
   "metadata": {},
   "outputs": [],
   "source": [
    "primum_to_free=df1_downgrade[(df1_downgrade['subscription_plan']=='Premium') & (df1_downgrade['new_subscription_plan']=='Free')]\n",
    "#primum_to_free1=df2_downgrade[(df2_downgrade['subscription_plan']=='Premium') & (df2_downgrade['new_subscription_plan']=='Free')]"
   ]
  },
  {
   "cell_type": "code",
   "execution_count": 129,
   "id": "b0ac28fb-285c-46d7-808f-c3433da106f6",
   "metadata": {},
   "outputs": [
    {
     "data": {
      "text/plain": [
       "subscription_plan        7439\n",
       "new_subscription_plan    7439\n",
       "dtype: int64"
      ]
     },
     "execution_count": 129,
     "metadata": {},
     "output_type": "execute_result"
    }
   ],
   "source": [
    "primum_to_free.count()"
   ]
  },
  {
   "cell_type": "code",
   "execution_count": 130,
   "id": "02dc8460-7d1b-4e3c-b3ac-0d9413b6ff35",
   "metadata": {},
   "outputs": [],
   "source": [
    "basic_to_free=df1_downgrade[(df1_downgrade['subscription_plan']=='Basic') & (df1_downgrade['new_subscription_plan']=='Free')]"
   ]
  },
  {
   "cell_type": "code",
   "execution_count": 131,
   "id": "30ec67c1-35b8-407b-b065-51e8eeee3ff0",
   "metadata": {},
   "outputs": [
    {
     "data": {
      "text/plain": [
       "subscription_plan        10309\n",
       "new_subscription_plan    10309\n",
       "dtype: int64"
      ]
     },
     "execution_count": 131,
     "metadata": {},
     "output_type": "execute_result"
    }
   ],
   "source": [
    "basic_to_free.count()"
   ]
  },
  {
   "cell_type": "code",
   "execution_count": null,
   "id": "e79daf58-8962-4746-96c3-72bf7e33be4c",
   "metadata": {},
   "outputs": [],
   "source": []
  },
  {
   "cell_type": "markdown",
   "id": "241e2b75-e1f2-4e88-9870-7e5fd85b2043",
   "metadata": {},
   "source": [
    "-- ***************** What are the most common upgrade transitions (e.g., Free to Basic, Free to VIP, \n",
    "Free to Premium) for LioCinema and Jotstar? **************"
   ]
  },
  {
   "cell_type": "code",
   "execution_count": 132,
   "id": "09b312e7-6dec-4ae4-851f-f77ef457e89b",
   "metadata": {},
   "outputs": [],
   "source": [
    "df1_upgrade=df_liocinema_subscr[['subscription_plan','new_subscription_plan']]\n",
    "df2_upgrade=df_Jobstar_subscr[['subscription_plan','new_subscription_plan']]"
   ]
  },
  {
   "cell_type": "code",
   "execution_count": null,
   "id": "6a93d79b-b75c-419f-8d93-93626c9d3a1a",
   "metadata": {},
   "outputs": [],
   "source": []
  },
  {
   "cell_type": "code",
   "execution_count": 133,
   "id": "cac43484-61ae-4d7c-9aa8-685fa4127af7",
   "metadata": {},
   "outputs": [],
   "source": [
    "free_to_basic=df1_upgrade[(df1_upgrade['subscription_plan']=='Free') & (df1_upgrade['new_subscription_plan']=='Basic')]"
   ]
  },
  {
   "cell_type": "code",
   "execution_count": 134,
   "id": "f503230d-6315-4909-84eb-8759821a4a7b",
   "metadata": {},
   "outputs": [
    {
     "data": {
      "text/plain": [
       "subscription_plan        2078\n",
       "new_subscription_plan    2078\n",
       "dtype: int64"
      ]
     },
     "execution_count": 134,
     "metadata": {},
     "output_type": "execute_result"
    }
   ],
   "source": [
    "free_to_basic.count()"
   ]
  },
  {
   "cell_type": "code",
   "execution_count": 135,
   "id": "9e193630-2fc7-4efc-8364-2909da494a75",
   "metadata": {},
   "outputs": [],
   "source": [
    "free_to_vip=df1_upgrade[(df1_upgrade['subscription_plan']=='Free') & (df1_upgrade['new_subscription_plan']=='VIP')]"
   ]
  },
  {
   "cell_type": "code",
   "execution_count": 136,
   "id": "9d78d6ee-d274-4283-a7ad-5a715e0cc3c7",
   "metadata": {},
   "outputs": [
    {
     "data": {
      "text/plain": [
       "subscription_plan        0\n",
       "new_subscription_plan    0\n",
       "dtype: int64"
      ]
     },
     "execution_count": 136,
     "metadata": {},
     "output_type": "execute_result"
    }
   ],
   "source": [
    "free_to_vip.count()"
   ]
  },
  {
   "cell_type": "code",
   "execution_count": 137,
   "id": "6527ea11-1d78-4e98-9a26-d70763dfa033",
   "metadata": {},
   "outputs": [],
   "source": [
    "free_to_premium=df1_upgrade[(df1_upgrade['subscription_plan']=='Free') & (df1_upgrade['new_subscription_plan']=='Premium')]"
   ]
  },
  {
   "cell_type": "code",
   "execution_count": 138,
   "id": "209b72c0-4602-4996-8170-038d1d93ac1d",
   "metadata": {},
   "outputs": [
    {
     "data": {
      "text/plain": [
       "subscription_plan        715\n",
       "new_subscription_plan    715\n",
       "dtype: int64"
      ]
     },
     "execution_count": 138,
     "metadata": {},
     "output_type": "execute_result"
    }
   ],
   "source": [
    "free_to_premium.count()"
   ]
  },
  {
   "cell_type": "code",
   "execution_count": null,
   "id": "2fa4300b-840d-4f4a-8f8e-48083964a375",
   "metadata": {},
   "outputs": [],
   "source": []
  },
  {
   "cell_type": "code",
   "execution_count": 139,
   "id": "04e7f9e3-5a0b-4766-8ac7-468cf260089f",
   "metadata": {},
   "outputs": [],
   "source": [
    "free_to_vip=df2_upgrade[(df2_upgrade['subscription_plan']=='Free') & (df2_upgrade['new_subscription_plan']=='VIP')]"
   ]
  },
  {
   "cell_type": "code",
   "execution_count": 140,
   "id": "be6dbbf6-24dc-43b3-a24a-b9cba67ac85c",
   "metadata": {},
   "outputs": [
    {
     "data": {
      "text/plain": [
       "subscription_plan        844\n",
       "new_subscription_plan    844\n",
       "dtype: int64"
      ]
     },
     "execution_count": 140,
     "metadata": {},
     "output_type": "execute_result"
    }
   ],
   "source": [
    "free_to_vip.count()"
   ]
  },
  {
   "cell_type": "code",
   "execution_count": 141,
   "id": "573b3a4c-4799-4cc9-aa93-b6a2c05eb12d",
   "metadata": {},
   "outputs": [],
   "source": [
    "free_to_premium=df2_upgrade[(df2_upgrade['subscription_plan']=='Free') & (df2_upgrade['new_subscription_plan']=='Premium')]"
   ]
  },
  {
   "cell_type": "code",
   "execution_count": 142,
   "id": "4777f7bf-12c7-49ad-b5b1-0e3d5e3b03e1",
   "metadata": {},
   "outputs": [
    {
     "data": {
      "text/plain": [
       "subscription_plan        683\n",
       "new_subscription_plan    683\n",
       "dtype: int64"
      ]
     },
     "execution_count": 142,
     "metadata": {},
     "output_type": "execute_result"
    }
   ],
   "source": [
    "free_to_premium.count()"
   ]
  },
  {
   "cell_type": "code",
   "execution_count": null,
   "id": "39d0c237-95f1-43a8-95a4-03616f8843b4",
   "metadata": {},
   "outputs": [],
   "source": []
  },
  {
   "cell_type": "markdown",
   "id": "a5b7928f-9ab6-4710-9146-6e2058b90186",
   "metadata": {},
   "source": [
    "***************** How does the paid user percentage (e.g., Basic, Premium for LioCinema; VIP, \n",
    "Premium for Jotstar) vary across different platforms? ****************************"
   ]
  },
  {
   "cell_type": "code",
   "execution_count": null,
   "id": "a652c96b-f8c8-417f-9027-a846959e3aef",
   "metadata": {},
   "outputs": [],
   "source": []
  },
  {
   "cell_type": "code",
   "execution_count": null,
   "id": "19cb77c8-6e2f-4c07-b168-f10e5b9eca9f",
   "metadata": {},
   "outputs": [],
   "source": []
  },
  {
   "cell_type": "code",
   "execution_count": null,
   "id": "2c71c307-c42e-421e-99fc-ace82f70ed63",
   "metadata": {},
   "outputs": [],
   "source": []
  },
  {
   "cell_type": "code",
   "execution_count": 143,
   "id": "bad4da7f-df15-49ce-a131-8ce239af7e91",
   "metadata": {},
   "outputs": [
    {
     "data": {
      "text/plain": [
       "subscription_plan\n",
       "Free       57.23\n",
       "Basic      29.09\n",
       "Premium    13.68\n",
       "Name: proportion, dtype: float64"
      ]
     },
     "execution_count": 143,
     "metadata": {},
     "output_type": "execute_result"
    }
   ],
   "source": [
    "(df_liocinema_subscr['subscription_plan'].value_counts(normalize=True)*100).round(2)"
   ]
  },
  {
   "cell_type": "code",
   "execution_count": null,
   "id": "c921c4c1-1fd8-4d78-a33f-c8a084733bfd",
   "metadata": {},
   "outputs": [],
   "source": []
  },
  {
   "cell_type": "code",
   "execution_count": 144,
   "id": "506e239a-d40b-4aa0-91c7-75610429ed22",
   "metadata": {},
   "outputs": [
    {
     "data": {
      "text/plain": [
       "subscription_plan\n",
       "Free       27.11\n",
       "Premium    29.96\n",
       "VIP        42.93\n",
       "Name: proportion, dtype: float64"
      ]
     },
     "execution_count": 144,
     "metadata": {},
     "output_type": "execute_result"
    }
   ],
   "source": [
    "(df_Jobstar_subscr['subscription_plan'].value_counts(normalize=True)*100).round(2).sort_values()"
   ]
  },
  {
   "cell_type": "code",
   "execution_count": null,
   "id": "7df7dba7-cf47-40e9-80f3-5190303470ba",
   "metadata": {},
   "outputs": [],
   "source": []
  },
  {
   "cell_type": "markdown",
   "id": "c9312958-eb42-4218-9db0-3b663f78c979",
   "metadata": {},
   "source": [
    "************** Analyse the proportion of \n",
    "premium users in Tier 1, Tier 2, and Tier 3 cities and identify any notable trends or \n",
    "differences **************"
   ]
  },
  {
   "cell_type": "code",
   "execution_count": 145,
   "id": "64a053fc-1f19-4666-b0bd-a7dd2d62f8dc",
   "metadata": {},
   "outputs": [],
   "source": [
    "lio_basic_premium=df_liocinema_subscr[(df_liocinema_subscr['subscription_plan']=='Basic') | (df_liocinema_subscr['subscription_plan']=='Premium')]"
   ]
  },
  {
   "cell_type": "code",
   "execution_count": 146,
   "id": "7a80d157-604a-46c5-927f-16c8fbd9fb93",
   "metadata": {},
   "outputs": [
    {
     "data": {
      "text/html": [
       "<div>\n",
       "<style scoped>\n",
       "    .dataframe tbody tr th:only-of-type {\n",
       "        vertical-align: middle;\n",
       "    }\n",
       "\n",
       "    .dataframe tbody tr th {\n",
       "        vertical-align: top;\n",
       "    }\n",
       "\n",
       "    .dataframe thead th {\n",
       "        text-align: right;\n",
       "    }\n",
       "</style>\n",
       "<table border=\"1\" class=\"dataframe\">\n",
       "  <thead>\n",
       "    <tr style=\"text-align: right;\">\n",
       "      <th></th>\n",
       "      <th>user_id</th>\n",
       "      <th>age_group</th>\n",
       "      <th>city_tier</th>\n",
       "      <th>subscription_date</th>\n",
       "      <th>subscription_plan</th>\n",
       "      <th>last_active_date</th>\n",
       "      <th>plan_change_date</th>\n",
       "      <th>new_subscription_plan</th>\n",
       "      <th>subscription_date_month</th>\n",
       "      <th>plan_change_date_month</th>\n",
       "      <th>last_active_date_month</th>\n",
       "    </tr>\n",
       "  </thead>\n",
       "  <tbody>\n",
       "    <tr>\n",
       "      <th>1</th>\n",
       "      <td>UIDLC00009202848</td>\n",
       "      <td>18-24</td>\n",
       "      <td>Tier 1</td>\n",
       "      <td>2024-09-18</td>\n",
       "      <td>Basic</td>\n",
       "      <td>0</td>\n",
       "      <td>0</td>\n",
       "      <td>0</td>\n",
       "      <td>9</td>\n",
       "      <td>0</td>\n",
       "      <td>0</td>\n",
       "    </tr>\n",
       "    <tr>\n",
       "      <th>2</th>\n",
       "      <td>UIDLC0001086afc3</td>\n",
       "      <td>35-44</td>\n",
       "      <td>Tier 2</td>\n",
       "      <td>2024-03-23</td>\n",
       "      <td>Premium</td>\n",
       "      <td>0</td>\n",
       "      <td>2024-04-23 00:00:00</td>\n",
       "      <td>Free</td>\n",
       "      <td>3</td>\n",
       "      <td>4</td>\n",
       "      <td>0</td>\n",
       "    </tr>\n",
       "  </tbody>\n",
       "</table>\n",
       "</div>"
      ],
      "text/plain": [
       "            user_id age_group city_tier subscription_date subscription_plan  \\\n",
       "1  UIDLC00009202848     18-24    Tier 1        2024-09-18             Basic   \n",
       "2  UIDLC0001086afc3     35-44    Tier 2        2024-03-23           Premium   \n",
       "\n",
       "  last_active_date     plan_change_date new_subscription_plan  \\\n",
       "1                0                    0                     0   \n",
       "2                0  2024-04-23 00:00:00                  Free   \n",
       "\n",
       "   subscription_date_month  plan_change_date_month  last_active_date_month  \n",
       "1                        9                       0                       0  \n",
       "2                        3                       4                       0  "
      ]
     },
     "execution_count": 146,
     "metadata": {},
     "output_type": "execute_result"
    }
   ],
   "source": [
    "lio_basic_premium.head(2)"
   ]
  },
  {
   "cell_type": "code",
   "execution_count": 147,
   "id": "731cfdba-7b86-4cab-b94f-aedf65d5f713",
   "metadata": {},
   "outputs": [
    {
     "data": {
      "text/html": [
       "<div>\n",
       "<style scoped>\n",
       "    .dataframe tbody tr th:only-of-type {\n",
       "        vertical-align: middle;\n",
       "    }\n",
       "\n",
       "    .dataframe tbody tr th {\n",
       "        vertical-align: top;\n",
       "    }\n",
       "\n",
       "    .dataframe thead th {\n",
       "        text-align: right;\n",
       "    }\n",
       "</style>\n",
       "<table border=\"1\" class=\"dataframe\">\n",
       "  <thead>\n",
       "    <tr style=\"text-align: right;\">\n",
       "      <th></th>\n",
       "      <th>city_tier</th>\n",
       "      <th>subscription_plan</th>\n",
       "    </tr>\n",
       "  </thead>\n",
       "  <tbody>\n",
       "    <tr>\n",
       "      <th>0</th>\n",
       "      <td>Tier 1</td>\n",
       "      <td>22599</td>\n",
       "    </tr>\n",
       "    <tr>\n",
       "      <th>1</th>\n",
       "      <td>Tier 2</td>\n",
       "      <td>31660</td>\n",
       "    </tr>\n",
       "    <tr>\n",
       "      <th>2</th>\n",
       "      <td>Tier 3</td>\n",
       "      <td>24195</td>\n",
       "    </tr>\n",
       "  </tbody>\n",
       "</table>\n",
       "</div>"
      ],
      "text/plain": [
       "  city_tier  subscription_plan\n",
       "0    Tier 1              22599\n",
       "1    Tier 2              31660\n",
       "2    Tier 3              24195"
      ]
     },
     "execution_count": 147,
     "metadata": {},
     "output_type": "execute_result"
    }
   ],
   "source": [
    "lio_basic_premium.groupby('city_tier')['subscription_plan'].count().reset_index()"
   ]
  },
  {
   "cell_type": "code",
   "execution_count": 148,
   "id": "ab367064-739f-4a3b-8eaf-ecee53c0f223",
   "metadata": {},
   "outputs": [],
   "source": [
    "#pd.DataFrame(lio_basic_premium.groupby('city_tier')['subscription_plan'].count().reset_index()).to_excel('lio_basic_premium_city.xlsx')"
   ]
  },
  {
   "cell_type": "code",
   "execution_count": null,
   "id": "92922dc2-8a6a-40e2-9eed-148b7366b0cb",
   "metadata": {},
   "outputs": [],
   "source": []
  },
  {
   "cell_type": "code",
   "execution_count": 149,
   "id": "ceac255c-a930-45b6-8121-9807782036b8",
   "metadata": {},
   "outputs": [],
   "source": [
    "jobstar_basic_premium=df_Jobstar_subscr[(df_Jobstar_subscr['subscription_plan']=='VIP') | (df_Jobstar_subscr['subscription_plan']=='Premium')]"
   ]
  },
  {
   "cell_type": "code",
   "execution_count": 150,
   "id": "487b62fe-2954-44cb-90fd-747eccca8886",
   "metadata": {},
   "outputs": [
    {
     "data": {
      "text/html": [
       "<div>\n",
       "<style scoped>\n",
       "    .dataframe tbody tr th:only-of-type {\n",
       "        vertical-align: middle;\n",
       "    }\n",
       "\n",
       "    .dataframe tbody tr th {\n",
       "        vertical-align: top;\n",
       "    }\n",
       "\n",
       "    .dataframe thead th {\n",
       "        text-align: right;\n",
       "    }\n",
       "</style>\n",
       "<table border=\"1\" class=\"dataframe\">\n",
       "  <thead>\n",
       "    <tr style=\"text-align: right;\">\n",
       "      <th></th>\n",
       "      <th>user_id</th>\n",
       "      <th>age_group</th>\n",
       "      <th>city_tier</th>\n",
       "      <th>subscription_date</th>\n",
       "      <th>subscription_plan</th>\n",
       "      <th>last_active_date</th>\n",
       "      <th>plan_change_date</th>\n",
       "      <th>new_subscription_plan</th>\n",
       "      <th>subscription_date_month</th>\n",
       "      <th>plan_change_date_month</th>\n",
       "      <th>last_active_date_month</th>\n",
       "      <th>df_Jobstar_subscr_month</th>\n",
       "    </tr>\n",
       "  </thead>\n",
       "  <tbody>\n",
       "    <tr>\n",
       "      <th>0</th>\n",
       "      <td>UIDJS0000751588f</td>\n",
       "      <td>18-24</td>\n",
       "      <td>Tier 1</td>\n",
       "      <td>2024-06-10</td>\n",
       "      <td>Premium</td>\n",
       "      <td>0</td>\n",
       "      <td>0</td>\n",
       "      <td>0</td>\n",
       "      <td>6</td>\n",
       "      <td>0</td>\n",
       "      <td>0</td>\n",
       "      <td>6</td>\n",
       "    </tr>\n",
       "    <tr>\n",
       "      <th>3</th>\n",
       "      <td>UIDJS00013411a85</td>\n",
       "      <td>35-44</td>\n",
       "      <td>Tier 2</td>\n",
       "      <td>2024-05-31</td>\n",
       "      <td>VIP</td>\n",
       "      <td>0</td>\n",
       "      <td>0</td>\n",
       "      <td>0</td>\n",
       "      <td>5</td>\n",
       "      <td>0</td>\n",
       "      <td>0</td>\n",
       "      <td>5</td>\n",
       "    </tr>\n",
       "  </tbody>\n",
       "</table>\n",
       "</div>"
      ],
      "text/plain": [
       "            user_id age_group city_tier subscription_date subscription_plan  \\\n",
       "0  UIDJS0000751588f     18-24    Tier 1        2024-06-10           Premium   \n",
       "3  UIDJS00013411a85     35-44    Tier 2        2024-05-31               VIP   \n",
       "\n",
       "  last_active_date plan_change_date new_subscription_plan  \\\n",
       "0                0                0                     0   \n",
       "3                0                0                     0   \n",
       "\n",
       "   subscription_date_month plan_change_date_month last_active_date_month  \\\n",
       "0                        6                      0                      0   \n",
       "3                        5                      0                      0   \n",
       "\n",
       "   df_Jobstar_subscr_month  \n",
       "0                        6  \n",
       "3                        5  "
      ]
     },
     "execution_count": 150,
     "metadata": {},
     "output_type": "execute_result"
    }
   ],
   "source": [
    "jobstar_basic_premium.head(2)"
   ]
  },
  {
   "cell_type": "code",
   "execution_count": 151,
   "id": "6b5974c6-7ebc-4765-ac35-86f99b045815",
   "metadata": {},
   "outputs": [
    {
     "data": {
      "text/html": [
       "<div>\n",
       "<style scoped>\n",
       "    .dataframe tbody tr th:only-of-type {\n",
       "        vertical-align: middle;\n",
       "    }\n",
       "\n",
       "    .dataframe tbody tr th {\n",
       "        vertical-align: top;\n",
       "    }\n",
       "\n",
       "    .dataframe thead th {\n",
       "        text-align: right;\n",
       "    }\n",
       "</style>\n",
       "<table border=\"1\" class=\"dataframe\">\n",
       "  <thead>\n",
       "    <tr style=\"text-align: right;\">\n",
       "      <th></th>\n",
       "      <th>city_tier</th>\n",
       "      <th>subscription_plan</th>\n",
       "    </tr>\n",
       "  </thead>\n",
       "  <tbody>\n",
       "    <tr>\n",
       "      <th>0</th>\n",
       "      <td>Tier 1</td>\n",
       "      <td>20340</td>\n",
       "    </tr>\n",
       "    <tr>\n",
       "      <th>1</th>\n",
       "      <td>Tier 2</td>\n",
       "      <td>9360</td>\n",
       "    </tr>\n",
       "    <tr>\n",
       "      <th>2</th>\n",
       "      <td>Tier 3</td>\n",
       "      <td>2824</td>\n",
       "    </tr>\n",
       "  </tbody>\n",
       "</table>\n",
       "</div>"
      ],
      "text/plain": [
       "  city_tier  subscription_plan\n",
       "0    Tier 1              20340\n",
       "1    Tier 2               9360\n",
       "2    Tier 3               2824"
      ]
     },
     "execution_count": 151,
     "metadata": {},
     "output_type": "execute_result"
    }
   ],
   "source": [
    "jobstar_basic_premium.groupby('city_tier')['subscription_plan'].count().reset_index()"
   ]
  },
  {
   "cell_type": "code",
   "execution_count": 152,
   "id": "f25efb5e-5512-409f-86b0-e859f441513e",
   "metadata": {},
   "outputs": [],
   "source": [
    "#pd.DataFrame(jobstar_basic_premium.groupby('city_tier')['subscription_plan'].count().reset_index()).to_excel('jobstar_basic_premium_city.xlsx')"
   ]
  },
  {
   "cell_type": "code",
   "execution_count": null,
   "id": "43cbebe2-c658-4427-92ea-7548f6e0281c",
   "metadata": {},
   "outputs": [],
   "source": []
  },
  {
   "cell_type": "code",
   "execution_count": 153,
   "id": "bc0b0fb6-4bad-469f-822d-04dc71c19b94",
   "metadata": {},
   "outputs": [],
   "source": [
    "df_city_tier=pd.merge(lio_basic_premium.groupby('city_tier')['subscription_plan'].count(),jobstar_basic_premium.groupby('city_tier')['subscription_plan'].count(),on='city_tier')"
   ]
  },
  {
   "cell_type": "code",
   "execution_count": 154,
   "id": "ae7993a7-a9d6-4ac4-9d54-b285ce7b7d94",
   "metadata": {},
   "outputs": [
    {
     "data": {
      "text/html": [
       "<div>\n",
       "<style scoped>\n",
       "    .dataframe tbody tr th:only-of-type {\n",
       "        vertical-align: middle;\n",
       "    }\n",
       "\n",
       "    .dataframe tbody tr th {\n",
       "        vertical-align: top;\n",
       "    }\n",
       "\n",
       "    .dataframe thead th {\n",
       "        text-align: right;\n",
       "    }\n",
       "</style>\n",
       "<table border=\"1\" class=\"dataframe\">\n",
       "  <thead>\n",
       "    <tr style=\"text-align: right;\">\n",
       "      <th></th>\n",
       "      <th>subscription_plan_x</th>\n",
       "      <th>subscription_plan_y</th>\n",
       "    </tr>\n",
       "    <tr>\n",
       "      <th>city_tier</th>\n",
       "      <th></th>\n",
       "      <th></th>\n",
       "    </tr>\n",
       "  </thead>\n",
       "  <tbody>\n",
       "    <tr>\n",
       "      <th>Tier 1</th>\n",
       "      <td>22599</td>\n",
       "      <td>20340</td>\n",
       "    </tr>\n",
       "    <tr>\n",
       "      <th>Tier 2</th>\n",
       "      <td>31660</td>\n",
       "      <td>9360</td>\n",
       "    </tr>\n",
       "    <tr>\n",
       "      <th>Tier 3</th>\n",
       "      <td>24195</td>\n",
       "      <td>2824</td>\n",
       "    </tr>\n",
       "  </tbody>\n",
       "</table>\n",
       "</div>"
      ],
      "text/plain": [
       "           subscription_plan_x  subscription_plan_y\n",
       "city_tier                                          \n",
       "Tier 1                   22599                20340\n",
       "Tier 2                   31660                 9360\n",
       "Tier 3                   24195                 2824"
      ]
     },
     "execution_count": 154,
     "metadata": {},
     "output_type": "execute_result"
    }
   ],
   "source": [
    "df_city_tier"
   ]
  },
  {
   "cell_type": "code",
   "execution_count": null,
   "id": "22171987-7265-4f78-b5f8-764dba65b387",
   "metadata": {},
   "outputs": [],
   "source": []
  },
  {
   "cell_type": "code",
   "execution_count": 155,
   "id": "6df61289-c461-46f1-aaed-21f6468e0cbb",
   "metadata": {},
   "outputs": [
    {
     "data": {
      "text/plain": [
       "<Axes: xlabel='city_tier'>"
      ]
     },
     "execution_count": 155,
     "metadata": {},
     "output_type": "execute_result"
    },
    {
     "data": {
      "image/png": "[encoded data removed]",
      "text/plain": [
       "<Figure size 640x480 with 1 Axes>"
      ]
     },
     "metadata": {},
     "output_type": "display_data"
    }
   ],
   "source": [
    "df_city_tier.plot(kind='bar')"
   ]
  },
  {
   "cell_type": "code",
   "execution_count": 156,
   "id": "ca553fcd-aeef-46a6-8d20-f4a4f459d1f3",
   "metadata": {},
   "outputs": [],
   "source": [
    "df_liocinema_subscr_premium=df_liocinema_subscr[df_liocinema_subscr['subscription_plan']=='Premium']"
   ]
  },
  {
   "cell_type": "code",
   "execution_count": 157,
   "id": "dd518a4f-42ad-4153-9c40-d9ebea28f3c5",
   "metadata": {},
   "outputs": [
    {
     "data": {
      "text/plain": [
       "city_tier\n",
       "Tier 1    10306\n",
       "Tier 2     9090\n",
       "Tier 3     5696\n",
       "Name: subscription_plan, dtype: int64"
      ]
     },
     "execution_count": 157,
     "metadata": {},
     "output_type": "execute_result"
    }
   ],
   "source": [
    "df_liocinema_subscr_premium.groupby('city_tier')['subscription_plan'].count()"
   ]
  },
  {
   "cell_type": "code",
   "execution_count": null,
   "id": "77f63929-ea5c-425b-b628-0b5d537434aa",
   "metadata": {},
   "outputs": [],
   "source": []
  },
  {
   "cell_type": "code",
   "execution_count": 158,
   "id": "c88ef0a6-fb02-49a3-97ff-6b573d78f09e",
   "metadata": {},
   "outputs": [],
   "source": [
    "df_Jobstar_subscr_premium=df_Jobstar_subscr[df_Jobstar_subscr['subscription_plan']=='Premium']"
   ]
  },
  {
   "cell_type": "code",
   "execution_count": 159,
   "id": "800c0ecb-d2b8-4697-a9cd-6e7286c7bcfd",
   "metadata": {},
   "outputs": [
    {
     "data": {
      "text/html": [
       "<div>\n",
       "<style scoped>\n",
       "    .dataframe tbody tr th:only-of-type {\n",
       "        vertical-align: middle;\n",
       "    }\n",
       "\n",
       "    .dataframe tbody tr th {\n",
       "        vertical-align: top;\n",
       "    }\n",
       "\n",
       "    .dataframe thead th {\n",
       "        text-align: right;\n",
       "    }\n",
       "</style>\n",
       "<table border=\"1\" class=\"dataframe\">\n",
       "  <thead>\n",
       "    <tr style=\"text-align: right;\">\n",
       "      <th></th>\n",
       "      <th>user_id</th>\n",
       "      <th>age_group</th>\n",
       "      <th>city_tier</th>\n",
       "      <th>subscription_date</th>\n",
       "      <th>subscription_plan</th>\n",
       "      <th>last_active_date</th>\n",
       "      <th>plan_change_date</th>\n",
       "      <th>new_subscription_plan</th>\n",
       "      <th>subscription_date_month</th>\n",
       "      <th>plan_change_date_month</th>\n",
       "      <th>last_active_date_month</th>\n",
       "      <th>df_Jobstar_subscr_month</th>\n",
       "    </tr>\n",
       "  </thead>\n",
       "  <tbody>\n",
       "    <tr>\n",
       "      <th>0</th>\n",
       "      <td>UIDJS0000751588f</td>\n",
       "      <td>18-24</td>\n",
       "      <td>Tier 1</td>\n",
       "      <td>2024-06-10</td>\n",
       "      <td>Premium</td>\n",
       "      <td>0</td>\n",
       "      <td>0</td>\n",
       "      <td>0</td>\n",
       "      <td>6</td>\n",
       "      <td>0</td>\n",
       "      <td>0</td>\n",
       "      <td>6</td>\n",
       "    </tr>\n",
       "    <tr>\n",
       "      <th>4</th>\n",
       "      <td>UIDJS0003a3f54cf</td>\n",
       "      <td>35-44</td>\n",
       "      <td>Tier 1</td>\n",
       "      <td>2024-09-20</td>\n",
       "      <td>Premium</td>\n",
       "      <td>0</td>\n",
       "      <td>0</td>\n",
       "      <td>0</td>\n",
       "      <td>9</td>\n",
       "      <td>0</td>\n",
       "      <td>0</td>\n",
       "      <td>9</td>\n",
       "    </tr>\n",
       "  </tbody>\n",
       "</table>\n",
       "</div>"
      ],
      "text/plain": [
       "            user_id age_group city_tier subscription_date subscription_plan  \\\n",
       "0  UIDJS0000751588f     18-24    Tier 1        2024-06-10           Premium   \n",
       "4  UIDJS0003a3f54cf     35-44    Tier 1        2024-09-20           Premium   \n",
       "\n",
       "  last_active_date plan_change_date new_subscription_plan  \\\n",
       "0                0                0                     0   \n",
       "4                0                0                     0   \n",
       "\n",
       "   subscription_date_month plan_change_date_month last_active_date_month  \\\n",
       "0                        6                      0                      0   \n",
       "4                        9                      0                      0   \n",
       "\n",
       "   df_Jobstar_subscr_month  \n",
       "0                        6  \n",
       "4                        9  "
      ]
     },
     "execution_count": 159,
     "metadata": {},
     "output_type": "execute_result"
    }
   ],
   "source": [
    "df_Jobstar_subscr_premium.head(2)"
   ]
  },
  {
   "cell_type": "code",
   "execution_count": 160,
   "id": "969bdddf-ca17-42a5-93b7-417c3e9a0de1",
   "metadata": {},
   "outputs": [
    {
     "data": {
      "text/plain": [
       "city_tier\n",
       "Tier 1    10178\n",
       "Tier 2     2566\n",
       "Tier 3      623\n",
       "Name: subscription_plan, dtype: int64"
      ]
     },
     "execution_count": 160,
     "metadata": {},
     "output_type": "execute_result"
    }
   ],
   "source": [
    "df_Jobstar_subscr_premium.groupby('city_tier')['subscription_plan'].count()"
   ]
  },
  {
   "cell_type": "code",
   "execution_count": null,
   "id": "1ec19f6e-b488-4423-a86d-a5b5d48344d5",
   "metadata": {},
   "outputs": [],
   "source": []
  },
  {
   "cell_type": "code",
   "execution_count": null,
   "id": "7363e257-9621-406f-ad11-98383c43b6da",
   "metadata": {},
   "outputs": [],
   "source": []
  },
  {
   "cell_type": "code",
   "execution_count": null,
   "id": "93349ba7-6f6e-4d38-ac61-ef6a716b4231",
   "metadata": {},
   "outputs": [],
   "source": []
  },
  {
   "cell_type": "markdown",
   "id": "d8238b7e-7819-425b-9481-5ee4aff037b3",
   "metadata": {},
   "source": [
    "*************** Assume the following monthly subscription prices, calculate the total revenue \n",
    "generated by both platforms (LioCinema and Jotstar) ****************"
   ]
  },
  {
   "cell_type": "markdown",
   "id": "69048fb0-63ae-4bd3-b82b-6428bc6281ee",
   "metadata": {},
   "source": [
    "****************** liocinema **********************"
   ]
  },
  {
   "cell_type": "code",
   "execution_count": 161,
   "id": "8aaee945-5b63-42f7-a15d-c348a9881f76",
   "metadata": {},
   "outputs": [
    {
     "data": {
      "text/html": [
       "<div>\n",
       "<style scoped>\n",
       "    .dataframe tbody tr th:only-of-type {\n",
       "        vertical-align: middle;\n",
       "    }\n",
       "\n",
       "    .dataframe tbody tr th {\n",
       "        vertical-align: top;\n",
       "    }\n",
       "\n",
       "    .dataframe thead th {\n",
       "        text-align: right;\n",
       "    }\n",
       "</style>\n",
       "<table border=\"1\" class=\"dataframe\">\n",
       "  <thead>\n",
       "    <tr style=\"text-align: right;\">\n",
       "      <th></th>\n",
       "      <th>user_id</th>\n",
       "      <th>age_group</th>\n",
       "      <th>city_tier</th>\n",
       "      <th>subscription_date</th>\n",
       "      <th>subscription_plan</th>\n",
       "      <th>last_active_date</th>\n",
       "      <th>plan_change_date</th>\n",
       "      <th>new_subscription_plan</th>\n",
       "      <th>subscription_date_month</th>\n",
       "      <th>plan_change_date_month</th>\n",
       "      <th>last_active_date_month</th>\n",
       "    </tr>\n",
       "  </thead>\n",
       "  <tbody>\n",
       "    <tr>\n",
       "      <th>0</th>\n",
       "      <td>UIDLC00000bea68a</td>\n",
       "      <td>25-34</td>\n",
       "      <td>Tier 3</td>\n",
       "      <td>2024-10-24</td>\n",
       "      <td>Free</td>\n",
       "      <td>0</td>\n",
       "      <td>0</td>\n",
       "      <td>0</td>\n",
       "      <td>10</td>\n",
       "      <td>0</td>\n",
       "      <td>0</td>\n",
       "    </tr>\n",
       "    <tr>\n",
       "      <th>1</th>\n",
       "      <td>UIDLC00009202848</td>\n",
       "      <td>18-24</td>\n",
       "      <td>Tier 1</td>\n",
       "      <td>2024-09-18</td>\n",
       "      <td>Basic</td>\n",
       "      <td>0</td>\n",
       "      <td>0</td>\n",
       "      <td>0</td>\n",
       "      <td>9</td>\n",
       "      <td>0</td>\n",
       "      <td>0</td>\n",
       "    </tr>\n",
       "  </tbody>\n",
       "</table>\n",
       "</div>"
      ],
      "text/plain": [
       "            user_id age_group city_tier subscription_date subscription_plan  \\\n",
       "0  UIDLC00000bea68a     25-34    Tier 3        2024-10-24              Free   \n",
       "1  UIDLC00009202848     18-24    Tier 1        2024-09-18             Basic   \n",
       "\n",
       "  last_active_date plan_change_date new_subscription_plan  \\\n",
       "0                0                0                     0   \n",
       "1                0                0                     0   \n",
       "\n",
       "   subscription_date_month  plan_change_date_month  last_active_date_month  \n",
       "0                       10                       0                       0  \n",
       "1                        9                       0                       0  "
      ]
     },
     "execution_count": 161,
     "metadata": {},
     "output_type": "execute_result"
    }
   ],
   "source": [
    "df_liocinema_subscr.head(2)"
   ]
  },
  {
   "cell_type": "code",
   "execution_count": 162,
   "id": "242eb8cd-0780-4468-af4b-6289d3e92811",
   "metadata": {},
   "outputs": [],
   "source": [
    "lio_free=df_liocinema_subscr[df_liocinema_subscr['subscription_plan']=='Free']"
   ]
  },
  {
   "cell_type": "code",
   "execution_count": 163,
   "id": "b1fef0b0-3bbf-459d-9453-a841d3cd2763",
   "metadata": {},
   "outputs": [
    {
     "data": {
      "text/html": [
       "<div>\n",
       "<style scoped>\n",
       "    .dataframe tbody tr th:only-of-type {\n",
       "        vertical-align: middle;\n",
       "    }\n",
       "\n",
       "    .dataframe tbody tr th {\n",
       "        vertical-align: top;\n",
       "    }\n",
       "\n",
       "    .dataframe thead th {\n",
       "        text-align: right;\n",
       "    }\n",
       "</style>\n",
       "<table border=\"1\" class=\"dataframe\">\n",
       "  <thead>\n",
       "    <tr style=\"text-align: right;\">\n",
       "      <th></th>\n",
       "      <th>user_id</th>\n",
       "      <th>age_group</th>\n",
       "      <th>city_tier</th>\n",
       "      <th>subscription_date</th>\n",
       "      <th>subscription_plan</th>\n",
       "      <th>last_active_date</th>\n",
       "      <th>plan_change_date</th>\n",
       "      <th>new_subscription_plan</th>\n",
       "      <th>subscription_date_month</th>\n",
       "      <th>plan_change_date_month</th>\n",
       "      <th>last_active_date_month</th>\n",
       "    </tr>\n",
       "  </thead>\n",
       "  <tbody>\n",
       "    <tr>\n",
       "      <th>0</th>\n",
       "      <td>UIDLC00000bea68a</td>\n",
       "      <td>25-34</td>\n",
       "      <td>Tier 3</td>\n",
       "      <td>2024-10-24</td>\n",
       "      <td>Free</td>\n",
       "      <td>0</td>\n",
       "      <td>0</td>\n",
       "      <td>0</td>\n",
       "      <td>10</td>\n",
       "      <td>0</td>\n",
       "      <td>0</td>\n",
       "    </tr>\n",
       "    <tr>\n",
       "      <th>3</th>\n",
       "      <td>UIDLC000186abd93</td>\n",
       "      <td>18-24</td>\n",
       "      <td>Tier 3</td>\n",
       "      <td>2024-09-07</td>\n",
       "      <td>Free</td>\n",
       "      <td>2024-10-23 00:00:00</td>\n",
       "      <td>0</td>\n",
       "      <td>0</td>\n",
       "      <td>9</td>\n",
       "      <td>0</td>\n",
       "      <td>10</td>\n",
       "    </tr>\n",
       "    <tr>\n",
       "      <th>5</th>\n",
       "      <td>UIDLC000362cba39</td>\n",
       "      <td>25-34</td>\n",
       "      <td>Tier 3</td>\n",
       "      <td>2024-06-09</td>\n",
       "      <td>Free</td>\n",
       "      <td>2024-07-29 00:00:00</td>\n",
       "      <td>0</td>\n",
       "      <td>0</td>\n",
       "      <td>6</td>\n",
       "      <td>0</td>\n",
       "      <td>7</td>\n",
       "    </tr>\n",
       "    <tr>\n",
       "      <th>7</th>\n",
       "      <td>UIDLC00044a5d021</td>\n",
       "      <td>45+</td>\n",
       "      <td>Tier 2</td>\n",
       "      <td>2024-07-22</td>\n",
       "      <td>Free</td>\n",
       "      <td>2024-09-15 00:00:00</td>\n",
       "      <td>0</td>\n",
       "      <td>0</td>\n",
       "      <td>7</td>\n",
       "      <td>0</td>\n",
       "      <td>9</td>\n",
       "    </tr>\n",
       "    <tr>\n",
       "      <th>8</th>\n",
       "      <td>UIDLC00044bbb294</td>\n",
       "      <td>25-34</td>\n",
       "      <td>Tier 2</td>\n",
       "      <td>2024-04-09</td>\n",
       "      <td>Free</td>\n",
       "      <td>0</td>\n",
       "      <td>2024-09-09 00:00:00</td>\n",
       "      <td>Basic</td>\n",
       "      <td>4</td>\n",
       "      <td>9</td>\n",
       "      <td>0</td>\n",
       "    </tr>\n",
       "  </tbody>\n",
       "</table>\n",
       "</div>"
      ],
      "text/plain": [
       "            user_id age_group city_tier subscription_date subscription_plan  \\\n",
       "0  UIDLC00000bea68a     25-34    Tier 3        2024-10-24              Free   \n",
       "3  UIDLC000186abd93     18-24    Tier 3        2024-09-07              Free   \n",
       "5  UIDLC000362cba39     25-34    Tier 3        2024-06-09              Free   \n",
       "7  UIDLC00044a5d021       45+    Tier 2        2024-07-22              Free   \n",
       "8  UIDLC00044bbb294     25-34    Tier 2        2024-04-09              Free   \n",
       "\n",
       "      last_active_date     plan_change_date new_subscription_plan  \\\n",
       "0                    0                    0                     0   \n",
       "3  2024-10-23 00:00:00                    0                     0   \n",
       "5  2024-07-29 00:00:00                    0                     0   \n",
       "7  2024-09-15 00:00:00                    0                     0   \n",
       "8                    0  2024-09-09 00:00:00                 Basic   \n",
       "\n",
       "   subscription_date_month  plan_change_date_month  last_active_date_month  \n",
       "0                       10                       0                       0  \n",
       "3                        9                       0                      10  \n",
       "5                        6                       0                       7  \n",
       "7                        7                       0                       9  \n",
       "8                        4                       9                       0  "
      ]
     },
     "execution_count": 163,
     "metadata": {},
     "output_type": "execute_result"
    }
   ],
   "source": [
    "lio_free.head(5)"
   ]
  },
  {
   "cell_type": "code",
   "execution_count": 164,
   "id": "16e60c17-c223-48e2-8382-d3a3f4180bb5",
   "metadata": {},
   "outputs": [],
   "source": [
    "free_to_upgrade=lio_free[lio_free['plan_change_date']!='0']"
   ]
  },
  {
   "cell_type": "code",
   "execution_count": 165,
   "id": "57244e02-5a16-472b-b679-ae52f0074db1",
   "metadata": {},
   "outputs": [
    {
     "data": {
      "text/html": [
       "<div>\n",
       "<style scoped>\n",
       "    .dataframe tbody tr th:only-of-type {\n",
       "        vertical-align: middle;\n",
       "    }\n",
       "\n",
       "    .dataframe tbody tr th {\n",
       "        vertical-align: top;\n",
       "    }\n",
       "\n",
       "    .dataframe thead th {\n",
       "        text-align: right;\n",
       "    }\n",
       "</style>\n",
       "<table border=\"1\" class=\"dataframe\">\n",
       "  <thead>\n",
       "    <tr style=\"text-align: right;\">\n",
       "      <th></th>\n",
       "      <th>user_id</th>\n",
       "      <th>age_group</th>\n",
       "      <th>city_tier</th>\n",
       "      <th>subscription_date</th>\n",
       "      <th>subscription_plan</th>\n",
       "      <th>last_active_date</th>\n",
       "      <th>plan_change_date</th>\n",
       "      <th>new_subscription_plan</th>\n",
       "      <th>subscription_date_month</th>\n",
       "      <th>plan_change_date_month</th>\n",
       "      <th>last_active_date_month</th>\n",
       "    </tr>\n",
       "  </thead>\n",
       "  <tbody>\n",
       "    <tr>\n",
       "      <th>8</th>\n",
       "      <td>UIDLC00044bbb294</td>\n",
       "      <td>25-34</td>\n",
       "      <td>Tier 2</td>\n",
       "      <td>2024-04-09</td>\n",
       "      <td>Free</td>\n",
       "      <td>0</td>\n",
       "      <td>2024-09-09 00:00:00</td>\n",
       "      <td>Basic</td>\n",
       "      <td>4</td>\n",
       "      <td>9</td>\n",
       "      <td>0</td>\n",
       "    </tr>\n",
       "    <tr>\n",
       "      <th>100</th>\n",
       "      <td>UIDLC00290853923</td>\n",
       "      <td>25-34</td>\n",
       "      <td>Tier 1</td>\n",
       "      <td>2024-08-15</td>\n",
       "      <td>Free</td>\n",
       "      <td>0</td>\n",
       "      <td>2024-11-15 00:00:00</td>\n",
       "      <td>Premium</td>\n",
       "      <td>8</td>\n",
       "      <td>11</td>\n",
       "      <td>0</td>\n",
       "    </tr>\n",
       "    <tr>\n",
       "      <th>127</th>\n",
       "      <td>UIDLC003473cea21</td>\n",
       "      <td>45+</td>\n",
       "      <td>Tier 1</td>\n",
       "      <td>2024-07-25</td>\n",
       "      <td>Free</td>\n",
       "      <td>0</td>\n",
       "      <td>2024-10-25 00:00:00</td>\n",
       "      <td>Basic</td>\n",
       "      <td>7</td>\n",
       "      <td>10</td>\n",
       "      <td>0</td>\n",
       "    </tr>\n",
       "    <tr>\n",
       "      <th>163</th>\n",
       "      <td>UIDLC00486239029</td>\n",
       "      <td>25-34</td>\n",
       "      <td>Tier 2</td>\n",
       "      <td>2024-10-11</td>\n",
       "      <td>Free</td>\n",
       "      <td>0</td>\n",
       "      <td>2024-12-11 00:00:00</td>\n",
       "      <td>Basic</td>\n",
       "      <td>10</td>\n",
       "      <td>12</td>\n",
       "      <td>0</td>\n",
       "    </tr>\n",
       "    <tr>\n",
       "      <th>191</th>\n",
       "      <td>UIDLC0053c91cb92</td>\n",
       "      <td>18-24</td>\n",
       "      <td>Tier 1</td>\n",
       "      <td>2024-07-11</td>\n",
       "      <td>Free</td>\n",
       "      <td>0</td>\n",
       "      <td>2024-08-11 00:00:00</td>\n",
       "      <td>Basic</td>\n",
       "      <td>7</td>\n",
       "      <td>8</td>\n",
       "      <td>0</td>\n",
       "    </tr>\n",
       "  </tbody>\n",
       "</table>\n",
       "</div>"
      ],
      "text/plain": [
       "              user_id age_group city_tier subscription_date subscription_plan  \\\n",
       "8    UIDLC00044bbb294     25-34    Tier 2        2024-04-09              Free   \n",
       "100  UIDLC00290853923     25-34    Tier 1        2024-08-15              Free   \n",
       "127  UIDLC003473cea21       45+    Tier 1        2024-07-25              Free   \n",
       "163  UIDLC00486239029     25-34    Tier 2        2024-10-11              Free   \n",
       "191  UIDLC0053c91cb92     18-24    Tier 1        2024-07-11              Free   \n",
       "\n",
       "    last_active_date     plan_change_date new_subscription_plan  \\\n",
       "8                  0  2024-09-09 00:00:00                 Basic   \n",
       "100                0  2024-11-15 00:00:00               Premium   \n",
       "127                0  2024-10-25 00:00:00                 Basic   \n",
       "163                0  2024-12-11 00:00:00                 Basic   \n",
       "191                0  2024-08-11 00:00:00                 Basic   \n",
       "\n",
       "     subscription_date_month  plan_change_date_month  last_active_date_month  \n",
       "8                          4                       9                       0  \n",
       "100                        8                      11                       0  \n",
       "127                        7                      10                       0  \n",
       "163                       10                      12                       0  \n",
       "191                        7                       8                       0  "
      ]
     },
     "execution_count": 165,
     "metadata": {},
     "output_type": "execute_result"
    }
   ],
   "source": [
    "free_to_upgrade.head(5)"
   ]
  },
  {
   "cell_type": "code",
   "execution_count": 166,
   "id": "1013d214-bbe4-40b6-b1ac-80ee35e01509",
   "metadata": {},
   "outputs": [
    {
     "name": "stderr",
     "output_type": "stream",
     "text": [
      "C:\\Users\\user\\AppData\\Local\\Temp\\ipykernel_27560\\3195605462.py:1: SettingWithCopyWarning: \n",
      "A value is trying to be set on a copy of a slice from a DataFrame.\n",
      "Try using .loc[row_indexer,col_indexer] = value instead\n",
      "\n",
      "See the caveats in the documentation: https://pandas.pydata.org/pandas-docs/stable/user_guide/indexing.html#returning-a-view-versus-a-copy\n",
      "  free_to_upgrade['new_subscription_plan']=free_to_upgrade['new_subscription_plan'].replace('Basic',69)\n",
      "C:\\Users\\user\\AppData\\Local\\Temp\\ipykernel_27560\\3195605462.py:2: SettingWithCopyWarning: \n",
      "A value is trying to be set on a copy of a slice from a DataFrame.\n",
      "Try using .loc[row_indexer,col_indexer] = value instead\n",
      "\n",
      "See the caveats in the documentation: https://pandas.pydata.org/pandas-docs/stable/user_guide/indexing.html#returning-a-view-versus-a-copy\n",
      "  free_to_upgrade['new_subscription_plan']=free_to_upgrade['new_subscription_plan'].replace('Premium',129)\n"
     ]
    }
   ],
   "source": [
    "free_to_upgrade['new_subscription_plan']=free_to_upgrade['new_subscription_plan'].replace('Basic',69)\n",
    "free_to_upgrade['new_subscription_plan']=free_to_upgrade['new_subscription_plan'].replace('Premium',129)"
   ]
  },
  {
   "cell_type": "code",
   "execution_count": 167,
   "id": "37998249-26f8-4949-81de-c144f4695683",
   "metadata": {},
   "outputs": [
    {
     "data": {
      "text/html": [
       "<div>\n",
       "<style scoped>\n",
       "    .dataframe tbody tr th:only-of-type {\n",
       "        vertical-align: middle;\n",
       "    }\n",
       "\n",
       "    .dataframe tbody tr th {\n",
       "        vertical-align: top;\n",
       "    }\n",
       "\n",
       "    .dataframe thead th {\n",
       "        text-align: right;\n",
       "    }\n",
       "</style>\n",
       "<table border=\"1\" class=\"dataframe\">\n",
       "  <thead>\n",
       "    <tr style=\"text-align: right;\">\n",
       "      <th></th>\n",
       "      <th>user_id</th>\n",
       "      <th>age_group</th>\n",
       "      <th>city_tier</th>\n",
       "      <th>subscription_date</th>\n",
       "      <th>subscription_plan</th>\n",
       "      <th>last_active_date</th>\n",
       "      <th>plan_change_date</th>\n",
       "      <th>new_subscription_plan</th>\n",
       "      <th>subscription_date_month</th>\n",
       "      <th>plan_change_date_month</th>\n",
       "      <th>last_active_date_month</th>\n",
       "    </tr>\n",
       "  </thead>\n",
       "  <tbody>\n",
       "    <tr>\n",
       "      <th>8</th>\n",
       "      <td>UIDLC00044bbb294</td>\n",
       "      <td>25-34</td>\n",
       "      <td>Tier 2</td>\n",
       "      <td>2024-04-09</td>\n",
       "      <td>Free</td>\n",
       "      <td>0</td>\n",
       "      <td>2024-09-09 00:00:00</td>\n",
       "      <td>69</td>\n",
       "      <td>4</td>\n",
       "      <td>9</td>\n",
       "      <td>0</td>\n",
       "    </tr>\n",
       "    <tr>\n",
       "      <th>100</th>\n",
       "      <td>UIDLC00290853923</td>\n",
       "      <td>25-34</td>\n",
       "      <td>Tier 1</td>\n",
       "      <td>2024-08-15</td>\n",
       "      <td>Free</td>\n",
       "      <td>0</td>\n",
       "      <td>2024-11-15 00:00:00</td>\n",
       "      <td>129</td>\n",
       "      <td>8</td>\n",
       "      <td>11</td>\n",
       "      <td>0</td>\n",
       "    </tr>\n",
       "    <tr>\n",
       "      <th>127</th>\n",
       "      <td>UIDLC003473cea21</td>\n",
       "      <td>45+</td>\n",
       "      <td>Tier 1</td>\n",
       "      <td>2024-07-25</td>\n",
       "      <td>Free</td>\n",
       "      <td>0</td>\n",
       "      <td>2024-10-25 00:00:00</td>\n",
       "      <td>69</td>\n",
       "      <td>7</td>\n",
       "      <td>10</td>\n",
       "      <td>0</td>\n",
       "    </tr>\n",
       "    <tr>\n",
       "      <th>163</th>\n",
       "      <td>UIDLC00486239029</td>\n",
       "      <td>25-34</td>\n",
       "      <td>Tier 2</td>\n",
       "      <td>2024-10-11</td>\n",
       "      <td>Free</td>\n",
       "      <td>0</td>\n",
       "      <td>2024-12-11 00:00:00</td>\n",
       "      <td>69</td>\n",
       "      <td>10</td>\n",
       "      <td>12</td>\n",
       "      <td>0</td>\n",
       "    </tr>\n",
       "    <tr>\n",
       "      <th>191</th>\n",
       "      <td>UIDLC0053c91cb92</td>\n",
       "      <td>18-24</td>\n",
       "      <td>Tier 1</td>\n",
       "      <td>2024-07-11</td>\n",
       "      <td>Free</td>\n",
       "      <td>0</td>\n",
       "      <td>2024-08-11 00:00:00</td>\n",
       "      <td>69</td>\n",
       "      <td>7</td>\n",
       "      <td>8</td>\n",
       "      <td>0</td>\n",
       "    </tr>\n",
       "  </tbody>\n",
       "</table>\n",
       "</div>"
      ],
      "text/plain": [
       "              user_id age_group city_tier subscription_date subscription_plan  \\\n",
       "8    UIDLC00044bbb294     25-34    Tier 2        2024-04-09              Free   \n",
       "100  UIDLC00290853923     25-34    Tier 1        2024-08-15              Free   \n",
       "127  UIDLC003473cea21       45+    Tier 1        2024-07-25              Free   \n",
       "163  UIDLC00486239029     25-34    Tier 2        2024-10-11              Free   \n",
       "191  UIDLC0053c91cb92     18-24    Tier 1        2024-07-11              Free   \n",
       "\n",
       "    last_active_date     plan_change_date  new_subscription_plan  \\\n",
       "8                  0  2024-09-09 00:00:00                     69   \n",
       "100                0  2024-11-15 00:00:00                    129   \n",
       "127                0  2024-10-25 00:00:00                     69   \n",
       "163                0  2024-12-11 00:00:00                     69   \n",
       "191                0  2024-08-11 00:00:00                     69   \n",
       "\n",
       "     subscription_date_month  plan_change_date_month  last_active_date_month  \n",
       "8                          4                       9                       0  \n",
       "100                        8                      11                       0  \n",
       "127                        7                      10                       0  \n",
       "163                       10                      12                       0  \n",
       "191                        7                       8                       0  "
      ]
     },
     "execution_count": 167,
     "metadata": {},
     "output_type": "execute_result"
    }
   ],
   "source": [
    "free_to_upgrade.head(5)"
   ]
  },
  {
   "cell_type": "code",
   "execution_count": 168,
   "id": "d2b2de80-f4fe-4020-9561-d086ae7766b5",
   "metadata": {},
   "outputs": [],
   "source": [
    "plan_change_date_month_new=free_to_upgrade[free_to_upgrade['plan_change_date_month']<12]"
   ]
  },
  {
   "cell_type": "code",
   "execution_count": 169,
   "id": "0c5e24ba-e9f2-453c-a2da-647035cc29f7",
   "metadata": {},
   "outputs": [
    {
     "data": {
      "text/html": [
       "<div>\n",
       "<style scoped>\n",
       "    .dataframe tbody tr th:only-of-type {\n",
       "        vertical-align: middle;\n",
       "    }\n",
       "\n",
       "    .dataframe tbody tr th {\n",
       "        vertical-align: top;\n",
       "    }\n",
       "\n",
       "    .dataframe thead th {\n",
       "        text-align: right;\n",
       "    }\n",
       "</style>\n",
       "<table border=\"1\" class=\"dataframe\">\n",
       "  <thead>\n",
       "    <tr style=\"text-align: right;\">\n",
       "      <th></th>\n",
       "      <th>user_id</th>\n",
       "      <th>age_group</th>\n",
       "      <th>city_tier</th>\n",
       "      <th>subscription_date</th>\n",
       "      <th>subscription_plan</th>\n",
       "      <th>last_active_date</th>\n",
       "      <th>plan_change_date</th>\n",
       "      <th>new_subscription_plan</th>\n",
       "      <th>subscription_date_month</th>\n",
       "      <th>plan_change_date_month</th>\n",
       "      <th>last_active_date_month</th>\n",
       "    </tr>\n",
       "  </thead>\n",
       "  <tbody>\n",
       "    <tr>\n",
       "      <th>8</th>\n",
       "      <td>UIDLC00044bbb294</td>\n",
       "      <td>25-34</td>\n",
       "      <td>Tier 2</td>\n",
       "      <td>2024-04-09</td>\n",
       "      <td>Free</td>\n",
       "      <td>0</td>\n",
       "      <td>2024-09-09 00:00:00</td>\n",
       "      <td>69</td>\n",
       "      <td>4</td>\n",
       "      <td>9</td>\n",
       "      <td>0</td>\n",
       "    </tr>\n",
       "    <tr>\n",
       "      <th>100</th>\n",
       "      <td>UIDLC00290853923</td>\n",
       "      <td>25-34</td>\n",
       "      <td>Tier 1</td>\n",
       "      <td>2024-08-15</td>\n",
       "      <td>Free</td>\n",
       "      <td>0</td>\n",
       "      <td>2024-11-15 00:00:00</td>\n",
       "      <td>129</td>\n",
       "      <td>8</td>\n",
       "      <td>11</td>\n",
       "      <td>0</td>\n",
       "    </tr>\n",
       "    <tr>\n",
       "      <th>127</th>\n",
       "      <td>UIDLC003473cea21</td>\n",
       "      <td>45+</td>\n",
       "      <td>Tier 1</td>\n",
       "      <td>2024-07-25</td>\n",
       "      <td>Free</td>\n",
       "      <td>0</td>\n",
       "      <td>2024-10-25 00:00:00</td>\n",
       "      <td>69</td>\n",
       "      <td>7</td>\n",
       "      <td>10</td>\n",
       "      <td>0</td>\n",
       "    </tr>\n",
       "    <tr>\n",
       "      <th>191</th>\n",
       "      <td>UIDLC0053c91cb92</td>\n",
       "      <td>18-24</td>\n",
       "      <td>Tier 1</td>\n",
       "      <td>2024-07-11</td>\n",
       "      <td>Free</td>\n",
       "      <td>0</td>\n",
       "      <td>2024-08-11 00:00:00</td>\n",
       "      <td>69</td>\n",
       "      <td>7</td>\n",
       "      <td>8</td>\n",
       "      <td>0</td>\n",
       "    </tr>\n",
       "    <tr>\n",
       "      <th>278</th>\n",
       "      <td>UIDLC0075c066db2</td>\n",
       "      <td>35-44</td>\n",
       "      <td>Tier 1</td>\n",
       "      <td>2024-07-17</td>\n",
       "      <td>Free</td>\n",
       "      <td>0</td>\n",
       "      <td>2024-10-17 00:00:00</td>\n",
       "      <td>69</td>\n",
       "      <td>7</td>\n",
       "      <td>10</td>\n",
       "      <td>0</td>\n",
       "    </tr>\n",
       "  </tbody>\n",
       "</table>\n",
       "</div>"
      ],
      "text/plain": [
       "              user_id age_group city_tier subscription_date subscription_plan  \\\n",
       "8    UIDLC00044bbb294     25-34    Tier 2        2024-04-09              Free   \n",
       "100  UIDLC00290853923     25-34    Tier 1        2024-08-15              Free   \n",
       "127  UIDLC003473cea21       45+    Tier 1        2024-07-25              Free   \n",
       "191  UIDLC0053c91cb92     18-24    Tier 1        2024-07-11              Free   \n",
       "278  UIDLC0075c066db2     35-44    Tier 1        2024-07-17              Free   \n",
       "\n",
       "    last_active_date     plan_change_date  new_subscription_plan  \\\n",
       "8                  0  2024-09-09 00:00:00                     69   \n",
       "100                0  2024-11-15 00:00:00                    129   \n",
       "127                0  2024-10-25 00:00:00                     69   \n",
       "191                0  2024-08-11 00:00:00                     69   \n",
       "278                0  2024-10-17 00:00:00                     69   \n",
       "\n",
       "     subscription_date_month  plan_change_date_month  last_active_date_month  \n",
       "8                          4                       9                       0  \n",
       "100                        8                      11                       0  \n",
       "127                        7                      10                       0  \n",
       "191                        7                       8                       0  \n",
       "278                        7                      10                       0  "
      ]
     },
     "execution_count": 169,
     "metadata": {},
     "output_type": "execute_result"
    }
   ],
   "source": [
    "plan_change_date_month_new.head(5)"
   ]
  },
  {
   "cell_type": "code",
   "execution_count": 170,
   "id": "4a61082f-bd36-43c6-a61b-f1bac110fd4f",
   "metadata": {},
   "outputs": [],
   "source": [
    "free_to_upgrade_monthhs=11-plan_change_date_month_new['plan_change_date_month']"
   ]
  },
  {
   "cell_type": "code",
   "execution_count": 171,
   "id": "de2bfbf8-f83c-4233-8d5c-df9fa2d49f71",
   "metadata": {},
   "outputs": [
    {
     "data": {
      "text/plain": [
       "8         2\n",
       "100       0\n",
       "127       1\n",
       "191       3\n",
       "278       1\n",
       "         ..\n",
       "183196    5\n",
       "183253    3\n",
       "183292    5\n",
       "183365    4\n",
       "183399    0\n",
       "Name: plan_change_date_month, Length: 1879, dtype: int32"
      ]
     },
     "execution_count": 171,
     "metadata": {},
     "output_type": "execute_result"
    }
   ],
   "source": [
    "free_to_upgrade_monthhs"
   ]
  },
  {
   "cell_type": "code",
   "execution_count": 172,
   "id": "da25cb90-123b-45d7-a5b2-55b833c4f257",
   "metadata": {},
   "outputs": [],
   "source": [
    "free_to_upgrade_revenue=free_to_upgrade_monthhs*plan_change_date_month_new['new_subscription_plan']"
   ]
  },
  {
   "cell_type": "code",
   "execution_count": 173,
   "id": "a196b06d-a7b4-4c81-89b3-b203bec7a9a5",
   "metadata": {},
   "outputs": [
    {
     "data": {
      "text/plain": [
       "398754"
      ]
     },
     "execution_count": 173,
     "metadata": {},
     "output_type": "execute_result"
    }
   ],
   "source": [
    "free_to_upgrade_revenue.sum() # ++"
   ]
  },
  {
   "cell_type": "code",
   "execution_count": 174,
   "id": "a9fb4b8c-1981-4c61-ac9e-c904b8415ead",
   "metadata": {},
   "outputs": [],
   "source": [
    "lio_paid=df_liocinema_subscr[df_liocinema_subscr['subscription_plan']!='Free']"
   ]
  },
  {
   "cell_type": "code",
   "execution_count": 175,
   "id": "eabf9d76-add7-4523-867f-133e19b95237",
   "metadata": {},
   "outputs": [
    {
     "data": {
      "text/html": [
       "<div>\n",
       "<style scoped>\n",
       "    .dataframe tbody tr th:only-of-type {\n",
       "        vertical-align: middle;\n",
       "    }\n",
       "\n",
       "    .dataframe tbody tr th {\n",
       "        vertical-align: top;\n",
       "    }\n",
       "\n",
       "    .dataframe thead th {\n",
       "        text-align: right;\n",
       "    }\n",
       "</style>\n",
       "<table border=\"1\" class=\"dataframe\">\n",
       "  <thead>\n",
       "    <tr style=\"text-align: right;\">\n",
       "      <th></th>\n",
       "      <th>user_id</th>\n",
       "      <th>age_group</th>\n",
       "      <th>city_tier</th>\n",
       "      <th>subscription_date</th>\n",
       "      <th>subscription_plan</th>\n",
       "      <th>last_active_date</th>\n",
       "      <th>plan_change_date</th>\n",
       "      <th>new_subscription_plan</th>\n",
       "      <th>subscription_date_month</th>\n",
       "      <th>plan_change_date_month</th>\n",
       "      <th>last_active_date_month</th>\n",
       "    </tr>\n",
       "  </thead>\n",
       "  <tbody>\n",
       "    <tr>\n",
       "      <th>1</th>\n",
       "      <td>UIDLC00009202848</td>\n",
       "      <td>18-24</td>\n",
       "      <td>Tier 1</td>\n",
       "      <td>2024-09-18</td>\n",
       "      <td>Basic</td>\n",
       "      <td>0</td>\n",
       "      <td>0</td>\n",
       "      <td>0</td>\n",
       "      <td>9</td>\n",
       "      <td>0</td>\n",
       "      <td>0</td>\n",
       "    </tr>\n",
       "    <tr>\n",
       "      <th>2</th>\n",
       "      <td>UIDLC0001086afc3</td>\n",
       "      <td>35-44</td>\n",
       "      <td>Tier 2</td>\n",
       "      <td>2024-03-23</td>\n",
       "      <td>Premium</td>\n",
       "      <td>0</td>\n",
       "      <td>2024-04-23 00:00:00</td>\n",
       "      <td>Free</td>\n",
       "      <td>3</td>\n",
       "      <td>4</td>\n",
       "      <td>0</td>\n",
       "    </tr>\n",
       "    <tr>\n",
       "      <th>4</th>\n",
       "      <td>UIDLC0002189b09f</td>\n",
       "      <td>18-24</td>\n",
       "      <td>Tier 2</td>\n",
       "      <td>2024-10-07</td>\n",
       "      <td>Premium</td>\n",
       "      <td>0</td>\n",
       "      <td>2024-11-07 00:00:00</td>\n",
       "      <td>Free</td>\n",
       "      <td>10</td>\n",
       "      <td>11</td>\n",
       "      <td>0</td>\n",
       "    </tr>\n",
       "    <tr>\n",
       "      <th>6</th>\n",
       "      <td>UIDLC000436e2f4d</td>\n",
       "      <td>45+</td>\n",
       "      <td>Tier 3</td>\n",
       "      <td>2024-09-04</td>\n",
       "      <td>Premium</td>\n",
       "      <td>0</td>\n",
       "      <td>0</td>\n",
       "      <td>0</td>\n",
       "      <td>9</td>\n",
       "      <td>0</td>\n",
       "      <td>0</td>\n",
       "    </tr>\n",
       "    <tr>\n",
       "      <th>13</th>\n",
       "      <td>UIDLC00066e8361c</td>\n",
       "      <td>18-24</td>\n",
       "      <td>Tier 3</td>\n",
       "      <td>2024-08-18</td>\n",
       "      <td>Basic</td>\n",
       "      <td>2024-10-10 00:00:00</td>\n",
       "      <td>0</td>\n",
       "      <td>0</td>\n",
       "      <td>8</td>\n",
       "      <td>0</td>\n",
       "      <td>10</td>\n",
       "    </tr>\n",
       "  </tbody>\n",
       "</table>\n",
       "</div>"
      ],
      "text/plain": [
       "             user_id age_group city_tier subscription_date subscription_plan  \\\n",
       "1   UIDLC00009202848     18-24    Tier 1        2024-09-18             Basic   \n",
       "2   UIDLC0001086afc3     35-44    Tier 2        2024-03-23           Premium   \n",
       "4   UIDLC0002189b09f     18-24    Tier 2        2024-10-07           Premium   \n",
       "6   UIDLC000436e2f4d       45+    Tier 3        2024-09-04           Premium   \n",
       "13  UIDLC00066e8361c     18-24    Tier 3        2024-08-18             Basic   \n",
       "\n",
       "       last_active_date     plan_change_date new_subscription_plan  \\\n",
       "1                     0                    0                     0   \n",
       "2                     0  2024-04-23 00:00:00                  Free   \n",
       "4                     0  2024-11-07 00:00:00                  Free   \n",
       "6                     0                    0                     0   \n",
       "13  2024-10-10 00:00:00                    0                     0   \n",
       "\n",
       "    subscription_date_month  plan_change_date_month  last_active_date_month  \n",
       "1                         9                       0                       0  \n",
       "2                         3                       4                       0  \n",
       "4                        10                      11                       0  \n",
       "6                         9                       0                       0  \n",
       "13                        8                       0                      10  "
      ]
     },
     "execution_count": 175,
     "metadata": {},
     "output_type": "execute_result"
    }
   ],
   "source": [
    "lio_paid.head(5)"
   ]
  },
  {
   "cell_type": "code",
   "execution_count": 176,
   "id": "f43588e2-b6d4-4f06-9811-1669ffa5f7c9",
   "metadata": {},
   "outputs": [
    {
     "name": "stderr",
     "output_type": "stream",
     "text": [
      "C:\\Users\\user\\AppData\\Local\\Temp\\ipykernel_27560\\930781868.py:1: SettingWithCopyWarning: \n",
      "A value is trying to be set on a copy of a slice from a DataFrame.\n",
      "Try using .loc[row_indexer,col_indexer] = value instead\n",
      "\n",
      "See the caveats in the documentation: https://pandas.pydata.org/pandas-docs/stable/user_guide/indexing.html#returning-a-view-versus-a-copy\n",
      "  lio_paid['subscription_plan']=lio_paid['subscription_plan'].replace('Basic',69)\n",
      "C:\\Users\\user\\AppData\\Local\\Temp\\ipykernel_27560\\930781868.py:2: SettingWithCopyWarning: \n",
      "A value is trying to be set on a copy of a slice from a DataFrame.\n",
      "Try using .loc[row_indexer,col_indexer] = value instead\n",
      "\n",
      "See the caveats in the documentation: https://pandas.pydata.org/pandas-docs/stable/user_guide/indexing.html#returning-a-view-versus-a-copy\n",
      "  lio_paid['subscription_plan']=lio_paid['subscription_plan'].replace('Premium',129)\n"
     ]
    }
   ],
   "source": [
    "lio_paid['subscription_plan']=lio_paid['subscription_plan'].replace('Basic',69)\n",
    "lio_paid['subscription_plan']=lio_paid['subscription_plan'].replace('Premium',129)"
   ]
  },
  {
   "cell_type": "code",
   "execution_count": 177,
   "id": "d7e2d7ce-b757-4217-9fb1-cf3f6d67fbaf",
   "metadata": {},
   "outputs": [
    {
     "data": {
      "text/html": [
       "<div>\n",
       "<style scoped>\n",
       "    .dataframe tbody tr th:only-of-type {\n",
       "        vertical-align: middle;\n",
       "    }\n",
       "\n",
       "    .dataframe tbody tr th {\n",
       "        vertical-align: top;\n",
       "    }\n",
       "\n",
       "    .dataframe thead th {\n",
       "        text-align: right;\n",
       "    }\n",
       "</style>\n",
       "<table border=\"1\" class=\"dataframe\">\n",
       "  <thead>\n",
       "    <tr style=\"text-align: right;\">\n",
       "      <th></th>\n",
       "      <th>user_id</th>\n",
       "      <th>age_group</th>\n",
       "      <th>city_tier</th>\n",
       "      <th>subscription_date</th>\n",
       "      <th>subscription_plan</th>\n",
       "      <th>last_active_date</th>\n",
       "      <th>plan_change_date</th>\n",
       "      <th>new_subscription_plan</th>\n",
       "      <th>subscription_date_month</th>\n",
       "      <th>plan_change_date_month</th>\n",
       "      <th>last_active_date_month</th>\n",
       "    </tr>\n",
       "  </thead>\n",
       "  <tbody>\n",
       "    <tr>\n",
       "      <th>1</th>\n",
       "      <td>UIDLC00009202848</td>\n",
       "      <td>18-24</td>\n",
       "      <td>Tier 1</td>\n",
       "      <td>2024-09-18</td>\n",
       "      <td>69</td>\n",
       "      <td>0</td>\n",
       "      <td>0</td>\n",
       "      <td>0</td>\n",
       "      <td>9</td>\n",
       "      <td>0</td>\n",
       "      <td>0</td>\n",
       "    </tr>\n",
       "    <tr>\n",
       "      <th>2</th>\n",
       "      <td>UIDLC0001086afc3</td>\n",
       "      <td>35-44</td>\n",
       "      <td>Tier 2</td>\n",
       "      <td>2024-03-23</td>\n",
       "      <td>129</td>\n",
       "      <td>0</td>\n",
       "      <td>2024-04-23 00:00:00</td>\n",
       "      <td>Free</td>\n",
       "      <td>3</td>\n",
       "      <td>4</td>\n",
       "      <td>0</td>\n",
       "    </tr>\n",
       "    <tr>\n",
       "      <th>4</th>\n",
       "      <td>UIDLC0002189b09f</td>\n",
       "      <td>18-24</td>\n",
       "      <td>Tier 2</td>\n",
       "      <td>2024-10-07</td>\n",
       "      <td>129</td>\n",
       "      <td>0</td>\n",
       "      <td>2024-11-07 00:00:00</td>\n",
       "      <td>Free</td>\n",
       "      <td>10</td>\n",
       "      <td>11</td>\n",
       "      <td>0</td>\n",
       "    </tr>\n",
       "    <tr>\n",
       "      <th>6</th>\n",
       "      <td>UIDLC000436e2f4d</td>\n",
       "      <td>45+</td>\n",
       "      <td>Tier 3</td>\n",
       "      <td>2024-09-04</td>\n",
       "      <td>129</td>\n",
       "      <td>0</td>\n",
       "      <td>0</td>\n",
       "      <td>0</td>\n",
       "      <td>9</td>\n",
       "      <td>0</td>\n",
       "      <td>0</td>\n",
       "    </tr>\n",
       "    <tr>\n",
       "      <th>13</th>\n",
       "      <td>UIDLC00066e8361c</td>\n",
       "      <td>18-24</td>\n",
       "      <td>Tier 3</td>\n",
       "      <td>2024-08-18</td>\n",
       "      <td>69</td>\n",
       "      <td>2024-10-10 00:00:00</td>\n",
       "      <td>0</td>\n",
       "      <td>0</td>\n",
       "      <td>8</td>\n",
       "      <td>0</td>\n",
       "      <td>10</td>\n",
       "    </tr>\n",
       "  </tbody>\n",
       "</table>\n",
       "</div>"
      ],
      "text/plain": [
       "             user_id age_group city_tier subscription_date  subscription_plan  \\\n",
       "1   UIDLC00009202848     18-24    Tier 1        2024-09-18                 69   \n",
       "2   UIDLC0001086afc3     35-44    Tier 2        2024-03-23                129   \n",
       "4   UIDLC0002189b09f     18-24    Tier 2        2024-10-07                129   \n",
       "6   UIDLC000436e2f4d       45+    Tier 3        2024-09-04                129   \n",
       "13  UIDLC00066e8361c     18-24    Tier 3        2024-08-18                 69   \n",
       "\n",
       "       last_active_date     plan_change_date new_subscription_plan  \\\n",
       "1                     0                    0                     0   \n",
       "2                     0  2024-04-23 00:00:00                  Free   \n",
       "4                     0  2024-11-07 00:00:00                  Free   \n",
       "6                     0                    0                     0   \n",
       "13  2024-10-10 00:00:00                    0                     0   \n",
       "\n",
       "    subscription_date_month  plan_change_date_month  last_active_date_month  \n",
       "1                         9                       0                       0  \n",
       "2                         3                       4                       0  \n",
       "4                        10                      11                       0  \n",
       "6                         9                       0                       0  \n",
       "13                        8                       0                      10  "
      ]
     },
     "execution_count": 177,
     "metadata": {},
     "output_type": "execute_result"
    }
   ],
   "source": [
    "lio_paid.head(5)"
   ]
  },
  {
   "cell_type": "code",
   "execution_count": 178,
   "id": "43dde65c-61d3-49fd-8a3f-f8b8ecebf516",
   "metadata": {},
   "outputs": [],
   "source": [
    "lio_paid_nochange=lio_paid[lio_paid['plan_change_date']=='0']"
   ]
  },
  {
   "cell_type": "code",
   "execution_count": 179,
   "id": "5696e338-162d-4c9b-8ee8-fc58921dcafc",
   "metadata": {},
   "outputs": [
    {
     "data": {
      "text/html": [
       "<div>\n",
       "<style scoped>\n",
       "    .dataframe tbody tr th:only-of-type {\n",
       "        vertical-align: middle;\n",
       "    }\n",
       "\n",
       "    .dataframe tbody tr th {\n",
       "        vertical-align: top;\n",
       "    }\n",
       "\n",
       "    .dataframe thead th {\n",
       "        text-align: right;\n",
       "    }\n",
       "</style>\n",
       "<table border=\"1\" class=\"dataframe\">\n",
       "  <thead>\n",
       "    <tr style=\"text-align: right;\">\n",
       "      <th></th>\n",
       "      <th>user_id</th>\n",
       "      <th>age_group</th>\n",
       "      <th>city_tier</th>\n",
       "      <th>subscription_date</th>\n",
       "      <th>subscription_plan</th>\n",
       "      <th>last_active_date</th>\n",
       "      <th>plan_change_date</th>\n",
       "      <th>new_subscription_plan</th>\n",
       "      <th>subscription_date_month</th>\n",
       "      <th>plan_change_date_month</th>\n",
       "      <th>last_active_date_month</th>\n",
       "    </tr>\n",
       "  </thead>\n",
       "  <tbody>\n",
       "    <tr>\n",
       "      <th>1</th>\n",
       "      <td>UIDLC00009202848</td>\n",
       "      <td>18-24</td>\n",
       "      <td>Tier 1</td>\n",
       "      <td>2024-09-18</td>\n",
       "      <td>69</td>\n",
       "      <td>0</td>\n",
       "      <td>0</td>\n",
       "      <td>0</td>\n",
       "      <td>9</td>\n",
       "      <td>0</td>\n",
       "      <td>0</td>\n",
       "    </tr>\n",
       "    <tr>\n",
       "      <th>6</th>\n",
       "      <td>UIDLC000436e2f4d</td>\n",
       "      <td>45+</td>\n",
       "      <td>Tier 3</td>\n",
       "      <td>2024-09-04</td>\n",
       "      <td>129</td>\n",
       "      <td>0</td>\n",
       "      <td>0</td>\n",
       "      <td>0</td>\n",
       "      <td>9</td>\n",
       "      <td>0</td>\n",
       "      <td>0</td>\n",
       "    </tr>\n",
       "    <tr>\n",
       "      <th>13</th>\n",
       "      <td>UIDLC00066e8361c</td>\n",
       "      <td>18-24</td>\n",
       "      <td>Tier 3</td>\n",
       "      <td>2024-08-18</td>\n",
       "      <td>69</td>\n",
       "      <td>2024-10-10 00:00:00</td>\n",
       "      <td>0</td>\n",
       "      <td>0</td>\n",
       "      <td>8</td>\n",
       "      <td>0</td>\n",
       "      <td>10</td>\n",
       "    </tr>\n",
       "    <tr>\n",
       "      <th>15</th>\n",
       "      <td>UIDLC000728b5ce1</td>\n",
       "      <td>45+</td>\n",
       "      <td>Tier 3</td>\n",
       "      <td>2024-08-27</td>\n",
       "      <td>69</td>\n",
       "      <td>0</td>\n",
       "      <td>0</td>\n",
       "      <td>0</td>\n",
       "      <td>8</td>\n",
       "      <td>0</td>\n",
       "      <td>0</td>\n",
       "    </tr>\n",
       "    <tr>\n",
       "      <th>27</th>\n",
       "      <td>UIDLC000a3b3d473</td>\n",
       "      <td>45+</td>\n",
       "      <td>Tier 1</td>\n",
       "      <td>2024-06-28</td>\n",
       "      <td>69</td>\n",
       "      <td>0</td>\n",
       "      <td>0</td>\n",
       "      <td>0</td>\n",
       "      <td>6</td>\n",
       "      <td>0</td>\n",
       "      <td>0</td>\n",
       "    </tr>\n",
       "  </tbody>\n",
       "</table>\n",
       "</div>"
      ],
      "text/plain": [
       "             user_id age_group city_tier subscription_date  subscription_plan  \\\n",
       "1   UIDLC00009202848     18-24    Tier 1        2024-09-18                 69   \n",
       "6   UIDLC000436e2f4d       45+    Tier 3        2024-09-04                129   \n",
       "13  UIDLC00066e8361c     18-24    Tier 3        2024-08-18                 69   \n",
       "15  UIDLC000728b5ce1       45+    Tier 3        2024-08-27                 69   \n",
       "27  UIDLC000a3b3d473       45+    Tier 1        2024-06-28                 69   \n",
       "\n",
       "       last_active_date plan_change_date new_subscription_plan  \\\n",
       "1                     0                0                     0   \n",
       "6                     0                0                     0   \n",
       "13  2024-10-10 00:00:00                0                     0   \n",
       "15                    0                0                     0   \n",
       "27                    0                0                     0   \n",
       "\n",
       "    subscription_date_month  plan_change_date_month  last_active_date_month  \n",
       "1                         9                       0                       0  \n",
       "6                         9                       0                       0  \n",
       "13                        8                       0                      10  \n",
       "15                        8                       0                       0  \n",
       "27                        6                       0                       0  "
      ]
     },
     "execution_count": 179,
     "metadata": {},
     "output_type": "execute_result"
    }
   ],
   "source": [
    "lio_paid_nochange.head(5)"
   ]
  },
  {
   "cell_type": "code",
   "execution_count": 180,
   "id": "89d860db-a099-4300-99b7-24e7641ab7c7",
   "metadata": {},
   "outputs": [],
   "source": [
    "total_months=11-lio_paid['subscription_date_month']"
   ]
  },
  {
   "cell_type": "code",
   "execution_count": 181,
   "id": "3e35620a-593a-4324-9d04-7b4ec23d3f32",
   "metadata": {},
   "outputs": [
    {
     "data": {
      "text/plain": [
       "1         2\n",
       "2         8\n",
       "4         1\n",
       "6         2\n",
       "13        3\n",
       "         ..\n",
       "183434    1\n",
       "183436    3\n",
       "183439    2\n",
       "183442    3\n",
       "183444    6\n",
       "Name: subscription_date_month, Length: 78454, dtype: int32"
      ]
     },
     "execution_count": 181,
     "metadata": {},
     "output_type": "execute_result"
    }
   ],
   "source": [
    "total_months"
   ]
  },
  {
   "cell_type": "code",
   "execution_count": 182,
   "id": "473fcc9b-e2b4-4b41-8fb6-29e8add3f7b5",
   "metadata": {},
   "outputs": [],
   "source": [
    "lio_paid_nochange_revenue=total_months*lio_paid_nochange['subscription_plan']"
   ]
  },
  {
   "cell_type": "code",
   "execution_count": 183,
   "id": "d7495ebd-6170-4fca-9163-2998abe1e114",
   "metadata": {},
   "outputs": [],
   "source": [
    "lio_paid_downgrade=lio_paid[lio_paid['plan_change_date']!='0']"
   ]
  },
  {
   "cell_type": "code",
   "execution_count": 184,
   "id": "260b59f4-5d67-4482-b5bc-778070356e13",
   "metadata": {},
   "outputs": [
    {
     "name": "stderr",
     "output_type": "stream",
     "text": [
      "C:\\Users\\user\\AppData\\Local\\Temp\\ipykernel_27560\\1578367009.py:1: SettingWithCopyWarning: \n",
      "A value is trying to be set on a copy of a slice from a DataFrame.\n",
      "Try using .loc[row_indexer,col_indexer] = value instead\n",
      "\n",
      "See the caveats in the documentation: https://pandas.pydata.org/pandas-docs/stable/user_guide/indexing.html#returning-a-view-versus-a-copy\n",
      "  lio_paid_downgrade['new_subscription_plan']=lio_paid_downgrade['new_subscription_plan'].replace('Basic',69)\n",
      "C:\\Users\\user\\AppData\\Local\\Temp\\ipykernel_27560\\1578367009.py:2: SettingWithCopyWarning: \n",
      "A value is trying to be set on a copy of a slice from a DataFrame.\n",
      "Try using .loc[row_indexer,col_indexer] = value instead\n",
      "\n",
      "See the caveats in the documentation: https://pandas.pydata.org/pandas-docs/stable/user_guide/indexing.html#returning-a-view-versus-a-copy\n",
      "  lio_paid_downgrade['new_subscription_plan']=lio_paid_downgrade['new_subscription_plan'].replace('Premium',129)\n",
      "C:\\Users\\user\\AppData\\Local\\Temp\\ipykernel_27560\\1578367009.py:3: SettingWithCopyWarning: \n",
      "A value is trying to be set on a copy of a slice from a DataFrame.\n",
      "Try using .loc[row_indexer,col_indexer] = value instead\n",
      "\n",
      "See the caveats in the documentation: https://pandas.pydata.org/pandas-docs/stable/user_guide/indexing.html#returning-a-view-versus-a-copy\n",
      "  lio_paid_downgrade['new_subscription_plan']=lio_paid_downgrade['new_subscription_plan'].replace('Free',0)\n"
     ]
    }
   ],
   "source": [
    "lio_paid_downgrade['new_subscription_plan']=lio_paid_downgrade['new_subscription_plan'].replace('Basic',69)\n",
    "lio_paid_downgrade['new_subscription_plan']=lio_paid_downgrade['new_subscription_plan'].replace('Premium',129)\n",
    "lio_paid_downgrade['new_subscription_plan']=lio_paid_downgrade['new_subscription_plan'].replace('Free',0)"
   ]
  },
  {
   "cell_type": "code",
   "execution_count": 185,
   "id": "77e56117-9fda-4275-8aba-41c47b5b9b02",
   "metadata": {},
   "outputs": [
    {
     "data": {
      "text/html": [
       "<div>\n",
       "<style scoped>\n",
       "    .dataframe tbody tr th:only-of-type {\n",
       "        vertical-align: middle;\n",
       "    }\n",
       "\n",
       "    .dataframe tbody tr th {\n",
       "        vertical-align: top;\n",
       "    }\n",
       "\n",
       "    .dataframe thead th {\n",
       "        text-align: right;\n",
       "    }\n",
       "</style>\n",
       "<table border=\"1\" class=\"dataframe\">\n",
       "  <thead>\n",
       "    <tr style=\"text-align: right;\">\n",
       "      <th></th>\n",
       "      <th>user_id</th>\n",
       "      <th>age_group</th>\n",
       "      <th>city_tier</th>\n",
       "      <th>subscription_date</th>\n",
       "      <th>subscription_plan</th>\n",
       "      <th>last_active_date</th>\n",
       "      <th>plan_change_date</th>\n",
       "      <th>new_subscription_plan</th>\n",
       "      <th>subscription_date_month</th>\n",
       "      <th>plan_change_date_month</th>\n",
       "      <th>last_active_date_month</th>\n",
       "    </tr>\n",
       "  </thead>\n",
       "  <tbody>\n",
       "    <tr>\n",
       "      <th>2</th>\n",
       "      <td>UIDLC0001086afc3</td>\n",
       "      <td>35-44</td>\n",
       "      <td>Tier 2</td>\n",
       "      <td>2024-03-23</td>\n",
       "      <td>129</td>\n",
       "      <td>0</td>\n",
       "      <td>2024-04-23 00:00:00</td>\n",
       "      <td>0</td>\n",
       "      <td>3</td>\n",
       "      <td>4</td>\n",
       "      <td>0</td>\n",
       "    </tr>\n",
       "    <tr>\n",
       "      <th>4</th>\n",
       "      <td>UIDLC0002189b09f</td>\n",
       "      <td>18-24</td>\n",
       "      <td>Tier 2</td>\n",
       "      <td>2024-10-07</td>\n",
       "      <td>129</td>\n",
       "      <td>0</td>\n",
       "      <td>2024-11-07 00:00:00</td>\n",
       "      <td>0</td>\n",
       "      <td>10</td>\n",
       "      <td>11</td>\n",
       "      <td>0</td>\n",
       "    </tr>\n",
       "    <tr>\n",
       "      <th>16</th>\n",
       "      <td>UIDLC0007b26e5f0</td>\n",
       "      <td>25-34</td>\n",
       "      <td>Tier 1</td>\n",
       "      <td>2024-07-27</td>\n",
       "      <td>69</td>\n",
       "      <td>0</td>\n",
       "      <td>2024-09-27 00:00:00</td>\n",
       "      <td>129</td>\n",
       "      <td>7</td>\n",
       "      <td>9</td>\n",
       "      <td>0</td>\n",
       "    </tr>\n",
       "    <tr>\n",
       "      <th>18</th>\n",
       "      <td>UIDLC000821d36c9</td>\n",
       "      <td>45+</td>\n",
       "      <td>Tier 1</td>\n",
       "      <td>2024-03-26</td>\n",
       "      <td>129</td>\n",
       "      <td>0</td>\n",
       "      <td>2024-04-26 00:00:00</td>\n",
       "      <td>0</td>\n",
       "      <td>3</td>\n",
       "      <td>4</td>\n",
       "      <td>0</td>\n",
       "    </tr>\n",
       "    <tr>\n",
       "      <th>19</th>\n",
       "      <td>UIDLC000892a1bc4</td>\n",
       "      <td>18-24</td>\n",
       "      <td>Tier 2</td>\n",
       "      <td>2024-02-29</td>\n",
       "      <td>129</td>\n",
       "      <td>0</td>\n",
       "      <td>2024-07-29 00:00:00</td>\n",
       "      <td>0</td>\n",
       "      <td>2</td>\n",
       "      <td>7</td>\n",
       "      <td>0</td>\n",
       "    </tr>\n",
       "  </tbody>\n",
       "</table>\n",
       "</div>"
      ],
      "text/plain": [
       "             user_id age_group city_tier subscription_date  subscription_plan  \\\n",
       "2   UIDLC0001086afc3     35-44    Tier 2        2024-03-23                129   \n",
       "4   UIDLC0002189b09f     18-24    Tier 2        2024-10-07                129   \n",
       "16  UIDLC0007b26e5f0     25-34    Tier 1        2024-07-27                 69   \n",
       "18  UIDLC000821d36c9       45+    Tier 1        2024-03-26                129   \n",
       "19  UIDLC000892a1bc4     18-24    Tier 2        2024-02-29                129   \n",
       "\n",
       "   last_active_date     plan_change_date  new_subscription_plan  \\\n",
       "2                 0  2024-04-23 00:00:00                      0   \n",
       "4                 0  2024-11-07 00:00:00                      0   \n",
       "16                0  2024-09-27 00:00:00                    129   \n",
       "18                0  2024-04-26 00:00:00                      0   \n",
       "19                0  2024-07-29 00:00:00                      0   \n",
       "\n",
       "    subscription_date_month  plan_change_date_month  last_active_date_month  \n",
       "2                         3                       4                       0  \n",
       "4                        10                      11                       0  \n",
       "16                        7                       9                       0  \n",
       "18                        3                       4                       0  \n",
       "19                        2                       7                       0  "
      ]
     },
     "execution_count": 185,
     "metadata": {},
     "output_type": "execute_result"
    }
   ],
   "source": [
    "lio_paid_downgrade.head(5)"
   ]
  },
  {
   "cell_type": "code",
   "execution_count": 186,
   "id": "99b73556-8c0a-41ef-abe4-29be7de86a00",
   "metadata": {},
   "outputs": [],
   "source": [
    "plan_change_total_months=11-lio_paid_downgrade['plan_change_date_month']"
   ]
  },
  {
   "cell_type": "code",
   "execution_count": 187,
   "id": "ede5b59c-2b11-489d-850b-a81df8fdd582",
   "metadata": {},
   "outputs": [
    {
     "data": {
      "text/plain": [
       "2         7\n",
       "4         0\n",
       "16        2\n",
       "18        7\n",
       "19        4\n",
       "         ..\n",
       "183392    2\n",
       "183395    2\n",
       "183396    0\n",
       "183425    1\n",
       "183426    7\n",
       "Name: plan_change_date_month, Length: 22221, dtype: int32"
      ]
     },
     "execution_count": 187,
     "metadata": {},
     "output_type": "execute_result"
    }
   ],
   "source": [
    "plan_change_total_months"
   ]
  },
  {
   "cell_type": "code",
   "execution_count": 188,
   "id": "9353615b-f0df-422d-b034-3009bc7a59ff",
   "metadata": {},
   "outputs": [],
   "source": [
    "lio_paid_downgrade_revenue=plan_change_total_months*lio_paid_downgrade['new_subscription_plan']"
   ]
  },
  {
   "cell_type": "code",
   "execution_count": 189,
   "id": "54f9d333-3fc1-4655-b0d4-7073211db349",
   "metadata": {},
   "outputs": [
    {
     "data": {
      "text/plain": [
       "779481"
      ]
     },
     "execution_count": 189,
     "metadata": {},
     "output_type": "execute_result"
    }
   ],
   "source": [
    "lio_paid_downgrade_revenue.sum() #--"
   ]
  },
  {
   "cell_type": "code",
   "execution_count": 190,
   "id": "1866e833-e5a6-4d6a-9bab-854f3c9535ce",
   "metadata": {},
   "outputs": [],
   "source": [
    "lio_total_revenue=lio_paid_nochange_revenue.sum()+free_to_upgrade_revenue.sum()-lio_paid_downgrade_revenue.sum()"
   ]
  },
  {
   "cell_type": "code",
   "execution_count": 191,
   "id": "d17df878-5cad-4f4d-a8fe-105aa7140d91",
   "metadata": {},
   "outputs": [
    {
     "data": {
      "text/plain": [
       "13199739.0"
      ]
     },
     "execution_count": 191,
     "metadata": {},
     "output_type": "execute_result"
    }
   ],
   "source": [
    "lio_total_revenue"
   ]
  },
  {
   "cell_type": "code",
   "execution_count": null,
   "id": "909c461d-e5bb-47ad-a724-d5e164100eac",
   "metadata": {},
   "outputs": [],
   "source": []
  },
  {
   "cell_type": "markdown",
   "id": "f6f386bc-1a7e-4c38-8387-c3fdf22ad171",
   "metadata": {},
   "source": [
    "*******************     JOBSRTAR **************************"
   ]
  },
  {
   "cell_type": "code",
   "execution_count": null,
   "id": "a0a759d6-ad67-4174-b784-96da493c6b6c",
   "metadata": {},
   "outputs": [],
   "source": []
  },
  {
   "cell_type": "code",
   "execution_count": null,
   "id": "3c2594b5-29a3-4129-a621-ccf238ece455",
   "metadata": {},
   "outputs": [],
   "source": []
  },
  {
   "cell_type": "code",
   "execution_count": null,
   "id": "cf6678b6-7a65-41f9-b0a1-ccc6787bf995",
   "metadata": {},
   "outputs": [],
   "source": []
  },
  {
   "cell_type": "code",
   "execution_count": 192,
   "id": "1f7f3ade-8c0a-40b0-aa25-98ea0aa2c726",
   "metadata": {},
   "outputs": [],
   "source": [
    "jobstar_free=df_Jobstar_subscr[df_Jobstar_subscr['subscription_plan']=='Free']"
   ]
  },
  {
   "cell_type": "code",
   "execution_count": 193,
   "id": "2066c994-671c-4ce0-805c-44fa1bcd8638",
   "metadata": {},
   "outputs": [],
   "source": [
    "free_to_upgrade_jobstar=jobstar_free[jobstar_free['plan_change_date']!='0']"
   ]
  },
  {
   "cell_type": "code",
   "execution_count": 194,
   "id": "9feaa4d3-c7a5-4d71-8193-11750a7adb56",
   "metadata": {},
   "outputs": [
    {
     "name": "stderr",
     "output_type": "stream",
     "text": [
      "C:\\Users\\user\\AppData\\Local\\Temp\\ipykernel_27560\\668829022.py:1: SettingWithCopyWarning: \n",
      "A value is trying to be set on a copy of a slice from a DataFrame.\n",
      "Try using .loc[row_indexer,col_indexer] = value instead\n",
      "\n",
      "See the caveats in the documentation: https://pandas.pydata.org/pandas-docs/stable/user_guide/indexing.html#returning-a-view-versus-a-copy\n",
      "  free_to_upgrade_jobstar['new_subscription_plan']=free_to_upgrade_jobstar['new_subscription_plan'].replace('VIP',159)\n",
      "C:\\Users\\user\\AppData\\Local\\Temp\\ipykernel_27560\\668829022.py:2: SettingWithCopyWarning: \n",
      "A value is trying to be set on a copy of a slice from a DataFrame.\n",
      "Try using .loc[row_indexer,col_indexer] = value instead\n",
      "\n",
      "See the caveats in the documentation: https://pandas.pydata.org/pandas-docs/stable/user_guide/indexing.html#returning-a-view-versus-a-copy\n",
      "  free_to_upgrade_jobstar['new_subscription_plan']=free_to_upgrade_jobstar['new_subscription_plan'].replace('Premium',359)\n"
     ]
    }
   ],
   "source": [
    "free_to_upgrade_jobstar['new_subscription_plan']=free_to_upgrade_jobstar['new_subscription_plan'].replace('VIP',159)\n",
    "free_to_upgrade_jobstar['new_subscription_plan']=free_to_upgrade_jobstar['new_subscription_plan'].replace('Premium',359)"
   ]
  },
  {
   "cell_type": "code",
   "execution_count": 195,
   "id": "285da7b4-29b1-4813-951d-4269760fa863",
   "metadata": {},
   "outputs": [
    {
     "data": {
      "text/html": [
       "<div>\n",
       "<style scoped>\n",
       "    .dataframe tbody tr th:only-of-type {\n",
       "        vertical-align: middle;\n",
       "    }\n",
       "\n",
       "    .dataframe tbody tr th {\n",
       "        vertical-align: top;\n",
       "    }\n",
       "\n",
       "    .dataframe thead th {\n",
       "        text-align: right;\n",
       "    }\n",
       "</style>\n",
       "<table border=\"1\" class=\"dataframe\">\n",
       "  <thead>\n",
       "    <tr style=\"text-align: right;\">\n",
       "      <th></th>\n",
       "      <th>user_id</th>\n",
       "      <th>age_group</th>\n",
       "      <th>city_tier</th>\n",
       "      <th>subscription_date</th>\n",
       "      <th>subscription_plan</th>\n",
       "      <th>last_active_date</th>\n",
       "      <th>plan_change_date</th>\n",
       "      <th>new_subscription_plan</th>\n",
       "      <th>subscription_date_month</th>\n",
       "      <th>plan_change_date_month</th>\n",
       "      <th>last_active_date_month</th>\n",
       "      <th>df_Jobstar_subscr_month</th>\n",
       "    </tr>\n",
       "  </thead>\n",
       "  <tbody>\n",
       "    <tr>\n",
       "      <th>76</th>\n",
       "      <td>UIDJS006315e24bf</td>\n",
       "      <td>45+</td>\n",
       "      <td>Tier 1</td>\n",
       "      <td>2024-01-04</td>\n",
       "      <td>Free</td>\n",
       "      <td>0</td>\n",
       "      <td>2024-03-04 00:00:00</td>\n",
       "      <td>359</td>\n",
       "      <td>1</td>\n",
       "      <td>3.0</td>\n",
       "      <td>0</td>\n",
       "      <td>1</td>\n",
       "    </tr>\n",
       "    <tr>\n",
       "      <th>81</th>\n",
       "      <td>UIDJS006711c9331</td>\n",
       "      <td>25-34</td>\n",
       "      <td>Tier 1</td>\n",
       "      <td>2024-05-22</td>\n",
       "      <td>Free</td>\n",
       "      <td>0</td>\n",
       "      <td>2024-06-22 00:00:00</td>\n",
       "      <td>159</td>\n",
       "      <td>5</td>\n",
       "      <td>6.0</td>\n",
       "      <td>0</td>\n",
       "      <td>5</td>\n",
       "    </tr>\n",
       "  </tbody>\n",
       "</table>\n",
       "</div>"
      ],
      "text/plain": [
       "             user_id age_group city_tier subscription_date subscription_plan  \\\n",
       "76  UIDJS006315e24bf       45+    Tier 1        2024-01-04              Free   \n",
       "81  UIDJS006711c9331     25-34    Tier 1        2024-05-22              Free   \n",
       "\n",
       "   last_active_date     plan_change_date  new_subscription_plan  \\\n",
       "76                0  2024-03-04 00:00:00                    359   \n",
       "81                0  2024-06-22 00:00:00                    159   \n",
       "\n",
       "    subscription_date_month plan_change_date_month last_active_date_month  \\\n",
       "76                        1                    3.0                      0   \n",
       "81                        5                    6.0                      0   \n",
       "\n",
       "    df_Jobstar_subscr_month  \n",
       "76                        1  \n",
       "81                        5  "
      ]
     },
     "execution_count": 195,
     "metadata": {},
     "output_type": "execute_result"
    }
   ],
   "source": [
    "free_to_upgrade_jobstar.head(2)"
   ]
  },
  {
   "cell_type": "code",
   "execution_count": 196,
   "id": "15498ce3-2519-4a28-8575-08ba1045b480",
   "metadata": {},
   "outputs": [
    {
     "name": "stdout",
     "output_type": "stream",
     "text": [
      "<class 'pandas.core.frame.DataFrame'>\n",
      "Index: 1527 entries, 76 to 44540\n",
      "Data columns (total 12 columns):\n",
      " #   Column                   Non-Null Count  Dtype         \n",
      "---  ------                   --------------  -----         \n",
      " 0   user_id                  1527 non-null   object        \n",
      " 1   age_group                1527 non-null   object        \n",
      " 2   city_tier                1527 non-null   object        \n",
      " 3   subscription_date        1527 non-null   datetime64[ns]\n",
      " 4   subscription_plan        1527 non-null   object        \n",
      " 5   last_active_date         1527 non-null   object        \n",
      " 6   plan_change_date         1527 non-null   object        \n",
      " 7   new_subscription_plan    1527 non-null   int64         \n",
      " 8   subscription_date_month  1527 non-null   int32         \n",
      " 9   plan_change_date_month   1527 non-null   object        \n",
      " 10  last_active_date_month   1527 non-null   object        \n",
      " 11  df_Jobstar_subscr_month  1527 non-null   int32         \n",
      "dtypes: datetime64[ns](1), int32(2), int64(1), object(8)\n",
      "memory usage: 143.2+ KB\n"
     ]
    }
   ],
   "source": [
    "free_to_upgrade_jobstar.info()"
   ]
  },
  {
   "cell_type": "code",
   "execution_count": null,
   "id": "d2e91487-c45d-4f3b-b8eb-71fdabb6e217",
   "metadata": {},
   "outputs": [],
   "source": []
  },
  {
   "cell_type": "code",
   "execution_count": null,
   "id": "cccd531f-85bf-40ae-bb58-118fd63ce610",
   "metadata": {},
   "outputs": [],
   "source": []
  },
  {
   "cell_type": "code",
   "execution_count": null,
   "id": "6c9741ed-177f-45db-862f-09a06cc03379",
   "metadata": {},
   "outputs": [],
   "source": []
  },
  {
   "cell_type": "code",
   "execution_count": null,
   "id": "13600ff7-c0cc-4c25-b49c-a91ed4dd750e",
   "metadata": {},
   "outputs": [],
   "source": []
  },
  {
   "cell_type": "code",
   "execution_count": null,
   "id": "16dfbe3b-5930-4cc8-95a9-d242dfb128a1",
   "metadata": {},
   "outputs": [],
   "source": []
  },
  {
   "cell_type": "code",
   "execution_count": null,
   "id": "ee51cc21-a7bd-4a48-87cf-b46259d5f8d7",
   "metadata": {},
   "outputs": [],
   "source": []
  },
  {
   "cell_type": "code",
   "execution_count": null,
   "id": "f48359d8-abec-4a48-99b1-423b5dd73820",
   "metadata": {},
   "outputs": [],
   "source": []
  },
  {
   "cell_type": "code",
   "execution_count": 197,
   "id": "2f9bda00-552b-4215-a90d-1159fabbd0a5",
   "metadata": {},
   "outputs": [],
   "source": [
    "plan_change_date_month_jobstar=free_to_upgrade_jobstar[free_to_upgrade_jobstar['plan_change_date_month']<12]"
   ]
  },
  {
   "cell_type": "code",
   "execution_count": 198,
   "id": "6d6d1ba3-906c-436d-9c32-000592b8680b",
   "metadata": {},
   "outputs": [],
   "source": [
    "free_to_upgrade_monthhs_jobstar=11-plan_change_date_month_jobstar['plan_change_date_month']"
   ]
  },
  {
   "cell_type": "code",
   "execution_count": 199,
   "id": "892fcd5b-9528-4135-9d5b-364d25af3aca",
   "metadata": {},
   "outputs": [
    {
     "data": {
      "text/plain": [
       "76       8.0\n",
       "81       5.0\n",
       "89       2.0\n",
       "106      2.0\n",
       "151      2.0\n",
       "        ... \n",
       "44387    1.0\n",
       "44513    2.0\n",
       "44523    4.0\n",
       "44526    4.0\n",
       "44540    9.0\n",
       "Name: plan_change_date_month, Length: 1425, dtype: object"
      ]
     },
     "execution_count": 199,
     "metadata": {},
     "output_type": "execute_result"
    }
   ],
   "source": [
    "free_to_upgrade_monthhs_jobstar"
   ]
  },
  {
   "cell_type": "code",
   "execution_count": 200,
   "id": "a807a9b2-2283-4a48-a4bb-86daf501e75a",
   "metadata": {},
   "outputs": [],
   "source": [
    "free_to_upgrade_revenue_jobstar=free_to_upgrade_monthhs_jobstar*plan_change_date_month_jobstar['new_subscription_plan']"
   ]
  },
  {
   "cell_type": "code",
   "execution_count": 201,
   "id": "382ea981-15de-4fc9-8d19-0320f8563cf2",
   "metadata": {},
   "outputs": [
    {
     "data": {
      "text/plain": [
       "1470953.0"
      ]
     },
     "execution_count": 201,
     "metadata": {},
     "output_type": "execute_result"
    }
   ],
   "source": [
    "free_to_upgrade_revenue_jobstar.sum() # ++"
   ]
  },
  {
   "cell_type": "code",
   "execution_count": 202,
   "id": "16ebb99e-21ee-465d-a7dc-fe6b6abdb33b",
   "metadata": {},
   "outputs": [],
   "source": [
    "jobstar_paid=df_Jobstar_subscr[df_Jobstar_subscr['subscription_plan']!='Free']"
   ]
  },
  {
   "cell_type": "code",
   "execution_count": 203,
   "id": "5bb11e05-7cce-4c02-b208-21cfc1ab5622",
   "metadata": {},
   "outputs": [
    {
     "name": "stderr",
     "output_type": "stream",
     "text": [
      "C:\\Users\\user\\AppData\\Local\\Temp\\ipykernel_27560\\3061622366.py:1: SettingWithCopyWarning: \n",
      "A value is trying to be set on a copy of a slice from a DataFrame.\n",
      "Try using .loc[row_indexer,col_indexer] = value instead\n",
      "\n",
      "See the caveats in the documentation: https://pandas.pydata.org/pandas-docs/stable/user_guide/indexing.html#returning-a-view-versus-a-copy\n",
      "  jobstar_paid['subscription_plan']=jobstar_paid['subscription_plan'].replace('VIP',159)\n",
      "C:\\Users\\user\\AppData\\Local\\Temp\\ipykernel_27560\\3061622366.py:2: SettingWithCopyWarning: \n",
      "A value is trying to be set on a copy of a slice from a DataFrame.\n",
      "Try using .loc[row_indexer,col_indexer] = value instead\n",
      "\n",
      "See the caveats in the documentation: https://pandas.pydata.org/pandas-docs/stable/user_guide/indexing.html#returning-a-view-versus-a-copy\n",
      "  jobstar_paid['subscription_plan']=jobstar_paid['subscription_plan'].replace('Premium',359)\n"
     ]
    }
   ],
   "source": [
    "jobstar_paid['subscription_plan']=jobstar_paid['subscription_plan'].replace('VIP',159)\n",
    "jobstar_paid['subscription_plan']=jobstar_paid['subscription_plan'].replace('Premium',359)"
   ]
  },
  {
   "cell_type": "code",
   "execution_count": 204,
   "id": "690ec007-7cdf-4751-84cd-8e350f6ad4d2",
   "metadata": {},
   "outputs": [],
   "source": [
    "jobstar_paid_nochange=jobstar_paid[jobstar_paid['plan_change_date']=='0']"
   ]
  },
  {
   "cell_type": "code",
   "execution_count": 205,
   "id": "3d31bfbf-c670-451c-8fb3-002002ff399a",
   "metadata": {},
   "outputs": [],
   "source": [
    "total_months_jobstar=11-jobstar_paid['subscription_date_month']"
   ]
  },
  {
   "cell_type": "code",
   "execution_count": 206,
   "id": "c7e54e8f-b956-4212-925c-20d4284fd213",
   "metadata": {},
   "outputs": [
    {
     "data": {
      "text/plain": [
       "0        5\n",
       "3        6\n",
       "4        2\n",
       "6        0\n",
       "7        8\n",
       "        ..\n",
       "44612    2\n",
       "44613    9\n",
       "44616    6\n",
       "44617    2\n",
       "44618    1\n",
       "Name: subscription_date_month, Length: 32524, dtype: int32"
      ]
     },
     "execution_count": 206,
     "metadata": {},
     "output_type": "execute_result"
    }
   ],
   "source": [
    "total_months_jobstar"
   ]
  },
  {
   "cell_type": "code",
   "execution_count": 207,
   "id": "c692736b-eef3-497d-b3fb-0125b62c5cbe",
   "metadata": {},
   "outputs": [],
   "source": [
    "jobstar_paid_nochange_revenue=total_months_jobstar*jobstar_paid_nochange['subscription_plan']"
   ]
  },
  {
   "cell_type": "code",
   "execution_count": 208,
   "id": "c64ec3a8-7444-4544-b812-92d75f0a54bd",
   "metadata": {},
   "outputs": [
    {
     "data": {
      "text/plain": [
       "32469106.0"
      ]
     },
     "execution_count": 208,
     "metadata": {},
     "output_type": "execute_result"
    }
   ],
   "source": [
    "jobstar_paid_nochange_revenue.sum()"
   ]
  },
  {
   "cell_type": "code",
   "execution_count": 209,
   "id": "ded5d7d5-2ae1-4915-8676-8c17ccdc4696",
   "metadata": {},
   "outputs": [],
   "source": [
    "jobstar_paid_downgrade=jobstar_paid[jobstar_paid['plan_change_date']!='0']"
   ]
  },
  {
   "cell_type": "code",
   "execution_count": 210,
   "id": "25cfd0c8-5648-46a5-81a6-234da6106901",
   "metadata": {},
   "outputs": [
    {
     "name": "stderr",
     "output_type": "stream",
     "text": [
      "C:\\Users\\user\\AppData\\Local\\Temp\\ipykernel_27560\\148650340.py:1: SettingWithCopyWarning: \n",
      "A value is trying to be set on a copy of a slice from a DataFrame.\n",
      "Try using .loc[row_indexer,col_indexer] = value instead\n",
      "\n",
      "See the caveats in the documentation: https://pandas.pydata.org/pandas-docs/stable/user_guide/indexing.html#returning-a-view-versus-a-copy\n",
      "  jobstar_paid_downgrade['new_subscription_plan']=jobstar_paid_downgrade['new_subscription_plan'].replace('VIP',159)\n",
      "C:\\Users\\user\\AppData\\Local\\Temp\\ipykernel_27560\\148650340.py:2: SettingWithCopyWarning: \n",
      "A value is trying to be set on a copy of a slice from a DataFrame.\n",
      "Try using .loc[row_indexer,col_indexer] = value instead\n",
      "\n",
      "See the caveats in the documentation: https://pandas.pydata.org/pandas-docs/stable/user_guide/indexing.html#returning-a-view-versus-a-copy\n",
      "  jobstar_paid_downgrade['new_subscription_plan']=jobstar_paid_downgrade['new_subscription_plan'].replace('Premium',359)\n",
      "C:\\Users\\user\\AppData\\Local\\Temp\\ipykernel_27560\\148650340.py:3: SettingWithCopyWarning: \n",
      "A value is trying to be set on a copy of a slice from a DataFrame.\n",
      "Try using .loc[row_indexer,col_indexer] = value instead\n",
      "\n",
      "See the caveats in the documentation: https://pandas.pydata.org/pandas-docs/stable/user_guide/indexing.html#returning-a-view-versus-a-copy\n",
      "  jobstar_paid_downgrade['new_subscription_plan']=jobstar_paid_downgrade['new_subscription_plan'].replace('Free',0)\n"
     ]
    }
   ],
   "source": [
    "jobstar_paid_downgrade['new_subscription_plan']=jobstar_paid_downgrade['new_subscription_plan'].replace('VIP',159)\n",
    "jobstar_paid_downgrade['new_subscription_plan']=jobstar_paid_downgrade['new_subscription_plan'].replace('Premium',359)\n",
    "jobstar_paid_downgrade['new_subscription_plan']=jobstar_paid_downgrade['new_subscription_plan'].replace('Free',0)"
   ]
  },
  {
   "cell_type": "code",
   "execution_count": 211,
   "id": "b4823bc9-d0be-4448-a599-29e05ebfdb13",
   "metadata": {},
   "outputs": [
    {
     "data": {
      "text/html": [
       "<div>\n",
       "<style scoped>\n",
       "    .dataframe tbody tr th:only-of-type {\n",
       "        vertical-align: middle;\n",
       "    }\n",
       "\n",
       "    .dataframe tbody tr th {\n",
       "        vertical-align: top;\n",
       "    }\n",
       "\n",
       "    .dataframe thead th {\n",
       "        text-align: right;\n",
       "    }\n",
       "</style>\n",
       "<table border=\"1\" class=\"dataframe\">\n",
       "  <thead>\n",
       "    <tr style=\"text-align: right;\">\n",
       "      <th></th>\n",
       "      <th>user_id</th>\n",
       "      <th>age_group</th>\n",
       "      <th>city_tier</th>\n",
       "      <th>subscription_date</th>\n",
       "      <th>subscription_plan</th>\n",
       "      <th>last_active_date</th>\n",
       "      <th>plan_change_date</th>\n",
       "      <th>new_subscription_plan</th>\n",
       "      <th>subscription_date_month</th>\n",
       "      <th>plan_change_date_month</th>\n",
       "      <th>last_active_date_month</th>\n",
       "      <th>df_Jobstar_subscr_month</th>\n",
       "    </tr>\n",
       "  </thead>\n",
       "  <tbody>\n",
       "    <tr>\n",
       "      <th>12</th>\n",
       "      <td>UIDJS000cd6a7fe8</td>\n",
       "      <td>25-34</td>\n",
       "      <td>Tier 1</td>\n",
       "      <td>2024-09-18</td>\n",
       "      <td>359</td>\n",
       "      <td>0</td>\n",
       "      <td>2024-12-18 00:00:00</td>\n",
       "      <td>159</td>\n",
       "      <td>9</td>\n",
       "      <td>12.0</td>\n",
       "      <td>0</td>\n",
       "      <td>9</td>\n",
       "    </tr>\n",
       "    <tr>\n",
       "      <th>19</th>\n",
       "      <td>UIDJS0019b04b32f</td>\n",
       "      <td>18-24</td>\n",
       "      <td>Tier 1</td>\n",
       "      <td>2024-02-11</td>\n",
       "      <td>159</td>\n",
       "      <td>0</td>\n",
       "      <td>2024-08-11 00:00:00</td>\n",
       "      <td>0</td>\n",
       "      <td>2</td>\n",
       "      <td>8.0</td>\n",
       "      <td>0</td>\n",
       "      <td>2</td>\n",
       "    </tr>\n",
       "    <tr>\n",
       "      <th>23</th>\n",
       "      <td>UIDJS001defd7e03</td>\n",
       "      <td>25-34</td>\n",
       "      <td>Tier 1</td>\n",
       "      <td>2024-01-18</td>\n",
       "      <td>159</td>\n",
       "      <td>0</td>\n",
       "      <td>2024-08-18 00:00:00</td>\n",
       "      <td>0</td>\n",
       "      <td>1</td>\n",
       "      <td>8.0</td>\n",
       "      <td>0</td>\n",
       "      <td>1</td>\n",
       "    </tr>\n",
       "    <tr>\n",
       "      <th>47</th>\n",
       "      <td>UIDJS003cb5a2cd7</td>\n",
       "      <td>35-44</td>\n",
       "      <td>Tier 1</td>\n",
       "      <td>2024-06-05</td>\n",
       "      <td>159</td>\n",
       "      <td>0</td>\n",
       "      <td>2024-10-05 00:00:00</td>\n",
       "      <td>0</td>\n",
       "      <td>6</td>\n",
       "      <td>10.0</td>\n",
       "      <td>0</td>\n",
       "      <td>6</td>\n",
       "    </tr>\n",
       "    <tr>\n",
       "      <th>58</th>\n",
       "      <td>UIDJS004c0eb4154</td>\n",
       "      <td>25-34</td>\n",
       "      <td>Tier 2</td>\n",
       "      <td>2024-02-26</td>\n",
       "      <td>159</td>\n",
       "      <td>0</td>\n",
       "      <td>2024-09-26 00:00:00</td>\n",
       "      <td>0</td>\n",
       "      <td>2</td>\n",
       "      <td>9.0</td>\n",
       "      <td>0</td>\n",
       "      <td>2</td>\n",
       "    </tr>\n",
       "  </tbody>\n",
       "</table>\n",
       "</div>"
      ],
      "text/plain": [
       "             user_id age_group city_tier subscription_date  subscription_plan  \\\n",
       "12  UIDJS000cd6a7fe8     25-34    Tier 1        2024-09-18                359   \n",
       "19  UIDJS0019b04b32f     18-24    Tier 1        2024-02-11                159   \n",
       "23  UIDJS001defd7e03     25-34    Tier 1        2024-01-18                159   \n",
       "47  UIDJS003cb5a2cd7     35-44    Tier 1        2024-06-05                159   \n",
       "58  UIDJS004c0eb4154     25-34    Tier 2        2024-02-26                159   \n",
       "\n",
       "   last_active_date     plan_change_date  new_subscription_plan  \\\n",
       "12                0  2024-12-18 00:00:00                    159   \n",
       "19                0  2024-08-11 00:00:00                      0   \n",
       "23                0  2024-08-18 00:00:00                      0   \n",
       "47                0  2024-10-05 00:00:00                      0   \n",
       "58                0  2024-09-26 00:00:00                      0   \n",
       "\n",
       "    subscription_date_month plan_change_date_month last_active_date_month  \\\n",
       "12                        9                   12.0                      0   \n",
       "19                        2                    8.0                      0   \n",
       "23                        1                    8.0                      0   \n",
       "47                        6                   10.0                      0   \n",
       "58                        2                    9.0                      0   \n",
       "\n",
       "    df_Jobstar_subscr_month  \n",
       "12                        9  \n",
       "19                        2  \n",
       "23                        1  \n",
       "47                        6  \n",
       "58                        2  "
      ]
     },
     "execution_count": 211,
     "metadata": {},
     "output_type": "execute_result"
    }
   ],
   "source": [
    "jobstar_paid_downgrade.head(5)"
   ]
  },
  {
   "cell_type": "code",
   "execution_count": 212,
   "id": "3fe16bdb-d75a-480d-b004-8e371121d9a3",
   "metadata": {},
   "outputs": [],
   "source": [
    "plan_change_date_month_jobstar=jobstar_paid_downgrade[jobstar_paid_downgrade['plan_change_date_month']<12]"
   ]
  },
  {
   "cell_type": "code",
   "execution_count": 213,
   "id": "a32e706c-569c-48fa-8958-341cacf682f8",
   "metadata": {},
   "outputs": [
    {
     "data": {
      "text/html": [
       "<div>\n",
       "<style scoped>\n",
       "    .dataframe tbody tr th:only-of-type {\n",
       "        vertical-align: middle;\n",
       "    }\n",
       "\n",
       "    .dataframe tbody tr th {\n",
       "        vertical-align: top;\n",
       "    }\n",
       "\n",
       "    .dataframe thead th {\n",
       "        text-align: right;\n",
       "    }\n",
       "</style>\n",
       "<table border=\"1\" class=\"dataframe\">\n",
       "  <thead>\n",
       "    <tr style=\"text-align: right;\">\n",
       "      <th></th>\n",
       "      <th>user_id</th>\n",
       "      <th>age_group</th>\n",
       "      <th>city_tier</th>\n",
       "      <th>subscription_date</th>\n",
       "      <th>subscription_plan</th>\n",
       "      <th>last_active_date</th>\n",
       "      <th>plan_change_date</th>\n",
       "      <th>new_subscription_plan</th>\n",
       "      <th>subscription_date_month</th>\n",
       "      <th>plan_change_date_month</th>\n",
       "      <th>last_active_date_month</th>\n",
       "      <th>df_Jobstar_subscr_month</th>\n",
       "    </tr>\n",
       "  </thead>\n",
       "  <tbody>\n",
       "    <tr>\n",
       "      <th>19</th>\n",
       "      <td>UIDJS0019b04b32f</td>\n",
       "      <td>18-24</td>\n",
       "      <td>Tier 1</td>\n",
       "      <td>2024-02-11</td>\n",
       "      <td>159</td>\n",
       "      <td>0</td>\n",
       "      <td>2024-08-11 00:00:00</td>\n",
       "      <td>0</td>\n",
       "      <td>2</td>\n",
       "      <td>8.0</td>\n",
       "      <td>0</td>\n",
       "      <td>2</td>\n",
       "    </tr>\n",
       "    <tr>\n",
       "      <th>23</th>\n",
       "      <td>UIDJS001defd7e03</td>\n",
       "      <td>25-34</td>\n",
       "      <td>Tier 1</td>\n",
       "      <td>2024-01-18</td>\n",
       "      <td>159</td>\n",
       "      <td>0</td>\n",
       "      <td>2024-08-18 00:00:00</td>\n",
       "      <td>0</td>\n",
       "      <td>1</td>\n",
       "      <td>8.0</td>\n",
       "      <td>0</td>\n",
       "      <td>1</td>\n",
       "    </tr>\n",
       "    <tr>\n",
       "      <th>47</th>\n",
       "      <td>UIDJS003cb5a2cd7</td>\n",
       "      <td>35-44</td>\n",
       "      <td>Tier 1</td>\n",
       "      <td>2024-06-05</td>\n",
       "      <td>159</td>\n",
       "      <td>0</td>\n",
       "      <td>2024-10-05 00:00:00</td>\n",
       "      <td>0</td>\n",
       "      <td>6</td>\n",
       "      <td>10.0</td>\n",
       "      <td>0</td>\n",
       "      <td>6</td>\n",
       "    </tr>\n",
       "    <tr>\n",
       "      <th>58</th>\n",
       "      <td>UIDJS004c0eb4154</td>\n",
       "      <td>25-34</td>\n",
       "      <td>Tier 2</td>\n",
       "      <td>2024-02-26</td>\n",
       "      <td>159</td>\n",
       "      <td>0</td>\n",
       "      <td>2024-09-26 00:00:00</td>\n",
       "      <td>0</td>\n",
       "      <td>2</td>\n",
       "      <td>9.0</td>\n",
       "      <td>0</td>\n",
       "      <td>2</td>\n",
       "    </tr>\n",
       "    <tr>\n",
       "      <th>59</th>\n",
       "      <td>UIDJS004d1ca89e3</td>\n",
       "      <td>18-24</td>\n",
       "      <td>Tier 1</td>\n",
       "      <td>2024-03-31</td>\n",
       "      <td>159</td>\n",
       "      <td>0</td>\n",
       "      <td>2024-08-31 00:00:00</td>\n",
       "      <td>0</td>\n",
       "      <td>3</td>\n",
       "      <td>8.0</td>\n",
       "      <td>0</td>\n",
       "      <td>3</td>\n",
       "    </tr>\n",
       "  </tbody>\n",
       "</table>\n",
       "</div>"
      ],
      "text/plain": [
       "             user_id age_group city_tier subscription_date  subscription_plan  \\\n",
       "19  UIDJS0019b04b32f     18-24    Tier 1        2024-02-11                159   \n",
       "23  UIDJS001defd7e03     25-34    Tier 1        2024-01-18                159   \n",
       "47  UIDJS003cb5a2cd7     35-44    Tier 1        2024-06-05                159   \n",
       "58  UIDJS004c0eb4154     25-34    Tier 2        2024-02-26                159   \n",
       "59  UIDJS004d1ca89e3     18-24    Tier 1        2024-03-31                159   \n",
       "\n",
       "   last_active_date     plan_change_date  new_subscription_plan  \\\n",
       "19                0  2024-08-11 00:00:00                      0   \n",
       "23                0  2024-08-18 00:00:00                      0   \n",
       "47                0  2024-10-05 00:00:00                      0   \n",
       "58                0  2024-09-26 00:00:00                      0   \n",
       "59                0  2024-08-31 00:00:00                      0   \n",
       "\n",
       "    subscription_date_month plan_change_date_month last_active_date_month  \\\n",
       "19                        2                    8.0                      0   \n",
       "23                        1                    8.0                      0   \n",
       "47                        6                   10.0                      0   \n",
       "58                        2                    9.0                      0   \n",
       "59                        3                    8.0                      0   \n",
       "\n",
       "    df_Jobstar_subscr_month  \n",
       "19                        2  \n",
       "23                        1  \n",
       "47                        6  \n",
       "58                        2  \n",
       "59                        3  "
      ]
     },
     "execution_count": 213,
     "metadata": {},
     "output_type": "execute_result"
    }
   ],
   "source": [
    "plan_change_date_month_jobstar.head(5)"
   ]
  },
  {
   "cell_type": "code",
   "execution_count": 214,
   "id": "bfb3af6f-054d-4e8d-a935-bf20b27f5a03",
   "metadata": {},
   "outputs": [],
   "source": [
    "plan_change_total_months_jobstar=11-plan_change_date_month_jobstar['plan_change_date_month']"
   ]
  },
  {
   "cell_type": "code",
   "execution_count": 215,
   "id": "e12f6c8d-0c05-47eb-be20-d2ec6585e90c",
   "metadata": {},
   "outputs": [
    {
     "data": {
      "text/plain": [
       "19       3.0\n",
       "23       3.0\n",
       "47       1.0\n",
       "58       2.0\n",
       "59       3.0\n",
       "        ... \n",
       "44598    3.0\n",
       "44600    3.0\n",
       "44601    3.0\n",
       "44602    6.0\n",
       "44613    6.0\n",
       "Name: plan_change_date_month, Length: 4709, dtype: object"
      ]
     },
     "execution_count": 215,
     "metadata": {},
     "output_type": "execute_result"
    }
   ],
   "source": [
    "plan_change_total_months_jobstar"
   ]
  },
  {
   "cell_type": "code",
   "execution_count": 216,
   "id": "8897fb85-fd08-44cf-9399-e12cedaf785b",
   "metadata": {},
   "outputs": [],
   "source": [
    "jobstar_paid_downgrade_revenue=plan_change_total_months_jobstar*jobstar_paid_downgrade['new_subscription_plan']"
   ]
  },
  {
   "cell_type": "code",
   "execution_count": 217,
   "id": "287a20ce-72ca-4c55-a7a5-c5392ac39224",
   "metadata": {},
   "outputs": [
    {
     "data": {
      "text/plain": [
       "4190779.0"
      ]
     },
     "execution_count": 217,
     "metadata": {},
     "output_type": "execute_result"
    }
   ],
   "source": [
    "jobstar_paid_downgrade_revenue.sum()"
   ]
  },
  {
   "cell_type": "code",
   "execution_count": 218,
   "id": "cf0c6272-8b5c-4e00-9cd2-5d6ce2778aef",
   "metadata": {},
   "outputs": [],
   "source": [
    "jobstar_total_revenue=jobstar_paid_nochange_revenue.sum()+free_to_upgrade_revenue_jobstar.sum()-jobstar_paid_downgrade_revenue.sum()"
   ]
  },
  {
   "cell_type": "code",
   "execution_count": 219,
   "id": "1d2e45b9-675c-4e8b-b22b-d65ed2bb8f5b",
   "metadata": {},
   "outputs": [
    {
     "data": {
      "text/plain": [
       "29749280.0"
      ]
     },
     "execution_count": 219,
     "metadata": {},
     "output_type": "execute_result"
    }
   ],
   "source": [
    "jobstar_total_revenue"
   ]
  },
  {
   "cell_type": "code",
   "execution_count": null,
   "id": "ac3fdbd0-a54d-46da-85af-77c0217134b9",
   "metadata": {},
   "outputs": [],
   "source": []
  },
  {
   "cell_type": "code",
   "execution_count": null,
   "id": "5798e505-32c9-4bfa-a383-dd61cea24c38",
   "metadata": {},
   "outputs": [],
   "source": []
  },
  {
   "cell_type": "code",
   "execution_count": null,
   "id": "9f5c49bf-cca8-48a0-9fe8-925095dd1c97",
   "metadata": {},
   "outputs": [],
   "source": []
  },
  {
   "cell_type": "code",
   "execution_count": null,
   "id": "689bccc1-05a3-4eb1-b463-e7ba61c3b30a",
   "metadata": {},
   "outputs": [],
   "source": []
  },
  {
   "cell_type": "code",
   "execution_count": null,
   "id": "d077f494-0cc7-4f4e-93df-1c19c6a30164",
   "metadata": {},
   "outputs": [],
   "source": []
  },
  {
   "cell_type": "code",
   "execution_count": null,
   "id": "f895f122-172d-4191-85cc-2e3f1df7c8fb",
   "metadata": {},
   "outputs": [],
   "source": []
  }
 ],
 "metadata": {
  "kernelspec": {
   "display_name": "Python 3 (ipykernel)",
   "language": "python",
   "name": "python3"
  },
  "language_info": {
   "codemirror_mode": {
    "name": "ipython",
    "version": 3
   },
   "file_extension": ".py",
   "mimetype": "text/x-python",
   "name": "python",
   "nbconvert_exporter": "python",
   "pygments_lexer": "ipython3",
   "version": "3.12.0"
  }
 },
 "nbformat": 4,
 "nbformat_minor": 5
}
